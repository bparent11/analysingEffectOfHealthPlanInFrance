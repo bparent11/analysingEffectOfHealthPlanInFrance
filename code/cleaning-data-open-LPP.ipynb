{
 "cells": [
  {
   "cell_type": "code",
   "execution_count": 2,
   "metadata": {},
   "outputs": [],
   "source": [
    "import pandas as pd\n",
    "import matplotlib.pyplot as plt\n",
    "#import seaborn as sns"
   ]
  },
  {
   "cell_type": "code",
   "execution_count": 3,
   "metadata": {},
   "outputs": [
    {
     "data": {
      "text/html": [
       "<div>\n",
       "<style scoped>\n",
       "    .dataframe tbody tr th:only-of-type {\n",
       "        vertical-align: middle;\n",
       "    }\n",
       "\n",
       "    .dataframe tbody tr th {\n",
       "        vertical-align: top;\n",
       "    }\n",
       "\n",
       "    .dataframe thead th {\n",
       "        text-align: right;\n",
       "    }\n",
       "</style>\n",
       "<table border=\"1\" class=\"dataframe\">\n",
       "  <thead>\n",
       "    <tr style=\"text-align: right;\">\n",
       "      <th></th>\n",
       "      <th>TITRE</th>\n",
       "      <th>L_TITRE</th>\n",
       "      <th>sc1</th>\n",
       "      <th>L_SC1</th>\n",
       "      <th>sc2</th>\n",
       "      <th>L_SC2</th>\n",
       "      <th>CODE_LPP</th>\n",
       "      <th>L_CODE_LPP</th>\n",
       "      <th>AGE</th>\n",
       "      <th>SEXE</th>\n",
       "      <th>BEN_REG</th>\n",
       "      <th>PSP_SPE</th>\n",
       "      <th>QTE</th>\n",
       "      <th>REM</th>\n",
       "      <th>BSE</th>\n",
       "    </tr>\n",
       "  </thead>\n",
       "  <tbody>\n",
       "    <tr>\n",
       "      <th>0</th>\n",
       "      <td>1</td>\n",
       "      <td>TITRE 1 : DM POUR TRAITEMENTS, AIDES A LA VIE,...</td>\n",
       "      <td>1_1</td>\n",
       "      <td>DM, MATERIELS ET PRODUITS POUR LE TRAITEMENT D...</td>\n",
       "      <td>1_1_1</td>\n",
       "      <td>DM POUR TRAITEMENT DES MALADIES RESPIRATOIRES ...</td>\n",
       "      <td>1100229</td>\n",
       "      <td>FRA-38, VENTILATION ASSISTEE, &lt; 12 HEURES + OX...</td>\n",
       "      <td>60</td>\n",
       "      <td>1</td>\n",
       "      <td>99</td>\n",
       "      <td>99</td>\n",
       "      <td>316</td>\n",
       "      <td>30567.63</td>\n",
       "      <td>30567.63</td>\n",
       "    </tr>\n",
       "    <tr>\n",
       "      <th>1</th>\n",
       "      <td>1</td>\n",
       "      <td>TITRE 1 : DM POUR TRAITEMENTS, AIDES A LA VIE,...</td>\n",
       "      <td>1_1</td>\n",
       "      <td>DM, MATERIELS ET PRODUITS POUR LE TRAITEMENT D...</td>\n",
       "      <td>1_1_1</td>\n",
       "      <td>DM POUR TRAITEMENT DES MALADIES RESPIRATOIRES ...</td>\n",
       "      <td>1100229</td>\n",
       "      <td>FRA-38, VENTILATION ASSISTEE, &lt; 12 HEURES + OX...</td>\n",
       "      <td>60</td>\n",
       "      <td>2</td>\n",
       "      <td>99</td>\n",
       "      <td>90</td>\n",
       "      <td>295</td>\n",
       "      <td>28223.10</td>\n",
       "      <td>28591.40</td>\n",
       "    </tr>\n",
       "  </tbody>\n",
       "</table>\n",
       "</div>"
      ],
      "text/plain": [
       "   TITRE                                            L_TITRE  sc1  \\\n",
       "0      1  TITRE 1 : DM POUR TRAITEMENTS, AIDES A LA VIE,...  1_1   \n",
       "1      1  TITRE 1 : DM POUR TRAITEMENTS, AIDES A LA VIE,...  1_1   \n",
       "\n",
       "                                               L_SC1    sc2  \\\n",
       "0  DM, MATERIELS ET PRODUITS POUR LE TRAITEMENT D...  1_1_1   \n",
       "1  DM, MATERIELS ET PRODUITS POUR LE TRAITEMENT D...  1_1_1   \n",
       "\n",
       "                                               L_SC2  CODE_LPP  \\\n",
       "0  DM POUR TRAITEMENT DES MALADIES RESPIRATOIRES ...   1100229   \n",
       "1  DM POUR TRAITEMENT DES MALADIES RESPIRATOIRES ...   1100229   \n",
       "\n",
       "                                          L_CODE_LPP  AGE  SEXE  BEN_REG  \\\n",
       "0  FRA-38, VENTILATION ASSISTEE, < 12 HEURES + OX...   60     1       99   \n",
       "1  FRA-38, VENTILATION ASSISTEE, < 12 HEURES + OX...   60     2       99   \n",
       "\n",
       "   PSP_SPE  QTE       REM       BSE  \n",
       "0       99  316  30567.63  30567.63  \n",
       "1       90  295  28223.10  28591.40  "
      ]
     },
     "execution_count": 3,
     "metadata": {},
     "output_type": "execute_result"
    }
   ],
   "source": [
    "df2014cplt = pd.read_csv(\"../Open-LPP-data/base_complete/OPEN_LPP_2014.CSV\", encoding='ISO-8859-1', sep=';')\n",
    "df2014cplt.head(2)"
   ]
  },
  {
   "cell_type": "markdown",
   "metadata": {},
   "source": [
    "# Collecting code LPP under the \"100% Santé\" plan"
   ]
  },
  {
   "cell_type": "markdown",
   "metadata": {},
   "source": [
    "## Optical"
   ]
  },
  {
   "cell_type": "markdown",
   "metadata": {},
   "source": [
    "### Getting the interesting L_SC1 titles"
   ]
  },
  {
   "cell_type": "code",
   "execution_count": 4,
   "metadata": {},
   "outputs": [
    {
     "data": {
      "text/plain": [
       "['DM, MATERIELS ET PRODUITS POUR LE TRAITEMENT DE PATHOLOGIES SPECIFIQUES',\n",
       " 'DM DE MAINTIEN A DOMICILE ET D AIDE A LA VIE POUR MALADES ET HANDICAPE',\n",
       " 'ARTICLES POUR PANSEMENTS, MATERIELS DE CONTENTION',\n",
       " 'ACCESSOIRES DE PRODUITS INSCRITS AU TITRE III',\n",
       " 'CODES ARRIVES A ECHEANCE',\n",
       " 'ORTHESES',\n",
       " 'OPTIQUE MEDICALE',\n",
       " 'AUDIOPROTHESES ET ENTRETIEN, REPARATIONS ET ACCESSOIRES POUR PROCESSEUR',\n",
       " 'PROTHESES EXTERNES NON ORTHOPEDIQUES',\n",
       " 'PROTHESES OCULAIRES ET FACIALES',\n",
       " 'PODO-ORTHESES',\n",
       " 'DMI D ORIGINE SYNTHETIQUE',\n",
       " 'DMI ISSUS DE DERIVES ORIGINE ANIMALE NON VIABLES OU EN COMPORTANT',\n",
       " 'IMPLANTS ISSUS DE DERIVES HUMAINS-GREFFONS',\n",
       " 'DISPOSITIFS MEDICAUX IMPLANTABLES ACTIFS',\n",
       " 'FAUTEUILS ROULANTS',\n",
       " 'VEHICULES DIVERS',\n",
       " 'ADJONCTIONS, OPTIONS ET REPARATIONS APPLICABLES AUX FAUTEUILS ROULANTS',\n",
       " 'APPAREIL GENERATEUR D AEROSOL',\n",
       " 'ORTHESES (PETIT APPAREILLAGE) (CHAP.1)',\n",
       " 'ORTHOPROTHESES(CHAP.7)']"
      ]
     },
     "execution_count": 4,
     "metadata": {},
     "output_type": "execute_result"
    }
   ],
   "source": [
    "produits = df2014cplt[\"L_SC1\"].unique().tolist() #return a list of the L_SC1 title of all the product and prestation in the df\n",
    "produits"
   ]
  },
  {
   "cell_type": "code",
   "execution_count": 5,
   "metadata": {},
   "outputs": [
    {
     "name": "stdout",
     "output_type": "stream",
     "text": [
      "['OPTIQUE MEDICALE', 'PROTHESES OCULAIRES ET FACIALES']\n"
     ]
    }
   ],
   "source": [
    "optical_100 = []\n",
    "produits_index = [6, 9]\n",
    "\n",
    "for i in range(len(produits_index)):\n",
    "    optical_100.append(produits[produits_index[i]])\n",
    "\n",
    "print(optical_100) #we got 2 interesting L_SC1 title which seem to be eligible to the 100% Santé plan for optical field, we will clean it more precisely."
   ]
  },
  {
   "cell_type": "markdown",
   "metadata": {},
   "source": [
    "### Trying to clean the part \"PROTHESES OCULAIRES ET FACIALES\""
   ]
  },
  {
   "cell_type": "code",
   "execution_count": 6,
   "metadata": {},
   "outputs": [
    {
     "name": "stdout",
     "output_type": "stream",
     "text": [
      "758\n"
     ]
    },
    {
     "data": {
      "text/html": [
       "<div>\n",
       "<style scoped>\n",
       "    .dataframe tbody tr th:only-of-type {\n",
       "        vertical-align: middle;\n",
       "    }\n",
       "\n",
       "    .dataframe tbody tr th {\n",
       "        vertical-align: top;\n",
       "    }\n",
       "\n",
       "    .dataframe thead th {\n",
       "        text-align: right;\n",
       "    }\n",
       "</style>\n",
       "<table border=\"1\" class=\"dataframe\">\n",
       "  <thead>\n",
       "    <tr style=\"text-align: right;\">\n",
       "      <th></th>\n",
       "      <th>TITRE</th>\n",
       "      <th>L_TITRE</th>\n",
       "      <th>sc1</th>\n",
       "      <th>L_SC1</th>\n",
       "      <th>sc2</th>\n",
       "      <th>L_SC2</th>\n",
       "      <th>CODE_LPP</th>\n",
       "      <th>L_CODE_LPP</th>\n",
       "      <th>AGE</th>\n",
       "      <th>SEXE</th>\n",
       "      <th>BEN_REG</th>\n",
       "      <th>PSP_SPE</th>\n",
       "      <th>QTE</th>\n",
       "      <th>REM</th>\n",
       "      <th>BSE</th>\n",
       "    </tr>\n",
       "  </thead>\n",
       "  <tbody>\n",
       "    <tr>\n",
       "      <th>213363</th>\n",
       "      <td>2</td>\n",
       "      <td>TITRE 2 : ORTHESES ET PROTHESES EXTERNES</td>\n",
       "      <td>2_5</td>\n",
       "      <td>PROTHESES OCULAIRES ET FACIALES</td>\n",
       "      <td>2_5_2</td>\n",
       "      <td>PROTHESES FACIALES</td>\n",
       "      <td>2575986</td>\n",
       "      <td>PROTHESE FACIALE, SUR DEVIS</td>\n",
       "      <td>60</td>\n",
       "      <td>2</td>\n",
       "      <td>99</td>\n",
       "      <td>99</td>\n",
       "      <td>20</td>\n",
       "      <td>71316.01</td>\n",
       "      <td>71316.01</td>\n",
       "    </tr>\n",
       "    <tr>\n",
       "      <th>213364</th>\n",
       "      <td>2</td>\n",
       "      <td>TITRE 2 : ORTHESES ET PROTHESES EXTERNES</td>\n",
       "      <td>2_5</td>\n",
       "      <td>PROTHESES OCULAIRES ET FACIALES</td>\n",
       "      <td>2_5_3</td>\n",
       "      <td>FRAIS D EXPEDITION ET FRAIS ACCESSOIRES</td>\n",
       "      <td>2593607</td>\n",
       "      <td>PROTHESES OCULAIRES ET FACIALES, FRAIS D'EXPED...</td>\n",
       "      <td>60</td>\n",
       "      <td>9</td>\n",
       "      <td>99</td>\n",
       "      <td>90</td>\n",
       "      <td>22</td>\n",
       "      <td>1781.76</td>\n",
       "      <td>1781.76</td>\n",
       "    </tr>\n",
       "    <tr>\n",
       "      <th>213365</th>\n",
       "      <td>2</td>\n",
       "      <td>TITRE 2 : ORTHESES ET PROTHESES EXTERNES</td>\n",
       "      <td>2_5</td>\n",
       "      <td>PROTHESES OCULAIRES ET FACIALES</td>\n",
       "      <td>2_5_3</td>\n",
       "      <td>FRAIS D EXPEDITION ET FRAIS ACCESSOIRES</td>\n",
       "      <td>2593607</td>\n",
       "      <td>PROTHESES OCULAIRES ET FACIALES, FRAIS D'EXPED...</td>\n",
       "      <td>99</td>\n",
       "      <td>9</td>\n",
       "      <td>99</td>\n",
       "      <td>90</td>\n",
       "      <td>18</td>\n",
       "      <td>1145.00</td>\n",
       "      <td>1145.00</td>\n",
       "    </tr>\n",
       "  </tbody>\n",
       "</table>\n",
       "</div>"
      ],
      "text/plain": [
       "        TITRE                                   L_TITRE  sc1  \\\n",
       "213363      2  TITRE 2 : ORTHESES ET PROTHESES EXTERNES  2_5   \n",
       "213364      2  TITRE 2 : ORTHESES ET PROTHESES EXTERNES  2_5   \n",
       "213365      2  TITRE 2 : ORTHESES ET PROTHESES EXTERNES  2_5   \n",
       "\n",
       "                                  L_SC1    sc2  \\\n",
       "213363  PROTHESES OCULAIRES ET FACIALES  2_5_2   \n",
       "213364  PROTHESES OCULAIRES ET FACIALES  2_5_3   \n",
       "213365  PROTHESES OCULAIRES ET FACIALES  2_5_3   \n",
       "\n",
       "                                          L_SC2  CODE_LPP  \\\n",
       "213363                       PROTHESES FACIALES   2575986   \n",
       "213364  FRAIS D EXPEDITION ET FRAIS ACCESSOIRES   2593607   \n",
       "213365  FRAIS D EXPEDITION ET FRAIS ACCESSOIRES   2593607   \n",
       "\n",
       "                                               L_CODE_LPP  AGE  SEXE  BEN_REG  \\\n",
       "213363                        PROTHESE FACIALE, SUR DEVIS   60     2       99   \n",
       "213364  PROTHESES OCULAIRES ET FACIALES, FRAIS D'EXPED...   60     9       99   \n",
       "213365  PROTHESES OCULAIRES ET FACIALES, FRAIS D'EXPED...   99     9       99   \n",
       "\n",
       "        PSP_SPE  QTE       REM       BSE  \n",
       "213363       99   20  71316.01  71316.01  \n",
       "213364       90   22   1781.76   1781.76  \n",
       "213365       90   18   1145.00   1145.00  "
      ]
     },
     "execution_count": 6,
     "metadata": {},
     "output_type": "execute_result"
    }
   ],
   "source": [
    "print(len(df2014cplt[df2014cplt[\"L_SC1\"]==\"PROTHESES OCULAIRES ET FACIALES\"]))\n",
    "df2014cplt[df2014cplt[\"L_SC1\"]==\"PROTHESES OCULAIRES ET FACIALES\"].tail(3)\n",
    "#we can notice that there are some shipping fees, we will look if we can disregard those."
   ]
  },
  {
   "cell_type": "code",
   "execution_count": 7,
   "metadata": {},
   "outputs": [
    {
     "data": {
      "text/plain": [
       "array(['PROTHESES OCULAIRES', 'PROTHESES FACIALES',\n",
       "       'FRAIS D EXPEDITION ET FRAIS ACCESSOIRES'], dtype=object)"
      ]
     },
     "execution_count": 7,
     "metadata": {},
     "output_type": "execute_result"
    }
   ],
   "source": [
    "df2014cplt[df2014cplt[\"L_SC1\"]==\"PROTHESES OCULAIRES ET FACIALES\"][\"L_SC2\"].unique()"
   ]
  },
  {
   "cell_type": "code",
   "execution_count": 8,
   "metadata": {},
   "outputs": [
    {
     "name": "stdout",
     "output_type": "stream",
     "text": [
      "742\n"
     ]
    },
    {
     "name": "stderr",
     "output_type": "stream",
     "text": [
      "C:\\Users\\Lenovo\\AppData\\Local\\Temp\\ipykernel_20484\\2108725132.py:1: UserWarning: Boolean Series key will be reindexed to match DataFrame index.\n",
      "  print(len(df2014cplt[df2014cplt[\"L_SC1\"]==\"PROTHESES OCULAIRES ET FACIALES\"][df2014cplt[\"L_SC2\"].str.contains(\"OCULAIRES|FRAIS\")]))\n"
     ]
    }
   ],
   "source": [
    "print(len(df2014cplt[df2014cplt[\"L_SC1\"]==\"PROTHESES OCULAIRES ET FACIALES\"][df2014cplt[\"L_SC2\"].str.contains(\"OCULAIRES|FRAIS\")]))"
   ]
  },
  {
   "cell_type": "code",
   "execution_count": 9,
   "metadata": {},
   "outputs": [
    {
     "name": "stderr",
     "output_type": "stream",
     "text": [
      "C:\\Users\\Lenovo\\AppData\\Local\\Temp\\ipykernel_20484\\275288249.py:1: UserWarning: Boolean Series key will be reindexed to match DataFrame index.\n",
      "  df2014cplt[df2014cplt[\"L_SC1\"]==\"PROTHESES OCULAIRES ET FACIALES\"][df2014cplt[\"L_SC2\"].str.contains(\"OCULAIRES|FRAIS\")][\"L_CODE_LPP\"].unique()\n"
     ]
    },
    {
     "data": {
      "text/plain": [
       "array(['PROTHESE OCULAIRE PROVISOIRE DE RECOUVREMENT SUR MESURE',\n",
       "       'PROTHESE OCULAIRE PROVISOIRE SUR GABARIT',\n",
       "       \"PROTHESE OCULAIRE DEFINITIVE DE RECOUVREMENT AVEC PRISE D'EMPREINTE\",\n",
       "       \"PROTHESE OCULAIRE PROVISOIRE AVEC PRISE D'EMPREINTE\",\n",
       "       'PROTHESE OCULAIRE, RENOUVELLEMENT AVEC REPRISE DU CONTRE-TYPE INITIAL',\n",
       "       'PROTHESE OCULAIRE ORGANIQUE, REPOLISSAGE',\n",
       "       'PROTHESE OCULAIRE RECOUVRT, RENOUVT SANS PRISE EMPREINTE, +REPRISE MAITRE-MODELE',\n",
       "       'PROTHESE OCULAIRE PROVISOIRE, TEST DE RECOUVREMENT, TEST DE TOLERANCE',\n",
       "       \"PROTHESE OCULAIRE, RENOUVELLEMENT AVEC PRISE D'EMPREINTE COMPLEMENTAIRE\",\n",
       "       'PROTHESE OCULAIRE PALPEBRO-ORBITAIRE, SUR DEVIS',\n",
       "       \"PROTHESE OCULAIRE DEFINITIVE AVEC PRISE D'EMPREINTE\",\n",
       "       'VERRE SCLERAL PERMEABLE OXYGENE, LAO, SPOT, RENOUVELLEMENT',\n",
       "       \"PROTHESE OCULAIRE, RENOUVELLEMENT AVEC PRISE D'EMPREINTE\",\n",
       "       'VERRE SCLERAL PERMEABLE OXYGENE, LAO, SPOT, PREMIERE MISE',\n",
       "       \"PROTHESE OCULAIRE DE RECOUVREMENT, RENOUVELLEMENT AVEC PRISE D'EMPREINTE\",\n",
       "       \"PROTHESES OCULAIRES ET FACIALES, FRAIS D'EXPEDITION ET ACCESSOIRES\"],\n",
       "      dtype=object)"
      ]
     },
     "execution_count": 9,
     "metadata": {},
     "output_type": "execute_result"
    }
   ],
   "source": [
    "df2014cplt[df2014cplt[\"L_SC1\"]==\"PROTHESES OCULAIRES ET FACIALES\"][df2014cplt[\"L_SC2\"].str.contains(\"OCULAIRES|FRAIS\")][\"L_CODE_LPP\"].unique() \n",
    "#we figure out that this is not as precise as we would want, but we will keep all that points for the optical field (where L_SC1 = PROTHESES OCULAIRE ET FACIALES)"
   ]
  },
  {
   "cell_type": "code",
   "execution_count": 10,
   "metadata": {},
   "outputs": [
    {
     "name": "stdout",
     "output_type": "stream",
     "text": [
      "742\n"
     ]
    }
   ],
   "source": [
    "final_mask = (df2014cplt[\"L_SC1\"]==\"PROTHESES OCULAIRES ET FACIALES\") & (df2014cplt[\"L_SC2\"].str.contains(\"OCULAIRES|FRAIS\"))\n",
    "print(len(df2014cplt[final_mask])) #we get back with 742 lines as expected with the 2nd cell above."
   ]
  },
  {
   "cell_type": "code",
   "execution_count": 11,
   "metadata": {},
   "outputs": [
    {
     "data": {
      "text/html": [
       "<div>\n",
       "<style scoped>\n",
       "    .dataframe tbody tr th:only-of-type {\n",
       "        vertical-align: middle;\n",
       "    }\n",
       "\n",
       "    .dataframe tbody tr th {\n",
       "        vertical-align: top;\n",
       "    }\n",
       "\n",
       "    .dataframe thead th {\n",
       "        text-align: right;\n",
       "    }\n",
       "</style>\n",
       "<table border=\"1\" class=\"dataframe\">\n",
       "  <thead>\n",
       "    <tr style=\"text-align: right;\">\n",
       "      <th></th>\n",
       "      <th>TITRE</th>\n",
       "      <th>L_TITRE</th>\n",
       "      <th>sc1</th>\n",
       "      <th>L_SC1</th>\n",
       "      <th>sc2</th>\n",
       "      <th>L_SC2</th>\n",
       "      <th>CODE_LPP</th>\n",
       "      <th>L_CODE_LPP</th>\n",
       "      <th>AGE</th>\n",
       "      <th>SEXE</th>\n",
       "      <th>BEN_REG</th>\n",
       "      <th>PSP_SPE</th>\n",
       "      <th>QTE</th>\n",
       "      <th>REM</th>\n",
       "      <th>BSE</th>\n",
       "    </tr>\n",
       "  </thead>\n",
       "  <tbody>\n",
       "    <tr>\n",
       "      <th>212608</th>\n",
       "      <td>2</td>\n",
       "      <td>TITRE 2 : ORTHESES ET PROTHESES EXTERNES</td>\n",
       "      <td>2_5</td>\n",
       "      <td>PROTHESES OCULAIRES ET FACIALES</td>\n",
       "      <td>2_5_1</td>\n",
       "      <td>PROTHESES OCULAIRES</td>\n",
       "      <td>2503780</td>\n",
       "      <td>PROTHESE OCULAIRE PROVISOIRE DE RECOUVREMENT S...</td>\n",
       "      <td>0</td>\n",
       "      <td>1</td>\n",
       "      <td>99</td>\n",
       "      <td>15</td>\n",
       "      <td>15</td>\n",
       "      <td>5668.36</td>\n",
       "      <td>5668.36</td>\n",
       "    </tr>\n",
       "    <tr>\n",
       "      <th>212609</th>\n",
       "      <td>2</td>\n",
       "      <td>TITRE 2 : ORTHESES ET PROTHESES EXTERNES</td>\n",
       "      <td>2_5</td>\n",
       "      <td>PROTHESES OCULAIRES ET FACIALES</td>\n",
       "      <td>2_5_1</td>\n",
       "      <td>PROTHESES OCULAIRES</td>\n",
       "      <td>2503780</td>\n",
       "      <td>PROTHESE OCULAIRE PROVISOIRE DE RECOUVREMENT S...</td>\n",
       "      <td>0</td>\n",
       "      <td>1</td>\n",
       "      <td>99</td>\n",
       "      <td>90</td>\n",
       "      <td>36</td>\n",
       "      <td>9697.72</td>\n",
       "      <td>9697.72</td>\n",
       "    </tr>\n",
       "    <tr>\n",
       "      <th>212610</th>\n",
       "      <td>2</td>\n",
       "      <td>TITRE 2 : ORTHESES ET PROTHESES EXTERNES</td>\n",
       "      <td>2_5</td>\n",
       "      <td>PROTHESES OCULAIRES ET FACIALES</td>\n",
       "      <td>2_5_1</td>\n",
       "      <td>PROTHESES OCULAIRES</td>\n",
       "      <td>2503780</td>\n",
       "      <td>PROTHESE OCULAIRE PROVISOIRE DE RECOUVREMENT S...</td>\n",
       "      <td>0</td>\n",
       "      <td>2</td>\n",
       "      <td>99</td>\n",
       "      <td>15</td>\n",
       "      <td>14</td>\n",
       "      <td>5270.50</td>\n",
       "      <td>5270.50</td>\n",
       "    </tr>\n",
       "    <tr>\n",
       "      <th>212611</th>\n",
       "      <td>2</td>\n",
       "      <td>TITRE 2 : ORTHESES ET PROTHESES EXTERNES</td>\n",
       "      <td>2_5</td>\n",
       "      <td>PROTHESES OCULAIRES ET FACIALES</td>\n",
       "      <td>2_5_1</td>\n",
       "      <td>PROTHESES OCULAIRES</td>\n",
       "      <td>2503780</td>\n",
       "      <td>PROTHESE OCULAIRE PROVISOIRE DE RECOUVREMENT S...</td>\n",
       "      <td>0</td>\n",
       "      <td>2</td>\n",
       "      <td>99</td>\n",
       "      <td>90</td>\n",
       "      <td>33</td>\n",
       "      <td>5797.54</td>\n",
       "      <td>5797.54</td>\n",
       "    </tr>\n",
       "    <tr>\n",
       "      <th>212612</th>\n",
       "      <td>2</td>\n",
       "      <td>TITRE 2 : ORTHESES ET PROTHESES EXTERNES</td>\n",
       "      <td>2_5</td>\n",
       "      <td>PROTHESES OCULAIRES ET FACIALES</td>\n",
       "      <td>2_5_1</td>\n",
       "      <td>PROTHESES OCULAIRES</td>\n",
       "      <td>2503780</td>\n",
       "      <td>PROTHESE OCULAIRE PROVISOIRE DE RECOUVREMENT S...</td>\n",
       "      <td>20</td>\n",
       "      <td>1</td>\n",
       "      <td>11</td>\n",
       "      <td>90</td>\n",
       "      <td>22</td>\n",
       "      <td>1581.15</td>\n",
       "      <td>1581.15</td>\n",
       "    </tr>\n",
       "  </tbody>\n",
       "</table>\n",
       "</div>"
      ],
      "text/plain": [
       "        TITRE                                   L_TITRE  sc1  \\\n",
       "212608      2  TITRE 2 : ORTHESES ET PROTHESES EXTERNES  2_5   \n",
       "212609      2  TITRE 2 : ORTHESES ET PROTHESES EXTERNES  2_5   \n",
       "212610      2  TITRE 2 : ORTHESES ET PROTHESES EXTERNES  2_5   \n",
       "212611      2  TITRE 2 : ORTHESES ET PROTHESES EXTERNES  2_5   \n",
       "212612      2  TITRE 2 : ORTHESES ET PROTHESES EXTERNES  2_5   \n",
       "\n",
       "                                  L_SC1    sc2                L_SC2  CODE_LPP  \\\n",
       "212608  PROTHESES OCULAIRES ET FACIALES  2_5_1  PROTHESES OCULAIRES   2503780   \n",
       "212609  PROTHESES OCULAIRES ET FACIALES  2_5_1  PROTHESES OCULAIRES   2503780   \n",
       "212610  PROTHESES OCULAIRES ET FACIALES  2_5_1  PROTHESES OCULAIRES   2503780   \n",
       "212611  PROTHESES OCULAIRES ET FACIALES  2_5_1  PROTHESES OCULAIRES   2503780   \n",
       "212612  PROTHESES OCULAIRES ET FACIALES  2_5_1  PROTHESES OCULAIRES   2503780   \n",
       "\n",
       "                                               L_CODE_LPP  AGE  SEXE  BEN_REG  \\\n",
       "212608  PROTHESE OCULAIRE PROVISOIRE DE RECOUVREMENT S...    0     1       99   \n",
       "212609  PROTHESE OCULAIRE PROVISOIRE DE RECOUVREMENT S...    0     1       99   \n",
       "212610  PROTHESE OCULAIRE PROVISOIRE DE RECOUVREMENT S...    0     2       99   \n",
       "212611  PROTHESE OCULAIRE PROVISOIRE DE RECOUVREMENT S...    0     2       99   \n",
       "212612  PROTHESE OCULAIRE PROVISOIRE DE RECOUVREMENT S...   20     1       11   \n",
       "\n",
       "        PSP_SPE  QTE      REM      BSE  \n",
       "212608       15   15  5668.36  5668.36  \n",
       "212609       90   36  9697.72  9697.72  \n",
       "212610       15   14  5270.50  5270.50  \n",
       "212611       90   33  5797.54  5797.54  \n",
       "212612       90   22  1581.15  1581.15  "
      ]
     },
     "execution_count": 11,
     "metadata": {},
     "output_type": "execute_result"
    }
   ],
   "source": [
    "df_optical_2014 = df2014cplt[final_mask]\n",
    "df_optical_2014.head()"
   ]
  },
  {
   "cell_type": "markdown",
   "metadata": {},
   "source": [
    "### Cleaning the dataframe of optical financement in 2014, to get the amounts of money"
   ]
  },
  {
   "cell_type": "code",
   "execution_count": 12,
   "metadata": {},
   "outputs": [],
   "source": [
    "#we keep the column \"REM\" to calculate the financing because this is the money effectively gave by the \"Sécurité Sociale\"\n",
    "df_optical_2014 = pd.DataFrame({\n",
    "    \"L_SC2\" : df_optical_2014[\"L_SC2\"],\n",
    "    \"CODE_LPP\" : df_optical_2014[\"CODE_LPP\"],\n",
    "    \"Quantity\" : df_optical_2014[\"QTE\"],\n",
    "    \"Financing\" : df_optical_2014[\"REM\"]\n",
    " })"
   ]
  },
  {
   "cell_type": "code",
   "execution_count": 13,
   "metadata": {},
   "outputs": [
    {
     "data": {
      "text/html": [
       "<div>\n",
       "<style scoped>\n",
       "    .dataframe tbody tr th:only-of-type {\n",
       "        vertical-align: middle;\n",
       "    }\n",
       "\n",
       "    .dataframe tbody tr th {\n",
       "        vertical-align: top;\n",
       "    }\n",
       "\n",
       "    .dataframe thead th {\n",
       "        text-align: right;\n",
       "    }\n",
       "</style>\n",
       "<table border=\"1\" class=\"dataframe\">\n",
       "  <thead>\n",
       "    <tr style=\"text-align: right;\">\n",
       "      <th></th>\n",
       "      <th>L_SC2</th>\n",
       "      <th>CODE_LPP</th>\n",
       "      <th>Quantity</th>\n",
       "      <th>Financing</th>\n",
       "    </tr>\n",
       "  </thead>\n",
       "  <tbody>\n",
       "    <tr>\n",
       "      <th>0</th>\n",
       "      <td>PROTHESES OCULAIRES</td>\n",
       "      <td>2503780</td>\n",
       "      <td>15</td>\n",
       "      <td>5668.36</td>\n",
       "    </tr>\n",
       "    <tr>\n",
       "      <th>1</th>\n",
       "      <td>PROTHESES OCULAIRES</td>\n",
       "      <td>2503780</td>\n",
       "      <td>36</td>\n",
       "      <td>9697.72</td>\n",
       "    </tr>\n",
       "    <tr>\n",
       "      <th>2</th>\n",
       "      <td>PROTHESES OCULAIRES</td>\n",
       "      <td>2503780</td>\n",
       "      <td>14</td>\n",
       "      <td>5270.50</td>\n",
       "    </tr>\n",
       "    <tr>\n",
       "      <th>3</th>\n",
       "      <td>PROTHESES OCULAIRES</td>\n",
       "      <td>2503780</td>\n",
       "      <td>33</td>\n",
       "      <td>5797.54</td>\n",
       "    </tr>\n",
       "    <tr>\n",
       "      <th>4</th>\n",
       "      <td>PROTHESES OCULAIRES</td>\n",
       "      <td>2503780</td>\n",
       "      <td>22</td>\n",
       "      <td>1581.15</td>\n",
       "    </tr>\n",
       "  </tbody>\n",
       "</table>\n",
       "</div>"
      ],
      "text/plain": [
       "                 L_SC2  CODE_LPP  Quantity  Financing\n",
       "0  PROTHESES OCULAIRES   2503780        15    5668.36\n",
       "1  PROTHESES OCULAIRES   2503780        36    9697.72\n",
       "2  PROTHESES OCULAIRES   2503780        14    5270.50\n",
       "3  PROTHESES OCULAIRES   2503780        33    5797.54\n",
       "4  PROTHESES OCULAIRES   2503780        22    1581.15"
      ]
     },
     "execution_count": 13,
     "metadata": {},
     "output_type": "execute_result"
    }
   ],
   "source": [
    "df_optical_2014.reset_index(inplace=True)\n",
    "df_optical_2014.drop(columns=\"index\", inplace=True)\n",
    "df_optical_2014.head()"
   ]
  },
  {
   "cell_type": "code",
   "execution_count": 14,
   "metadata": {},
   "outputs": [
    {
     "data": {
      "text/html": [
       "<div>\n",
       "<style scoped>\n",
       "    .dataframe tbody tr th:only-of-type {\n",
       "        vertical-align: middle;\n",
       "    }\n",
       "\n",
       "    .dataframe tbody tr th {\n",
       "        vertical-align: top;\n",
       "    }\n",
       "\n",
       "    .dataframe thead th {\n",
       "        text-align: right;\n",
       "    }\n",
       "</style>\n",
       "<table border=\"1\" class=\"dataframe\">\n",
       "  <thead>\n",
       "    <tr style=\"text-align: right;\">\n",
       "      <th></th>\n",
       "      <th>L_SC2</th>\n",
       "      <th>CODE_LPP</th>\n",
       "      <th>Quantity</th>\n",
       "      <th>Financing</th>\n",
       "      <th>Total</th>\n",
       "    </tr>\n",
       "  </thead>\n",
       "  <tbody>\n",
       "    <tr>\n",
       "      <th>0</th>\n",
       "      <td>PROTHESES OCULAIRES</td>\n",
       "      <td>2503780</td>\n",
       "      <td>15</td>\n",
       "      <td>5668.36</td>\n",
       "      <td>85025.40</td>\n",
       "    </tr>\n",
       "    <tr>\n",
       "      <th>1</th>\n",
       "      <td>PROTHESES OCULAIRES</td>\n",
       "      <td>2503780</td>\n",
       "      <td>36</td>\n",
       "      <td>9697.72</td>\n",
       "      <td>349117.92</td>\n",
       "    </tr>\n",
       "    <tr>\n",
       "      <th>2</th>\n",
       "      <td>PROTHESES OCULAIRES</td>\n",
       "      <td>2503780</td>\n",
       "      <td>14</td>\n",
       "      <td>5270.50</td>\n",
       "      <td>73787.00</td>\n",
       "    </tr>\n",
       "    <tr>\n",
       "      <th>3</th>\n",
       "      <td>PROTHESES OCULAIRES</td>\n",
       "      <td>2503780</td>\n",
       "      <td>33</td>\n",
       "      <td>5797.54</td>\n",
       "      <td>191318.82</td>\n",
       "    </tr>\n",
       "    <tr>\n",
       "      <th>4</th>\n",
       "      <td>PROTHESES OCULAIRES</td>\n",
       "      <td>2503780</td>\n",
       "      <td>22</td>\n",
       "      <td>1581.15</td>\n",
       "      <td>34785.30</td>\n",
       "    </tr>\n",
       "  </tbody>\n",
       "</table>\n",
       "</div>"
      ],
      "text/plain": [
       "                 L_SC2  CODE_LPP  Quantity  Financing      Total\n",
       "0  PROTHESES OCULAIRES   2503780        15    5668.36   85025.40\n",
       "1  PROTHESES OCULAIRES   2503780        36    9697.72  349117.92\n",
       "2  PROTHESES OCULAIRES   2503780        14    5270.50   73787.00\n",
       "3  PROTHESES OCULAIRES   2503780        33    5797.54  191318.82\n",
       "4  PROTHESES OCULAIRES   2503780        22    1581.15   34785.30"
      ]
     },
     "execution_count": 14,
     "metadata": {},
     "output_type": "execute_result"
    }
   ],
   "source": [
    "df_optical_2014[\"Total\"] = df_optical_2014['Quantity']*df_optical_2014[\"Financing\"]\n",
    "df_optical_2014.head(5)"
   ]
  },
  {
   "cell_type": "code",
   "execution_count": 16,
   "metadata": {},
   "outputs": [
    {
     "data": {
      "text/plain": [
       "257674784.53000003"
      ]
     },
     "execution_count": 16,
     "metadata": {},
     "output_type": "execute_result"
    }
   ],
   "source": [
    "df_optical_2014[\"Total\"].sum()"
   ]
  },
  {
   "cell_type": "markdown",
   "metadata": {},
   "source": [
    "### Ajusting the result to the inflation (September 2024)"
   ]
  },
  {
   "cell_type": "code",
   "execution_count": null,
   "metadata": {},
   "outputs": [],
   "source": []
  }
 ],
 "metadata": {
  "kernelspec": {
   "display_name": "base",
   "language": "python",
   "name": "python3"
  },
  "language_info": {
   "codemirror_mode": {
    "name": "ipython",
    "version": 3
   },
   "file_extension": ".py",
   "mimetype": "text/x-python",
   "name": "python",
   "nbconvert_exporter": "python",
   "pygments_lexer": "ipython3",
   "version": "3.11.5"
  }
 },
 "nbformat": 4,
 "nbformat_minor": 2
}
