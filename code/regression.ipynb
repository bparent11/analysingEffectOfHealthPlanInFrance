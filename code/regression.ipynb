{
 "cells": [
  {
   "cell_type": "code",
   "execution_count": 2,
   "metadata": {},
   "outputs": [],
   "source": [
    "import pandas as pd\n",
    "import matplotlib.pyplot as plt\n",
    "import os\n",
    "import copy\n",
    "import importlib\n",
    "import functions\n",
    "import numpy as np\n",
    "import json\n",
    "import seaborn as sns\n",
    "from typing import List, Dict"
   ]
  },
  {
   "cell_type": "code",
   "execution_count": 3,
   "metadata": {},
   "outputs": [],
   "source": [
    "from functions import gov_exp"
   ]
  },
  {
   "cell_type": "code",
   "execution_count": 4,
   "metadata": {},
   "outputs": [],
   "source": [
    "importlib.reload(functions)\n",
    "from functions import gov_exp, gov_exp_by_age"
   ]
  },
  {
   "cell_type": "markdown",
   "metadata": {},
   "source": [
    "# getting groups"
   ]
  },
  {
   "cell_type": "code",
   "execution_count": null,
   "metadata": {},
   "outputs": [],
   "source": [
    "optical = gov_exp(\n",
    "    inflation_adjustment=False,\n",
    "    sector=\"optical\",\n",
    "    mask={\"OPTIQUE MEDICALE\": [\"equality\", \"L_SC1\", \"and\"]},\n",
    "    indent=0,\n",
    ")"
   ]
  },
  {
   "cell_type": "code",
   "execution_count": null,
   "metadata": {},
   "outputs": [],
   "source": [
    "orthoprotheses = gov_exp(\n",
    "    inflation_adjustment=False,\n",
    "    sector=\"all\",\n",
    "    mask={\"ORTHOPROTHESES(CHAP.7)\": [\"equality\", \"L_SC1\", \"and\"]},\n",
    "    indent=0,\n",
    ")"
   ]
  },
  {
   "cell_type": "code",
   "execution_count": null,
   "metadata": {},
   "outputs": [],
   "source": [
    "dmi_synthe = gov_exp(\n",
    "    inflation_adjustment=False,\n",
    "    sector=\"all\",\n",
    "    mask={\"DMI D ORIGINE SYNTHETIQUE\": [\"equality\", \"L_SC1\", \"and\"]},\n",
    "    indent=0,\n",
    ")"
   ]
  },
  {
   "cell_type": "code",
   "execution_count": null,
   "metadata": {},
   "outputs": [],
   "source": [
    "audioprotheses = gov_exp(\n",
    "    inflation_adjustment=False,\n",
    "    sector=\"all\",\n",
    "    mask={\n",
    "        \"AUDIOPROTHESES ET ENTRETIEN, REPARATIONS ET ACCESSOIRES POUR PROCESSEUR\": [\n",
    "            \"contains\",\n",
    "            \"L_SC1\",\n",
    "            \"or\",\n",
    "        ],\n",
    "        \"AUDIOPROTHESES ET ENTRETIEN, REPARATIONS ET ACCESSOIRES POUR PROCESSEURS\": [\n",
    "            \"contains\",\n",
    "            \"L_SC1\",\n",
    "            \"or\",\n",
    "        ],\n",
    "    },\n",
    "    indent=0,\n",
    ")"
   ]
  },
  {
   "cell_type": "code",
   "execution_count": null,
   "metadata": {},
   "outputs": [],
   "source": [
    "ortheses = gov_exp(\n",
    "    inflation_adjustment=False,\n",
    "    sector=\"all\",\n",
    "    mask={\"ORTHESES (PETIT APPAREILLAGE) (CHAP.1)\": [\"equality\", \"L_SC1\", \"and\"]},\n",
    "    indent=0,\n",
    ")"
   ]
  },
  {
   "cell_type": "code",
   "execution_count": null,
   "metadata": {},
   "outputs": [],
   "source": [
    "aerosol = gov_exp(\n",
    "    inflation_adjustment=False,\n",
    "    sector=\"all\",\n",
    "    mask={\"APPAREIL GENERATEUR D AEROSOL\": [\"equality\", \"L_SC1\", \"and\"]},\n",
    "    indent=0,\n",
    ")"
   ]
  },
  {
   "cell_type": "code",
   "execution_count": null,
   "metadata": {},
   "outputs": [],
   "source": [
    "labels_name = [\"optical\", \"orthoprotheses\", \"dmi_synthe\", \"audioprotheses\", \"ortheses\", \"aerosol\"]\n",
    "labels = [optical, orthoprotheses, dmi_synthe, audioprotheses, ortheses, aerosol]\n",
    "dict = {labels_name[i]:labels[i] for i in range(6)}"
   ]
  },
  {
   "cell_type": "code",
   "execution_count": null,
   "metadata": {},
   "outputs": [],
   "source": [
    "#do we separate all groups, like we differ group with their name or we differ it whether they are treated and controled ? try 2*"
   ]
  },
  {
   "cell_type": "markdown",
   "metadata": {},
   "source": [
    "# getting data in a unique df"
   ]
  },
  {
   "cell_type": "code",
   "execution_count": null,
   "metadata": {},
   "outputs": [],
   "source": [
    "i=0\n",
    "for group_name in labels_name:\n",
    "    \n",
    "    if group_name == \"optical\":\n",
    "        treatment = [0, 0, 0, 0, 0, 0, 1, 1, 1, 1]\n",
    "    elif group_name == \"audioprotheses\":\n",
    "        treatment = [0, 0, 0, 0, 0, 1, 1, 1, 1, 1]\n",
    "    else:\n",
    "        treatment = [0 for j in range(10)]\n",
    "    \n",
    "    df = pd.DataFrame(\n",
    "    {\n",
    "        \"year\":dict[group_name][0].keys(),\n",
    "        \"expenditures\":dict[group_name][0].values(),\n",
    "        \"treatment\":treatment,\n",
    "    }\n",
    "    )\n",
    "\n",
    "    df = pd.get_dummies(df, columns=['year'], prefix='', prefix_sep='').astype(int)\n",
    "\n",
    "    if i == 0:\n",
    "        df_final = df\n",
    "        i+=1\n",
    "    else:\n",
    "        df_final = pd.concat([df_final, df], axis=0)\n",
    "\n",
    "reference = \"2014\"\n",
    "\n",
    "df_final.reset_index(inplace=True)\n",
    "df_final.drop(columns=[\"index\", reference], inplace=True)\n",
    "\n",
    "for col in df_final.filter(like=\"2\").columns:\n",
    "    df_final[f'{col}_treatment'] = df_final[\"treatment\"] * df_final[col]"
   ]
  },
  {
   "cell_type": "code",
   "execution_count": null,
   "metadata": {},
   "outputs": [],
   "source": [
    "df_final.tail()"
   ]
  },
  {
   "cell_type": "code",
   "execution_count": null,
   "metadata": {},
   "outputs": [],
   "source": [
    "df_final.to_csv(\"df_for_reg.csv\")"
   ]
  },
  {
   "cell_type": "code",
   "execution_count": null,
   "metadata": {},
   "outputs": [],
   "source": [
    "df_final = pd.read_csv(\"df_for_reg.csv\", index_col=0)\n",
    "df_final.columns"
   ]
  },
  {
   "cell_type": "markdown",
   "metadata": {},
   "source": [
    "## log(y)"
   ]
  },
  {
   "cell_type": "code",
   "execution_count": null,
   "metadata": {},
   "outputs": [],
   "source": [
    "import statsmodels.api as sm\n",
    "\n",
    "X = df_final.drop(columns=[\"expenditures\"])\n",
    "X = sm.add_constant(X)\n",
    "y = np.log(df_final[\"expenditures\"])"
   ]
  },
  {
   "cell_type": "code",
   "execution_count": null,
   "metadata": {},
   "outputs": [],
   "source": [
    "model = sm.OLS(y, X).fit()\n",
    "print(model.summary())"
   ]
  },
  {
   "cell_type": "markdown",
   "metadata": {},
   "source": [
    "## y"
   ]
  },
  {
   "cell_type": "code",
   "execution_count": null,
   "metadata": {},
   "outputs": [],
   "source": [
    "import statsmodels.api as sm\n",
    "\n",
    "X = df_final.drop(columns=[\"expenditures\"])\n",
    "X = sm.add_constant(X)\n",
    "y = df_final[\"expenditures\"]\n",
    "\n",
    "model = sm.OLS(y, X).fit()\n",
    "print(model.summary())"
   ]
  },
  {
   "cell_type": "markdown",
   "metadata": {},
   "source": [
    "V2"
   ]
  },
  {
   "cell_type": "code",
   "execution_count": null,
   "metadata": {},
   "outputs": [],
   "source": [
    "optical = gov_exp(\n",
    "    inflation_adjustment=False,\n",
    "    sector=\"optical\",\n",
    "    mask={\"OPTIQUE MEDICALE\": [\"equality\", \"L_SC1\", \"and\"]},\n",
    "    indent=0,\n",
    ")"
   ]
  },
  {
   "cell_type": "code",
   "execution_count": null,
   "metadata": {},
   "outputs": [],
   "source": [
    "orthoprotheses = gov_exp(\n",
    "    inflation_adjustment=False,\n",
    "    sector=\"all\",\n",
    "    mask={\"ORTHOPROTHESES(CHAP.7)\": [\"equality\", \"L_SC1\", \"and\"]},\n",
    "    indent=0,\n",
    ")"
   ]
  },
  {
   "cell_type": "code",
   "execution_count": null,
   "metadata": {},
   "outputs": [],
   "source": [
    "dmi_synthe = gov_exp(\n",
    "    inflation_adjustment=False,\n",
    "    sector=\"all\",\n",
    "    mask={\"DMI D ORIGINE SYNTHETIQUE\": [\"equality\", \"L_SC1\", \"and\"]},\n",
    "    indent=0,\n",
    ")"
   ]
  },
  {
   "cell_type": "code",
   "execution_count": null,
   "metadata": {},
   "outputs": [],
   "source": [
    "audioprotheses = gov_exp(\n",
    "    inflation_adjustment=False,\n",
    "    sector=\"all\",\n",
    "    mask={\n",
    "        \"AUDIOPROTHESES ET ENTRETIEN, REPARATIONS ET ACCESSOIRES POUR PROCESSEUR\": [\n",
    "            \"contains\",\n",
    "            \"L_SC1\",\n",
    "            \"or\",\n",
    "        ],\n",
    "        \"AUDIOPROTHESES ET ENTRETIEN, REPARATIONS ET ACCESSOIRES POUR PROCESSEURS\": [\n",
    "            \"contains\",\n",
    "            \"L_SC1\",\n",
    "            \"or\",\n",
    "        ],\n",
    "    },\n",
    "    indent=0,\n",
    ")"
   ]
  },
  {
   "cell_type": "code",
   "execution_count": null,
   "metadata": {},
   "outputs": [],
   "source": [
    "ortheses = gov_exp(\n",
    "    inflation_adjustment=False,\n",
    "    sector=\"all\",\n",
    "    mask={\"ORTHESES (PETIT APPAREILLAGE) (CHAP.1)\": [\"equality\", \"L_SC1\", \"and\"]},\n",
    "    indent=0,\n",
    ")"
   ]
  },
  {
   "cell_type": "code",
   "execution_count": null,
   "metadata": {},
   "outputs": [],
   "source": [
    "aerosol = gov_exp(\n",
    "    inflation_adjustment=False,\n",
    "    sector=\"all\",\n",
    "    mask={\"APPAREIL GENERATEUR D AEROSOL\": [\"equality\", \"L_SC1\", \"and\"]},\n",
    "    indent=0,\n",
    ")"
   ]
  },
  {
   "cell_type": "code",
   "execution_count": null,
   "metadata": {},
   "outputs": [],
   "source": [
    "labels_name = [\"optical\", \"orthoprotheses\", \"dmi_synthe\", \"audioprotheses\", \"ortheses\", \"aerosol\"]\n",
    "labels = [optical, orthoprotheses, dmi_synthe, audioprotheses, ortheses, aerosol]\n",
    "dict = {labels_name[i]:labels[i] for i in range(6)}"
   ]
  },
  {
   "cell_type": "code",
   "execution_count": null,
   "metadata": {},
   "outputs": [],
   "source": [
    "i=0\n",
    "for group_name in labels_name:\n",
    "    \n",
    "    if group_name == \"optical\":\n",
    "        treatment = [0, 0, 0, 0, 0, 0, 1, 1, 1, 1]\n",
    "    elif group_name == \"audioprotheses\":\n",
    "        treatment = [0, 0, 0, 0, 0, 1, 1, 1, 1, 1]\n",
    "    else:\n",
    "        treatment = [0 for j in range(10)]\n",
    "    \n",
    "    df = pd.DataFrame(\n",
    "    {\n",
    "        \"year\":dict[group_name][0].keys(),\n",
    "        \"expenditures\":dict[group_name][0].values(),\n",
    "        \"treatment\":treatment,\n",
    "    }\n",
    "    )\n",
    "\n",
    "    if i == 0:\n",
    "        df_final = df\n",
    "        i+=1\n",
    "    else:\n",
    "        df_final = pd.concat([df_final, df], axis=0)\n",
    "    \n",
    "df_final.head()"
   ]
  },
  {
   "cell_type": "code",
   "execution_count": null,
   "metadata": {},
   "outputs": [],
   "source": [
    "df_final.dtypes"
   ]
  },
  {
   "cell_type": "code",
   "execution_count": null,
   "metadata": {},
   "outputs": [],
   "source": [
    "df_final[\"after_treatment_year\"] = 0\n",
    "\n",
    "for i in range(len(df_final)):\n",
    "    if df_final.iloc[i, 0] not in [str(j+2014) for j in range(5)]:\n",
    "        df_final.iloc[i, 3] = 1"
   ]
  },
  {
   "cell_type": "code",
   "execution_count": null,
   "metadata": {},
   "outputs": [],
   "source": [
    "df_final.drop(columns=\"year\", inplace=True)"
   ]
  },
  {
   "cell_type": "code",
   "execution_count": null,
   "metadata": {},
   "outputs": [],
   "source": [
    "df_final.head()"
   ]
  },
  {
   "cell_type": "code",
   "execution_count": null,
   "metadata": {},
   "outputs": [],
   "source": [
    "df_final[\"treatment_year\"] = df_final[\"treatment\"] * df_final[\"after_treatment_year\"]"
   ]
  },
  {
   "cell_type": "code",
   "execution_count": null,
   "metadata": {},
   "outputs": [],
   "source": [
    "df_final.head()"
   ]
  },
  {
   "cell_type": "markdown",
   "metadata": {},
   "source": [
    "# log(y)"
   ]
  },
  {
   "cell_type": "code",
   "execution_count": null,
   "metadata": {},
   "outputs": [],
   "source": [
    "import statsmodels.api as sm\n",
    "\n",
    "X = df_final.drop(columns=[\"expenditures\"])\n",
    "X = sm.add_constant(X)\n",
    "y = np.log(df_final[\"expenditures\"])"
   ]
  },
  {
   "cell_type": "code",
   "execution_count": null,
   "metadata": {},
   "outputs": [],
   "source": [
    "model = sm.OLS(y, X).fit()\n",
    "print(model.summary())"
   ]
  },
  {
   "cell_type": "markdown",
   "metadata": {},
   "source": [
    "# y"
   ]
  },
  {
   "cell_type": "code",
   "execution_count": null,
   "metadata": {},
   "outputs": [],
   "source": [
    "import statsmodels.api as sm\n",
    "\n",
    "X = df_final.drop(columns=[\"expenditures\"])\n",
    "X = sm.add_constant(X)\n",
    "y = df_final[\"expenditures\"]"
   ]
  },
  {
   "cell_type": "code",
   "execution_count": null,
   "metadata": {},
   "outputs": [],
   "source": [
    "model = sm.OLS(y, X).fit()\n",
    "print(model.summary())"
   ]
  },
  {
   "cell_type": "markdown",
   "metadata": {},
   "source": [
    "adding age"
   ]
  },
  {
   "cell_type": "code",
   "execution_count": null,
   "metadata": {},
   "outputs": [],
   "source": [
    "importlib.reload(functions)\n",
    "from functions import gov_exp_by_age"
   ]
  },
  {
   "cell_type": "code",
   "execution_count": null,
   "metadata": {},
   "outputs": [],
   "source": [
    "optical = gov_exp_by_age(\n",
    "    inflation_adjustment=False,\n",
    "    sector=\"optical\",\n",
    "    mask={\"OPTIQUE MEDICALE\": [\"equality\", \"L_SC1\", \"and\"]},\n",
    "    indent=0,\n",
    ")"
   ]
  },
  {
   "cell_type": "code",
   "execution_count": null,
   "metadata": {},
   "outputs": [],
   "source": [
    "orthoprotheses = gov_exp_by_age(\n",
    "    inflation_adjustment=False,\n",
    "    sector=\"all\",\n",
    "    mask={\"ORTHOPROTHESES(CHAP.7)\": [\"equality\", \"L_SC1\", \"and\"]},\n",
    "    indent=0,\n",
    ")"
   ]
  },
  {
   "cell_type": "code",
   "execution_count": null,
   "metadata": {},
   "outputs": [],
   "source": [
    "dmi_synthe = gov_exp_by_age(\n",
    "    inflation_adjustment=False,\n",
    "    sector=\"all\",\n",
    "    mask={\"DMI D ORIGINE SYNTHETIQUE\": [\"equality\", \"L_SC1\", \"and\"]},\n",
    "    indent=0,\n",
    ")"
   ]
  },
  {
   "cell_type": "code",
   "execution_count": null,
   "metadata": {},
   "outputs": [],
   "source": [
    "audioprotheses = gov_exp_by_age(\n",
    "    inflation_adjustment=False,\n",
    "    sector=\"all\",\n",
    "    mask={\n",
    "        \"AUDIOPROTHESES ET ENTRETIEN, REPARATIONS ET ACCESSOIRES POUR PROCESSEUR\": [\n",
    "            \"contains\",\n",
    "            \"L_SC1\",\n",
    "            \"or\",\n",
    "        ],\n",
    "        \"AUDIOPROTHESES ET ENTRETIEN, REPARATIONS ET ACCESSOIRES POUR PROCESSEURS\": [\n",
    "            \"contains\",\n",
    "            \"L_SC1\",\n",
    "            \"or\",\n",
    "        ],\n",
    "    },\n",
    "    indent=0,\n",
    ")"
   ]
  },
  {
   "cell_type": "code",
   "execution_count": null,
   "metadata": {},
   "outputs": [],
   "source": [
    "ortheses = gov_exp_by_age(\n",
    "    inflation_adjustment=False,\n",
    "    sector=\"all\",\n",
    "    mask={\"ORTHESES (PETIT APPAREILLAGE) (CHAP.1)\": [\"equality\", \"L_SC1\", \"and\"]},\n",
    "    indent=0,\n",
    ")"
   ]
  },
  {
   "cell_type": "code",
   "execution_count": null,
   "metadata": {},
   "outputs": [],
   "source": [
    "aerosol = gov_exp_by_age(\n",
    "    inflation_adjustment=False,\n",
    "    sector=\"all\",\n",
    "    mask={\"APPAREIL GENERATEUR D AEROSOL\": [\"equality\", \"L_SC1\", \"and\"]},\n",
    "    indent=0,\n",
    ")"
   ]
  },
  {
   "cell_type": "code",
   "execution_count": null,
   "metadata": {},
   "outputs": [],
   "source": [
    "labels_name = [\"optical\", \"orthoprotheses\", \"dmi_synthe\", \"audioprotheses\", \"ortheses\", \"aerosol\"]\n",
    "labels = [optical, orthoprotheses, dmi_synthe, audioprotheses, ortheses, aerosol]\n",
    "dict = {labels_name[i]:labels[i] for i in range(6)}"
   ]
  },
  {
   "cell_type": "markdown",
   "metadata": {},
   "source": [
    "getting df with age range"
   ]
  },
  {
   "cell_type": "code",
   "execution_count": null,
   "metadata": {},
   "outputs": [],
   "source": [
    "i=0\n",
    "for group_name in labels_name:\n",
    "    \n",
    "    if group_name == \"optical\":\n",
    "        treatment = [0, 0, 0, 0, 0, 0, 1, 1, 1, 1]\n",
    "    elif group_name == \"audioprotheses\":\n",
    "        treatment = [0, 0, 0, 0, 0, 1, 1, 1, 1, 1]\n",
    "    else:\n",
    "        treatment = [0 for j in range(10)]\n",
    "    \n",
    "    data = []\n",
    "\n",
    "    k=0\n",
    "    for year, age_data in optical.items():\n",
    "        for age_range, values in age_data.items():\n",
    "            data.append({\n",
    "                \"year\": year,\n",
    "                \"age_range\": age_range,\n",
    "                \"treatment\": treatment[k],\n",
    "                \"expenditures\": values[1]\n",
    "            })\n",
    "        k+=1\n",
    "    \n",
    "    df = pd.DataFrame(data)\n",
    "\n",
    "    df = pd.get_dummies(df, columns=['age_range'], prefix='', prefix_sep='').astype(int)\n",
    "\n",
    "    if i == 0:\n",
    "        df_final = df\n",
    "        i+=1\n",
    "    else:\n",
    "        df_final = pd.concat([df_final, df], axis=0)\n",
    "    \n",
    "df_final.reset_index(inplace=True)\n",
    "df_final.drop(columns=\"index\", inplace=True)\n",
    "\n",
    "df_final"
   ]
  },
  {
   "cell_type": "code",
   "execution_count": null,
   "metadata": {},
   "outputs": [],
   "source": [
    "df_final[\"after_treatment_year\"] = 0\n",
    "\n",
    "mask = ~df_final.iloc[:, 0].isin([(j+2014) for j in range(5)])\n",
    "\n",
    "# Appliquer le masque pour définir \"after_treatment_year\" à 1 là où le masque est True\n",
    "df_final.loc[mask, \"after_treatment_year\"] = 1"
   ]
  },
  {
   "cell_type": "code",
   "execution_count": null,
   "metadata": {},
   "outputs": [],
   "source": [
    "df.head()"
   ]
  },
  {
   "cell_type": "markdown",
   "metadata": {},
   "source": [
    "----------------------------------"
   ]
  },
  {
   "cell_type": "markdown",
   "metadata": {},
   "source": [
    "with age"
   ]
  },
  {
   "cell_type": "code",
   "execution_count": null,
   "metadata": {},
   "outputs": [],
   "source": [
    "def getting_df_with_age(with_interaction = True):\n",
    "    with open(\"../data/results/L_SC1_SC2_LPP_gov_exp_raw.json\") as f:\n",
    "        L_SC1 = json.load(f)\n",
    "    \n",
    "    list_group=list(L_SC1.keys())\n",
    "\n",
    "    to_remove = ['CODES ARRIVES A ECHEANCE', \n",
    "    'ACCESSOIRES DE PRODUITS INSCRITS AU TITRE III', \n",
    "    \"DISPOSITIFS MEDICAUX UTILISES DANS LE SYSTEME GASTRO-INTESTINAL\", \n",
    "    \"DISPOSITIFS MEDICAUX UTILISES DANS LE SYSTEME URO-GENITAL\", \n",
    "    \"DISPOSITIFS MEDICAUX UTILISES EN NEUROLOGIE\", \n",
    "    \"DISPOSITIFS MEDICAUX UTILISES EN ONCOLOGIE\", \n",
    "    \"DM, MATERIELS ET PRODUITS POUR LE TRAITEMENT DE PATHOLOGIES SPECIFIQUES\", \n",
    "    'DISPOSITIFS MEDICAUX UTILISES DANS LE SYST CARDIO-VASCULAIRE',\n",
    "    \"DISPOISTIFS MEDICAUX UTILISES DANS LE SYSTEME CARDIO_VASCULAIRE\",\n",
    "    'DM DE MAINTIEN A DOMICILE ET D AIDE A LA VIE POUR MALADES ET HANDICAPES',\n",
    "    \"DM DE MAINTIEN A DOMICILE ET D AIDE A LA VIE POUR MALADES ET HANDICAPE\",\n",
    "    'DMI ISSUS DE DERIVES ORIGINE ANIMALE NON VIABLES OU EN COMPORTANT', \n",
    "    'IMPLANTS ISSUS DE DERIVES HUMAINS_GREFFONS',\n",
    "    \"IMPLANTS ISSUS DE DERIVES HUMAINS-GREFFONS\",\n",
    "    'PODO_ORTHESES',\n",
    "    \"PODO-ORTHESES\",\n",
    "    ]\n",
    "    #problem was that some elements was missing with these title, or the expends were constant.\n",
    "\n",
    "    for element in to_remove:\n",
    "        if element in list_group:\n",
    "            list_group.remove(element)\n",
    "\n",
    "    #count = 0\n",
    "    variable_dict = {}\n",
    "    dfs = [] # Liste pour stocker les DataFrames, plus rapide que de concat à chaque itération\n",
    "    years = [i+2014 for i in range(10)]\n",
    "\n",
    "    for title in list_group:\n",
    "        print(title)\n",
    "        variable_name = title\n",
    "        #print(variable_name, type(variable_name))\n",
    "        if title in [\"AUDIOPROTHESES ET ENTRETIEN, REPARATIONS ET ACCESSOIRES POUR PROCESSEURS\"]:\n",
    "            continue\n",
    "\n",
    "        elif title == \"AUDIOPROTHESES ET ENTRETIEN, REPARATIONS ET ACCESSOIRES POUR PROCESSEUR\":\n",
    "            variable_dict[variable_name] = gov_exp_by_age(\n",
    "                inflation_adjustment=False,\n",
    "                sector=\"all\",\n",
    "                mask={title: [\"equality\", \"L_SC1\", \"or\"], \"AUDIOPROTHESES ET ENTRETIEN, REPARATIONS ET ACCESSOIRES POUR PROCESSEURS\":[\"equality\", \"L_SC1\", \"or\"]},\n",
    "                indent=0,\n",
    "            )\n",
    "\n",
    "        #elif title == \"DISPOISTIFS MEDICAUX UTILISES DANS LE SYSTEME CARDIO_VASCULAIRE\":\n",
    "        #    variable_dict[variable_name] = gov_exp_by_age(\n",
    "        #        inflation_adjustment=False,\n",
    "        #        sector=\"all\",\n",
    "        #        mask={title: [\"equality\", \"L_SC1\", \"or\"], \"DISPOSITIFS MEDICAUX UTILISES DANS LE SYSTEME CARDIO-VASCULAIRE\":[\"equality\", \"L_SC1\", \"or\"]},\n",
    "        #        indent=0,\n",
    "        #    )\n",
    "\n",
    "        #elif title == \"DM DE MAINTIEN A DOMICILE ET D AIDE A LA VIE POUR MALADES ET HANDICAPE\":\n",
    "        #    variable_dict[variable_name] = gov_exp_by_age(\n",
    "        #        inflation_adjustment=False,\n",
    "        #        sector=\"all\",\n",
    "        #        mask={title: [\"equality\", \"L_SC1\", \"or\"], \"DM DE MAINTIEN A DOMICILE ET D AIDE A LA VIE POUR MALADES ET HANDICAPES\":[\"equality\", \"L_SC1\", \"or\"]},\n",
    "        #        indent=0,\n",
    "        #    )\n",
    "\n",
    "        #elif title == \"IMPLANTS ISSUS DE DERIVES HUMAINS-GREFFONS\":\n",
    "        #    variable_dict[variable_name] = gov_exp_by_age(\n",
    "        #        inflation_adjustment=False,\n",
    "        #        sector=\"all\",\n",
    "        #        mask={title: [\"equality\", \"L_SC1\", \"or\"], \"IMPLANTS ISSUS DE DERIVES HUMAINS_GREFFONS\":[\"equality\", \"L_SC1\", \"or\"]},\n",
    "        #        indent=0,\n",
    "        #    )\n",
    "\n",
    "        #elif title == \"PODO-ORTHESES\":\n",
    "        #    variable_dict[variable_name] = gov_exp_by_age(\n",
    "        #        inflation_adjustment=False,\n",
    "        #        sector=\"all\",\n",
    "        #        mask={title: [\"equality\", \"L_SC1\", \"or\"], \"PODO_ORTHESES\":[\"equality\", \"L_SC1\", \"or\"]},\n",
    "        #        indent=0,\n",
    "        #    )\n",
    "\n",
    "        else:\n",
    "            variable_dict[variable_name] = gov_exp_by_age(\n",
    "                inflation_adjustment=False,\n",
    "                sector=\"all\",\n",
    "                mask={title: [\"equality\", \"L_SC1\", \"and\"]},\n",
    "                indent=0,\n",
    "            )\n",
    "\n",
    "        print(f\"got all '{title} expenditures'\")\n",
    "\n",
    "        #if group_name == \"optical\":\n",
    "        #    treatment = [0, 0, 0, 0, 0, 0, 1, 1, 1, 1]\n",
    "        #elif group_name == \"AUDIOPROTHESES ET ENTRETIEN, REPARATIONS ET ACCESSOIRES POUR PROCESSEUR\":\n",
    "        #    treatment = [0, 0, 0, 0, 0, 1, 1, 1, 1, 1]\n",
    "        #else:\n",
    "        #    treatment = [0 for j in range(10)]\n",
    "\n",
    "        data = []\n",
    "\n",
    "        for year, age_data in variable_dict[variable_name].items():\n",
    "            for age_range, values in age_data.items():\n",
    "                data.append({\n",
    "                    \"year\": year,\n",
    "                    \"age_range\": age_range,\n",
    "                    #\"treatment\": treatment[k],\n",
    "                    \"expenditures\": values[1],\n",
    "                    \"group\":title,\n",
    "                })\n",
    "\n",
    "        df = pd.DataFrame(data)\n",
    "\n",
    "        print(df)\n",
    "\n",
    "        print(f\"got {title} df\")\n",
    "        dfs.append(df)\n",
    "\n",
    "    df_final = pd.concat(dfs, axis=0)\n",
    "        #if i == 0:\n",
    "        #    df_final = df\n",
    "        #    i+=1\n",
    "        #else:\n",
    "        #    df_final = pd.concat([df_final, df], axis=0)\n",
    "\n",
    "    df_final = pd.get_dummies(df_final, columns=['group'], prefix='', prefix_sep='')\n",
    "    df_final = pd.get_dummies(df_final, columns=['year'], prefix='', prefix_sep='')\n",
    "    df_final = pd.get_dummies(df_final, columns=['age_range'], prefix='', prefix_sep='')\n",
    "    \n",
    "    if with_interaction == True:\n",
    "        for col in df_final.filter(like=\"20\").columns:\n",
    "            df_final[f\"interact. audio x year{col}\"] = df_final[\"AUDIOPROTHESES ET ENTRETIEN, REPARATIONS ET ACCESSOIRES POUR PROCESSEUR\"] * df_final[col]\n",
    "            df_final[f\"interact. optique x year{col}\"] = df_final[\"OPTIQUE MEDICALE\"] * df_final[col]\n",
    "            df_final[f\"interact. (audio+optical) x year{col}\"] = (df_final[\"AUDIOPROTHESES ET ENTRETIEN, REPARATIONS ET ACCESSOIRES POUR PROCESSEUR\"]+df_final[\"OPTIQUE MEDICALE\"]) * df_final[col]\n",
    "        return df_final\n",
    "\n",
    "    else:\n",
    "        return df_final"
   ]
  },
  {
   "cell_type": "code",
   "execution_count": null,
   "metadata": {},
   "outputs": [],
   "source": [
    "df_aged = getting_df_with_age(with_interaction=True)"
   ]
  },
  {
   "cell_type": "code",
   "execution_count": null,
   "metadata": {},
   "outputs": [],
   "source": [
    "df_aged.reset_index(inplace=True)"
   ]
  },
  {
   "cell_type": "code",
   "execution_count": null,
   "metadata": {},
   "outputs": [],
   "source": [
    "df_aged = df_aged.drop(columns=[\"index\"])"
   ]
  },
  {
   "cell_type": "markdown",
   "metadata": {},
   "source": [
    "# work on the data"
   ]
  },
  {
   "cell_type": "markdown",
   "metadata": {},
   "source": [
    "## WITHOUT AGE"
   ]
  },
  {
   "cell_type": "code",
   "execution_count": 4,
   "metadata": {},
   "outputs": [],
   "source": [
    "df = pd.read_excel(\"df_without_age_range_for_reg_30-10.xlsx\", index_col=0)"
   ]
  },
  {
   "cell_type": "code",
   "execution_count": 5,
   "metadata": {},
   "outputs": [
    {
     "data": {
      "text/html": [
       "<div>\n",
       "<style scoped>\n",
       "    .dataframe tbody tr th:only-of-type {\n",
       "        vertical-align: middle;\n",
       "    }\n",
       "\n",
       "    .dataframe tbody tr th {\n",
       "        vertical-align: top;\n",
       "    }\n",
       "\n",
       "    .dataframe thead th {\n",
       "        text-align: right;\n",
       "    }\n",
       "</style>\n",
       "<table border=\"1\" class=\"dataframe\">\n",
       "  <thead>\n",
       "    <tr style=\"text-align: right;\">\n",
       "      <th></th>\n",
       "      <th>expenditures</th>\n",
       "      <th>ADJONCTIONS, OPTIONS ET REPARATIONS APPLICABLES AUX FAUTEUILS ROULANTS</th>\n",
       "      <th>APPAREIL GENERATEUR D AEROSOL</th>\n",
       "      <th>ARTICLES POUR PANSEMENTS, MATERIELS DE CONTENTION</th>\n",
       "      <th>AUDIOPROTHESES ET ENTRETIEN, REPARATIONS ET ACCESSOIRES POUR PROCESSEUR</th>\n",
       "      <th>DISPOSITIFS MEDICAUX IMPLANTABLES ACTIFS</th>\n",
       "      <th>DMI D ORIGINE SYNTHETIQUE</th>\n",
       "      <th>FAUTEUILS ROULANTS</th>\n",
       "      <th>OPTIQUE MEDICALE</th>\n",
       "      <th>ORTHESES</th>\n",
       "      <th>...</th>\n",
       "      <th>interact. (audio+optical) x year2020</th>\n",
       "      <th>interact. audio x year2021</th>\n",
       "      <th>interact. optique x year2021</th>\n",
       "      <th>interact. (audio+optical) x year2021</th>\n",
       "      <th>interact. audio x year2022</th>\n",
       "      <th>interact. optique x year2022</th>\n",
       "      <th>interact. (audio+optical) x year2022</th>\n",
       "      <th>interact. audio x year2023</th>\n",
       "      <th>interact. optique x year2023</th>\n",
       "      <th>interact. (audio+optical) x year2023</th>\n",
       "    </tr>\n",
       "  </thead>\n",
       "  <tbody>\n",
       "    <tr>\n",
       "      <th>0</th>\n",
       "      <td>20.235073</td>\n",
       "      <td>0</td>\n",
       "      <td>0</td>\n",
       "      <td>1</td>\n",
       "      <td>0</td>\n",
       "      <td>0</td>\n",
       "      <td>0</td>\n",
       "      <td>0</td>\n",
       "      <td>0</td>\n",
       "      <td>0</td>\n",
       "      <td>...</td>\n",
       "      <td>0</td>\n",
       "      <td>0</td>\n",
       "      <td>0</td>\n",
       "      <td>0</td>\n",
       "      <td>0</td>\n",
       "      <td>0</td>\n",
       "      <td>0</td>\n",
       "      <td>0</td>\n",
       "      <td>0</td>\n",
       "      <td>0</td>\n",
       "    </tr>\n",
       "    <tr>\n",
       "      <th>1</th>\n",
       "      <td>20.300226</td>\n",
       "      <td>0</td>\n",
       "      <td>0</td>\n",
       "      <td>1</td>\n",
       "      <td>0</td>\n",
       "      <td>0</td>\n",
       "      <td>0</td>\n",
       "      <td>0</td>\n",
       "      <td>0</td>\n",
       "      <td>0</td>\n",
       "      <td>...</td>\n",
       "      <td>0</td>\n",
       "      <td>0</td>\n",
       "      <td>0</td>\n",
       "      <td>0</td>\n",
       "      <td>0</td>\n",
       "      <td>0</td>\n",
       "      <td>0</td>\n",
       "      <td>0</td>\n",
       "      <td>0</td>\n",
       "      <td>0</td>\n",
       "    </tr>\n",
       "    <tr>\n",
       "      <th>2</th>\n",
       "      <td>20.356152</td>\n",
       "      <td>0</td>\n",
       "      <td>0</td>\n",
       "      <td>1</td>\n",
       "      <td>0</td>\n",
       "      <td>0</td>\n",
       "      <td>0</td>\n",
       "      <td>0</td>\n",
       "      <td>0</td>\n",
       "      <td>0</td>\n",
       "      <td>...</td>\n",
       "      <td>0</td>\n",
       "      <td>0</td>\n",
       "      <td>0</td>\n",
       "      <td>0</td>\n",
       "      <td>0</td>\n",
       "      <td>0</td>\n",
       "      <td>0</td>\n",
       "      <td>0</td>\n",
       "      <td>0</td>\n",
       "      <td>0</td>\n",
       "    </tr>\n",
       "    <tr>\n",
       "      <th>3</th>\n",
       "      <td>20.377579</td>\n",
       "      <td>0</td>\n",
       "      <td>0</td>\n",
       "      <td>1</td>\n",
       "      <td>0</td>\n",
       "      <td>0</td>\n",
       "      <td>0</td>\n",
       "      <td>0</td>\n",
       "      <td>0</td>\n",
       "      <td>0</td>\n",
       "      <td>...</td>\n",
       "      <td>0</td>\n",
       "      <td>0</td>\n",
       "      <td>0</td>\n",
       "      <td>0</td>\n",
       "      <td>0</td>\n",
       "      <td>0</td>\n",
       "      <td>0</td>\n",
       "      <td>0</td>\n",
       "      <td>0</td>\n",
       "      <td>0</td>\n",
       "    </tr>\n",
       "    <tr>\n",
       "      <th>4</th>\n",
       "      <td>20.426194</td>\n",
       "      <td>0</td>\n",
       "      <td>0</td>\n",
       "      <td>1</td>\n",
       "      <td>0</td>\n",
       "      <td>0</td>\n",
       "      <td>0</td>\n",
       "      <td>0</td>\n",
       "      <td>0</td>\n",
       "      <td>0</td>\n",
       "      <td>...</td>\n",
       "      <td>0</td>\n",
       "      <td>0</td>\n",
       "      <td>0</td>\n",
       "      <td>0</td>\n",
       "      <td>0</td>\n",
       "      <td>0</td>\n",
       "      <td>0</td>\n",
       "      <td>0</td>\n",
       "      <td>0</td>\n",
       "      <td>0</td>\n",
       "    </tr>\n",
       "  </tbody>\n",
       "</table>\n",
       "<p>5 rows × 55 columns</p>\n",
       "</div>"
      ],
      "text/plain": [
       "   expenditures  \\\n",
       "0     20.235073   \n",
       "1     20.300226   \n",
       "2     20.356152   \n",
       "3     20.377579   \n",
       "4     20.426194   \n",
       "\n",
       "   ADJONCTIONS, OPTIONS ET REPARATIONS APPLICABLES AUX FAUTEUILS ROULANTS  \\\n",
       "0                                                  0                        \n",
       "1                                                  0                        \n",
       "2                                                  0                        \n",
       "3                                                  0                        \n",
       "4                                                  0                        \n",
       "\n",
       "   APPAREIL GENERATEUR D AEROSOL  \\\n",
       "0                              0   \n",
       "1                              0   \n",
       "2                              0   \n",
       "3                              0   \n",
       "4                              0   \n",
       "\n",
       "   ARTICLES POUR PANSEMENTS, MATERIELS DE CONTENTION  \\\n",
       "0                                                  1   \n",
       "1                                                  1   \n",
       "2                                                  1   \n",
       "3                                                  1   \n",
       "4                                                  1   \n",
       "\n",
       "   AUDIOPROTHESES ET ENTRETIEN, REPARATIONS ET ACCESSOIRES POUR PROCESSEUR  \\\n",
       "0                                                  0                         \n",
       "1                                                  0                         \n",
       "2                                                  0                         \n",
       "3                                                  0                         \n",
       "4                                                  0                         \n",
       "\n",
       "   DISPOSITIFS MEDICAUX IMPLANTABLES ACTIFS  DMI D ORIGINE SYNTHETIQUE  \\\n",
       "0                                         0                          0   \n",
       "1                                         0                          0   \n",
       "2                                         0                          0   \n",
       "3                                         0                          0   \n",
       "4                                         0                          0   \n",
       "\n",
       "   FAUTEUILS ROULANTS  OPTIQUE MEDICALE  ORTHESES  ...  \\\n",
       "0                   0                 0         0  ...   \n",
       "1                   0                 0         0  ...   \n",
       "2                   0                 0         0  ...   \n",
       "3                   0                 0         0  ...   \n",
       "4                   0                 0         0  ...   \n",
       "\n",
       "   interact. (audio+optical) x year2020  interact. audio x year2021  \\\n",
       "0                                     0                           0   \n",
       "1                                     0                           0   \n",
       "2                                     0                           0   \n",
       "3                                     0                           0   \n",
       "4                                     0                           0   \n",
       "\n",
       "   interact. optique x year2021  interact. (audio+optical) x year2021  \\\n",
       "0                             0                                     0   \n",
       "1                             0                                     0   \n",
       "2                             0                                     0   \n",
       "3                             0                                     0   \n",
       "4                             0                                     0   \n",
       "\n",
       "   interact. audio x year2022  interact. optique x year2022  \\\n",
       "0                           0                             0   \n",
       "1                           0                             0   \n",
       "2                           0                             0   \n",
       "3                           0                             0   \n",
       "4                           0                             0   \n",
       "\n",
       "   interact. (audio+optical) x year2022  interact. audio x year2023  \\\n",
       "0                                     0                           0   \n",
       "1                                     0                           0   \n",
       "2                                     0                           0   \n",
       "3                                     0                           0   \n",
       "4                                     0                           0   \n",
       "\n",
       "   interact. optique x year2023  interact. (audio+optical) x year2023  \n",
       "0                             0                                     0  \n",
       "1                             0                                     0  \n",
       "2                             0                                     0  \n",
       "3                             0                                     0  \n",
       "4                             0                                     0  \n",
       "\n",
       "[5 rows x 55 columns]"
      ]
     },
     "execution_count": 5,
     "metadata": {},
     "output_type": "execute_result"
    }
   ],
   "source": [
    "df[\"expenditures\"] = np.log(df[\"expenditures\"])\n",
    "df.head()"
   ]
  },
  {
   "cell_type": "markdown",
   "metadata": {},
   "source": [
    "## all"
   ]
  },
  {
   "cell_type": "code",
   "execution_count": 6,
   "metadata": {},
   "outputs": [],
   "source": [
    "import statsmodels.api as sm\n",
    "\n",
    "X = df.drop(columns=([\"expenditures\"] + [col for col in df.columns if \"2014\" in col] + [col for col in df.columns if \"audio x\" in col or \"optique x\" in col]))\n",
    "X = sm.add_constant(X)\n",
    "y = df[\"expenditures\"]"
   ]
  },
  {
   "cell_type": "code",
   "execution_count": 7,
   "metadata": {},
   "outputs": [
    {
     "name": "stdout",
     "output_type": "stream",
     "text": [
      "                            OLS Regression Results                            \n",
      "==============================================================================\n",
      "Dep. Variable:           expenditures   R-squared:                       0.963\n",
      "Model:                            OLS   Adj. R-squared:                  0.952\n",
      "Method:                 Least Squares   F-statistic:                     89.86\n",
      "Date:                Thu, 31 Oct 2024   Prob (F-statistic):           1.19e-63\n",
      "Time:                        08:58:44   Log-Likelihood:                -9.1866\n",
      "No. Observations:                 140   AIC:                             82.37\n",
      "Df Residuals:                     108   BIC:                             176.5\n",
      "Df Model:                          31                                         \n",
      "Covariance Type:            nonrobust                                         \n",
      "===========================================================================================================================================\n",
      "                                                                              coef    std err          t      P>|t|      [0.025      0.975]\n",
      "-------------------------------------------------------------------------------------------------------------------------------------------\n",
      "const                                                                      17.0559      0.073    232.429      0.000      16.910      17.201\n",
      "ADJONCTIONS, OPTIONS ET REPARATIONS APPLICABLES AUX FAUTEUILS ROULANTS     -0.3625      0.095     -3.823      0.000      -0.550      -0.175\n",
      "APPAREIL GENERATEUR D AEROSOL                                               0.4601      0.095      4.852      0.000       0.272       0.648\n",
      "ARTICLES POUR PANSEMENTS, MATERIELS DE CONTENTION                           3.1456      0.095     33.175      0.000       2.958       3.334\n",
      "AUDIOPROTHESES ET ENTRETIEN, REPARATIONS ET ACCESSOIRES POUR PROCESSEUR     2.0593      0.204     10.116      0.000       1.656       2.463\n",
      "DISPOSITIFS MEDICAUX IMPLANTABLES ACTIFS                                    1.3869      0.095     14.627      0.000       1.199       1.575\n",
      "DMI D ORIGINE SYNTHETIQUE                                                   3.0129      0.095     31.775      0.000       2.825       3.201\n",
      "FAUTEUILS ROULANTS                                                          1.0255      0.095     10.815      0.000       0.838       1.213\n",
      "OPTIQUE MEDICALE                                                            1.5372      0.204      7.551      0.000       1.134       1.941\n",
      "ORTHESES                                                                    1.8755      0.095     19.780      0.000       1.688       2.063\n",
      "ORTHESES (PETIT APPAREILLAGE) (CHAP.1)                                      2.4254      0.095     25.579      0.000       2.237       2.613\n",
      "ORTHOPROTHESES(CHAP.7)                                                      2.2722      0.095     23.964      0.000       2.084       2.460\n",
      "PROTHESES EXTERNES NON ORTHOPEDIQUES                                       -0.3593      0.095     -3.790      0.000      -0.547      -0.171\n",
      "PROTHESES OCULAIRES ET FACIALES                                            -1.0570      0.095    -11.147      0.000      -1.245      -0.869\n",
      "VEHICULES DIVERS                                                           -0.3659      0.095     -3.859      0.000      -0.554      -0.178\n",
      "2015                                                                        0.0446      0.120      0.372      0.711      -0.193       0.283\n",
      "2016                                                                        0.1250      0.120      1.041      0.300      -0.113       0.363\n",
      "2017                                                                        0.1738      0.120      1.447      0.151      -0.064       0.412\n",
      "2018                                                                        0.2258      0.120      1.880      0.063      -0.012       0.464\n",
      "2019                                                                        0.2985      0.120      2.485      0.014       0.060       0.537\n",
      "2020                                                                        0.2357      0.120      1.963      0.052      -0.002       0.474\n",
      "2021                                                                        0.3404      0.120      2.834      0.005       0.102       0.578\n",
      "2022                                                                        0.3419      0.120      2.847      0.005       0.104       0.580\n",
      "2023                                                                        0.3995      0.120      3.327      0.001       0.161       0.638\n",
      "interact. (audio+optical) x year2015                                        0.0327      0.318      0.103      0.918      -0.597       0.663\n",
      "interact. (audio+optical) x year2016                                       -0.0140      0.318     -0.044      0.965      -0.644       0.616\n",
      "interact. (audio+optical) x year2017                                       -0.0347      0.318     -0.109      0.913      -0.665       0.595\n",
      "interact. (audio+optical) x year2018                                       -0.0312      0.318     -0.098      0.922      -0.661       0.599\n",
      "interact. (audio+optical) x year2019                                       -0.0520      0.318     -0.164      0.870      -0.682       0.578\n",
      "interact. (audio+optical) x year2020                                       -1.2355      0.318     -3.888      0.000      -1.865      -0.606\n",
      "interact. (audio+optical) x year2021                                       -0.2267      0.318     -0.714      0.477      -0.857       0.403\n",
      "interact. (audio+optical) x year2022                                       -0.1822      0.318     -0.573      0.568      -0.812       0.448\n",
      "interact. (audio+optical) x year2023                                       -0.1879      0.318     -0.591      0.555      -0.818       0.442\n",
      "==============================================================================\n",
      "Omnibus:                       11.851   Durbin-Watson:                   0.728\n",
      "Prob(Omnibus):                  0.003   Jarque-Bera (JB):               32.677\n",
      "Skew:                          -0.008   Prob(JB):                     8.02e-08\n",
      "Kurtosis:                       5.367   Cond. No.                     8.09e+15\n",
      "==============================================================================\n",
      "\n",
      "Notes:\n",
      "[1] Standard Errors assume that the covariance matrix of the errors is correctly specified.\n",
      "[2] The smallest eigenvalue is 2.49e-30. This might indicate that there are\n",
      "strong multicollinearity problems or that the design matrix is singular.\n"
     ]
    }
   ],
   "source": [
    "model = sm.OLS(y, X).fit()\n",
    "print(model.summary())"
   ]
  },
  {
   "cell_type": "code",
   "execution_count": 8,
   "metadata": {},
   "outputs": [
    {
     "data": {
      "image/png": "[encoded data removed]",
      "text/plain": [
       "<Figure size 1000x600 with 1 Axes>"
      ]
     },
     "metadata": {},
     "output_type": "display_data"
    }
   ],
   "source": [
    "time_periods = [i+2015 for i in range(9)]\n",
    "coefficients = model.params[-9:]\n",
    "std_errors = model.bse[-9:]\n",
    "\n",
    "\n",
    "plt.figure(figsize=(10, 6))\n",
    "\n",
    "plt.errorbar(time_periods, coefficients, yerr=std_errors, fmt='o', color='red', ecolor='red', capsize=5)\n",
    "\n",
    "plt.xlabel(\"Time\")\n",
    "plt.ylabel(\"Coefficient\")\n",
    "plt.title(\"Impact du traitement au fil du temps (secteur hearing+optique)\")\n",
    "plt.grid(True)\n",
    "\n",
    "plt.show()"
   ]
  },
  {
   "cell_type": "markdown",
   "metadata": {},
   "source": [
    "## optical"
   ]
  },
  {
   "cell_type": "code",
   "execution_count": 9,
   "metadata": {},
   "outputs": [],
   "source": [
    "import statsmodels.api as sm\n",
    "\n",
    "X = df.drop(columns=([\"expenditures\"] + [col for col in df.columns if \"audio\" in col.lower()] + [col for col in df.columns if \"2014\" in col]))\n",
    "X = sm.add_constant(X)\n",
    "y = df[\"expenditures\"]"
   ]
  },
  {
   "cell_type": "code",
   "execution_count": 10,
   "metadata": {},
   "outputs": [
    {
     "name": "stdout",
     "output_type": "stream",
     "text": [
      "                            OLS Regression Results                            \n",
      "==============================================================================\n",
      "Dep. Variable:           expenditures   R-squared:                       0.982\n",
      "Model:                            OLS   Adj. R-squared:                  0.977\n",
      "Method:                 Least Squares   F-statistic:                     194.7\n",
      "Date:                Thu, 31 Oct 2024   Prob (F-statistic):           3.50e-81\n",
      "Time:                        08:59:19   Log-Likelihood:                 43.521\n",
      "No. Observations:                 140   AIC:                            -23.04\n",
      "Df Residuals:                     108   BIC:                             71.09\n",
      "Df Model:                          31                                         \n",
      "Covariance Type:            nonrobust                                         \n",
      "==========================================================================================================================================\n",
      "                                                                             coef    std err          t      P>|t|      [0.025      0.975]\n",
      "------------------------------------------------------------------------------------------------------------------------------------------\n",
      "const                                                                     18.8997      0.083    227.566      0.000      18.735      19.064\n",
      "ADJONCTIONS, OPTIONS ET REPARATIONS APPLICABLES AUX FAUTEUILS ROULANTS    -2.2286      0.090    -24.684      0.000      -2.408      -2.050\n",
      "APPAREIL GENERATEUR D AEROSOL                                             -1.4060      0.090    -15.573      0.000      -1.585      -1.227\n",
      "ARTICLES POUR PANSEMENTS, MATERIELS DE CONTENTION                          1.2795      0.090     14.172      0.000       1.101       1.458\n",
      "DISPOSITIFS MEDICAUX IMPLANTABLES ACTIFS                                  -0.4792      0.090     -5.308      0.000      -0.658      -0.300\n",
      "DMI D ORIGINE SYNTHETIQUE                                                  1.1468      0.090     12.702      0.000       0.968       1.326\n",
      "FAUTEUILS ROULANTS                                                        -0.8406      0.090     -9.311      0.000      -1.020      -0.662\n",
      "OPTIQUE MEDICALE                                                           0.1779      0.218      0.815      0.417      -0.255       0.611\n",
      "ORTHESES                                                                   0.0094      0.090      0.104      0.917      -0.170       0.188\n",
      "ORTHESES (PETIT APPAREILLAGE) (CHAP.1)                                     0.5592      0.090      6.194      0.000       0.380       0.738\n",
      "ORTHOPROTHESES(CHAP.7)                                                     0.4061      0.090      4.498      0.000       0.227       0.585\n",
      "PROTHESES EXTERNES NON ORTHOPEDIQUES                                      -2.2255      0.090    -24.649      0.000      -2.404      -2.046\n",
      "PROTHESES OCULAIRES ET FACIALES                                           -2.9231      0.090    -32.376      0.000      -3.102      -2.744\n",
      "VEHICULES DIVERS                                                          -2.2321      0.090    -24.722      0.000      -2.411      -2.053\n",
      "2015                                                                       0.0489      0.079      0.618      0.538      -0.108       0.206\n",
      "2016                                                                       0.1265      0.079      1.597      0.113      -0.030       0.283\n",
      "2017                                                                       0.1755      0.079      2.216      0.029       0.018       0.332\n",
      "2018                                                                       0.2286      0.079      2.887      0.005       0.072       0.386\n",
      "2019                                                                       0.2994      0.079      3.781      0.000       0.142       0.456\n",
      "2020                                                                       0.2539      0.079      3.206      0.002       0.097       0.411\n",
      "2021                                                                       0.4053      0.079      5.118      0.000       0.248       0.562\n",
      "2022                                                                       0.4095      0.079      5.171      0.000       0.253       0.566\n",
      "2023                                                                       0.4617      0.079      5.831      0.000       0.305       0.619\n",
      "interact. optique x year2015                                               0.0052      0.296      0.018      0.986      -0.582       0.593\n",
      "interact. optique x year2016                                              -0.0489      0.296     -0.165      0.869      -0.636       0.538\n",
      "interact. optique x year2017                                              -0.0929      0.296     -0.314      0.754      -0.680       0.494\n",
      "interact. optique x year2018                                              -0.1023      0.296     -0.345      0.730      -0.690       0.485\n",
      "interact. optique x year2019                                              -0.1174      0.296     -0.396      0.693      -0.705       0.470\n",
      "interact. optique x year2020                                              -2.7252      0.296     -9.198      0.000      -3.313      -2.138\n",
      "interact. optique x year2021                                              -1.3613      0.296     -4.595      0.000      -1.949      -0.774\n",
      "interact. optique x year2022                                              -1.3106      0.296     -4.423      0.000      -1.898      -0.723\n",
      "interact. optique x year2023                                              -1.2467      0.296     -4.208      0.000      -1.834      -0.659\n",
      "==============================================================================\n",
      "Omnibus:                        7.855   Durbin-Watson:                   0.637\n",
      "Prob(Omnibus):                  0.020   Jarque-Bera (JB):               10.128\n",
      "Skew:                           0.329   Prob(JB):                      0.00632\n",
      "Kurtosis:                       4.141   Cond. No.                         43.8\n",
      "==============================================================================\n",
      "\n",
      "Notes:\n",
      "[1] Standard Errors assume that the covariance matrix of the errors is correctly specified.\n"
     ]
    }
   ],
   "source": [
    "model = sm.OLS(y, X).fit()\n",
    "print(model.summary())"
   ]
  },
  {
   "cell_type": "code",
   "execution_count": 11,
   "metadata": {},
   "outputs": [
    {
     "data": {
      "image/png": "[encoded data removed]",
      "text/plain": [
       "<Figure size 1000x600 with 1 Axes>"
      ]
     },
     "metadata": {},
     "output_type": "display_data"
    }
   ],
   "source": [
    "time_periods = [i+2015 for i in range(9)]\n",
    "coefficients = model.params[-9:]\n",
    "std_errors = model.bse[-9:]\n",
    "\n",
    "\n",
    "plt.figure(figsize=(10, 6))\n",
    "\n",
    "plt.errorbar(time_periods, coefficients, yerr=std_errors, fmt='o', color='red', ecolor='red', capsize=5)\n",
    "\n",
    "plt.xlabel(\"Time\")\n",
    "plt.ylabel(\"Coefficient\")\n",
    "plt.title(\"Impact du traitement au fil du temps (secteur optique)\")\n",
    "plt.grid(True)\n",
    "\n",
    "plt.show()"
   ]
  },
  {
   "cell_type": "markdown",
   "metadata": {},
   "source": [
    "## hearing"
   ]
  },
  {
   "cell_type": "code",
   "execution_count": 21,
   "metadata": {},
   "outputs": [],
   "source": [
    "import statsmodels.api as sm\n",
    "\n",
    "X = df.drop(columns=([\"expenditures\"] + [col for col in df.columns if \"optical\" in col.lower()] + [col for col in df.columns if \"optique\" in col.lower()] + [col for col in df.columns if \"2014\" in col]))\n",
    "X = sm.add_constant(X)\n",
    "y = df[\"expenditures\"]"
   ]
  },
  {
   "cell_type": "code",
   "execution_count": 22,
   "metadata": {},
   "outputs": [
    {
     "name": "stdout",
     "output_type": "stream",
     "text": [
      "                            OLS Regression Results                            \n",
      "==============================================================================\n",
      "Dep. Variable:           expenditures   R-squared:                       0.960\n",
      "Model:                            OLS   Adj. R-squared:                  0.949\n",
      "Method:                 Least Squares   F-statistic:                     83.87\n",
      "Date:                Thu, 31 Oct 2024   Prob (F-statistic):           4.11e-62\n",
      "Time:                        09:01:21   Log-Likelihood:                -13.825\n",
      "No. Observations:                 140   AIC:                             91.65\n",
      "Df Residuals:                     108   BIC:                             185.8\n",
      "Df Model:                          31                                         \n",
      "Covariance Type:            nonrobust                                         \n",
      "===========================================================================================================================================\n",
      "                                                                              coef    std err          t      P>|t|      [0.025      0.975]\n",
      "-------------------------------------------------------------------------------------------------------------------------------------------\n",
      "const                                                                      18.4521      0.125    147.504      0.000      18.204      18.700\n",
      "ADJONCTIONS, OPTIONS ET REPARATIONS APPLICABLES AUX FAUTEUILS ROULANTS     -1.7065      0.136    -12.549      0.000      -1.976      -1.437\n",
      "APPAREIL GENERATEUR D AEROSOL                                              -0.8839      0.136     -6.500      0.000      -1.154      -0.614\n",
      "ARTICLES POUR PANSEMENTS, MATERIELS DE CONTENTION                           1.8016      0.136     13.248      0.000       1.532       2.071\n",
      "AUDIOPROTHESES ET ENTRETIEN, REPARATIONS ET ACCESSOIRES POUR PROCESSEUR     0.1787      0.329      0.543      0.588      -0.473       0.830\n",
      "DISPOSITIFS MEDICAUX IMPLANTABLES ACTIFS                                    0.0429      0.136      0.315      0.753      -0.227       0.312\n",
      "DMI D ORIGINE SYNTHETIQUE                                                   1.6689      0.136     12.272      0.000       1.399       1.938\n",
      "FAUTEUILS ROULANTS                                                         -0.3186      0.136     -2.342      0.021      -0.588      -0.049\n",
      "ORTHESES                                                                    0.5315      0.136      3.908      0.000       0.262       0.801\n",
      "ORTHESES (PETIT APPAREILLAGE) (CHAP.1)                                      1.0813      0.136      7.951      0.000       0.812       1.351\n",
      "ORTHOPROTHESES(CHAP.7)                                                      0.9282      0.136      6.825      0.000       0.659       1.198\n",
      "PROTHESES EXTERNES NON ORTHOPEDIQUES                                       -1.7034      0.136    -12.525      0.000      -1.973      -1.434\n",
      "PROTHESES OCULAIRES ET FACIALES                                            -2.4010      0.136    -17.656      0.000      -2.671      -2.131\n",
      "VEHICULES DIVERS                                                           -1.7100      0.136    -12.574      0.000      -1.980      -1.440\n",
      "2015                                                                        0.0454      0.119      0.380      0.704      -0.191       0.282\n",
      "2016                                                                        0.1213      0.119      1.017      0.311      -0.115       0.358\n",
      "2017                                                                        0.1668      0.119      1.398      0.165      -0.070       0.403\n",
      "2018                                                                        0.2181      0.119      1.829      0.070      -0.018       0.455\n",
      "2019                                                                        0.2895      0.119      2.427      0.017       0.053       0.526\n",
      "2020                                                                        0.0275      0.119      0.230      0.818      -0.209       0.264\n",
      "2021                                                                        0.2407      0.119      2.018      0.046       0.004       0.477\n",
      "2022                                                                        0.2463      0.119      2.065      0.041       0.010       0.483\n",
      "2023                                                                        0.3084      0.119      2.586      0.011       0.072       0.545\n",
      "interact. audio x year2015                                                  0.0551      0.446      0.123      0.902      -0.830       0.940\n",
      "interact. audio x year2016                                                  0.0231      0.446      0.052      0.959      -0.862       0.908\n",
      "interact. audio x year2017                                                  0.0289      0.446      0.065      0.949      -0.856       0.913\n",
      "interact. audio x year2018                                                  0.0447      0.446      0.100      0.920      -0.840       0.929\n",
      "interact. audio x year2019                                                  0.0213      0.446      0.048      0.962      -0.863       0.906\n",
      "interact. audio x year2020                                                  0.4443      0.446      0.996      0.322      -0.440       1.329\n",
      "interact. audio x year2021                                                  0.9428      0.446      2.112      0.037       0.058       1.827\n",
      "interact. audio x year2022                                                  0.9743      0.446      2.183      0.031       0.090       1.859\n",
      "interact. audio x year2023                                                  0.8997      0.446      2.016      0.046       0.015       1.784\n",
      "==============================================================================\n",
      "Omnibus:                      101.284   Durbin-Watson:                   1.029\n",
      "Prob(Omnibus):                  0.000   Jarque-Bera (JB):             1679.356\n",
      "Skew:                          -2.187   Prob(JB):                         0.00\n",
      "Kurtosis:                      19.394   Cond. No.                         43.8\n",
      "==============================================================================\n",
      "\n",
      "Notes:\n",
      "[1] Standard Errors assume that the covariance matrix of the errors is correctly specified.\n"
     ]
    }
   ],
   "source": [
    "model = sm.OLS(y, X).fit()\n",
    "print(model.summary())"
   ]
  },
  {
   "cell_type": "code",
   "execution_count": 23,
   "metadata": {},
   "outputs": [
    {
     "data": {
      "image/png": "[encoded data removed]",
      "text/plain": [
       "<Figure size 1000x600 with 1 Axes>"
      ]
     },
     "metadata": {},
     "output_type": "display_data"
    }
   ],
   "source": [
    "time_periods = [i+2015 for i in range(9)]\n",
    "coefficients = model.params[-9:]\n",
    "std_errors = model.bse[-9:]\n",
    "\n",
    "\n",
    "plt.figure(figsize=(10, 6))\n",
    "\n",
    "plt.errorbar(time_periods, coefficients, yerr=std_errors, fmt='o', color='red', ecolor='red', capsize=5)\n",
    "\n",
    "plt.xlabel(\"Time\")\n",
    "plt.ylabel(\"Coefficient\")\n",
    "plt.title(\"Impact du traitement au fil du temps (secteur hearing)\")\n",
    "plt.grid(True)\n",
    "\n",
    "plt.show()"
   ]
  },
  {
   "cell_type": "markdown",
   "metadata": {},
   "source": [
    "## WITH AGE RANGE"
   ]
  },
  {
   "cell_type": "code",
   "execution_count": 85,
   "metadata": {},
   "outputs": [],
   "source": [
    "df_aged = pd.read_excel(\"df_aged_for_reg_30-10.xlsx\", index_col=0)"
   ]
  },
  {
   "cell_type": "code",
   "execution_count": 86,
   "metadata": {},
   "outputs": [],
   "source": [
    "df_aged = df_aged[df_aged[\"expenditures\"]!=0]"
   ]
  },
  {
   "cell_type": "code",
   "execution_count": 87,
   "metadata": {},
   "outputs": [
    {
     "data": {
      "text/plain": [
       "Index(['expenditures',\n",
       "       'ADJONCTIONS, OPTIONS ET REPARATIONS APPLICABLES AUX FAUTEUILS ROULANTS',\n",
       "       'APPAREIL GENERATEUR D AEROSOL',\n",
       "       'ARTICLES POUR PANSEMENTS, MATERIELS DE CONTENTION',\n",
       "       'AUDIOPROTHESES ET ENTRETIEN, REPARATIONS ET ACCESSOIRES POUR PROCESSEUR',\n",
       "       'DISPOSITIFS MEDICAUX IMPLANTABLES ACTIFS', 'DMI D ORIGINE SYNTHETIQUE',\n",
       "       'FAUTEUILS ROULANTS', 'OPTIQUE MEDICALE', 'ORTHESES',\n",
       "       'ORTHESES (PETIT APPAREILLAGE) (CHAP.1)', 'ORTHOPROTHESES(CHAP.7)',\n",
       "       'PROTHESES EXTERNES NON ORTHOPEDIQUES',\n",
       "       'PROTHESES OCULAIRES ET FACIALES', 'VEHICULES DIVERS', '2014', '2015',\n",
       "       '2016', '2017', '2018', '2019', '2020', '2021', '2022', '2023', '0-20',\n",
       "       '20-40', '40-60', '60-80', 'interact. audio x year2014',\n",
       "       'interact. optique x year2014', 'interact. (audio+optical) x year2014',\n",
       "       'interact. audio x year2015', 'interact. optique x year2015',\n",
       "       'interact. (audio+optical) x year2015', 'interact. audio x year2016',\n",
       "       'interact. optique x year2016', 'interact. (audio+optical) x year2016',\n",
       "       'interact. audio x year2017', 'interact. optique x year2017',\n",
       "       'interact. (audio+optical) x year2017', 'interact. audio x year2018',\n",
       "       'interact. optique x year2018', 'interact. (audio+optical) x year2018',\n",
       "       'interact. audio x year2019', 'interact. optique x year2019',\n",
       "       'interact. (audio+optical) x year2019', 'interact. audio x year2020',\n",
       "       'interact. optique x year2020', 'interact. (audio+optical) x year2020',\n",
       "       'interact. audio x year2021', 'interact. optique x year2021',\n",
       "       'interact. (audio+optical) x year2021', 'interact. audio x year2022',\n",
       "       'interact. optique x year2022', 'interact. (audio+optical) x year2022',\n",
       "       'interact. audio x year2023', 'interact. optique x year2023',\n",
       "       'interact. (audio+optical) x year2023'],\n",
       "      dtype='object')"
      ]
     },
     "execution_count": 87,
     "metadata": {},
     "output_type": "execute_result"
    }
   ],
   "source": [
    "df_aged.columns"
   ]
  },
  {
   "cell_type": "code",
   "execution_count": 88,
   "metadata": {},
   "outputs": [],
   "source": [
    "df_aged = df_aged.drop(columns=[\"0-20\"])"
   ]
  },
  {
   "cell_type": "code",
   "execution_count": 89,
   "metadata": {},
   "outputs": [],
   "source": [
    "interact_columns = df_aged.filter(like=\"interact.\").columns\n",
    "dash_columns = [col for col in df_aged.columns if \"-\" in col]\n",
    "\n",
    "for interact_col in interact_columns:\n",
    "    for dash_col in dash_columns:\n",
    "        df_aged[f\"{interact_col}_{dash_col}\"] = df_aged[interact_col] * df_aged[dash_col]"
   ]
  },
  {
   "cell_type": "code",
   "execution_count": 90,
   "metadata": {},
   "outputs": [
    {
     "data": {
      "text/html": [
       "<div>\n",
       "<style scoped>\n",
       "    .dataframe tbody tr th:only-of-type {\n",
       "        vertical-align: middle;\n",
       "    }\n",
       "\n",
       "    .dataframe tbody tr th {\n",
       "        vertical-align: top;\n",
       "    }\n",
       "\n",
       "    .dataframe thead th {\n",
       "        text-align: right;\n",
       "    }\n",
       "</style>\n",
       "<table border=\"1\" class=\"dataframe\">\n",
       "  <thead>\n",
       "    <tr style=\"text-align: right;\">\n",
       "      <th></th>\n",
       "      <th>expenditures</th>\n",
       "      <th>ADJONCTIONS, OPTIONS ET REPARATIONS APPLICABLES AUX FAUTEUILS ROULANTS</th>\n",
       "      <th>APPAREIL GENERATEUR D AEROSOL</th>\n",
       "      <th>ARTICLES POUR PANSEMENTS, MATERIELS DE CONTENTION</th>\n",
       "      <th>AUDIOPROTHESES ET ENTRETIEN, REPARATIONS ET ACCESSOIRES POUR PROCESSEUR</th>\n",
       "      <th>DISPOSITIFS MEDICAUX IMPLANTABLES ACTIFS</th>\n",
       "      <th>DMI D ORIGINE SYNTHETIQUE</th>\n",
       "      <th>FAUTEUILS ROULANTS</th>\n",
       "      <th>OPTIQUE MEDICALE</th>\n",
       "      <th>ORTHESES</th>\n",
       "      <th>...</th>\n",
       "      <th>interact. (audio+optical) x year2022_60-80</th>\n",
       "      <th>interact. audio x year2023_20-40</th>\n",
       "      <th>interact. audio x year2023_40-60</th>\n",
       "      <th>interact. audio x year2023_60-80</th>\n",
       "      <th>interact. optique x year2023_20-40</th>\n",
       "      <th>interact. optique x year2023_40-60</th>\n",
       "      <th>interact. optique x year2023_60-80</th>\n",
       "      <th>interact. (audio+optical) x year2023_20-40</th>\n",
       "      <th>interact. (audio+optical) x year2023_40-60</th>\n",
       "      <th>interact. (audio+optical) x year2023_60-80</th>\n",
       "    </tr>\n",
       "  </thead>\n",
       "  <tbody>\n",
       "    <tr>\n",
       "      <th>0</th>\n",
       "      <td>17.288739</td>\n",
       "      <td>0</td>\n",
       "      <td>0</td>\n",
       "      <td>1</td>\n",
       "      <td>0</td>\n",
       "      <td>0</td>\n",
       "      <td>0</td>\n",
       "      <td>0</td>\n",
       "      <td>0</td>\n",
       "      <td>0</td>\n",
       "      <td>...</td>\n",
       "      <td>0</td>\n",
       "      <td>0</td>\n",
       "      <td>0</td>\n",
       "      <td>0</td>\n",
       "      <td>0</td>\n",
       "      <td>0</td>\n",
       "      <td>0</td>\n",
       "      <td>0</td>\n",
       "      <td>0</td>\n",
       "      <td>0</td>\n",
       "    </tr>\n",
       "    <tr>\n",
       "      <th>1</th>\n",
       "      <td>17.951012</td>\n",
       "      <td>0</td>\n",
       "      <td>0</td>\n",
       "      <td>1</td>\n",
       "      <td>0</td>\n",
       "      <td>0</td>\n",
       "      <td>0</td>\n",
       "      <td>0</td>\n",
       "      <td>0</td>\n",
       "      <td>0</td>\n",
       "      <td>...</td>\n",
       "      <td>0</td>\n",
       "      <td>0</td>\n",
       "      <td>0</td>\n",
       "      <td>0</td>\n",
       "      <td>0</td>\n",
       "      <td>0</td>\n",
       "      <td>0</td>\n",
       "      <td>0</td>\n",
       "      <td>0</td>\n",
       "      <td>0</td>\n",
       "    </tr>\n",
       "    <tr>\n",
       "      <th>2</th>\n",
       "      <td>18.676746</td>\n",
       "      <td>0</td>\n",
       "      <td>0</td>\n",
       "      <td>1</td>\n",
       "      <td>0</td>\n",
       "      <td>0</td>\n",
       "      <td>0</td>\n",
       "      <td>0</td>\n",
       "      <td>0</td>\n",
       "      <td>0</td>\n",
       "      <td>...</td>\n",
       "      <td>0</td>\n",
       "      <td>0</td>\n",
       "      <td>0</td>\n",
       "      <td>0</td>\n",
       "      <td>0</td>\n",
       "      <td>0</td>\n",
       "      <td>0</td>\n",
       "      <td>0</td>\n",
       "      <td>0</td>\n",
       "      <td>0</td>\n",
       "    </tr>\n",
       "    <tr>\n",
       "      <th>3</th>\n",
       "      <td>19.779053</td>\n",
       "      <td>0</td>\n",
       "      <td>0</td>\n",
       "      <td>1</td>\n",
       "      <td>0</td>\n",
       "      <td>0</td>\n",
       "      <td>0</td>\n",
       "      <td>0</td>\n",
       "      <td>0</td>\n",
       "      <td>0</td>\n",
       "      <td>...</td>\n",
       "      <td>0</td>\n",
       "      <td>0</td>\n",
       "      <td>0</td>\n",
       "      <td>0</td>\n",
       "      <td>0</td>\n",
       "      <td>0</td>\n",
       "      <td>0</td>\n",
       "      <td>0</td>\n",
       "      <td>0</td>\n",
       "      <td>0</td>\n",
       "    </tr>\n",
       "    <tr>\n",
       "      <th>4</th>\n",
       "      <td>17.347670</td>\n",
       "      <td>0</td>\n",
       "      <td>0</td>\n",
       "      <td>1</td>\n",
       "      <td>0</td>\n",
       "      <td>0</td>\n",
       "      <td>0</td>\n",
       "      <td>0</td>\n",
       "      <td>0</td>\n",
       "      <td>0</td>\n",
       "      <td>...</td>\n",
       "      <td>0</td>\n",
       "      <td>0</td>\n",
       "      <td>0</td>\n",
       "      <td>0</td>\n",
       "      <td>0</td>\n",
       "      <td>0</td>\n",
       "      <td>0</td>\n",
       "      <td>0</td>\n",
       "      <td>0</td>\n",
       "      <td>0</td>\n",
       "    </tr>\n",
       "  </tbody>\n",
       "</table>\n",
       "<p>5 rows × 148 columns</p>\n",
       "</div>"
      ],
      "text/plain": [
       "   expenditures  \\\n",
       "0     17.288739   \n",
       "1     17.951012   \n",
       "2     18.676746   \n",
       "3     19.779053   \n",
       "4     17.347670   \n",
       "\n",
       "   ADJONCTIONS, OPTIONS ET REPARATIONS APPLICABLES AUX FAUTEUILS ROULANTS  \\\n",
       "0                                                  0                        \n",
       "1                                                  0                        \n",
       "2                                                  0                        \n",
       "3                                                  0                        \n",
       "4                                                  0                        \n",
       "\n",
       "   APPAREIL GENERATEUR D AEROSOL  \\\n",
       "0                              0   \n",
       "1                              0   \n",
       "2                              0   \n",
       "3                              0   \n",
       "4                              0   \n",
       "\n",
       "   ARTICLES POUR PANSEMENTS, MATERIELS DE CONTENTION  \\\n",
       "0                                                  1   \n",
       "1                                                  1   \n",
       "2                                                  1   \n",
       "3                                                  1   \n",
       "4                                                  1   \n",
       "\n",
       "   AUDIOPROTHESES ET ENTRETIEN, REPARATIONS ET ACCESSOIRES POUR PROCESSEUR  \\\n",
       "0                                                  0                         \n",
       "1                                                  0                         \n",
       "2                                                  0                         \n",
       "3                                                  0                         \n",
       "4                                                  0                         \n",
       "\n",
       "   DISPOSITIFS MEDICAUX IMPLANTABLES ACTIFS  DMI D ORIGINE SYNTHETIQUE  \\\n",
       "0                                         0                          0   \n",
       "1                                         0                          0   \n",
       "2                                         0                          0   \n",
       "3                                         0                          0   \n",
       "4                                         0                          0   \n",
       "\n",
       "   FAUTEUILS ROULANTS  OPTIQUE MEDICALE  ORTHESES  ...  \\\n",
       "0                   0                 0         0  ...   \n",
       "1                   0                 0         0  ...   \n",
       "2                   0                 0         0  ...   \n",
       "3                   0                 0         0  ...   \n",
       "4                   0                 0         0  ...   \n",
       "\n",
       "   interact. (audio+optical) x year2022_60-80  \\\n",
       "0                                           0   \n",
       "1                                           0   \n",
       "2                                           0   \n",
       "3                                           0   \n",
       "4                                           0   \n",
       "\n",
       "   interact. audio x year2023_20-40  interact. audio x year2023_40-60  \\\n",
       "0                                 0                                 0   \n",
       "1                                 0                                 0   \n",
       "2                                 0                                 0   \n",
       "3                                 0                                 0   \n",
       "4                                 0                                 0   \n",
       "\n",
       "   interact. audio x year2023_60-80  interact. optique x year2023_20-40  \\\n",
       "0                                 0                                   0   \n",
       "1                                 0                                   0   \n",
       "2                                 0                                   0   \n",
       "3                                 0                                   0   \n",
       "4                                 0                                   0   \n",
       "\n",
       "   interact. optique x year2023_40-60  interact. optique x year2023_60-80  \\\n",
       "0                                   0                                   0   \n",
       "1                                   0                                   0   \n",
       "2                                   0                                   0   \n",
       "3                                   0                                   0   \n",
       "4                                   0                                   0   \n",
       "\n",
       "   interact. (audio+optical) x year2023_20-40  \\\n",
       "0                                           0   \n",
       "1                                           0   \n",
       "2                                           0   \n",
       "3                                           0   \n",
       "4                                           0   \n",
       "\n",
       "   interact. (audio+optical) x year2023_40-60  \\\n",
       "0                                           0   \n",
       "1                                           0   \n",
       "2                                           0   \n",
       "3                                           0   \n",
       "4                                           0   \n",
       "\n",
       "   interact. (audio+optical) x year2023_60-80  \n",
       "0                                           0  \n",
       "1                                           0  \n",
       "2                                           0  \n",
       "3                                           0  \n",
       "4                                           0  \n",
       "\n",
       "[5 rows x 148 columns]"
      ]
     },
     "execution_count": 90,
     "metadata": {},
     "output_type": "execute_result"
    }
   ],
   "source": [
    "df_aged[\"expenditures\"] = np.log(df_aged[\"expenditures\"])\n",
    "df_aged.head()"
   ]
  },
  {
   "cell_type": "markdown",
   "metadata": {},
   "source": [
    "# all"
   ]
  },
  {
   "cell_type": "code",
   "execution_count": 91,
   "metadata": {},
   "outputs": [],
   "source": [
    "import statsmodels.api as sm\n",
    "\n",
    "X = df_aged.drop(columns=([\"expenditures\"] + [col for col in df_aged.columns if \"2014\" in col] + [col for col in df_aged.columns if \"year\" in col and \"-\" not in col] + [col for col in df_aged.columns if \"audio x\" in col or \"optique x\" in col]))\n",
    "X = sm.add_constant(X)\n",
    "y = df_aged[\"expenditures\"]"
   ]
  },
  {
   "cell_type": "code",
   "execution_count": 92,
   "metadata": {},
   "outputs": [
    {
     "name": "stdout",
     "output_type": "stream",
     "text": [
      "                            OLS Regression Results                            \n",
      "==============================================================================\n",
      "Dep. Variable:           expenditures   R-squared:                       0.797\n",
      "Model:                            OLS   Adj. R-squared:                  0.776\n",
      "Method:                 Least Squares   F-statistic:                     38.12\n",
      "Date:                Thu, 31 Oct 2024   Prob (F-statistic):          1.88e-142\n",
      "Time:                        10:09:45   Log-Likelihood:                -728.32\n",
      "No. Observations:                 557   AIC:                             1563.\n",
      "Df Residuals:                     504   BIC:                             1792.\n",
      "Df Model:                          52                                         \n",
      "Covariance Type:            nonrobust                                         \n",
      "===========================================================================================================================================\n",
      "                                                                              coef    std err          t      P>|t|      [0.025      0.975]\n",
      "-------------------------------------------------------------------------------------------------------------------------------------------\n",
      "const                                                                      14.0549      0.136    103.483      0.000      13.788      14.322\n",
      "ADJONCTIONS, OPTIONS ET REPARATIONS APPLICABLES AUX FAUTEUILS ROULANTS     -0.3425      0.146     -2.350      0.019      -0.629      -0.056\n",
      "APPAREIL GENERATEUR D AEROSOL                                               0.5095      0.146      3.496      0.001       0.223       0.796\n",
      "ARTICLES POUR PANSEMENTS, MATERIELS DE CONTENTION                           2.9859      0.146     20.488      0.000       2.700       3.272\n",
      "AUDIOPROTHESES ET ENTRETIEN, REPARATIONS ET ACCESSOIRES POUR PROCESSEUR     2.2899      0.199     11.494      0.000       1.898       2.681\n",
      "DISPOSITIFS MEDICAUX IMPLANTABLES ACTIFS                                   -0.4151      0.152     -2.739      0.006      -0.713      -0.117\n",
      "DMI D ORIGINE SYNTHETIQUE                                                   2.4610      0.146     16.886      0.000       2.175       2.747\n",
      "FAUTEUILS ROULANTS                                                          0.9021      0.146      6.190      0.000       0.616       1.188\n",
      "OPTIQUE MEDICALE                                                            2.4659      0.199     12.377      0.000       2.074       2.857\n",
      "ORTHESES                                                                    2.1315      0.146     14.625      0.000       1.845       2.418\n",
      "ORTHESES (PETIT APPAREILLAGE) (CHAP.1)                                      2.2389      0.146     15.362      0.000       1.953       2.525\n",
      "ORTHOPROTHESES(CHAP.7)                                                      2.4626      0.146     16.897      0.000       2.176       2.749\n",
      "PROTHESES EXTERNES NON ORTHOPEDIQUES                                       -1.6366      0.146    -11.229      0.000      -1.923      -1.350\n",
      "PROTHESES OCULAIRES ET FACIALES                                            -0.9942      0.146     -6.822      0.000      -1.281      -0.708\n",
      "VEHICULES DIVERS                                                           -1.0039      0.146     -6.888      0.000      -1.290      -0.718\n",
      "2015                                                                        0.1849      0.184      1.004      0.316      -0.177       0.547\n",
      "2016                                                                        0.2556      0.184      1.387      0.166      -0.106       0.618\n",
      "2017                                                                        0.2982      0.184      1.619      0.106      -0.064       0.660\n",
      "2018                                                                        0.3414      0.184      1.853      0.064      -0.021       0.703\n",
      "2019                                                                        0.4759      0.185      2.570      0.010       0.112       0.840\n",
      "2020                                                                        0.2661      0.184      1.444      0.149      -0.096       0.628\n",
      "2021                                                                        0.3691      0.184      2.004      0.046       0.007       0.731\n",
      "2022                                                                        0.4726      0.185      2.552      0.011       0.109       0.836\n",
      "2023                                                                        0.5249      0.185      2.835      0.005       0.161       0.889\n",
      "20-40                                                                       0.6195      0.120      5.163      0.000       0.384       0.855\n",
      "40-60                                                                       1.5968      0.120     13.306      0.000       1.361       1.833\n",
      "60-80                                                                       2.6589      0.120     22.157      0.000       2.423       2.895\n",
      "interact. (audio+optical) x year2015_20-40                                 -1.5149      0.710     -2.133      0.033      -2.911      -0.119\n",
      "interact. (audio+optical) x year2015_40-60                                 -1.1298      0.710     -1.590      0.112      -2.526       0.266\n",
      "interact. (audio+optical) x year2015_60-80                                 -1.2393      0.710     -1.745      0.082      -2.635       0.156\n",
      "interact. (audio+optical) x year2016_20-40                                 -1.5586      0.710     -2.194      0.029      -2.954      -0.163\n",
      "interact. (audio+optical) x year2016_40-60                                 -1.1838      0.710     -1.666      0.096      -2.579       0.212\n",
      "interact. (audio+optical) x year2016_60-80                                 -1.2819      0.710     -1.804      0.072      -2.678       0.114\n",
      "interact. (audio+optical) x year2017_20-40                                 -1.6080      0.710     -2.263      0.024      -3.004      -0.212\n",
      "interact. (audio+optical) x year2017_40-60                                 -1.2328      0.710     -1.735      0.083      -2.629       0.163\n",
      "interact. (audio+optical) x year2017_60-80                                 -1.2879      0.710     -1.813      0.070      -2.684       0.108\n",
      "interact. (audio+optical) x year2018_20-40                                 -1.5987      0.710     -2.250      0.025      -2.994      -0.203\n",
      "interact. (audio+optical) x year2018_40-60                                 -1.2272      0.710     -1.727      0.085      -2.623       0.169\n",
      "interact. (audio+optical) x year2018_60-80                                 -1.2636      0.710     -1.779      0.076      -2.659       0.132\n",
      "interact. (audio+optical) x year2019_20-40                                 -1.6167      0.710     -2.276      0.023      -3.012      -0.221\n",
      "interact. (audio+optical) x year2019_40-60                                 -1.2397      0.710     -1.745      0.082      -2.635       0.156\n",
      "interact. (audio+optical) x year2019_60-80                                 -1.3260      0.710     -1.866      0.063      -2.722       0.070\n",
      "interact. (audio+optical) x year2020_20-40                                 -2.1825      0.710     -3.072      0.002      -3.578      -0.787\n",
      "interact. (audio+optical) x year2020_40-60                                 -2.1236      0.710     -2.989      0.003      -3.519      -0.728\n",
      "interact. (audio+optical) x year2020_60-80                                 -2.4500      0.710     -3.449      0.001      -3.846      -1.054\n",
      "interact. (audio+optical) x year2021_20-40                                 -1.2658      0.710     -1.782      0.075      -2.662       0.130\n",
      "interact. (audio+optical) x year2021_40-60                                 -1.0917      0.710     -1.537      0.125      -2.487       0.304\n",
      "interact. (audio+optical) x year2021_60-80                                 -1.1639      0.710     -1.638      0.102      -2.560       0.232\n",
      "interact. (audio+optical) x year2022_20-40                                 -1.2915      0.710     -1.818      0.070      -2.687       0.104\n",
      "interact. (audio+optical) x year2022_40-60                                 -1.1027      0.710     -1.552      0.121      -2.498       0.293\n",
      "interact. (audio+optical) x year2022_60-80                                 -1.2028      0.710     -1.693      0.091      -2.599       0.193\n",
      "interact. (audio+optical) x year2023_20-40                                 -1.2856      0.710     -1.810      0.071      -2.681       0.110\n",
      "interact. (audio+optical) x year2023_40-60                                 -1.0706      0.710     -1.507      0.132      -2.466       0.325\n",
      "interact. (audio+optical) x year2023_60-80                                 -1.1946      0.710     -1.681      0.093      -2.590       0.201\n",
      "==============================================================================\n",
      "Omnibus:                       76.740   Durbin-Watson:                   2.210\n",
      "Prob(Omnibus):                  0.000   Jarque-Bera (JB):              199.440\n",
      "Skew:                          -0.699   Prob(JB):                     4.92e-44\n",
      "Kurtosis:                       5.576   Cond. No.                     2.09e+15\n",
      "==============================================================================\n",
      "\n",
      "Notes:\n",
      "[1] Standard Errors assume that the covariance matrix of the errors is correctly specified.\n",
      "[2] The smallest eigenvalue is 1.74e-28. This might indicate that there are\n",
      "strong multicollinearity problems or that the design matrix is singular.\n"
     ]
    }
   ],
   "source": [
    "model = sm.OLS(y, X).fit()\n",
    "print(model.summary())"
   ]
  },
  {
   "cell_type": "code",
   "execution_count": 93,
   "metadata": {},
   "outputs": [],
   "source": [
    "_20_40 = [col for col in X.columns if \"20-40\" in col]\n",
    "_20_40.remove(\"20-40\")\n",
    "\n",
    "_40_60 = [col for col in X.columns if \"40-60\" in col]\n",
    "_40_60.remove(\"40-60\")\n",
    "\n",
    "_60_80 = [col for col in X.columns if \"60-80\" in col]\n",
    "_60_80.remove(\"60-80\")"
   ]
  },
  {
   "cell_type": "code",
   "execution_count": 94,
   "metadata": {},
   "outputs": [],
   "source": [
    "params = pd.DataFrame(model.params)\n",
    "std = pd.DataFrame(model.bse)"
   ]
  },
  {
   "cell_type": "code",
   "execution_count": 95,
   "metadata": {},
   "outputs": [],
   "source": [
    "interact_20_40 = params[params.index.str.contains(\"_20-40\")]\n",
    "interact_40_60 = params[params.index.str.contains(\"_40-60\")]\n",
    "interact_60_80 = params[params.index.str.contains(\"_60-80\")]\n",
    "\n",
    "interact_20_40_std = std[std.index.str.contains(\"_20-40\")]\n",
    "interact_40_60_std = std[std.index.str.contains(\"_40-60\")]\n",
    "interact_60_80_std = std[std.index.str.contains(\"_60-80\")]"
   ]
  },
  {
   "cell_type": "code",
   "execution_count": 96,
   "metadata": {},
   "outputs": [
    {
     "data": {
      "image/png": "[encoded data removed]",
      "text/plain": [
       "<Figure size 800x1200 with 3 Axes>"
      ]
     },
     "metadata": {},
     "output_type": "display_data"
    }
   ],
   "source": [
    "width = 0.35\n",
    "time_periods = [i+2015 for i in range(9)]\n",
    "fig, axes = plt.subplots(3, 1, figsize=(8, 12))\n",
    "axes = axes.flatten()\n",
    "\n",
    "axes[0].errorbar(time_periods, interact_20_40.iloc[:,0], yerr=interact_20_40_std.iloc[:,0], fmt='x', color='blue', ecolor='orange', capsize=3)\n",
    "axes[0].set_title(\n",
    "    \"coefficients for interaction between year, optical and hearing sector mixed and age range (20-40)\"\n",
    ")\n",
    "\n",
    "axes[1].errorbar(time_periods, interact_40_60.iloc[:,0], yerr=interact_40_60_std.iloc[:,0], fmt='x', color='blue', ecolor='orange', capsize=3)\n",
    "axes[1].set_title(\"coefficients for interaction between year, optical and hearing sector mixed and age range (40-60)\")\n",
    "\n",
    "axes[2].errorbar(time_periods, interact_60_80.iloc[:,0], yerr=interact_60_80_std.iloc[:,0], fmt='x', color='blue', ecolor='orange', capsize=3)\n",
    "axes[2].set_title(\"coefficients for interaction between year, optical and hearing sector mixed and age range (60-80)\")\n",
    "\n",
    "for i in range(len(axes)):\n",
    "\n",
    "    axes[i].set_xlabel(\"Year\")\n",
    "    axes[i].set_ylabel(\"Expenditures\")\n",
    "    axes[i].set_xticks(time_periods)\n",
    "\n",
    "plt.tight_layout()\n",
    "plt.show()"
   ]
  },
  {
   "cell_type": "markdown",
   "metadata": {},
   "source": [
    "## optical"
   ]
  },
  {
   "cell_type": "code",
   "execution_count": 97,
   "metadata": {},
   "outputs": [],
   "source": [
    "import statsmodels.api as sm\n",
    "\n",
    "X = df_aged.drop(columns=([\"expenditures\"] + [col for col in df_aged.columns if \"2014\" in col] + [col for col in df_aged.columns if \"year\" in col and \"-\" not in col] + [col for col in df_aged.columns if \"audio\" in col]))\n",
    "X = sm.add_constant(X)\n",
    "y = df_aged[\"expenditures\"]"
   ]
  },
  {
   "cell_type": "code",
   "execution_count": 98,
   "metadata": {},
   "outputs": [
    {
     "name": "stdout",
     "output_type": "stream",
     "text": [
      "                            OLS Regression Results                            \n",
      "==============================================================================\n",
      "Dep. Variable:           expenditures   R-squared:                       0.804\n",
      "Model:                            OLS   Adj. R-squared:                  0.783\n",
      "Method:                 Least Squares   F-statistic:                     39.69\n",
      "Date:                Thu, 31 Oct 2024   Prob (F-statistic):          6.70e-146\n",
      "Time:                        10:09:45   Log-Likelihood:                -719.32\n",
      "No. Observations:                 557   AIC:                             1545.\n",
      "Df Residuals:                     504   BIC:                             1774.\n",
      "Df Model:                          52                                         \n",
      "Covariance Type:            nonrobust                                         \n",
      "===========================================================================================================================================\n",
      "                                                                              coef    std err          t      P>|t|      [0.025      0.975]\n",
      "-------------------------------------------------------------------------------------------------------------------------------------------\n",
      "const                                                                      14.1009      0.133    106.265      0.000      13.840      14.362\n",
      "ADJONCTIONS, OPTIONS ET REPARATIONS APPLICABLES AUX FAUTEUILS ROULANTS     -0.2913      0.142     -2.047      0.041      -0.571      -0.012\n",
      "APPAREIL GENERATEUR D AEROSOL                                               0.5607      0.142      3.940      0.000       0.281       0.840\n",
      "ARTICLES POUR PANSEMENTS, MATERIELS DE CONTENTION                           3.0371      0.142     21.343      0.000       2.758       3.317\n",
      "AUDIOPROTHESES ET ENTRETIEN, REPARATIONS ET ACCESSOIRES POUR PROCESSEUR     1.3978      0.142      9.823      0.000       1.118       1.677\n",
      "DISPOSITIFS MEDICAUX IMPLANTABLES ACTIFS                                   -0.3589      0.148     -2.427      0.016      -0.650      -0.068\n",
      "DMI D ORIGINE SYNTHETIQUE                                                   2.5122      0.142     17.654      0.000       2.233       2.792\n",
      "FAUTEUILS ROULANTS                                                          0.9534      0.142      6.700      0.000       0.674       1.233\n",
      "OPTIQUE MEDICALE                                                            2.7845      0.246     11.306      0.000       2.301       3.268\n",
      "ORTHESES                                                                    2.1827      0.142     15.339      0.000       1.903       2.462\n",
      "ORTHESES (PETIT APPAREILLAGE) (CHAP.1)                                      2.2901      0.142     16.093      0.000       2.010       2.570\n",
      "ORTHOPROTHESES(CHAP.7)                                                      2.5138      0.142     17.666      0.000       2.234       2.793\n",
      "PROTHESES EXTERNES NON ORTHOPEDIQUES                                       -1.5854      0.142    -11.141      0.000      -1.865      -1.306\n",
      "PROTHESES OCULAIRES ET FACIALES                                            -0.9430      0.142     -6.627      0.000      -1.223      -0.663\n",
      "VEHICULES DIVERS                                                           -0.9527      0.142     -6.695      0.000      -1.232      -0.673\n",
      "2015                                                                        0.1099      0.178      0.618      0.537      -0.240       0.459\n",
      "2016                                                                        0.1785      0.178      1.004      0.316      -0.171       0.528\n",
      "2017                                                                        0.2204      0.178      1.239      0.216      -0.129       0.570\n",
      "2018                                                                        0.2647      0.178      1.488      0.137      -0.085       0.614\n",
      "2019                                                                        0.4002      0.179      2.238      0.026       0.049       0.751\n",
      "2020                                                                        0.2166      0.178      1.217      0.224      -0.133       0.566\n",
      "2021                                                                        0.3532      0.178      1.985      0.048       0.004       0.703\n",
      "2022                                                                        0.4581      0.179      2.562      0.011       0.107       0.809\n",
      "2023                                                                        0.5081      0.179      2.842      0.005       0.157       0.859\n",
      "20-40                                                                       0.5056      0.114      4.416      0.000       0.281       0.731\n",
      "40-60                                                                       1.5216      0.114     13.291      0.000       1.297       1.747\n",
      "60-80                                                                       2.6506      0.114     23.153      0.000       2.426       2.876\n",
      "interact. optique x year2015_20-40                                         -0.8576      0.974     -0.881      0.379      -2.771       1.055\n",
      "interact. optique x year2015_40-60                                         -0.6988      0.974     -0.718      0.473      -2.612       1.214\n",
      "interact. optique x year2015_60-80                                         -2.0102      0.974     -2.065      0.039      -3.923      -0.097\n",
      "interact. optique x year2016_20-40                                         -0.9056      0.974     -0.930      0.353      -2.819       1.007\n",
      "interact. optique x year2016_40-60                                         -0.7645      0.974     -0.785      0.433      -2.677       1.148\n",
      "interact. optique x year2016_60-80                                         -2.0646      0.974     -2.120      0.034      -3.978      -0.152\n",
      "interact. optique x year2017_20-40                                         -0.9565      0.974     -0.982      0.326      -2.869       0.956\n",
      "interact. optique x year2017_40-60                                         -0.8356      0.974     -0.858      0.391      -2.749       1.077\n",
      "interact. optique x year2017_60-80                                         -2.1038      0.974     -2.161      0.031      -4.017      -0.191\n",
      "interact. optique x year2018_20-40                                         -0.9617      0.974     -0.988      0.324      -2.875       0.951\n",
      "interact. optique x year2018_40-60                                         -0.8366      0.974     -0.859      0.391      -2.750       1.076\n",
      "interact. optique x year2018_60-80                                         -2.0839      0.974     -2.140      0.033      -3.997      -0.171\n",
      "interact. optique x year2019_20-40                                         -1.0262      0.974     -1.054      0.292      -2.939       0.887\n",
      "interact. optique x year2019_40-60                                         -0.9184      0.974     -0.943      0.346      -2.831       0.995\n",
      "interact. optique x year2019_60-80                                         -2.1509      0.974     -2.209      0.028      -4.064      -0.238\n",
      "interact. optique x year2020_20-40                                         -2.7659      0.974     -2.841      0.005      -4.679      -0.853\n",
      "interact. optique x year2020_40-60                                         -3.1807      0.974     -3.267      0.001      -5.094      -1.268\n",
      "interact. optique x year2020_60-80                                         -4.7914      0.974     -4.921      0.000      -6.704      -2.878\n",
      "interact. optique x year2021_20-40                                         -1.4997      0.974     -1.540      0.124      -3.413       0.413\n",
      "interact. optique x year2021_40-60                                         -1.7289      0.974     -1.776      0.076      -3.642       0.184\n",
      "interact. optique x year2021_60-80                                         -2.9216      0.974     -3.001      0.003      -4.835      -1.009\n",
      "interact. optique x year2022_20-40                                         -1.5998      0.974     -1.643      0.101      -3.513       0.313\n",
      "interact. optique x year2022_40-60                                         -1.7808      0.974     -1.829      0.068      -3.694       0.132\n",
      "interact. optique x year2022_60-80                                         -2.9140      0.974     -2.993      0.003      -4.827      -1.001\n",
      "interact. optique x year2023_20-40                                         -1.5226      0.974     -1.564      0.118      -3.436       0.390\n",
      "interact. optique x year2023_40-60                                         -1.7319      0.974     -1.779      0.076      -3.645       0.181\n",
      "interact. optique x year2023_60-80                                         -2.8188      0.974     -2.895      0.004      -4.732      -0.906\n",
      "==============================================================================\n",
      "Omnibus:                       96.671   Durbin-Watson:                   2.298\n",
      "Prob(Omnibus):                  0.000   Jarque-Bera (JB):              269.319\n",
      "Skew:                          -0.849   Prob(JB):                     3.30e-59\n",
      "Kurtosis:                       5.953   Cond. No.                     2.08e+15\n",
      "==============================================================================\n",
      "\n",
      "Notes:\n",
      "[1] Standard Errors assume that the covariance matrix of the errors is correctly specified.\n",
      "[2] The smallest eigenvalue is 1.75e-28. This might indicate that there are\n",
      "strong multicollinearity problems or that the design matrix is singular.\n"
     ]
    }
   ],
   "source": [
    "model = sm.OLS(y, X).fit()\n",
    "print(model.summary())"
   ]
  },
  {
   "cell_type": "code",
   "execution_count": 99,
   "metadata": {},
   "outputs": [],
   "source": [
    "_20_40 = [col for col in X.columns if \"20-40\" in col]\n",
    "_20_40.remove(\"20-40\")\n",
    "\n",
    "_40_60 = [col for col in X.columns if \"40-60\" in col]\n",
    "_40_60.remove(\"40-60\")\n",
    "\n",
    "_60_80 = [col for col in X.columns if \"60-80\" in col]\n",
    "_60_80.remove(\"60-80\")"
   ]
  },
  {
   "cell_type": "code",
   "execution_count": 100,
   "metadata": {},
   "outputs": [],
   "source": [
    "params = pd.DataFrame(model.params)\n",
    "std = pd.DataFrame(model.bse)"
   ]
  },
  {
   "cell_type": "code",
   "execution_count": 101,
   "metadata": {},
   "outputs": [],
   "source": [
    "interact_20_40 = params[params.index.str.contains(\"_20-40\")]\n",
    "interact_40_60 = params[params.index.str.contains(\"_40-60\")]\n",
    "interact_60_80 = params[params.index.str.contains(\"_60-80\")]\n",
    "\n",
    "interact_20_40_std = std[std.index.str.contains(\"_20-40\")]\n",
    "interact_40_60_std = std[std.index.str.contains(\"_40-60\")]\n",
    "interact_60_80_std = std[std.index.str.contains(\"_60-80\")]"
   ]
  },
  {
   "cell_type": "code",
   "execution_count": 102,
   "metadata": {},
   "outputs": [
    {
     "data": {
      "image/png": "[encoded data removed]",
      "text/plain": [
       "<Figure size 800x1200 with 3 Axes>"
      ]
     },
     "metadata": {},
     "output_type": "display_data"
    }
   ],
   "source": [
    "width = 0.35\n",
    "time_periods = [i+2015 for i in range(9)]\n",
    "fig, axes = plt.subplots(3, 1, figsize=(8, 12))\n",
    "axes = axes.flatten()\n",
    "\n",
    "axes[0].errorbar(time_periods, interact_20_40.iloc[:,0], yerr=interact_20_40_std.iloc[:,0], fmt='x', color='blue', ecolor='orange', capsize=3)\n",
    "axes[0].set_title(\n",
    "    \"coefficients for interaction between year, optical sector and age range (20-40)\"\n",
    ")\n",
    "\n",
    "axes[1].errorbar(time_periods, interact_40_60.iloc[:,0], yerr=interact_40_60_std.iloc[:,0], fmt='x', color='blue', ecolor='orange', capsize=3)\n",
    "axes[1].set_title(\"coefficients for interaction between year, optical sector and age range (40-60)\")\n",
    "\n",
    "axes[2].errorbar(time_periods, interact_60_80.iloc[:,0], yerr=interact_60_80_std.iloc[:,0], fmt='x', color='blue', ecolor='orange', capsize=3)\n",
    "axes[2].set_title(\"coefficients for interaction between year, optical sector and age range (60-80)\")\n",
    "\n",
    "for i in range(len(axes)):\n",
    "\n",
    "    axes[i].set_xlabel(\"Year\")\n",
    "    axes[i].set_ylabel(\"Expenditures\")\n",
    "    axes[i].set_xticks(time_periods)\n",
    "\n",
    "plt.tight_layout()\n",
    "plt.show()"
   ]
  },
  {
   "cell_type": "markdown",
   "metadata": {},
   "source": [
    "## hearing"
   ]
  },
  {
   "cell_type": "code",
   "execution_count": 103,
   "metadata": {},
   "outputs": [],
   "source": [
    "import statsmodels.api as sm\n",
    "\n",
    "X = df_aged.drop(columns=([\"expenditures\"] + [col for col in df_aged.columns if \"2014\" in col] + [col for col in df_aged.columns if \"year\" in col and \"-\" not in col] + [col for col in df_aged.columns if \"optical\" in col or \"optique\" in col]))\n",
    "X = sm.add_constant(X)\n",
    "y = df_aged[\"expenditures\"]"
   ]
  },
  {
   "cell_type": "code",
   "execution_count": 104,
   "metadata": {},
   "outputs": [
    {
     "name": "stdout",
     "output_type": "stream",
     "text": [
      "                            OLS Regression Results                            \n",
      "==============================================================================\n",
      "Dep. Variable:           expenditures   R-squared:                       0.792\n",
      "Model:                            OLS   Adj. R-squared:                  0.770\n",
      "Method:                 Least Squares   F-statistic:                     36.85\n",
      "Date:                Thu, 31 Oct 2024   Prob (F-statistic):          1.38e-139\n",
      "Time:                        10:09:46   Log-Likelihood:                -735.80\n",
      "No. Observations:                 557   AIC:                             1578.\n",
      "Df Residuals:                     504   BIC:                             1807.\n",
      "Df Model:                          52                                         \n",
      "Covariance Type:            nonrobust                                         \n",
      "===========================================================================================================================================\n",
      "                                                                              coef    std err          t      P>|t|      [0.025      0.975]\n",
      "-------------------------------------------------------------------------------------------------------------------------------------------\n",
      "const                                                                      14.1460      0.137    103.498      0.000      13.877      14.415\n",
      "ADJONCTIONS, OPTIONS ET REPARATIONS APPLICABLES AUX FAUTEUILS ROULANTS     -0.2404      0.147     -1.640      0.102      -0.528       0.048\n",
      "APPAREIL GENERATEUR D AEROSOL                                               0.6116      0.147      4.173      0.000       0.324       0.900\n",
      "ARTICLES POUR PANSEMENTS, MATERIELS DE CONTENTION                           3.0880      0.147     21.069      0.000       2.800       3.376\n",
      "AUDIOPROTHESES ET ENTRETIEN, REPARATIONS ET ACCESSOIRES POUR PROCESSEUR     1.9897      0.254      7.843      0.000       1.491       2.488\n",
      "DISPOSITIFS MEDICAUX IMPLANTABLES ACTIFS                                   -0.3059      0.152     -2.008      0.045      -0.605      -0.007\n",
      "DMI D ORIGINE SYNTHETIQUE                                                   2.5631      0.147     17.487      0.000       2.275       2.851\n",
      "FAUTEUILS ROULANTS                                                          1.0043      0.147      6.852      0.000       0.716       1.292\n",
      "OPTIQUE MEDICALE                                                            1.6247      0.147     11.085      0.000       1.337       1.913\n",
      "ORTHESES                                                                    2.2336      0.147     15.239      0.000       1.946       2.522\n",
      "ORTHESES (PETIT APPAREILLAGE) (CHAP.1)                                      2.3410      0.147     15.972      0.000       2.053       2.629\n",
      "ORTHOPROTHESES(CHAP.7)                                                      2.5647      0.147     17.498      0.000       2.277       2.853\n",
      "PROTHESES EXTERNES NON ORTHOPEDIQUES                                       -1.5345      0.147    -10.469      0.000      -1.822      -1.247\n",
      "PROTHESES OCULAIRES ET FACIALES                                            -0.8921      0.147     -6.087      0.000      -1.180      -0.604\n",
      "VEHICULES DIVERS                                                           -0.9018      0.147     -6.153      0.000      -1.190      -0.614\n",
      "2015                                                                        0.1111      0.183      0.606      0.545      -0.249       0.471\n",
      "2016                                                                        0.1785      0.183      0.974      0.331      -0.182       0.539\n",
      "2017                                                                        0.2180      0.183      1.190      0.235      -0.142       0.578\n",
      "2018                                                                        0.2615      0.183      1.427      0.154      -0.099       0.622\n",
      "2019                                                                        0.3943      0.184      2.141      0.033       0.033       0.756\n",
      "2020                                                                        0.0584      0.183      0.319      0.750      -0.302       0.418\n",
      "2021                                                                        0.2499      0.183      1.364      0.173      -0.110       0.610\n",
      "2022                                                                        0.3522      0.184      1.913      0.056      -0.010       0.714\n",
      "2023                                                                        0.4087      0.184      2.219      0.027       0.047       0.770\n",
      "20-40                                                                       0.5169      0.118      4.384      0.000       0.285       0.749\n",
      "40-60                                                                       1.4939      0.118     12.669      0.000       1.262       1.726\n",
      "60-80                                                                       2.4738      0.118     20.978      0.000       2.242       2.705\n",
      "interact. audio x year2015_20-40                                           -1.9626      1.003     -1.957      0.051      -3.933       0.008\n",
      "interact. audio x year2015_40-60                                           -1.3896      1.003     -1.386      0.166      -3.360       0.581\n",
      "interact. audio x year2015_60-80                                           -0.2818      1.003     -0.281      0.779      -2.252       1.689\n",
      "interact. audio x year2016_20-40                                           -1.9966      1.003     -1.991      0.047      -3.967      -0.026\n",
      "interact. audio x year2016_40-60                                           -1.4266      1.003     -1.422      0.156      -3.397       0.544\n",
      "interact. audio x year2016_60-80                                           -0.3073      1.003     -0.306      0.759      -2.278       1.663\n",
      "interact. audio x year2017_20-40                                           -2.0404      1.003     -2.035      0.042      -4.011      -0.070\n",
      "interact. audio x year2017_40-60                                           -1.4495      1.003     -1.445      0.149      -3.420       0.521\n",
      "interact. audio x year2017_60-80                                           -0.2762      1.003     -0.275      0.783      -2.247       1.694\n",
      "interact. audio x year2018_20-40                                           -2.0182      1.003     -2.012      0.045      -3.989      -0.048\n",
      "interact. audio x year2018_40-60                                           -1.4388      1.003     -1.435      0.152      -3.409       0.532\n",
      "interact. audio x year2018_60-80                                           -0.2489      1.003     -0.248      0.804      -2.219       1.722\n",
      "interact. audio x year2019_20-40                                           -1.9889      1.003     -1.983      0.048      -3.959      -0.018\n",
      "interact. audio x year2019_40-60                                           -1.3812      1.003     -1.377      0.169      -3.352       0.589\n",
      "interact. audio x year2019_60-80                                           -0.3059      1.003     -0.305      0.760      -2.276       1.665\n",
      "interact. audio x year2020_20-40                                           -1.2811      1.003     -1.277      0.202      -3.252       0.689\n",
      "interact. audio x year2020_40-60                                           -0.7868      1.003     -0.785      0.433      -2.757       1.184\n",
      "interact. audio x year2020_60-80                                            0.1863      1.003      0.186      0.853      -1.784       2.157\n",
      "interact. audio x year2021_20-40                                           -0.8360      1.003     -0.834      0.405      -2.806       1.134\n",
      "interact. audio x year2021_40-60                                           -0.2969      1.003     -0.296      0.767      -2.267       1.673\n",
      "interact. audio x year2021_60-80                                            0.7668      1.003      0.765      0.445      -1.204       2.737\n",
      "interact. audio x year2022_20-40                                           -0.7875      1.003     -0.785      0.433      -2.758       1.183\n",
      "interact. audio x year2022_40-60                                           -0.2674      1.003     -0.267      0.790      -2.238       1.703\n",
      "interact. audio x year2022_60-80                                            0.6811      1.003      0.679      0.497      -1.289       2.651\n",
      "interact. audio x year2023_20-40                                           -0.8547      1.003     -0.852      0.395      -2.825       1.116\n",
      "interact. audio x year2023_40-60                                           -0.2539      1.003     -0.253      0.800      -2.224       1.717\n",
      "interact. audio x year2023_60-80                                            0.6005      1.003      0.599      0.550      -1.370       2.571\n",
      "==============================================================================\n",
      "Omnibus:                       91.741   Durbin-Watson:                   2.250\n",
      "Prob(Omnibus):                  0.000   Jarque-Bera (JB):              310.320\n",
      "Skew:                          -0.743   Prob(JB):                     4.12e-68\n",
      "Kurtosis:                       6.341   Cond. No.                     2.08e+15\n",
      "==============================================================================\n",
      "\n",
      "Notes:\n",
      "[1] Standard Errors assume that the covariance matrix of the errors is correctly specified.\n",
      "[2] The smallest eigenvalue is 1.75e-28. This might indicate that there are\n",
      "strong multicollinearity problems or that the design matrix is singular.\n"
     ]
    }
   ],
   "source": [
    "model = sm.OLS(y, X).fit()\n",
    "print(model.summary())"
   ]
  },
  {
   "cell_type": "code",
   "execution_count": 105,
   "metadata": {},
   "outputs": [],
   "source": [
    "_20_40 = [col for col in X.columns if \"20-40\" in col]\n",
    "_20_40.remove(\"20-40\")\n",
    "\n",
    "_40_60 = [col for col in X.columns if \"40-60\" in col]\n",
    "_40_60.remove(\"40-60\")\n",
    "\n",
    "_60_80 = [col for col in X.columns if \"60-80\" in col]\n",
    "_60_80.remove(\"60-80\")"
   ]
  },
  {
   "cell_type": "code",
   "execution_count": 106,
   "metadata": {},
   "outputs": [],
   "source": [
    "params = pd.DataFrame(model.params)\n",
    "std = pd.DataFrame(model.bse)"
   ]
  },
  {
   "cell_type": "code",
   "execution_count": 107,
   "metadata": {},
   "outputs": [],
   "source": [
    "interact_20_40 = params[params.index.str.contains(\"_20-40\")]\n",
    "interact_40_60 = params[params.index.str.contains(\"_40-60\")]\n",
    "interact_60_80 = params[params.index.str.contains(\"_60-80\")]\n",
    "\n",
    "interact_20_40_std = std[std.index.str.contains(\"_20-40\")]\n",
    "interact_40_60_std = std[std.index.str.contains(\"_40-60\")]\n",
    "interact_60_80_std = std[std.index.str.contains(\"_60-80\")]"
   ]
  },
  {
   "cell_type": "code",
   "execution_count": 108,
   "metadata": {},
   "outputs": [
    {
     "data": {
      "image/png": "[encoded data removed]",
      "text/plain": [
       "<Figure size 800x1200 with 3 Axes>"
      ]
     },
     "metadata": {},
     "output_type": "display_data"
    }
   ],
   "source": [
    "width = 0.35\n",
    "time_periods = [i+2015 for i in range(9)]\n",
    "fig, axes = plt.subplots(3, 1, figsize=(8, 12))\n",
    "axes = axes.flatten()\n",
    "\n",
    "axes[0].errorbar(time_periods, interact_20_40.iloc[:,0], yerr=interact_20_40_std.iloc[:,0], fmt='x', color='blue', ecolor='orange', capsize=3)\n",
    "axes[0].set_title(\n",
    "    \"coefficients for interaction between year, hearing sector and age range (20-40)\"\n",
    ")\n",
    "\n",
    "axes[1].errorbar(time_periods, interact_40_60.iloc[:,0], yerr=interact_40_60_std.iloc[:,0], fmt='x', color='blue', ecolor='orange', capsize=3)\n",
    "axes[1].set_title(\"coefficients for interaction between year, hearing sector and age range (40-60)\")\n",
    "\n",
    "axes[2].errorbar(time_periods, interact_60_80.iloc[:,0], yerr=interact_60_80_std.iloc[:,0], fmt='x', color='blue', ecolor='orange', capsize=3)\n",
    "axes[2].set_title(\"coefficients for interaction between year, hearing sector and age range (60-80)\")\n",
    "\n",
    "for i in range(len(axes)):\n",
    "\n",
    "    axes[i].set_xlabel(\"Year\")\n",
    "    axes[i].set_ylabel(\"Expenditures\")\n",
    "    axes[i].set_xticks(time_periods)\n",
    "\n",
    "plt.tight_layout()\n",
    "plt.show()"
   ]
  },
  {
   "cell_type": "code",
   "execution_count": null,
   "metadata": {},
   "outputs": [],
   "source": []
  }
 ],
 "metadata": {
  "kernelspec": {
   "display_name": "base",
   "language": "python",
   "name": "python3"
  },
  "language_info": {
   "codemirror_mode": {
    "name": "ipython",
    "version": 3
   },
   "file_extension": ".py",
   "mimetype": "text/x-python",
   "name": "python",
   "nbconvert_exporter": "python",
   "pygments_lexer": "ipython3",
   "version": "3.11.5"
  }
 },
 "nbformat": 4,
 "nbformat_minor": 2
}
