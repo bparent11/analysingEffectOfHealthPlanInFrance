{
 "cells": [
  {
   "cell_type": "code",
   "execution_count": 1,
   "metadata": {},
   "outputs": [],
   "source": [
    "import pandas as pd\n",
    "import matplotlib.pyplot as plt\n",
    "import os\n",
    "import copy\n",
    "import importlib\n",
    "import functions\n",
    "import numpy as np\n",
    "import json\n",
    "import seaborn as sns\n",
    "from typing import List, Dict"
   ]
  },
  {
   "cell_type": "code",
   "execution_count": 2,
   "metadata": {},
   "outputs": [],
   "source": [
    "from functions import gov_exp"
   ]
  },
  {
   "cell_type": "code",
   "execution_count": 3,
   "metadata": {},
   "outputs": [],
   "source": [
    "importlib.reload(functions)\n",
    "from functions import gov_exp, gov_exp_by_age"
   ]
  },
  {
   "cell_type": "markdown",
   "metadata": {},
   "source": [
    "# getting groups"
   ]
  },
  {
   "cell_type": "code",
   "execution_count": 19,
   "metadata": {},
   "outputs": [],
   "source": [
    "optical = gov_exp(\n",
    "    inflation_adjustment=False,\n",
    "    sector=\"optical\",\n",
    "    mask={\"OPTIQUE MEDICALE\": [\"equality\", \"L_SC1\", \"and\"]},\n",
    "    indent=0,\n",
    ")"
   ]
  },
  {
   "cell_type": "code",
   "execution_count": 20,
   "metadata": {},
   "outputs": [],
   "source": [
    "orthoprotheses = gov_exp(\n",
    "    inflation_adjustment=False,\n",
    "    sector=\"all\",\n",
    "    mask={\"ORTHOPROTHESES(CHAP.7)\": [\"equality\", \"L_SC1\", \"and\"]},\n",
    "    indent=0,\n",
    ")"
   ]
  },
  {
   "cell_type": "code",
   "execution_count": 21,
   "metadata": {},
   "outputs": [],
   "source": [
    "dmi_synthe = gov_exp(\n",
    "    inflation_adjustment=False,\n",
    "    sector=\"all\",\n",
    "    mask={\"DMI D ORIGINE SYNTHETIQUE\": [\"equality\", \"L_SC1\", \"and\"]},\n",
    "    indent=0,\n",
    ")"
   ]
  },
  {
   "cell_type": "code",
   "execution_count": 22,
   "metadata": {},
   "outputs": [],
   "source": [
    "audioprotheses = gov_exp(\n",
    "    inflation_adjustment=False,\n",
    "    sector=\"all\",\n",
    "    mask={\n",
    "        \"AUDIOPROTHESES ET ENTRETIEN, REPARATIONS ET ACCESSOIRES POUR PROCESSEUR\": [\n",
    "            \"contains\",\n",
    "            \"L_SC1\",\n",
    "            \"or\",\n",
    "        ],\n",
    "        \"AUDIOPROTHESES ET ENTRETIEN, REPARATIONS ET ACCESSOIRES POUR PROCESSEURS\": [\n",
    "            \"contains\",\n",
    "            \"L_SC1\",\n",
    "            \"or\",\n",
    "        ],\n",
    "    },\n",
    "    indent=0,\n",
    ")"
   ]
  },
  {
   "cell_type": "code",
   "execution_count": 23,
   "metadata": {},
   "outputs": [],
   "source": [
    "ortheses = gov_exp(\n",
    "    inflation_adjustment=False,\n",
    "    sector=\"all\",\n",
    "    mask={\"ORTHESES (PETIT APPAREILLAGE) (CHAP.1)\": [\"equality\", \"L_SC1\", \"and\"]},\n",
    "    indent=0,\n",
    ")"
   ]
  },
  {
   "cell_type": "code",
   "execution_count": 24,
   "metadata": {},
   "outputs": [],
   "source": [
    "aerosol = gov_exp(\n",
    "    inflation_adjustment=False,\n",
    "    sector=\"all\",\n",
    "    mask={\"APPAREIL GENERATEUR D AEROSOL\": [\"equality\", \"L_SC1\", \"and\"]},\n",
    "    indent=0,\n",
    ")"
   ]
  },
  {
   "cell_type": "code",
   "execution_count": 97,
   "metadata": {},
   "outputs": [],
   "source": [
    "labels_name = [\"optical\", \"orthoprotheses\", \"dmi_synthe\", \"audioprotheses\", \"ortheses\", \"aerosol\"]\n",
    "labels = [optical, orthoprotheses, dmi_synthe, audioprotheses, ortheses, aerosol]\n",
    "dict = {labels_name[i]:labels[i] for i in range(6)}"
   ]
  },
  {
   "cell_type": "code",
   "execution_count": 98,
   "metadata": {},
   "outputs": [],
   "source": [
    "#do we separate all groups, like we differ group with their name or we differ it whether they are treated and controled ? try 2*"
   ]
  },
  {
   "cell_type": "markdown",
   "metadata": {},
   "source": [
    "# getting data in a unique df"
   ]
  },
  {
   "cell_type": "code",
   "execution_count": 99,
   "metadata": {},
   "outputs": [],
   "source": [
    "i=0\n",
    "for group_name in labels_name:\n",
    "    \n",
    "    if group_name == \"optical\":\n",
    "        treatment = [0, 0, 0, 0, 0, 0, 1, 1, 1, 1]\n",
    "    elif group_name == \"audioprotheses\":\n",
    "        treatment = [0, 0, 0, 0, 0, 1, 1, 1, 1, 1]\n",
    "    else:\n",
    "        treatment = [0 for j in range(10)]\n",
    "    \n",
    "    df = pd.DataFrame(\n",
    "    {\n",
    "        \"year\":dict[group_name][0].keys(),\n",
    "        \"expenditures\":dict[group_name][0].values(),\n",
    "        \"treatment\":treatment,\n",
    "    }\n",
    "    )\n",
    "\n",
    "    df = pd.get_dummies(df, columns=['year'], prefix='', prefix_sep='').astype(int)\n",
    "\n",
    "    if i == 0:\n",
    "        df_final = df\n",
    "        i+=1\n",
    "    else:\n",
    "        df_final = pd.concat([df_final, df], axis=0)\n",
    "\n",
    "reference = \"2014\"\n",
    "\n",
    "df_final.reset_index(inplace=True)\n",
    "df_final.drop(columns=[\"index\", reference], inplace=True)\n",
    "\n",
    "for col in df_final.filter(like=\"2\").columns:\n",
    "    df_final[f'{col}_treatment'] = df_final[\"treatment\"] * df_final[col]"
   ]
  },
  {
   "cell_type": "code",
   "execution_count": null,
   "metadata": {},
   "outputs": [],
   "source": [
    "df_final.tail()"
   ]
  },
  {
   "cell_type": "code",
   "execution_count": 101,
   "metadata": {},
   "outputs": [],
   "source": [
    "df_final.to_csv(\"df_for_reg.csv\")"
   ]
  },
  {
   "cell_type": "code",
   "execution_count": null,
   "metadata": {},
   "outputs": [],
   "source": [
    "df_final = pd.read_csv(\"df_for_reg.csv\", index_col=0)\n",
    "df_final.columns"
   ]
  },
  {
   "cell_type": "markdown",
   "metadata": {},
   "source": [
    "## log(y)"
   ]
  },
  {
   "cell_type": "code",
   "execution_count": 118,
   "metadata": {},
   "outputs": [],
   "source": [
    "import statsmodels.api as sm\n",
    "\n",
    "X = df_final.drop(columns=[\"expenditures\"])\n",
    "X = sm.add_constant(X)\n",
    "y = np.log(df_final[\"expenditures\"])"
   ]
  },
  {
   "cell_type": "code",
   "execution_count": null,
   "metadata": {},
   "outputs": [],
   "source": [
    "model = sm.OLS(y, X).fit()\n",
    "print(model.summary())"
   ]
  },
  {
   "cell_type": "markdown",
   "metadata": {},
   "source": [
    "## y"
   ]
  },
  {
   "cell_type": "code",
   "execution_count": null,
   "metadata": {},
   "outputs": [],
   "source": [
    "import statsmodels.api as sm\n",
    "\n",
    "X = df_final.drop(columns=[\"expenditures\"])\n",
    "X = sm.add_constant(X)\n",
    "y = df_final[\"expenditures\"]\n",
    "\n",
    "model = sm.OLS(y, X).fit()\n",
    "print(model.summary())"
   ]
  },
  {
   "cell_type": "markdown",
   "metadata": {},
   "source": [
    "V2"
   ]
  },
  {
   "cell_type": "code",
   "execution_count": 4,
   "metadata": {},
   "outputs": [],
   "source": [
    "optical = gov_exp(\n",
    "    inflation_adjustment=False,\n",
    "    sector=\"optical\",\n",
    "    mask={\"OPTIQUE MEDICALE\": [\"equality\", \"L_SC1\", \"and\"]},\n",
    "    indent=0,\n",
    ")"
   ]
  },
  {
   "cell_type": "code",
   "execution_count": 5,
   "metadata": {},
   "outputs": [],
   "source": [
    "orthoprotheses = gov_exp(\n",
    "    inflation_adjustment=False,\n",
    "    sector=\"all\",\n",
    "    mask={\"ORTHOPROTHESES(CHAP.7)\": [\"equality\", \"L_SC1\", \"and\"]},\n",
    "    indent=0,\n",
    ")"
   ]
  },
  {
   "cell_type": "code",
   "execution_count": 6,
   "metadata": {},
   "outputs": [],
   "source": [
    "dmi_synthe = gov_exp(\n",
    "    inflation_adjustment=False,\n",
    "    sector=\"all\",\n",
    "    mask={\"DMI D ORIGINE SYNTHETIQUE\": [\"equality\", \"L_SC1\", \"and\"]},\n",
    "    indent=0,\n",
    ")"
   ]
  },
  {
   "cell_type": "code",
   "execution_count": 7,
   "metadata": {},
   "outputs": [],
   "source": [
    "audioprotheses = gov_exp(\n",
    "    inflation_adjustment=False,\n",
    "    sector=\"all\",\n",
    "    mask={\n",
    "        \"AUDIOPROTHESES ET ENTRETIEN, REPARATIONS ET ACCESSOIRES POUR PROCESSEUR\": [\n",
    "            \"contains\",\n",
    "            \"L_SC1\",\n",
    "            \"or\",\n",
    "        ],\n",
    "        \"AUDIOPROTHESES ET ENTRETIEN, REPARATIONS ET ACCESSOIRES POUR PROCESSEURS\": [\n",
    "            \"contains\",\n",
    "            \"L_SC1\",\n",
    "            \"or\",\n",
    "        ],\n",
    "    },\n",
    "    indent=0,\n",
    ")"
   ]
  },
  {
   "cell_type": "code",
   "execution_count": 8,
   "metadata": {},
   "outputs": [],
   "source": [
    "ortheses = gov_exp(\n",
    "    inflation_adjustment=False,\n",
    "    sector=\"all\",\n",
    "    mask={\"ORTHESES (PETIT APPAREILLAGE) (CHAP.1)\": [\"equality\", \"L_SC1\", \"and\"]},\n",
    "    indent=0,\n",
    ")"
   ]
  },
  {
   "cell_type": "code",
   "execution_count": 9,
   "metadata": {},
   "outputs": [],
   "source": [
    "aerosol = gov_exp(\n",
    "    inflation_adjustment=False,\n",
    "    sector=\"all\",\n",
    "    mask={\"APPAREIL GENERATEUR D AEROSOL\": [\"equality\", \"L_SC1\", \"and\"]},\n",
    "    indent=0,\n",
    ")"
   ]
  },
  {
   "cell_type": "code",
   "execution_count": 36,
   "metadata": {},
   "outputs": [],
   "source": [
    "labels_name = [\"optical\", \"orthoprotheses\", \"dmi_synthe\", \"audioprotheses\", \"ortheses\", \"aerosol\"]\n",
    "labels = [optical, orthoprotheses, dmi_synthe, audioprotheses, ortheses, aerosol]\n",
    "dict = {labels_name[i]:labels[i] for i in range(6)}"
   ]
  },
  {
   "cell_type": "code",
   "execution_count": null,
   "metadata": {},
   "outputs": [],
   "source": [
    "i=0\n",
    "for group_name in labels_name:\n",
    "    \n",
    "    if group_name == \"optical\":\n",
    "        treatment = [0, 0, 0, 0, 0, 0, 1, 1, 1, 1]\n",
    "    elif group_name == \"audioprotheses\":\n",
    "        treatment = [0, 0, 0, 0, 0, 1, 1, 1, 1, 1]\n",
    "    else:\n",
    "        treatment = [0 for j in range(10)]\n",
    "    \n",
    "    df = pd.DataFrame(\n",
    "    {\n",
    "        \"year\":dict[group_name][0].keys(),\n",
    "        \"expenditures\":dict[group_name][0].values(),\n",
    "        \"treatment\":treatment,\n",
    "    }\n",
    "    )\n",
    "\n",
    "    if i == 0:\n",
    "        df_final = df\n",
    "        i+=1\n",
    "    else:\n",
    "        df_final = pd.concat([df_final, df], axis=0)\n",
    "    \n",
    "df_final.head()"
   ]
  },
  {
   "cell_type": "code",
   "execution_count": null,
   "metadata": {},
   "outputs": [],
   "source": [
    "df_final.dtypes"
   ]
  },
  {
   "cell_type": "code",
   "execution_count": 47,
   "metadata": {},
   "outputs": [],
   "source": [
    "df_final[\"after_treatment_year\"] = 0\n",
    "\n",
    "for i in range(len(df_final)):\n",
    "    if df_final.iloc[i, 0] not in [str(j+2014) for j in range(5)]:\n",
    "        df_final.iloc[i, 3] = 1"
   ]
  },
  {
   "cell_type": "code",
   "execution_count": 48,
   "metadata": {},
   "outputs": [],
   "source": [
    "df_final.drop(columns=\"year\", inplace=True)"
   ]
  },
  {
   "cell_type": "code",
   "execution_count": null,
   "metadata": {},
   "outputs": [],
   "source": [
    "df_final.head()"
   ]
  },
  {
   "cell_type": "code",
   "execution_count": 51,
   "metadata": {},
   "outputs": [],
   "source": [
    "df_final[\"treatment_year\"] = df_final[\"treatment\"] * df_final[\"after_treatment_year\"]"
   ]
  },
  {
   "cell_type": "code",
   "execution_count": null,
   "metadata": {},
   "outputs": [],
   "source": [
    "df_final.head()"
   ]
  },
  {
   "cell_type": "markdown",
   "metadata": {},
   "source": [
    "# log(y)"
   ]
  },
  {
   "cell_type": "code",
   "execution_count": 54,
   "metadata": {},
   "outputs": [],
   "source": [
    "import statsmodels.api as sm\n",
    "\n",
    "X = df_final.drop(columns=[\"expenditures\"])\n",
    "X = sm.add_constant(X)\n",
    "y = np.log(df_final[\"expenditures\"])"
   ]
  },
  {
   "cell_type": "code",
   "execution_count": null,
   "metadata": {},
   "outputs": [],
   "source": [
    "model = sm.OLS(y, X).fit()\n",
    "print(model.summary())"
   ]
  },
  {
   "cell_type": "markdown",
   "metadata": {},
   "source": [
    "# y"
   ]
  },
  {
   "cell_type": "code",
   "execution_count": 56,
   "metadata": {},
   "outputs": [],
   "source": [
    "import statsmodels.api as sm\n",
    "\n",
    "X = df_final.drop(columns=[\"expenditures\"])\n",
    "X = sm.add_constant(X)\n",
    "y = df_final[\"expenditures\"]"
   ]
  },
  {
   "cell_type": "code",
   "execution_count": null,
   "metadata": {},
   "outputs": [],
   "source": [
    "model = sm.OLS(y, X).fit()\n",
    "print(model.summary())"
   ]
  },
  {
   "cell_type": "markdown",
   "metadata": {},
   "source": [
    "adding age"
   ]
  },
  {
   "cell_type": "code",
   "execution_count": 4,
   "metadata": {},
   "outputs": [],
   "source": [
    "importlib.reload(functions)\n",
    "from functions import gov_exp_by_age"
   ]
  },
  {
   "cell_type": "code",
   "execution_count": 5,
   "metadata": {},
   "outputs": [],
   "source": [
    "optical = gov_exp_by_age(\n",
    "    inflation_adjustment=False,\n",
    "    sector=\"optical\",\n",
    "    mask={\"OPTIQUE MEDICALE\": [\"equality\", \"L_SC1\", \"and\"]},\n",
    "    indent=0,\n",
    ")"
   ]
  },
  {
   "cell_type": "code",
   "execution_count": 6,
   "metadata": {},
   "outputs": [],
   "source": [
    "orthoprotheses = gov_exp_by_age(\n",
    "    inflation_adjustment=False,\n",
    "    sector=\"all\",\n",
    "    mask={\"ORTHOPROTHESES(CHAP.7)\": [\"equality\", \"L_SC1\", \"and\"]},\n",
    "    indent=0,\n",
    ")"
   ]
  },
  {
   "cell_type": "code",
   "execution_count": 7,
   "metadata": {},
   "outputs": [],
   "source": [
    "dmi_synthe = gov_exp_by_age(\n",
    "    inflation_adjustment=False,\n",
    "    sector=\"all\",\n",
    "    mask={\"DMI D ORIGINE SYNTHETIQUE\": [\"equality\", \"L_SC1\", \"and\"]},\n",
    "    indent=0,\n",
    ")"
   ]
  },
  {
   "cell_type": "code",
   "execution_count": 8,
   "metadata": {},
   "outputs": [],
   "source": [
    "audioprotheses = gov_exp_by_age(\n",
    "    inflation_adjustment=False,\n",
    "    sector=\"all\",\n",
    "    mask={\n",
    "        \"AUDIOPROTHESES ET ENTRETIEN, REPARATIONS ET ACCESSOIRES POUR PROCESSEUR\": [\n",
    "            \"contains\",\n",
    "            \"L_SC1\",\n",
    "            \"or\",\n",
    "        ],\n",
    "        \"AUDIOPROTHESES ET ENTRETIEN, REPARATIONS ET ACCESSOIRES POUR PROCESSEURS\": [\n",
    "            \"contains\",\n",
    "            \"L_SC1\",\n",
    "            \"or\",\n",
    "        ],\n",
    "    },\n",
    "    indent=0,\n",
    ")"
   ]
  },
  {
   "cell_type": "code",
   "execution_count": 9,
   "metadata": {},
   "outputs": [],
   "source": [
    "ortheses = gov_exp_by_age(\n",
    "    inflation_adjustment=False,\n",
    "    sector=\"all\",\n",
    "    mask={\"ORTHESES (PETIT APPAREILLAGE) (CHAP.1)\": [\"equality\", \"L_SC1\", \"and\"]},\n",
    "    indent=0,\n",
    ")"
   ]
  },
  {
   "cell_type": "code",
   "execution_count": 10,
   "metadata": {},
   "outputs": [],
   "source": [
    "aerosol = gov_exp_by_age(\n",
    "    inflation_adjustment=False,\n",
    "    sector=\"all\",\n",
    "    mask={\"APPAREIL GENERATEUR D AEROSOL\": [\"equality\", \"L_SC1\", \"and\"]},\n",
    "    indent=0,\n",
    ")"
   ]
  },
  {
   "cell_type": "code",
   "execution_count": 11,
   "metadata": {},
   "outputs": [],
   "source": [
    "labels_name = [\"optical\", \"orthoprotheses\", \"dmi_synthe\", \"audioprotheses\", \"ortheses\", \"aerosol\"]\n",
    "labels = [optical, orthoprotheses, dmi_synthe, audioprotheses, ortheses, aerosol]\n",
    "dict = {labels_name[i]:labels[i] for i in range(6)}"
   ]
  },
  {
   "cell_type": "markdown",
   "metadata": {},
   "source": [
    "getting df with age range"
   ]
  },
  {
   "cell_type": "code",
   "execution_count": null,
   "metadata": {},
   "outputs": [],
   "source": [
    "i=0\n",
    "for group_name in labels_name:\n",
    "    \n",
    "    if group_name == \"optical\":\n",
    "        treatment = [0, 0, 0, 0, 0, 0, 1, 1, 1, 1]\n",
    "    elif group_name == \"audioprotheses\":\n",
    "        treatment = [0, 0, 0, 0, 0, 1, 1, 1, 1, 1]\n",
    "    else:\n",
    "        treatment = [0 for j in range(10)]\n",
    "    \n",
    "    data = []\n",
    "\n",
    "    k=0\n",
    "    for year, age_data in optical.items():\n",
    "        for age_range, values in age_data.items():\n",
    "            data.append({\n",
    "                \"year\": year,\n",
    "                \"age_range\": age_range,\n",
    "                \"treatment\": treatment[k],\n",
    "                \"expenditures\": values[1]\n",
    "            })\n",
    "        k+=1\n",
    "    \n",
    "    df = pd.DataFrame(data)\n",
    "\n",
    "    df = pd.get_dummies(df, columns=['age_range'], prefix='', prefix_sep='').astype(int)\n",
    "\n",
    "    if i == 0:\n",
    "        df_final = df\n",
    "        i+=1\n",
    "    else:\n",
    "        df_final = pd.concat([df_final, df], axis=0)\n",
    "    \n",
    "df_final.reset_index(inplace=True)\n",
    "df_final.drop(columns=\"index\", inplace=True)\n",
    "\n",
    "df_final"
   ]
  },
  {
   "cell_type": "code",
   "execution_count": 21,
   "metadata": {},
   "outputs": [],
   "source": [
    "df_final[\"after_treatment_year\"] = 0\n",
    "\n",
    "mask = ~df_final.iloc[:, 0].isin([(j+2014) for j in range(5)])\n",
    "\n",
    "# Appliquer le masque pour définir \"after_treatment_year\" à 1 là où le masque est True\n",
    "df_final.loc[mask, \"after_treatment_year\"] = 1"
   ]
  },
  {
   "cell_type": "code",
   "execution_count": null,
   "metadata": {},
   "outputs": [],
   "source": [
    "df_final.drop(columns=\"year\", inplace=True)\n",
    "df_final"
   ]
  },
  {
   "cell_type": "code",
   "execution_count": 23,
   "metadata": {},
   "outputs": [],
   "source": [
    "#df_final[\"treatmentXyear\"] = df_final[\"treatment\"] * df_final[\"after_treatment_year\"] colinearity between treatmentXyear and treatment"
   ]
  },
  {
   "cell_type": "markdown",
   "metadata": {},
   "source": [
    "# log(y)"
   ]
  },
  {
   "cell_type": "code",
   "execution_count": 24,
   "metadata": {},
   "outputs": [],
   "source": [
    "import statsmodels.api as sm\n",
    "\n",
    "X = df_final.drop(columns=[\"expenditures\"])\n",
    "X = sm.add_constant(X)\n",
    "y = np.log(df_final[\"expenditures\"])"
   ]
  },
  {
   "cell_type": "code",
   "execution_count": null,
   "metadata": {},
   "outputs": [],
   "source": [
    "model = sm.OLS(y, X).fit()\n",
    "print(model.summary())"
   ]
  },
  {
   "cell_type": "markdown",
   "metadata": {},
   "source": [
    "# y"
   ]
  },
  {
   "cell_type": "code",
   "execution_count": 26,
   "metadata": {},
   "outputs": [],
   "source": [
    "import statsmodels.api as sm\n",
    "\n",
    "X = df_final.drop(columns=[\"expenditures\"])\n",
    "X = sm.add_constant(X)\n",
    "y = df_final[\"expenditures\"]"
   ]
  },
  {
   "cell_type": "code",
   "execution_count": null,
   "metadata": {},
   "outputs": [],
   "source": [
    "model = sm.OLS(y, X).fit()\n",
    "print(model.summary())"
   ]
  },
  {
   "cell_type": "code",
   "execution_count": null,
   "metadata": {},
   "outputs": [],
   "source": [
    "i=0\n",
    "for group_name in labels_name:\n",
    "    \n",
    "    if group_name == \"optical\":\n",
    "        treatment = [0, 0, 0, 0, 0, 0, 1, 1, 1, 1]\n",
    "    elif group_name == \"audioprotheses\":\n",
    "        treatment = [0, 0, 0, 0, 0, 1, 1, 1, 1, 1]\n",
    "    else:\n",
    "        treatment = [0 for j in range(10)]\n",
    "    \n",
    "    data = []\n",
    "\n",
    "    k=0\n",
    "    for year, age_data in optical.items():\n",
    "        for age_range, values in age_data.items():\n",
    "            data.append({\n",
    "                \"year\": year,\n",
    "                \"age_range\": age_range,\n",
    "                \"treatment\": treatment[k],\n",
    "                \"expenditures\": values[1]\n",
    "            })\n",
    "        k+=1\n",
    "    \n",
    "    df = pd.DataFrame(data)\n",
    "\n",
    "    df = pd.get_dummies(df, columns=['age_range'], prefix='', prefix_sep='').astype(int)\n",
    "    df = pd.get_dummies(df, columns=['year'], prefix='', prefix_sep='').astype(int)\n",
    "\n",
    "    if i == 0:\n",
    "        df_final = df\n",
    "        i+=1\n",
    "    else:\n",
    "        df_final = pd.concat([df_final, df], axis=0)\n",
    "    \n",
    "df_final.reset_index(inplace=True)\n",
    "df_final.drop(columns=\"index\", inplace=True)\n",
    "\n",
    "df_final"
   ]
  },
  {
   "cell_type": "code",
   "execution_count": null,
   "metadata": {},
   "outputs": [],
   "source": [
    "for col in df_final.columns:\n",
    "    if \"2\" in col or \"-\" in col:\n",
    "        df_final[f'{col}_treatment'] = df_final[\"treatment\"] * df_final[col]"
   ]
  },
  {
   "cell_type": "code",
   "execution_count": null,
   "metadata": {},
   "outputs": [],
   "source": [
    "df_final.columns"
   ]
  },
  {
   "cell_type": "markdown",
   "metadata": {},
   "source": [
    "# y"
   ]
  },
  {
   "cell_type": "code",
   "execution_count": 208,
   "metadata": {},
   "outputs": [],
   "source": [
    "import statsmodels.api as sm\n",
    "\n",
    "X = df_final.drop(columns=[\"expenditures\"])\n",
    "X = sm.add_constant(X)\n",
    "y = df_final[\"expenditures\"]"
   ]
  },
  {
   "cell_type": "code",
   "execution_count": null,
   "metadata": {},
   "outputs": [],
   "source": [
    "model = sm.OLS(y, X).fit()\n",
    "print(model.summary())"
   ]
  },
  {
   "cell_type": "markdown",
   "metadata": {},
   "source": [
    "# log(y)"
   ]
  },
  {
   "cell_type": "code",
   "execution_count": 210,
   "metadata": {},
   "outputs": [],
   "source": [
    "import statsmodels.api as sm\n",
    "\n",
    "X = df_final.drop(columns=[\"expenditures\"])\n",
    "X = sm.add_constant(X)\n",
    "y = np.log(df_final[\"expenditures\"])"
   ]
  },
  {
   "cell_type": "code",
   "execution_count": null,
   "metadata": {},
   "outputs": [],
   "source": [
    "model = sm.OLS(y, X).fit()\n",
    "print(model.summary())"
   ]
  },
  {
   "cell_type": "markdown",
   "metadata": {},
   "source": [
    "# 29/10"
   ]
  },
  {
   "cell_type": "markdown",
   "metadata": {},
   "source": [
    "without age"
   ]
  },
  {
   "cell_type": "code",
   "execution_count": 70,
   "metadata": {},
   "outputs": [],
   "source": [
    "with open(\"../data/results/L_SC1_SC2_LPP_gov_exp_raw.json\") as f:\n",
    "    L_SC1 = json.load(f)"
   ]
  },
  {
   "cell_type": "code",
   "execution_count": null,
   "metadata": {},
   "outputs": [],
   "source": [
    "audio = gov_exp(\n",
    "                inflation_adjustment=False,\n",
    "                sector=\"all\",\n",
    "                mask={\"AUDIOPROTHESES ET ENTRETIEN, REPARATIONS ET ACCESSOIRES POUR PROCESSEURS\": [\"equality\", \"L_SC1\", \"and\"]},\n",
    "                indent=0,\n",
    "            )"
   ]
  },
  {
   "cell_type": "code",
   "execution_count": null,
   "metadata": {},
   "outputs": [],
   "source": [
    "list(audio[0].values())"
   ]
  },
  {
   "cell_type": "code",
   "execution_count": 4,
   "metadata": {},
   "outputs": [],
   "source": [
    "def getting_df(with_interaction = True):\n",
    "    with open(\"../data/results/L_SC1_SC2_LPP_gov_exp_raw.json\") as f:\n",
    "        L_SC1 = json.load(f)\n",
    "    \n",
    "    list_group=list(L_SC1.keys())\n",
    "\n",
    "    to_remove = ['CODES ARRIVES A ECHEANCE', 'ACCESSOIRES DE PRODUITS INSCRITS AU TITRE III', \"DISPOSITIFS MEDICAUX UTILISES DANS LE SYSTEME GASTRO-INTESTINAL\", \"DISPOSITIFS MEDICAUX UTILISES DANS LE SYSTEME URO-GENITAL\", \"DISPOSITIFS MEDICAUX UTILISES EN NEUROLOGIE\", \"DISPOSITIFS MEDICAUX UTILISES EN ONCOLOGIE\", \"DM, MATERIELS ET PRODUITS POUR LE TRAITEMENT DE PATHOLOGIES SPECIFIQUES\"]\n",
    "    #problem was that some elements was missing with these title, or the expends were constant.\n",
    "    for element in to_remove:\n",
    "        if element in list_group:\n",
    "            list_group.remove(element)\n",
    "\n",
    "    #count = 0\n",
    "    variable_dict = {}\n",
    "    dfs = [] # Liste pour stocker les DataFrames, plus rapide que de concat à chaque itération\n",
    "    years = [i+2014 for i in range(10)]\n",
    "\n",
    "    for title in list_group:\n",
    "        print(title)\n",
    "        variable_name = title\n",
    "        #print(variable_name, type(variable_name))\n",
    "        if title in [\"AUDIOPROTHESES ET ENTRETIEN, REPARATIONS ET ACCESSOIRES POUR PROCESSEURS\", \"DISPOISTIFS MEDICAUX UTILISES DANS LE SYSTEME CARDIO_VASCULAIRE\", \"DM DE MAINTIEN A DOMICILE ET D AIDE A LA VIE POUR MALADES ET HANDICAPE\", \"IMPLANTS ISSUS DE DERIVES HUMAINS-GREFFONS\", \"PODO-ORTHESES\"]:\n",
    "            continue\n",
    "\n",
    "        elif title == \"AUDIOPROTHESES ET ENTRETIEN, REPARATIONS ET ACCESSOIRES POUR PROCESSEUR\":\n",
    "            variable_dict[variable_name] = gov_exp(\n",
    "                inflation_adjustment=False,\n",
    "                sector=\"all\",\n",
    "                mask={title: [\"equality\", \"L_SC1\", \"or\"], \"AUDIOPROTHESES ET ENTRETIEN, REPARATIONS ET ACCESSOIRES POUR PROCESSEURS\":[\"equality\", \"L_SC1\", \"or\"]},\n",
    "                indent=0,\n",
    "            )\n",
    "\n",
    "        elif title == \"PODO-ORTHESES\":\n",
    "            variable_dict[variable_name] = gov_exp(\n",
    "                inflation_adjustment=False,\n",
    "                sector=\"all\",\n",
    "                mask={title: [\"equality\", \"L_SC1\", \"or\"], \"PODO_ORTHESES\":[\"equality\", \"L_SC1\", \"or\"]},\n",
    "                indent=0,\n",
    "            )\n",
    "\n",
    "        elif title == \"DISPOISTIFS MEDICAUX UTILISES DANS LE SYSTEME CARDIO_VASCULAIRE\":\n",
    "            variable_dict[variable_name] = gov_exp(\n",
    "                inflation_adjustment=False,\n",
    "                sector=\"all\",\n",
    "                mask={title: [\"equality\", \"L_SC1\", \"or\"], \"DISPOSITIFS MEDICAUX UTILISES DANS LE SYSTEME CARDIO-VASCULAIRE\":[\"equality\", \"L_SC1\", \"or\"]},\n",
    "                indent=0,\n",
    "            )\n",
    "\n",
    "        elif title == \"DM DE MAINTIEN A DOMICILE ET D AIDE A LA VIE POUR MALADES ET HANDICAPE\":\n",
    "            variable_dict[variable_name] = gov_exp(\n",
    "                inflation_adjustment=False,\n",
    "                sector=\"all\",\n",
    "                mask={title: [\"equality\", \"L_SC1\", \"or\"], \"DM DE MAINTIEN A DOMICILE ET D AIDE A LA VIE POUR MALADES ET HANDICAPES\":[\"equality\", \"L_SC1\", \"or\"]},\n",
    "                indent=0,\n",
    "            )\n",
    "\n",
    "        elif title == \"IMPLANTS ISSUS DE DERIVES HUMAINS-GREFFONS\":\n",
    "            variable_dict[variable_name] = gov_exp(\n",
    "                inflation_adjustment=False,\n",
    "                sector=\"all\",\n",
    "                mask={title: [\"equality\", \"L_SC1\", \"or\"], \"IMPLANTS ISSUS DE DERIVES HUMAINS_GREFFONS\":[\"equality\", \"L_SC1\", \"or\"]},\n",
    "                indent=0,\n",
    "            )\n",
    "\n",
    "        elif title == \"PODO-ORTHESES\":\n",
    "            variable_dict[variable_name] = gov_exp(\n",
    "                inflation_adjustment=False,\n",
    "                sector=\"all\",\n",
    "                mask={title: [\"equality\", \"L_SC1\", \"or\"], \"PODO_ORTHESES\":[\"equality\", \"L_SC1\", \"or\"]},\n",
    "                indent=0,\n",
    "            )\n",
    "\n",
    "        else:\n",
    "            variable_dict[variable_name] = gov_exp(\n",
    "                inflation_adjustment=False,\n",
    "                sector=\"all\",\n",
    "                mask={title: [\"equality\", \"L_SC1\", \"and\"]},\n",
    "                indent=0,\n",
    "            )\n",
    "\n",
    "        print(f\"got all '{title} expenditures'\")\n",
    "\n",
    "        #if group_name == \"optical\":\n",
    "        #    treatment = [0, 0, 0, 0, 0, 0, 1, 1, 1, 1]\n",
    "        #elif group_name == \"AUDIOPROTHESES ET ENTRETIEN, REPARATIONS ET ACCESSOIRES POUR PROCESSEUR\":\n",
    "        #    treatment = [0, 0, 0, 0, 0, 1, 1, 1, 1, 1]\n",
    "        #else:\n",
    "        #    treatment = [0 for j in range(10)]\n",
    "\n",
    "        df = pd.DataFrame(\n",
    "        {\n",
    "        \"year\":years,\n",
    "        \"expenditures\":list(variable_dict[title][0].values()),\n",
    "        #\"treatment\":treatment,\n",
    "        \"group\":[title] * len(years),\n",
    "        }\n",
    "        )\n",
    "\n",
    "        print(f\"got {title} df\")\n",
    "        dfs.append(df)\n",
    "\n",
    "    df_final = pd.concat(dfs, axis=0)\n",
    "        #if i == 0:\n",
    "        #    df_final = df\n",
    "        #    i+=1\n",
    "        #else:\n",
    "        #    df_final = pd.concat([df_final, df], axis=0)\n",
    "\n",
    "    df_final = pd.get_dummies(df_final, columns=['group'], prefix='', prefix_sep='').astype(int)\n",
    "    df_final = pd.get_dummies(df_final, columns=['year'], prefix='', prefix_sep='').astype(int)\n",
    "    \n",
    "    if with_interaction == True:\n",
    "        for col in df_final.filter(like=\"20\").columns:\n",
    "            df_final[f\"interact. audio x year{col}\"] = df_final[\"AUDIOPROTHESES ET ENTRETIEN, REPARATIONS ET ACCESSOIRES POUR PROCESSEUR\"] * df_final[col]\n",
    "            df_final[f\"interact. optique x year{col}\"] = df_final[\"OPTIQUE MEDICALE\"] * df_final[col]\n",
    "            df_final[f\"interact. (audio+optical) x year{col}\"] = (df_final[\"AUDIOPROTHESES ET ENTRETIEN, REPARATIONS ET ACCESSOIRES POUR PROCESSEUR\"]+df_final[\"OPTIQUE MEDICALE\"]) * df_final[col]\n",
    "        return df_final\n",
    "\n",
    "    else:\n",
    "        return df_final"
   ]
  },
  {
   "cell_type": "code",
   "execution_count": null,
   "metadata": {},
   "outputs": [],
   "source": [
    "df = getting_df(with_interaction=True)\n",
    "df.head()\n",
    "print(df.columns)"
   ]
  },
  {
   "cell_type": "code",
   "execution_count": 13,
   "metadata": {},
   "outputs": [],
   "source": [
    "df.reset_index(inplace=True)"
   ]
  },
  {
   "cell_type": "code",
   "execution_count": 15,
   "metadata": {},
   "outputs": [],
   "source": [
    "df = df.drop(columns=[\"index\"])"
   ]
  },
  {
   "cell_type": "code",
   "execution_count": 12,
   "metadata": {},
   "outputs": [],
   "source": [
    "df.to_excel(\"df_for_reg_29-10.xlsx\")"
   ]
  },
  {
   "cell_type": "code",
   "execution_count": null,
   "metadata": {},
   "outputs": [],
   "source": [
    "df.head()"
   ]
  },
  {
   "cell_type": "markdown",
   "metadata": {},
   "source": [
    "----------------------------------"
   ]
  },
  {
   "cell_type": "markdown",
   "metadata": {},
   "source": [
    "with age"
   ]
  },
  {
   "cell_type": "code",
   "execution_count": 34,
   "metadata": {},
   "outputs": [],
   "source": [
    "def getting_df_with_age(with_interaction = True):\n",
    "    with open(\"../data/results/L_SC1_SC2_LPP_gov_exp_raw.json\") as f:\n",
    "        L_SC1 = json.load(f)\n",
    "    \n",
    "    list_group=list(L_SC1.keys())\n",
    "\n",
    "    to_remove = ['CODES ARRIVES A ECHEANCE', 'ACCESSOIRES DE PRODUITS INSCRITS AU TITRE III', \"DISPOSITIFS MEDICAUX UTILISES DANS LE SYSTEME GASTRO-INTESTINAL\", \"DISPOSITIFS MEDICAUX UTILISES DANS LE SYSTEME URO-GENITAL\", \"DISPOSITIFS MEDICAUX UTILISES EN NEUROLOGIE\", \"DISPOSITIFS MEDICAUX UTILISES EN ONCOLOGIE\", \"DM, MATERIELS ET PRODUITS POUR LE TRAITEMENT DE PATHOLOGIES SPECIFIQUES\"]\n",
    "    #problem was that some elements was missing with these title, or the expends were constant.\n",
    "    for element in to_remove:\n",
    "        if element in list_group:\n",
    "            list_group.remove(element)\n",
    "\n",
    "    #count = 0\n",
    "    variable_dict = {}\n",
    "    dfs = [] # Liste pour stocker les DataFrames, plus rapide que de concat à chaque itération\n",
    "    years = [i+2014 for i in range(10)]\n",
    "\n",
    "    for title in list_group:\n",
    "        print(title)\n",
    "        variable_name = title\n",
    "        #print(variable_name, type(variable_name))\n",
    "        if title in [\"AUDIOPROTHESES ET ENTRETIEN, REPARATIONS ET ACCESSOIRES POUR PROCESSEURS\", \"DISPOISTIFS MEDICAUX UTILISES DANS LE SYSTEME CARDIO_VASCULAIRE\", \"DM DE MAINTIEN A DOMICILE ET D AIDE A LA VIE POUR MALADES ET HANDICAPE\", \"IMPLANTS ISSUS DE DERIVES HUMAINS-GREFFONS\", \"PODO-ORTHESES\"]:\n",
    "            continue\n",
    "\n",
    "        elif title == \"AUDIOPROTHESES ET ENTRETIEN, REPARATIONS ET ACCESSOIRES POUR PROCESSEUR\":\n",
    "            variable_dict[variable_name] = gov_exp_by_age(\n",
    "                inflation_adjustment=False,\n",
    "                sector=\"all\",\n",
    "                mask={title: [\"equality\", \"L_SC1\", \"or\"], \"AUDIOPROTHESES ET ENTRETIEN, REPARATIONS ET ACCESSOIRES POUR PROCESSEURS\":[\"equality\", \"L_SC1\", \"or\"]},\n",
    "                indent=0,\n",
    "            )\n",
    "\n",
    "        elif title == \"PODO-ORTHESES\":\n",
    "            variable_dict[variable_name] = gov_exp_by_age(\n",
    "                inflation_adjustment=False,\n",
    "                sector=\"all\",\n",
    "                mask={title: [\"equality\", \"L_SC1\", \"or\"], \"PODO_ORTHESES\":[\"equality\", \"L_SC1\", \"or\"]},\n",
    "                indent=0,\n",
    "            )\n",
    "\n",
    "        elif title == \"DISPOISTIFS MEDICAUX UTILISES DANS LE SYSTEME CARDIO_VASCULAIRE\":\n",
    "            variable_dict[variable_name] = gov_exp_by_age(\n",
    "                inflation_adjustment=False,\n",
    "                sector=\"all\",\n",
    "                mask={title: [\"equality\", \"L_SC1\", \"or\"], \"DISPOSITIFS MEDICAUX UTILISES DANS LE SYSTEME CARDIO-VASCULAIRE\":[\"equality\", \"L_SC1\", \"or\"]},\n",
    "                indent=0,\n",
    "            )\n",
    "\n",
    "        elif title == \"DM DE MAINTIEN A DOMICILE ET D AIDE A LA VIE POUR MALADES ET HANDICAPE\":\n",
    "            variable_dict[variable_name] = gov_exp_by_age(\n",
    "                inflation_adjustment=False,\n",
    "                sector=\"all\",\n",
    "                mask={title: [\"equality\", \"L_SC1\", \"or\"], \"DM DE MAINTIEN A DOMICILE ET D AIDE A LA VIE POUR MALADES ET HANDICAPES\":[\"equality\", \"L_SC1\", \"or\"]},\n",
    "                indent=0,\n",
    "            )\n",
    "\n",
    "        elif title == \"IMPLANTS ISSUS DE DERIVES HUMAINS-GREFFONS\":\n",
    "            variable_dict[variable_name] = gov_exp_by_age(\n",
    "                inflation_adjustment=False,\n",
    "                sector=\"all\",\n",
    "                mask={title: [\"equality\", \"L_SC1\", \"or\"], \"IMPLANTS ISSUS DE DERIVES HUMAINS_GREFFONS\":[\"equality\", \"L_SC1\", \"or\"]},\n",
    "                indent=0,\n",
    "            )\n",
    "\n",
    "        elif title == \"PODO-ORTHESES\":\n",
    "            variable_dict[variable_name] = gov_exp_by_age(\n",
    "                inflation_adjustment=False,\n",
    "                sector=\"all\",\n",
    "                mask={title: [\"equality\", \"L_SC1\", \"or\"], \"PODO_ORTHESES\":[\"equality\", \"L_SC1\", \"or\"]},\n",
    "                indent=0,\n",
    "            )\n",
    "\n",
    "        else:\n",
    "            variable_dict[variable_name] = gov_exp_by_age(\n",
    "                inflation_adjustment=False,\n",
    "                sector=\"all\",\n",
    "                mask={title: [\"equality\", \"L_SC1\", \"and\"]},\n",
    "                indent=0,\n",
    "            )\n",
    "\n",
    "        print(f\"got all '{title} expenditures'\")\n",
    "\n",
    "        #if group_name == \"optical\":\n",
    "        #    treatment = [0, 0, 0, 0, 0, 0, 1, 1, 1, 1]\n",
    "        #elif group_name == \"AUDIOPROTHESES ET ENTRETIEN, REPARATIONS ET ACCESSOIRES POUR PROCESSEUR\":\n",
    "        #    treatment = [0, 0, 0, 0, 0, 1, 1, 1, 1, 1]\n",
    "        #else:\n",
    "        #    treatment = [0 for j in range(10)]\n",
    "\n",
    "        data = []\n",
    "\n",
    "        for year, age_data in variable_dict[variable_name].items():\n",
    "            for age_range, values in age_data.items():\n",
    "                data.append({\n",
    "                    \"year\": year,\n",
    "                    \"age_range\": age_range,\n",
    "                    #\"treatment\": treatment[k],\n",
    "                    \"expenditures\": values[1],\n",
    "                    \"group\":title,\n",
    "                })\n",
    "\n",
    "        df = pd.DataFrame(data)\n",
    "\n",
    "        print(df)\n",
    "\n",
    "        print(f\"got {title} df\")\n",
    "        dfs.append(df)\n",
    "\n",
    "    df_final = pd.concat(dfs, axis=0)\n",
    "        #if i == 0:\n",
    "        #    df_final = df\n",
    "        #    i+=1\n",
    "        #else:\n",
    "        #    df_final = pd.concat([df_final, df], axis=0)\n",
    "\n",
    "    df_final = pd.get_dummies(df_final, columns=['group'], prefix='', prefix_sep='')\n",
    "    df_final = pd.get_dummies(df_final, columns=['year'], prefix='', prefix_sep='')\n",
    "    df_final = pd.get_dummies(df_final, columns=['age_range'], prefix='', prefix_sep='')\n",
    "    \n",
    "    if with_interaction == True:\n",
    "        for col in df_final.filter(like=\"20\").columns:\n",
    "            df_final[f\"interact. audio x year{col}\"] = df_final[\"AUDIOPROTHESES ET ENTRETIEN, REPARATIONS ET ACCESSOIRES POUR PROCESSEUR\"] * df_final[col]\n",
    "            df_final[f\"interact. optique x year{col}\"] = df_final[\"OPTIQUE MEDICALE\"] * df_final[col]\n",
    "            df_final[f\"interact. (audio+optical) x year{col}\"] = (df_final[\"AUDIOPROTHESES ET ENTRETIEN, REPARATIONS ET ACCESSOIRES POUR PROCESSEUR\"]+df_final[\"OPTIQUE MEDICALE\"]) * df_final[col]\n",
    "        return df_final\n",
    "\n",
    "    else:\n",
    "        return df_final"
   ]
  },
  {
   "cell_type": "code",
   "execution_count": null,
   "metadata": {},
   "outputs": [],
   "source": [
    "df_aged = getting_df_with_age(with_interaction=True)"
   ]
  },
  {
   "cell_type": "code",
   "execution_count": 37,
   "metadata": {},
   "outputs": [],
   "source": [
    "df_aged.reset_index(inplace=True)"
   ]
  },
  {
   "cell_type": "code",
   "execution_count": null,
   "metadata": {},
   "outputs": [],
   "source": [
    "df_aged"
   ]
  },
  {
   "cell_type": "code",
   "execution_count": 40,
   "metadata": {},
   "outputs": [],
   "source": [
    "df_aged = df_aged.drop(columns=[\"index\"])"
   ]
  },
  {
   "cell_type": "code",
   "execution_count": 46,
   "metadata": {},
   "outputs": [],
   "source": [
    "for col in df_aged.columns:\n",
    "    df_aged[col] = df_aged[col].astype(int)"
   ]
  },
  {
   "cell_type": "code",
   "execution_count": 50,
   "metadata": {},
   "outputs": [],
   "source": [
    "df_aged.to_excel(\"df_aged_for_reg_29-10.xlsx\")"
   ]
  },
  {
   "cell_type": "markdown",
   "metadata": {},
   "source": [
    "# work on the data"
   ]
  },
  {
   "cell_type": "markdown",
   "metadata": {},
   "source": [
    "without age"
   ]
  },
  {
   "cell_type": "code",
   "execution_count": null,
   "metadata": {},
   "outputs": [],
   "source": [
    "df = pd.read_excel(\"df_without_age_range_for_reg_29-10.xlsx\", index_col=0)\n",
    "df"
   ]
  },
  {
   "cell_type": "code",
   "execution_count": null,
   "metadata": {},
   "outputs": [],
   "source": [
    "df[\"expenditures\"] = np.log(df[\"expenditures\"])\n",
    "df.head()"
   ]
  },
  {
   "cell_type": "code",
   "execution_count": 64,
   "metadata": {},
   "outputs": [
    {
     "data": {
      "text/plain": [
       "Index(['expenditures',\n",
       "       'ADJONCTIONS, OPTIONS ET REPARATIONS APPLICABLES AUX FAUTEUILS ROULANTS',\n",
       "       'APPAREIL GENERATEUR D AEROSOL',\n",
       "       'ARTICLES POUR PANSEMENTS, MATERIELS DE CONTENTION',\n",
       "       'AUDIOPROTHESES ET ENTRETIEN, REPARATIONS ET ACCESSOIRES POUR PROCESSEUR',\n",
       "       'DISPOSITIFS MEDICAUX IMPLANTABLES ACTIFS',\n",
       "       'DISPOSITIFS MEDICAUX UTILISES DANS LE SYST CARDIO-VASCULAIRE',\n",
       "       'DM DE MAINTIEN A DOMICILE ET D AIDE A LA VIE POUR MALADES ET HANDICAPES',\n",
       "       'DMI D ORIGINE SYNTHETIQUE',\n",
       "       'DMI ISSUS DE DERIVES ORIGINE ANIMALE NON VIABLES OU EN COMPORTANT',\n",
       "       'FAUTEUILS ROULANTS', 'IMPLANTS ISSUS DE DERIVES HUMAINS_GREFFONS',\n",
       "       'OPTIQUE MEDICALE', 'ORTHESES',\n",
       "       'ORTHESES (PETIT APPAREILLAGE) (CHAP.1)', 'ORTHOPROTHESES(CHAP.7)',\n",
       "       'PODO_ORTHESES', 'PROTHESES EXTERNES NON ORTHOPEDIQUES',\n",
       "       'PROTHESES OCULAIRES ET FACIALES', 'VEHICULES DIVERS', '2014', '2015',\n",
       "       '2016', '2017', '2018', '2019', '2020', '2021', '2022', '2023',\n",
       "       'interact. audio x year2014', 'interact. optique x year2014',\n",
       "       'interact. (audio+optical) x year2014', 'interact. audio x year2015',\n",
       "       'interact. optique x year2015', 'interact. (audio+optical) x year2015',\n",
       "       'interact. audio x year2016', 'interact. optique x year2016',\n",
       "       'interact. (audio+optical) x year2016', 'interact. audio x year2017',\n",
       "       'interact. optique x year2017', 'interact. (audio+optical) x year2017',\n",
       "       'interact. audio x year2018', 'interact. optique x year2018',\n",
       "       'interact. (audio+optical) x year2018', 'interact. audio x year2019',\n",
       "       'interact. optique x year2019', 'interact. (audio+optical) x year2019',\n",
       "       'interact. audio x year2020', 'interact. optique x year2020',\n",
       "       'interact. (audio+optical) x year2020', 'interact. audio x year2021',\n",
       "       'interact. optique x year2021', 'interact. (audio+optical) x year2021',\n",
       "       'interact. audio x year2022', 'interact. optique x year2022',\n",
       "       'interact. (audio+optical) x year2022', 'interact. audio x year2023',\n",
       "       'interact. optique x year2023', 'interact. (audio+optical) x year2023'],\n",
       "      dtype='object')"
      ]
     },
     "execution_count": 64,
     "metadata": {},
     "output_type": "execute_result"
    }
   ],
   "source": [
    "df.columns"
   ]
  },
  {
   "cell_type": "markdown",
   "metadata": {},
   "source": [
    "## all"
   ]
  },
  {
   "cell_type": "code",
   "execution_count": null,
   "metadata": {},
   "outputs": [],
   "source": [
    "import statsmodels.api as sm\n",
    "\n",
    "X = df_final.drop(columns=[\"expenditures\"])\n",
    "X = sm.add_constant(X)\n",
    "y = df_final[\"expenditures\"]"
   ]
  },
  {
   "cell_type": "code",
   "execution_count": null,
   "metadata": {},
   "outputs": [],
   "source": [
    "model = sm.OLS(y, X).fit()\n",
    "print(model.summary())"
   ]
  },
  {
   "cell_type": "markdown",
   "metadata": {},
   "source": [
    "## optical"
   ]
  },
  {
   "cell_type": "code",
   "execution_count": 73,
   "metadata": {},
   "outputs": [
    {
     "data": {
      "text/plain": [
       "Index(['ADJONCTIONS, OPTIONS ET REPARATIONS APPLICABLES AUX FAUTEUILS ROULANTS',\n",
       "       'APPAREIL GENERATEUR D AEROSOL',\n",
       "       'ARTICLES POUR PANSEMENTS, MATERIELS DE CONTENTION',\n",
       "       'DISPOSITIFS MEDICAUX IMPLANTABLES ACTIFS',\n",
       "       'DISPOSITIFS MEDICAUX UTILISES DANS LE SYST CARDIO-VASCULAIRE',\n",
       "       'DM DE MAINTIEN A DOMICILE ET D AIDE A LA VIE POUR MALADES ET HANDICAPES',\n",
       "       'DMI D ORIGINE SYNTHETIQUE',\n",
       "       'DMI ISSUS DE DERIVES ORIGINE ANIMALE NON VIABLES OU EN COMPORTANT',\n",
       "       'FAUTEUILS ROULANTS', 'IMPLANTS ISSUS DE DERIVES HUMAINS_GREFFONS',\n",
       "       'OPTIQUE MEDICALE', 'ORTHESES',\n",
       "       'ORTHESES (PETIT APPAREILLAGE) (CHAP.1)', 'ORTHOPROTHESES(CHAP.7)',\n",
       "       'PODO_ORTHESES', 'PROTHESES EXTERNES NON ORTHOPEDIQUES',\n",
       "       'PROTHESES OCULAIRES ET FACIALES', 'VEHICULES DIVERS', '2015', '2016',\n",
       "       '2017', '2018', '2019', '2020', '2021', '2022', '2023',\n",
       "       'interact. optique x year2015', 'interact. optique x year2016',\n",
       "       'interact. optique x year2017', 'interact. optique x year2018',\n",
       "       'interact. optique x year2019', 'interact. optique x year2020',\n",
       "       'interact. optique x year2021', 'interact. optique x year2022',\n",
       "       'interact. optique x year2023'],\n",
       "      dtype='object')"
      ]
     },
     "execution_count": 73,
     "metadata": {},
     "output_type": "execute_result"
    }
   ],
   "source": [
    "import statsmodels.api as sm\n",
    "\n",
    "X = df.drop(columns=([\"expenditures\"] + [col for col in df.columns if \"audio\" in col.lower()] + [col for col in df.columns if \"2014\" in col]))\n",
    "#X = sm.add_constant(X)\n",
    "y = df[\"expenditures\"]\n",
    "X.columns"
   ]
  },
  {
   "cell_type": "code",
   "execution_count": 75,
   "metadata": {},
   "outputs": [
    {
     "name": "stdout",
     "output_type": "stream",
     "text": [
      "                                 OLS Regression Results                                \n",
      "=======================================================================================\n",
      "Dep. Variable:           expenditures   R-squared (uncentered):                     nan\n",
      "Model:                            OLS   Adj. R-squared (uncentered):                nan\n",
      "Method:                 Least Squares   F-statistic:                                nan\n",
      "Date:                Tue, 29 Oct 2024   Prob (F-statistic):                         nan\n",
      "Time:                        20:47:14   Log-Likelihood:                             nan\n",
      "No. Observations:                 190   AIC:                                        nan\n",
      "Df Residuals:                     154   BIC:                                        nan\n",
      "Df Model:                          36                                                  \n",
      "Covariance Type:            nonrobust                                                  \n",
      "===========================================================================================================================================\n",
      "                                                                              coef    std err          t      P>|t|      [0.025      0.975]\n",
      "-------------------------------------------------------------------------------------------------------------------------------------------\n",
      "ADJONCTIONS, OPTIONS ET REPARATIONS APPLICABLES AUX FAUTEUILS ROULANTS         nan        nan        nan        nan         nan         nan\n",
      "APPAREIL GENERATEUR D AEROSOL                                                  nan        nan        nan        nan         nan         nan\n",
      "ARTICLES POUR PANSEMENTS, MATERIELS DE CONTENTION                              nan        nan        nan        nan         nan         nan\n",
      "DISPOSITIFS MEDICAUX IMPLANTABLES ACTIFS                                       nan        nan        nan        nan         nan         nan\n",
      "DISPOSITIFS MEDICAUX UTILISES DANS LE SYST CARDIO-VASCULAIRE                   nan        nan        nan        nan         nan         nan\n",
      "DM DE MAINTIEN A DOMICILE ET D AIDE A LA VIE POUR MALADES ET HANDICAPES        nan        nan        nan        nan         nan         nan\n",
      "DMI D ORIGINE SYNTHETIQUE                                                      nan        nan        nan        nan         nan         nan\n",
      "DMI ISSUS DE DERIVES ORIGINE ANIMALE NON VIABLES OU EN COMPORTANT              nan        nan        nan        nan         nan         nan\n",
      "FAUTEUILS ROULANTS                                                             nan        nan        nan        nan         nan         nan\n",
      "IMPLANTS ISSUS DE DERIVES HUMAINS_GREFFONS                                     nan        nan        nan        nan         nan         nan\n",
      "OPTIQUE MEDICALE                                                               nan        nan        nan        nan         nan         nan\n",
      "ORTHESES                                                                       nan        nan        nan        nan         nan         nan\n",
      "ORTHESES (PETIT APPAREILLAGE) (CHAP.1)                                         nan        nan        nan        nan         nan         nan\n",
      "ORTHOPROTHESES(CHAP.7)                                                         nan        nan        nan        nan         nan         nan\n",
      "PODO_ORTHESES                                                                  nan        nan        nan        nan         nan         nan\n",
      "PROTHESES EXTERNES NON ORTHOPEDIQUES                                           nan        nan        nan        nan         nan         nan\n",
      "PROTHESES OCULAIRES ET FACIALES                                                nan        nan        nan        nan         nan         nan\n",
      "VEHICULES DIVERS                                                               nan        nan        nan        nan         nan         nan\n",
      "2015                                                                           nan        nan        nan        nan         nan         nan\n",
      "2016                                                                           nan        nan        nan        nan         nan         nan\n",
      "2017                                                                           nan        nan        nan        nan         nan         nan\n",
      "2018                                                                           nan        nan        nan        nan         nan         nan\n",
      "2019                                                                           nan        nan        nan        nan         nan         nan\n",
      "2020                                                                           nan        nan        nan        nan         nan         nan\n",
      "2021                                                                           nan        nan        nan        nan         nan         nan\n",
      "2022                                                                           nan        nan        nan        nan         nan         nan\n",
      "2023                                                                           nan        nan        nan        nan         nan         nan\n",
      "interact. optique x year2015                                                   nan        nan        nan        nan         nan         nan\n",
      "interact. optique x year2016                                                   nan        nan        nan        nan         nan         nan\n",
      "interact. optique x year2017                                                   nan        nan        nan        nan         nan         nan\n",
      "interact. optique x year2018                                                   nan        nan        nan        nan         nan         nan\n",
      "interact. optique x year2019                                                   nan        nan        nan        nan         nan         nan\n",
      "interact. optique x year2020                                                   nan        nan        nan        nan         nan         nan\n",
      "interact. optique x year2021                                                   nan        nan        nan        nan         nan         nan\n",
      "interact. optique x year2022                                                   nan        nan        nan        nan         nan         nan\n",
      "interact. optique x year2023                                                   nan        nan        nan        nan         nan         nan\n",
      "==============================================================================\n",
      "Omnibus:                          nan   Durbin-Watson:                     nan\n",
      "Prob(Omnibus):                    nan   Jarque-Bera (JB):                  nan\n",
      "Skew:                             nan   Prob(JB):                          nan\n",
      "Kurtosis:                         nan   Cond. No.                         17.8\n",
      "==============================================================================\n",
      "\n",
      "Notes:\n",
      "[1] R² is computed without centering (uncentered) since the model does not contain a constant.\n",
      "[2] Standard Errors assume that the covariance matrix of the errors is correctly specified.\n"
     ]
    }
   ],
   "source": [
    "model = sm.OLS(y, X).fit()\n",
    "print(model.summary())"
   ]
  },
  {
   "cell_type": "markdown",
   "metadata": {},
   "source": [
    "## hearing"
   ]
  },
  {
   "cell_type": "code",
   "execution_count": null,
   "metadata": {},
   "outputs": [],
   "source": [
    "import statsmodels.api as sm\n",
    "\n",
    "X = df_final.drop(columns=[\"expenditures\"])\n",
    "X = sm.add_constant(X)\n",
    "y = df_final[\"expenditures\"]"
   ]
  },
  {
   "cell_type": "code",
   "execution_count": null,
   "metadata": {},
   "outputs": [],
   "source": [
    "model = sm.OLS(y, X).fit()\n",
    "print(model.summary())"
   ]
  },
  {
   "cell_type": "markdown",
   "metadata": {},
   "source": [
    "age"
   ]
  },
  {
   "cell_type": "code",
   "execution_count": 57,
   "metadata": {},
   "outputs": [],
   "source": [
    "df_aged = pd.read_excel(\"df_aged_for_reg_29-10.xlsx\", index_col=0)"
   ]
  },
  {
   "cell_type": "code",
   "execution_count": null,
   "metadata": {},
   "outputs": [],
   "source": [
    "df_aged = df_aged[df_aged[\"expenditures\"]!=0]\n",
    "df_aged"
   ]
  },
  {
   "cell_type": "code",
   "execution_count": null,
   "metadata": {},
   "outputs": [],
   "source": [
    "df_aged[\"expenditures\"] = np.log(df_aged[\"expenditures\"])\n",
    "df_aged.head()"
   ]
  },
  {
   "cell_type": "code",
   "execution_count": null,
   "metadata": {},
   "outputs": [],
   "source": []
  }
 ],
 "metadata": {
  "kernelspec": {
   "display_name": "base",
   "language": "python",
   "name": "python3"
  },
  "language_info": {
   "codemirror_mode": {
    "name": "ipython",
    "version": 3
   },
   "file_extension": ".py",
   "mimetype": "text/x-python",
   "name": "python",
   "nbconvert_exporter": "python",
   "pygments_lexer": "ipython3",
   "version": "3.11.5"
  }
 },
 "nbformat": 4,
 "nbformat_minor": 2
}
