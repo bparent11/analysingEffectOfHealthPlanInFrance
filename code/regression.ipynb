{
 "cells": [
  {
   "cell_type": "code",
   "execution_count": null,
   "metadata": {},
   "outputs": [],
   "source": [
    "import pandas as pd\n",
    "import matplotlib.pyplot as plt\n",
    "import os\n",
    "import copy\n",
    "import importlib\n",
    "import functions\n",
    "import numpy as np\n",
    "import json\n",
    "import seaborn as sns\n",
    "from typing import List, Dict"
   ]
  },
  {
   "cell_type": "code",
   "execution_count": null,
   "metadata": {},
   "outputs": [],
   "source": [
    "from functions import gov_exp"
   ]
  },
  {
   "cell_type": "code",
   "execution_count": null,
   "metadata": {},
   "outputs": [],
   "source": [
    "importlib.reload(functions)\n",
    "from functions import gov_exp, gov_exp_by_age"
   ]
  },
  {
   "cell_type": "markdown",
   "metadata": {},
   "source": [
    "# getting groups"
   ]
  },
  {
   "cell_type": "code",
   "execution_count": null,
   "metadata": {},
   "outputs": [],
   "source": [
    "optical = gov_exp(\n",
    "    inflation_adjustment=False,\n",
    "    sector=\"optical\",\n",
    "    mask={\"OPTIQUE MEDICALE\": [\"equality\", \"L_SC1\", \"and\"]},\n",
    "    indent=0,\n",
    ")"
   ]
  },
  {
   "cell_type": "code",
   "execution_count": null,
   "metadata": {},
   "outputs": [],
   "source": [
    "orthoprotheses = gov_exp(\n",
    "    inflation_adjustment=False,\n",
    "    sector=\"all\",\n",
    "    mask={\"ORTHOPROTHESES(CHAP.7)\": [\"equality\", \"L_SC1\", \"and\"]},\n",
    "    indent=0,\n",
    ")"
   ]
  },
  {
   "cell_type": "code",
   "execution_count": null,
   "metadata": {},
   "outputs": [],
   "source": [
    "dmi_synthe = gov_exp(\n",
    "    inflation_adjustment=False,\n",
    "    sector=\"all\",\n",
    "    mask={\"DMI D ORIGINE SYNTHETIQUE\": [\"equality\", \"L_SC1\", \"and\"]},\n",
    "    indent=0,\n",
    ")"
   ]
  },
  {
   "cell_type": "code",
   "execution_count": null,
   "metadata": {},
   "outputs": [],
   "source": [
    "audioprotheses = gov_exp(\n",
    "    inflation_adjustment=False,\n",
    "    sector=\"all\",\n",
    "    mask={\n",
    "        \"AUDIOPROTHESES ET ENTRETIEN, REPARATIONS ET ACCESSOIRES POUR PROCESSEUR\": [\n",
    "            \"contains\",\n",
    "            \"L_SC1\",\n",
    "            \"or\",\n",
    "        ],\n",
    "        \"AUDIOPROTHESES ET ENTRETIEN, REPARATIONS ET ACCESSOIRES POUR PROCESSEURS\": [\n",
    "            \"contains\",\n",
    "            \"L_SC1\",\n",
    "            \"or\",\n",
    "        ],\n",
    "    },\n",
    "    indent=0,\n",
    ")"
   ]
  },
  {
   "cell_type": "code",
   "execution_count": null,
   "metadata": {},
   "outputs": [],
   "source": [
    "ortheses = gov_exp(\n",
    "    inflation_adjustment=False,\n",
    "    sector=\"all\",\n",
    "    mask={\"ORTHESES (PETIT APPAREILLAGE) (CHAP.1)\": [\"equality\", \"L_SC1\", \"and\"]},\n",
    "    indent=0,\n",
    ")"
   ]
  },
  {
   "cell_type": "code",
   "execution_count": null,
   "metadata": {},
   "outputs": [],
   "source": [
    "aerosol = gov_exp(\n",
    "    inflation_adjustment=False,\n",
    "    sector=\"all\",\n",
    "    mask={\"APPAREIL GENERATEUR D AEROSOL\": [\"equality\", \"L_SC1\", \"and\"]},\n",
    "    indent=0,\n",
    ")"
   ]
  },
  {
   "cell_type": "code",
   "execution_count": null,
   "metadata": {},
   "outputs": [],
   "source": [
    "labels_name = [\"optical\", \"orthoprotheses\", \"dmi_synthe\", \"audioprotheses\", \"ortheses\", \"aerosol\"]\n",
    "labels = [optical, orthoprotheses, dmi_synthe, audioprotheses, ortheses, aerosol]\n",
    "dict = {labels_name[i]:labels[i] for i in range(6)}"
   ]
  },
  {
   "cell_type": "code",
   "execution_count": null,
   "metadata": {},
   "outputs": [],
   "source": [
    "#do we separate all groups, like we differ group with their name or we differ it whether they are treated and controled ? try 2*"
   ]
  },
  {
   "cell_type": "markdown",
   "metadata": {},
   "source": [
    "# getting data in a unique df"
   ]
  },
  {
   "cell_type": "code",
   "execution_count": null,
   "metadata": {},
   "outputs": [],
   "source": [
    "i=0\n",
    "for group_name in labels_name:\n",
    "    \n",
    "    if group_name == \"optical\":\n",
    "        treatment = [0, 0, 0, 0, 0, 0, 1, 1, 1, 1]\n",
    "    elif group_name == \"audioprotheses\":\n",
    "        treatment = [0, 0, 0, 0, 0, 1, 1, 1, 1, 1]\n",
    "    else:\n",
    "        treatment = [0 for j in range(10)]\n",
    "    \n",
    "    df = pd.DataFrame(\n",
    "    {\n",
    "        \"year\":dict[group_name][0].keys(),\n",
    "        \"expenditures\":dict[group_name][0].values(),\n",
    "        \"treatment\":treatment,\n",
    "    }\n",
    "    )\n",
    "\n",
    "    df = pd.get_dummies(df, columns=['year'], prefix='', prefix_sep='').astype(int)\n",
    "\n",
    "    if i == 0:\n",
    "        df_final = df\n",
    "        i+=1\n",
    "    else:\n",
    "        df_final = pd.concat([df_final, df], axis=0)\n",
    "\n",
    "reference = \"2014\"\n",
    "\n",
    "df_final.reset_index(inplace=True)\n",
    "df_final.drop(columns=[\"index\", reference], inplace=True)\n",
    "\n",
    "for col in df_final.filter(like=\"2\").columns:\n",
    "    df_final[f'{col}_treatment'] = df_final[\"treatment\"] * df_final[col]"
   ]
  },
  {
   "cell_type": "code",
   "execution_count": null,
   "metadata": {},
   "outputs": [],
   "source": [
    "df_final.tail()"
   ]
  },
  {
   "cell_type": "code",
   "execution_count": null,
   "metadata": {},
   "outputs": [],
   "source": [
    "df_final.to_csv(\"df_for_reg.csv\")"
   ]
  },
  {
   "cell_type": "code",
   "execution_count": null,
   "metadata": {},
   "outputs": [],
   "source": [
    "df_final = pd.read_csv(\"df_for_reg.csv\", index_col=0)\n",
    "df_final.columns"
   ]
  },
  {
   "cell_type": "markdown",
   "metadata": {},
   "source": [
    "## log(y)"
   ]
  },
  {
   "cell_type": "code",
   "execution_count": null,
   "metadata": {},
   "outputs": [],
   "source": [
    "import statsmodels.api as sm\n",
    "\n",
    "X = df_final.drop(columns=[\"expenditures\"])\n",
    "X = sm.add_constant(X)\n",
    "y = np.log(df_final[\"expenditures\"])"
   ]
  },
  {
   "cell_type": "code",
   "execution_count": null,
   "metadata": {},
   "outputs": [],
   "source": [
    "model = sm.OLS(y, X).fit()\n",
    "print(model.summary())"
   ]
  },
  {
   "cell_type": "markdown",
   "metadata": {},
   "source": [
    "## y"
   ]
  },
  {
   "cell_type": "code",
   "execution_count": null,
   "metadata": {},
   "outputs": [],
   "source": [
    "import statsmodels.api as sm\n",
    "\n",
    "X = df_final.drop(columns=[\"expenditures\"])\n",
    "X = sm.add_constant(X)\n",
    "y = df_final[\"expenditures\"]\n",
    "\n",
    "model = sm.OLS(y, X).fit()\n",
    "print(model.summary())"
   ]
  },
  {
   "cell_type": "markdown",
   "metadata": {},
   "source": [
    "V2"
   ]
  },
  {
   "cell_type": "code",
   "execution_count": null,
   "metadata": {},
   "outputs": [],
   "source": [
    "optical = gov_exp(\n",
    "    inflation_adjustment=False,\n",
    "    sector=\"optical\",\n",
    "    mask={\"OPTIQUE MEDICALE\": [\"equality\", \"L_SC1\", \"and\"]},\n",
    "    indent=0,\n",
    ")"
   ]
  },
  {
   "cell_type": "code",
   "execution_count": null,
   "metadata": {},
   "outputs": [],
   "source": [
    "orthoprotheses = gov_exp(\n",
    "    inflation_adjustment=False,\n",
    "    sector=\"all\",\n",
    "    mask={\"ORTHOPROTHESES(CHAP.7)\": [\"equality\", \"L_SC1\", \"and\"]},\n",
    "    indent=0,\n",
    ")"
   ]
  },
  {
   "cell_type": "code",
   "execution_count": null,
   "metadata": {},
   "outputs": [],
   "source": [
    "dmi_synthe = gov_exp(\n",
    "    inflation_adjustment=False,\n",
    "    sector=\"all\",\n",
    "    mask={\"DMI D ORIGINE SYNTHETIQUE\": [\"equality\", \"L_SC1\", \"and\"]},\n",
    "    indent=0,\n",
    ")"
   ]
  },
  {
   "cell_type": "code",
   "execution_count": null,
   "metadata": {},
   "outputs": [],
   "source": [
    "audioprotheses = gov_exp(\n",
    "    inflation_adjustment=False,\n",
    "    sector=\"all\",\n",
    "    mask={\n",
    "        \"AUDIOPROTHESES ET ENTRETIEN, REPARATIONS ET ACCESSOIRES POUR PROCESSEUR\": [\n",
    "            \"contains\",\n",
    "            \"L_SC1\",\n",
    "            \"or\",\n",
    "        ],\n",
    "        \"AUDIOPROTHESES ET ENTRETIEN, REPARATIONS ET ACCESSOIRES POUR PROCESSEURS\": [\n",
    "            \"contains\",\n",
    "            \"L_SC1\",\n",
    "            \"or\",\n",
    "        ],\n",
    "    },\n",
    "    indent=0,\n",
    ")"
   ]
  },
  {
   "cell_type": "code",
   "execution_count": null,
   "metadata": {},
   "outputs": [],
   "source": [
    "ortheses = gov_exp(\n",
    "    inflation_adjustment=False,\n",
    "    sector=\"all\",\n",
    "    mask={\"ORTHESES (PETIT APPAREILLAGE) (CHAP.1)\": [\"equality\", \"L_SC1\", \"and\"]},\n",
    "    indent=0,\n",
    ")"
   ]
  },
  {
   "cell_type": "code",
   "execution_count": null,
   "metadata": {},
   "outputs": [],
   "source": [
    "aerosol = gov_exp(\n",
    "    inflation_adjustment=False,\n",
    "    sector=\"all\",\n",
    "    mask={\"APPAREIL GENERATEUR D AEROSOL\": [\"equality\", \"L_SC1\", \"and\"]},\n",
    "    indent=0,\n",
    ")"
   ]
  },
  {
   "cell_type": "code",
   "execution_count": null,
   "metadata": {},
   "outputs": [],
   "source": [
    "labels_name = [\"optical\", \"orthoprotheses\", \"dmi_synthe\", \"audioprotheses\", \"ortheses\", \"aerosol\"]\n",
    "labels = [optical, orthoprotheses, dmi_synthe, audioprotheses, ortheses, aerosol]\n",
    "dict = {labels_name[i]:labels[i] for i in range(6)}"
   ]
  },
  {
   "cell_type": "code",
   "execution_count": null,
   "metadata": {},
   "outputs": [],
   "source": [
    "i=0\n",
    "for group_name in labels_name:\n",
    "    \n",
    "    if group_name == \"optical\":\n",
    "        treatment = [0, 0, 0, 0, 0, 0, 1, 1, 1, 1]\n",
    "    elif group_name == \"audioprotheses\":\n",
    "        treatment = [0, 0, 0, 0, 0, 1, 1, 1, 1, 1]\n",
    "    else:\n",
    "        treatment = [0 for j in range(10)]\n",
    "    \n",
    "    df = pd.DataFrame(\n",
    "    {\n",
    "        \"year\":dict[group_name][0].keys(),\n",
    "        \"expenditures\":dict[group_name][0].values(),\n",
    "        \"treatment\":treatment,\n",
    "    }\n",
    "    )\n",
    "\n",
    "    if i == 0:\n",
    "        df_final = df\n",
    "        i+=1\n",
    "    else:\n",
    "        df_final = pd.concat([df_final, df], axis=0)\n",
    "    \n",
    "df_final.head()"
   ]
  },
  {
   "cell_type": "code",
   "execution_count": null,
   "metadata": {},
   "outputs": [],
   "source": [
    "df_final.dtypes"
   ]
  },
  {
   "cell_type": "code",
   "execution_count": null,
   "metadata": {},
   "outputs": [],
   "source": [
    "df_final[\"after_treatment_year\"] = 0\n",
    "\n",
    "for i in range(len(df_final)):\n",
    "    if df_final.iloc[i, 0] not in [str(j+2014) for j in range(5)]:\n",
    "        df_final.iloc[i, 3] = 1"
   ]
  },
  {
   "cell_type": "code",
   "execution_count": null,
   "metadata": {},
   "outputs": [],
   "source": [
    "df_final.drop(columns=\"year\", inplace=True)"
   ]
  },
  {
   "cell_type": "code",
   "execution_count": null,
   "metadata": {},
   "outputs": [],
   "source": [
    "df_final.head()"
   ]
  },
  {
   "cell_type": "code",
   "execution_count": null,
   "metadata": {},
   "outputs": [],
   "source": [
    "df_final[\"treatment_year\"] = df_final[\"treatment\"] * df_final[\"after_treatment_year\"]"
   ]
  },
  {
   "cell_type": "code",
   "execution_count": null,
   "metadata": {},
   "outputs": [],
   "source": [
    "df_final.head()"
   ]
  },
  {
   "cell_type": "markdown",
   "metadata": {},
   "source": [
    "# log(y)"
   ]
  },
  {
   "cell_type": "code",
   "execution_count": null,
   "metadata": {},
   "outputs": [],
   "source": [
    "import statsmodels.api as sm\n",
    "\n",
    "X = df_final.drop(columns=[\"expenditures\"])\n",
    "X = sm.add_constant(X)\n",
    "y = np.log(df_final[\"expenditures\"])"
   ]
  },
  {
   "cell_type": "code",
   "execution_count": null,
   "metadata": {},
   "outputs": [],
   "source": [
    "model = sm.OLS(y, X).fit()\n",
    "print(model.summary())"
   ]
  },
  {
   "cell_type": "markdown",
   "metadata": {},
   "source": [
    "# y"
   ]
  },
  {
   "cell_type": "code",
   "execution_count": null,
   "metadata": {},
   "outputs": [],
   "source": [
    "import statsmodels.api as sm\n",
    "\n",
    "X = df_final.drop(columns=[\"expenditures\"])\n",
    "X = sm.add_constant(X)\n",
    "y = df_final[\"expenditures\"]"
   ]
  },
  {
   "cell_type": "code",
   "execution_count": null,
   "metadata": {},
   "outputs": [],
   "source": [
    "model = sm.OLS(y, X).fit()\n",
    "print(model.summary())"
   ]
  },
  {
   "cell_type": "markdown",
   "metadata": {},
   "source": [
    "adding age"
   ]
  },
  {
   "cell_type": "code",
   "execution_count": null,
   "metadata": {},
   "outputs": [],
   "source": [
    "importlib.reload(functions)\n",
    "from functions import gov_exp_by_age"
   ]
  },
  {
   "cell_type": "code",
   "execution_count": null,
   "metadata": {},
   "outputs": [],
   "source": [
    "optical = gov_exp_by_age(\n",
    "    inflation_adjustment=False,\n",
    "    sector=\"optical\",\n",
    "    mask={\"OPTIQUE MEDICALE\": [\"equality\", \"L_SC1\", \"and\"]},\n",
    "    indent=0,\n",
    ")"
   ]
  },
  {
   "cell_type": "code",
   "execution_count": null,
   "metadata": {},
   "outputs": [],
   "source": [
    "orthoprotheses = gov_exp_by_age(\n",
    "    inflation_adjustment=False,\n",
    "    sector=\"all\",\n",
    "    mask={\"ORTHOPROTHESES(CHAP.7)\": [\"equality\", \"L_SC1\", \"and\"]},\n",
    "    indent=0,\n",
    ")"
   ]
  },
  {
   "cell_type": "code",
   "execution_count": null,
   "metadata": {},
   "outputs": [],
   "source": [
    "dmi_synthe = gov_exp_by_age(\n",
    "    inflation_adjustment=False,\n",
    "    sector=\"all\",\n",
    "    mask={\"DMI D ORIGINE SYNTHETIQUE\": [\"equality\", \"L_SC1\", \"and\"]},\n",
    "    indent=0,\n",
    ")"
   ]
  },
  {
   "cell_type": "code",
   "execution_count": null,
   "metadata": {},
   "outputs": [],
   "source": [
    "audioprotheses = gov_exp_by_age(\n",
    "    inflation_adjustment=False,\n",
    "    sector=\"all\",\n",
    "    mask={\n",
    "        \"AUDIOPROTHESES ET ENTRETIEN, REPARATIONS ET ACCESSOIRES POUR PROCESSEUR\": [\n",
    "            \"contains\",\n",
    "            \"L_SC1\",\n",
    "            \"or\",\n",
    "        ],\n",
    "        \"AUDIOPROTHESES ET ENTRETIEN, REPARATIONS ET ACCESSOIRES POUR PROCESSEURS\": [\n",
    "            \"contains\",\n",
    "            \"L_SC1\",\n",
    "            \"or\",\n",
    "        ],\n",
    "    },\n",
    "    indent=0,\n",
    ")"
   ]
  },
  {
   "cell_type": "code",
   "execution_count": null,
   "metadata": {},
   "outputs": [],
   "source": [
    "ortheses = gov_exp_by_age(\n",
    "    inflation_adjustment=False,\n",
    "    sector=\"all\",\n",
    "    mask={\"ORTHESES (PETIT APPAREILLAGE) (CHAP.1)\": [\"equality\", \"L_SC1\", \"and\"]},\n",
    "    indent=0,\n",
    ")"
   ]
  },
  {
   "cell_type": "code",
   "execution_count": null,
   "metadata": {},
   "outputs": [],
   "source": [
    "aerosol = gov_exp_by_age(\n",
    "    inflation_adjustment=False,\n",
    "    sector=\"all\",\n",
    "    mask={\"APPAREIL GENERATEUR D AEROSOL\": [\"equality\", \"L_SC1\", \"and\"]},\n",
    "    indent=0,\n",
    ")"
   ]
  },
  {
   "cell_type": "code",
   "execution_count": null,
   "metadata": {},
   "outputs": [],
   "source": [
    "labels_name = [\"optical\", \"orthoprotheses\", \"dmi_synthe\", \"audioprotheses\", \"ortheses\", \"aerosol\"]\n",
    "labels = [optical, orthoprotheses, dmi_synthe, audioprotheses, ortheses, aerosol]\n",
    "dict = {labels_name[i]:labels[i] for i in range(6)}"
   ]
  },
  {
   "cell_type": "markdown",
   "metadata": {},
   "source": [
    "getting df with age range"
   ]
  },
  {
   "cell_type": "code",
   "execution_count": null,
   "metadata": {},
   "outputs": [],
   "source": [
    "i=0\n",
    "for group_name in labels_name:\n",
    "    \n",
    "    if group_name == \"optical\":\n",
    "        treatment = [0, 0, 0, 0, 0, 0, 1, 1, 1, 1]\n",
    "    elif group_name == \"audioprotheses\":\n",
    "        treatment = [0, 0, 0, 0, 0, 1, 1, 1, 1, 1]\n",
    "    else:\n",
    "        treatment = [0 for j in range(10)]\n",
    "    \n",
    "    data = []\n",
    "\n",
    "    k=0\n",
    "    for year, age_data in optical.items():\n",
    "        for age_range, values in age_data.items():\n",
    "            data.append({\n",
    "                \"year\": year,\n",
    "                \"age_range\": age_range,\n",
    "                \"treatment\": treatment[k],\n",
    "                \"expenditures\": values[1]\n",
    "            })\n",
    "        k+=1\n",
    "    \n",
    "    df = pd.DataFrame(data)\n",
    "\n",
    "    df = pd.get_dummies(df, columns=['age_range'], prefix='', prefix_sep='').astype(int)\n",
    "\n",
    "    if i == 0:\n",
    "        df_final = df\n",
    "        i+=1\n",
    "    else:\n",
    "        df_final = pd.concat([df_final, df], axis=0)\n",
    "    \n",
    "df_final.reset_index(inplace=True)\n",
    "df_final.drop(columns=\"index\", inplace=True)\n",
    "\n",
    "df_final"
   ]
  },
  {
   "cell_type": "code",
   "execution_count": null,
   "metadata": {},
   "outputs": [],
   "source": [
    "df_final[\"after_treatment_year\"] = 0\n",
    "\n",
    "mask = ~df_final.iloc[:, 0].isin([(j+2014) for j in range(5)])\n",
    "\n",
    "# Appliquer le masque pour définir \"after_treatment_year\" à 1 là où le masque est True\n",
    "df_final.loc[mask, \"after_treatment_year\"] = 1"
   ]
  },
  {
   "cell_type": "code",
   "execution_count": null,
   "metadata": {},
   "outputs": [],
   "source": [
    "df.head()"
   ]
  },
  {
   "cell_type": "markdown",
   "metadata": {},
   "source": [
    "----------------------------------"
   ]
  },
  {
   "cell_type": "markdown",
   "metadata": {},
   "source": [
    "with age"
   ]
  },
  {
   "cell_type": "code",
   "execution_count": null,
   "metadata": {},
   "outputs": [],
   "source": [
    "def getting_df_with_age(with_interaction = True):\n",
    "    with open(\"../data/results/L_SC1_SC2_LPP_gov_exp_raw.json\") as f:\n",
    "        L_SC1 = json.load(f)\n",
    "    \n",
    "    list_group=list(L_SC1.keys())\n",
    "\n",
    "    to_remove = ['CODES ARRIVES A ECHEANCE', \n",
    "    'ACCESSOIRES DE PRODUITS INSCRITS AU TITRE III', \n",
    "    \"DISPOSITIFS MEDICAUX UTILISES DANS LE SYSTEME GASTRO-INTESTINAL\", \n",
    "    \"DISPOSITIFS MEDICAUX UTILISES DANS LE SYSTEME URO-GENITAL\", \n",
    "    \"DISPOSITIFS MEDICAUX UTILISES EN NEUROLOGIE\", \n",
    "    \"DISPOSITIFS MEDICAUX UTILISES EN ONCOLOGIE\", \n",
    "    \"DM, MATERIELS ET PRODUITS POUR LE TRAITEMENT DE PATHOLOGIES SPECIFIQUES\", \n",
    "    'DISPOSITIFS MEDICAUX UTILISES DANS LE SYST CARDIO-VASCULAIRE',\n",
    "    \"DISPOISTIFS MEDICAUX UTILISES DANS LE SYSTEME CARDIO_VASCULAIRE\",\n",
    "    'DM DE MAINTIEN A DOMICILE ET D AIDE A LA VIE POUR MALADES ET HANDICAPES',\n",
    "    \"DM DE MAINTIEN A DOMICILE ET D AIDE A LA VIE POUR MALADES ET HANDICAPE\",\n",
    "    'DMI ISSUS DE DERIVES ORIGINE ANIMALE NON VIABLES OU EN COMPORTANT', \n",
    "    'IMPLANTS ISSUS DE DERIVES HUMAINS_GREFFONS',\n",
    "    \"IMPLANTS ISSUS DE DERIVES HUMAINS-GREFFONS\",\n",
    "    'PODO_ORTHESES',\n",
    "    \"PODO-ORTHESES\",\n",
    "    ]\n",
    "    #problem was that some elements was missing with these title, or the expends were constant.\n",
    "\n",
    "    for element in to_remove:\n",
    "        if element in list_group:\n",
    "            list_group.remove(element)\n",
    "\n",
    "    #count = 0\n",
    "    variable_dict = {}\n",
    "    dfs = [] # Liste pour stocker les DataFrames, plus rapide que de concat à chaque itération\n",
    "    years = [i+2014 for i in range(10)]\n",
    "\n",
    "    for title in list_group:\n",
    "        print(title)\n",
    "        variable_name = title\n",
    "        #print(variable_name, type(variable_name))\n",
    "        if title in [\"AUDIOPROTHESES ET ENTRETIEN, REPARATIONS ET ACCESSOIRES POUR PROCESSEURS\"]:\n",
    "            continue\n",
    "\n",
    "        elif title == \"AUDIOPROTHESES ET ENTRETIEN, REPARATIONS ET ACCESSOIRES POUR PROCESSEUR\":\n",
    "            variable_dict[variable_name] = gov_exp_by_age(\n",
    "                inflation_adjustment=False,\n",
    "                sector=\"all\",\n",
    "                mask={title: [\"equality\", \"L_SC1\", \"or\"], \"AUDIOPROTHESES ET ENTRETIEN, REPARATIONS ET ACCESSOIRES POUR PROCESSEURS\":[\"equality\", \"L_SC1\", \"or\"]},\n",
    "                indent=0,\n",
    "            )\n",
    "\n",
    "        #elif title == \"DISPOISTIFS MEDICAUX UTILISES DANS LE SYSTEME CARDIO_VASCULAIRE\":\n",
    "        #    variable_dict[variable_name] = gov_exp_by_age(\n",
    "        #        inflation_adjustment=False,\n",
    "        #        sector=\"all\",\n",
    "        #        mask={title: [\"equality\", \"L_SC1\", \"or\"], \"DISPOSITIFS MEDICAUX UTILISES DANS LE SYSTEME CARDIO-VASCULAIRE\":[\"equality\", \"L_SC1\", \"or\"]},\n",
    "        #        indent=0,\n",
    "        #    )\n",
    "\n",
    "        #elif title == \"DM DE MAINTIEN A DOMICILE ET D AIDE A LA VIE POUR MALADES ET HANDICAPE\":\n",
    "        #    variable_dict[variable_name] = gov_exp_by_age(\n",
    "        #        inflation_adjustment=False,\n",
    "        #        sector=\"all\",\n",
    "        #        mask={title: [\"equality\", \"L_SC1\", \"or\"], \"DM DE MAINTIEN A DOMICILE ET D AIDE A LA VIE POUR MALADES ET HANDICAPES\":[\"equality\", \"L_SC1\", \"or\"]},\n",
    "        #        indent=0,\n",
    "        #    )\n",
    "\n",
    "        #elif title == \"IMPLANTS ISSUS DE DERIVES HUMAINS-GREFFONS\":\n",
    "        #    variable_dict[variable_name] = gov_exp_by_age(\n",
    "        #        inflation_adjustment=False,\n",
    "        #        sector=\"all\",\n",
    "        #        mask={title: [\"equality\", \"L_SC1\", \"or\"], \"IMPLANTS ISSUS DE DERIVES HUMAINS_GREFFONS\":[\"equality\", \"L_SC1\", \"or\"]},\n",
    "        #        indent=0,\n",
    "        #    )\n",
    "\n",
    "        #elif title == \"PODO-ORTHESES\":\n",
    "        #    variable_dict[variable_name] = gov_exp_by_age(\n",
    "        #        inflation_adjustment=False,\n",
    "        #        sector=\"all\",\n",
    "        #        mask={title: [\"equality\", \"L_SC1\", \"or\"], \"PODO_ORTHESES\":[\"equality\", \"L_SC1\", \"or\"]},\n",
    "        #        indent=0,\n",
    "        #    )\n",
    "\n",
    "        else:\n",
    "            variable_dict[variable_name] = gov_exp_by_age(\n",
    "                inflation_adjustment=False,\n",
    "                sector=\"all\",\n",
    "                mask={title: [\"equality\", \"L_SC1\", \"and\"]},\n",
    "                indent=0,\n",
    "            )\n",
    "\n",
    "        print(f\"got all '{title} expenditures'\")\n",
    "\n",
    "        #if group_name == \"optical\":\n",
    "        #    treatment = [0, 0, 0, 0, 0, 0, 1, 1, 1, 1]\n",
    "        #elif group_name == \"AUDIOPROTHESES ET ENTRETIEN, REPARATIONS ET ACCESSOIRES POUR PROCESSEUR\":\n",
    "        #    treatment = [0, 0, 0, 0, 0, 1, 1, 1, 1, 1]\n",
    "        #else:\n",
    "        #    treatment = [0 for j in range(10)]\n",
    "\n",
    "        data = []\n",
    "\n",
    "        for year, age_data in variable_dict[variable_name].items():\n",
    "            for age_range, values in age_data.items():\n",
    "                data.append({\n",
    "                    \"year\": year,\n",
    "                    \"age_range\": age_range,\n",
    "                    #\"treatment\": treatment[k],\n",
    "                    \"expenditures\": values[1],\n",
    "                    \"group\":title,\n",
    "                })\n",
    "\n",
    "        df = pd.DataFrame(data)\n",
    "\n",
    "        print(df)\n",
    "\n",
    "        print(f\"got {title} df\")\n",
    "        dfs.append(df)\n",
    "\n",
    "    df_final = pd.concat(dfs, axis=0)\n",
    "        #if i == 0:\n",
    "        #    df_final = df\n",
    "        #    i+=1\n",
    "        #else:\n",
    "        #    df_final = pd.concat([df_final, df], axis=0)\n",
    "\n",
    "    df_final = pd.get_dummies(df_final, columns=['group'], prefix='', prefix_sep='')\n",
    "    df_final = pd.get_dummies(df_final, columns=['year'], prefix='', prefix_sep='')\n",
    "    df_final = pd.get_dummies(df_final, columns=['age_range'], prefix='', prefix_sep='')\n",
    "    \n",
    "    if with_interaction == True:\n",
    "        for col in df_final.filter(like=\"20\").columns:\n",
    "            df_final[f\"interact. audio x year{col}\"] = df_final[\"AUDIOPROTHESES ET ENTRETIEN, REPARATIONS ET ACCESSOIRES POUR PROCESSEUR\"] * df_final[col]\n",
    "            df_final[f\"interact. optique x year{col}\"] = df_final[\"OPTIQUE MEDICALE\"] * df_final[col]\n",
    "            df_final[f\"interact. (audio+optical) x year{col}\"] = (df_final[\"AUDIOPROTHESES ET ENTRETIEN, REPARATIONS ET ACCESSOIRES POUR PROCESSEUR\"]+df_final[\"OPTIQUE MEDICALE\"]) * df_final[col]\n",
    "        return df_final\n",
    "\n",
    "    else:\n",
    "        return df_final"
   ]
  },
  {
   "cell_type": "code",
   "execution_count": null,
   "metadata": {},
   "outputs": [],
   "source": [
    "df_aged = getting_df_with_age(with_interaction=True)"
   ]
  },
  {
   "cell_type": "code",
   "execution_count": null,
   "metadata": {},
   "outputs": [],
   "source": [
    "df_aged.reset_index(inplace=True)"
   ]
  },
  {
   "cell_type": "code",
   "execution_count": null,
   "metadata": {},
   "outputs": [],
   "source": [
    "df_aged = df_aged.drop(columns=[\"index\"])"
   ]
  },
  {
   "cell_type": "markdown",
   "metadata": {},
   "source": [
    "# work on the data"
   ]
  },
  {
   "cell_type": "markdown",
   "metadata": {},
   "source": [
    "## WITHOUT AGE"
   ]
  },
  {
   "cell_type": "code",
   "execution_count": 115,
   "metadata": {},
   "outputs": [],
   "source": [
    "df = pd.read_excel(\"df_without_age_range_for_reg_30-10.xlsx\", index_col=0)"
   ]
  },
  {
   "cell_type": "code",
   "execution_count": null,
   "metadata": {},
   "outputs": [
    {
     "data": {
      "text/html": [
       "<div>\n",
       "<style scoped>\n",
       "    .dataframe tbody tr th:only-of-type {\n",
       "        vertical-align: middle;\n",
       "    }\n",
       "\n",
       "    .dataframe tbody tr th {\n",
       "        vertical-align: top;\n",
       "    }\n",
       "\n",
       "    .dataframe thead th {\n",
       "        text-align: right;\n",
       "    }\n",
       "</style>\n",
       "<table border=\"1\" class=\"dataframe\">\n",
       "  <thead>\n",
       "    <tr style=\"text-align: right;\">\n",
       "      <th></th>\n",
       "      <th>expenditures</th>\n",
       "      <th>ADJONCTIONS, OPTIONS ET REPARATIONS APPLICABLES AUX FAUTEUILS ROULANTS</th>\n",
       "      <th>APPAREIL GENERATEUR D AEROSOL</th>\n",
       "      <th>ARTICLES POUR PANSEMENTS, MATERIELS DE CONTENTION</th>\n",
       "      <th>AUDIOPROTHESES ET ENTRETIEN, REPARATIONS ET ACCESSOIRES POUR PROCESSEUR</th>\n",
       "      <th>DISPOSITIFS MEDICAUX IMPLANTABLES ACTIFS</th>\n",
       "      <th>DMI D ORIGINE SYNTHETIQUE</th>\n",
       "      <th>FAUTEUILS ROULANTS</th>\n",
       "      <th>OPTIQUE MEDICALE</th>\n",
       "      <th>ORTHESES</th>\n",
       "      <th>...</th>\n",
       "      <th>interact. (audio+optical) x year2020</th>\n",
       "      <th>interact. audio x year2021</th>\n",
       "      <th>interact. optique x year2021</th>\n",
       "      <th>interact. (audio+optical) x year2021</th>\n",
       "      <th>interact. audio x year2022</th>\n",
       "      <th>interact. optique x year2022</th>\n",
       "      <th>interact. (audio+optical) x year2022</th>\n",
       "      <th>interact. audio x year2023</th>\n",
       "      <th>interact. optique x year2023</th>\n",
       "      <th>interact. (audio+optical) x year2023</th>\n",
       "    </tr>\n",
       "  </thead>\n",
       "  <tbody>\n",
       "    <tr>\n",
       "      <th>0</th>\n",
       "      <td>20.235073</td>\n",
       "      <td>0</td>\n",
       "      <td>0</td>\n",
       "      <td>1</td>\n",
       "      <td>0</td>\n",
       "      <td>0</td>\n",
       "      <td>0</td>\n",
       "      <td>0</td>\n",
       "      <td>0</td>\n",
       "      <td>0</td>\n",
       "      <td>...</td>\n",
       "      <td>0</td>\n",
       "      <td>0</td>\n",
       "      <td>0</td>\n",
       "      <td>0</td>\n",
       "      <td>0</td>\n",
       "      <td>0</td>\n",
       "      <td>0</td>\n",
       "      <td>0</td>\n",
       "      <td>0</td>\n",
       "      <td>0</td>\n",
       "    </tr>\n",
       "    <tr>\n",
       "      <th>1</th>\n",
       "      <td>20.300226</td>\n",
       "      <td>0</td>\n",
       "      <td>0</td>\n",
       "      <td>1</td>\n",
       "      <td>0</td>\n",
       "      <td>0</td>\n",
       "      <td>0</td>\n",
       "      <td>0</td>\n",
       "      <td>0</td>\n",
       "      <td>0</td>\n",
       "      <td>...</td>\n",
       "      <td>0</td>\n",
       "      <td>0</td>\n",
       "      <td>0</td>\n",
       "      <td>0</td>\n",
       "      <td>0</td>\n",
       "      <td>0</td>\n",
       "      <td>0</td>\n",
       "      <td>0</td>\n",
       "      <td>0</td>\n",
       "      <td>0</td>\n",
       "    </tr>\n",
       "    <tr>\n",
       "      <th>2</th>\n",
       "      <td>20.356152</td>\n",
       "      <td>0</td>\n",
       "      <td>0</td>\n",
       "      <td>1</td>\n",
       "      <td>0</td>\n",
       "      <td>0</td>\n",
       "      <td>0</td>\n",
       "      <td>0</td>\n",
       "      <td>0</td>\n",
       "      <td>0</td>\n",
       "      <td>...</td>\n",
       "      <td>0</td>\n",
       "      <td>0</td>\n",
       "      <td>0</td>\n",
       "      <td>0</td>\n",
       "      <td>0</td>\n",
       "      <td>0</td>\n",
       "      <td>0</td>\n",
       "      <td>0</td>\n",
       "      <td>0</td>\n",
       "      <td>0</td>\n",
       "    </tr>\n",
       "    <tr>\n",
       "      <th>3</th>\n",
       "      <td>20.377579</td>\n",
       "      <td>0</td>\n",
       "      <td>0</td>\n",
       "      <td>1</td>\n",
       "      <td>0</td>\n",
       "      <td>0</td>\n",
       "      <td>0</td>\n",
       "      <td>0</td>\n",
       "      <td>0</td>\n",
       "      <td>0</td>\n",
       "      <td>...</td>\n",
       "      <td>0</td>\n",
       "      <td>0</td>\n",
       "      <td>0</td>\n",
       "      <td>0</td>\n",
       "      <td>0</td>\n",
       "      <td>0</td>\n",
       "      <td>0</td>\n",
       "      <td>0</td>\n",
       "      <td>0</td>\n",
       "      <td>0</td>\n",
       "    </tr>\n",
       "    <tr>\n",
       "      <th>4</th>\n",
       "      <td>20.426194</td>\n",
       "      <td>0</td>\n",
       "      <td>0</td>\n",
       "      <td>1</td>\n",
       "      <td>0</td>\n",
       "      <td>0</td>\n",
       "      <td>0</td>\n",
       "      <td>0</td>\n",
       "      <td>0</td>\n",
       "      <td>0</td>\n",
       "      <td>...</td>\n",
       "      <td>0</td>\n",
       "      <td>0</td>\n",
       "      <td>0</td>\n",
       "      <td>0</td>\n",
       "      <td>0</td>\n",
       "      <td>0</td>\n",
       "      <td>0</td>\n",
       "      <td>0</td>\n",
       "      <td>0</td>\n",
       "      <td>0</td>\n",
       "    </tr>\n",
       "  </tbody>\n",
       "</table>\n",
       "<p>5 rows × 55 columns</p>\n",
       "</div>"
      ],
      "text/plain": [
       "   expenditures  \\\n",
       "0     20.235073   \n",
       "1     20.300226   \n",
       "2     20.356152   \n",
       "3     20.377579   \n",
       "4     20.426194   \n",
       "\n",
       "   ADJONCTIONS, OPTIONS ET REPARATIONS APPLICABLES AUX FAUTEUILS ROULANTS  \\\n",
       "0                                                  0                        \n",
       "1                                                  0                        \n",
       "2                                                  0                        \n",
       "3                                                  0                        \n",
       "4                                                  0                        \n",
       "\n",
       "   APPAREIL GENERATEUR D AEROSOL  \\\n",
       "0                              0   \n",
       "1                              0   \n",
       "2                              0   \n",
       "3                              0   \n",
       "4                              0   \n",
       "\n",
       "   ARTICLES POUR PANSEMENTS, MATERIELS DE CONTENTION  \\\n",
       "0                                                  1   \n",
       "1                                                  1   \n",
       "2                                                  1   \n",
       "3                                                  1   \n",
       "4                                                  1   \n",
       "\n",
       "   AUDIOPROTHESES ET ENTRETIEN, REPARATIONS ET ACCESSOIRES POUR PROCESSEUR  \\\n",
       "0                                                  0                         \n",
       "1                                                  0                         \n",
       "2                                                  0                         \n",
       "3                                                  0                         \n",
       "4                                                  0                         \n",
       "\n",
       "   DISPOSITIFS MEDICAUX IMPLANTABLES ACTIFS  DMI D ORIGINE SYNTHETIQUE  \\\n",
       "0                                         0                          0   \n",
       "1                                         0                          0   \n",
       "2                                         0                          0   \n",
       "3                                         0                          0   \n",
       "4                                         0                          0   \n",
       "\n",
       "   FAUTEUILS ROULANTS  OPTIQUE MEDICALE  ORTHESES  ...  \\\n",
       "0                   0                 0         0  ...   \n",
       "1                   0                 0         0  ...   \n",
       "2                   0                 0         0  ...   \n",
       "3                   0                 0         0  ...   \n",
       "4                   0                 0         0  ...   \n",
       "\n",
       "   interact. (audio+optical) x year2020  interact. audio x year2021  \\\n",
       "0                                     0                           0   \n",
       "1                                     0                           0   \n",
       "2                                     0                           0   \n",
       "3                                     0                           0   \n",
       "4                                     0                           0   \n",
       "\n",
       "   interact. optique x year2021  interact. (audio+optical) x year2021  \\\n",
       "0                             0                                     0   \n",
       "1                             0                                     0   \n",
       "2                             0                                     0   \n",
       "3                             0                                     0   \n",
       "4                             0                                     0   \n",
       "\n",
       "   interact. audio x year2022  interact. optique x year2022  \\\n",
       "0                           0                             0   \n",
       "1                           0                             0   \n",
       "2                           0                             0   \n",
       "3                           0                             0   \n",
       "4                           0                             0   \n",
       "\n",
       "   interact. (audio+optical) x year2022  interact. audio x year2023  \\\n",
       "0                                     0                           0   \n",
       "1                                     0                           0   \n",
       "2                                     0                           0   \n",
       "3                                     0                           0   \n",
       "4                                     0                           0   \n",
       "\n",
       "   interact. optique x year2023  interact. (audio+optical) x year2023  \n",
       "0                             0                                     0  \n",
       "1                             0                                     0  \n",
       "2                             0                                     0  \n",
       "3                             0                                     0  \n",
       "4                             0                                     0  \n",
       "\n",
       "[5 rows x 55 columns]"
      ]
     },
     "metadata": {},
     "output_type": "display_data"
    }
   ],
   "source": [
    "df[\"expenditures\"] = np.log(df[\"expenditures\"])\n",
    "df.head()"
   ]
  },
  {
   "cell_type": "markdown",
   "metadata": {},
   "source": [
    "## all"
   ]
  },
  {
   "cell_type": "code",
   "execution_count": 113,
   "metadata": {},
   "outputs": [],
   "source": [
    "import statsmodels.api as sm\n",
    "\n",
    "X = df.drop(columns=([\"expenditures\"] + [col for col in df.columns if \"2014\" in col] + [col for col in df.columns if \"audio x\" in col or \"optique x\" in col]))\n",
    "X = sm.add_constant(X)\n",
    "y = df[\"expenditures\"]"
   ]
  },
  {
   "cell_type": "code",
   "execution_count": 114,
   "metadata": {},
   "outputs": [
    {
     "name": "stdout",
     "output_type": "stream",
     "text": [
      "                            OLS Regression Results                            \n",
      "==============================================================================\n",
      "Dep. Variable:           expenditures   R-squared:                       0.963\n",
      "Model:                            OLS   Adj. R-squared:                  0.952\n",
      "Method:                 Least Squares   F-statistic:                     89.86\n",
      "Date:                Wed, 30 Oct 2024   Prob (F-statistic):           1.19e-63\n",
      "Time:                        10:50:48   Log-Likelihood:                -9.1866\n",
      "No. Observations:                 140   AIC:                             82.37\n",
      "Df Residuals:                     108   BIC:                             176.5\n",
      "Df Model:                          31                                         \n",
      "Covariance Type:            nonrobust                                         \n",
      "===========================================================================================================================================\n",
      "                                                                              coef    std err          t      P>|t|      [0.025      0.975]\n",
      "-------------------------------------------------------------------------------------------------------------------------------------------\n",
      "const                                                                      17.0559      0.073    232.429      0.000      16.910      17.201\n",
      "ADJONCTIONS, OPTIONS ET REPARATIONS APPLICABLES AUX FAUTEUILS ROULANTS     -0.3625      0.095     -3.823      0.000      -0.550      -0.175\n",
      "APPAREIL GENERATEUR D AEROSOL                                               0.4601      0.095      4.852      0.000       0.272       0.648\n",
      "ARTICLES POUR PANSEMENTS, MATERIELS DE CONTENTION                           3.1456      0.095     33.175      0.000       2.958       3.334\n",
      "AUDIOPROTHESES ET ENTRETIEN, REPARATIONS ET ACCESSOIRES POUR PROCESSEUR     2.0593      0.204     10.116      0.000       1.656       2.463\n",
      "DISPOSITIFS MEDICAUX IMPLANTABLES ACTIFS                                    1.3869      0.095     14.627      0.000       1.199       1.575\n",
      "DMI D ORIGINE SYNTHETIQUE                                                   3.0129      0.095     31.775      0.000       2.825       3.201\n",
      "FAUTEUILS ROULANTS                                                          1.0255      0.095     10.815      0.000       0.838       1.213\n",
      "OPTIQUE MEDICALE                                                            1.5372      0.204      7.551      0.000       1.134       1.941\n",
      "ORTHESES                                                                    1.8755      0.095     19.780      0.000       1.688       2.063\n",
      "ORTHESES (PETIT APPAREILLAGE) (CHAP.1)                                      2.4254      0.095     25.579      0.000       2.237       2.613\n",
      "ORTHOPROTHESES(CHAP.7)                                                      2.2722      0.095     23.964      0.000       2.084       2.460\n",
      "PROTHESES EXTERNES NON ORTHOPEDIQUES                                       -0.3593      0.095     -3.790      0.000      -0.547      -0.171\n",
      "PROTHESES OCULAIRES ET FACIALES                                            -1.0570      0.095    -11.147      0.000      -1.245      -0.869\n",
      "VEHICULES DIVERS                                                           -0.3659      0.095     -3.859      0.000      -0.554      -0.178\n",
      "2015                                                                        0.0446      0.120      0.372      0.711      -0.193       0.283\n",
      "2016                                                                        0.1250      0.120      1.041      0.300      -0.113       0.363\n",
      "2017                                                                        0.1738      0.120      1.447      0.151      -0.064       0.412\n",
      "2018                                                                        0.2258      0.120      1.880      0.063      -0.012       0.464\n",
      "2019                                                                        0.2985      0.120      2.485      0.014       0.060       0.537\n",
      "2020                                                                        0.2357      0.120      1.963      0.052      -0.002       0.474\n",
      "2021                                                                        0.3404      0.120      2.834      0.005       0.102       0.578\n",
      "2022                                                                        0.3419      0.120      2.847      0.005       0.104       0.580\n",
      "2023                                                                        0.3995      0.120      3.327      0.001       0.161       0.638\n",
      "interact. (audio+optical) x year2015                                        0.0327      0.318      0.103      0.918      -0.597       0.663\n",
      "interact. (audio+optical) x year2016                                       -0.0140      0.318     -0.044      0.965      -0.644       0.616\n",
      "interact. (audio+optical) x year2017                                       -0.0347      0.318     -0.109      0.913      -0.665       0.595\n",
      "interact. (audio+optical) x year2018                                       -0.0312      0.318     -0.098      0.922      -0.661       0.599\n",
      "interact. (audio+optical) x year2019                                       -0.0520      0.318     -0.164      0.870      -0.682       0.578\n",
      "interact. (audio+optical) x year2020                                       -1.2355      0.318     -3.888      0.000      -1.865      -0.606\n",
      "interact. (audio+optical) x year2021                                       -0.2267      0.318     -0.714      0.477      -0.857       0.403\n",
      "interact. (audio+optical) x year2022                                       -0.1822      0.318     -0.573      0.568      -0.812       0.448\n",
      "interact. (audio+optical) x year2023                                       -0.1879      0.318     -0.591      0.555      -0.818       0.442\n",
      "==============================================================================\n",
      "Omnibus:                       11.851   Durbin-Watson:                   0.728\n",
      "Prob(Omnibus):                  0.003   Jarque-Bera (JB):               32.677\n",
      "Skew:                          -0.008   Prob(JB):                     8.02e-08\n",
      "Kurtosis:                       5.367   Cond. No.                     8.09e+15\n",
      "==============================================================================\n",
      "\n",
      "Notes:\n",
      "[1] Standard Errors assume that the covariance matrix of the errors is correctly specified.\n",
      "[2] The smallest eigenvalue is 2.49e-30. This might indicate that there are\n",
      "strong multicollinearity problems or that the design matrix is singular.\n"
     ]
    }
   ],
   "source": [
    "model = sm.OLS(y, X).fit()\n",
    "print(model.summary())"
   ]
  },
  {
   "cell_type": "markdown",
   "metadata": {},
   "source": [
    "## optical"
   ]
  },
  {
   "cell_type": "code",
   "execution_count": null,
   "metadata": {},
   "outputs": [],
   "source": [
    "import statsmodels.api as sm\n",
    "\n",
    "X = df.drop(columns=([\"expenditures\"] + [col for col in df.columns if \"audio\" in col.lower()] + [col for col in df.columns if \"2014\" in col]))\n",
    "X = sm.add_constant(X)\n",
    "y = df[\"expenditures\"]"
   ]
  },
  {
   "cell_type": "code",
   "execution_count": null,
   "metadata": {},
   "outputs": [
    {
     "name": "stdout",
     "output_type": "stream",
     "text": [
      "                            OLS Regression Results                            \n",
      "==============================================================================\n",
      "Dep. Variable:           expenditures   R-squared:                       0.982\n",
      "Model:                            OLS   Adj. R-squared:                  0.977\n",
      "Method:                 Least Squares   F-statistic:                     194.7\n",
      "Date:                Wed, 30 Oct 2024   Prob (F-statistic):           3.50e-81\n",
      "Time:                        10:10:58   Log-Likelihood:                 43.521\n",
      "No. Observations:                 140   AIC:                            -23.04\n",
      "Df Residuals:                     108   BIC:                             71.09\n",
      "Df Model:                          31                                         \n",
      "Covariance Type:            nonrobust                                         \n",
      "==========================================================================================================================================\n",
      "                                                                             coef    std err          t      P>|t|      [0.025      0.975]\n",
      "------------------------------------------------------------------------------------------------------------------------------------------\n",
      "const                                                                     18.8997      0.083    227.566      0.000      18.735      19.064\n",
      "ADJONCTIONS, OPTIONS ET REPARATIONS APPLICABLES AUX FAUTEUILS ROULANTS    -2.2286      0.090    -24.684      0.000      -2.408      -2.050\n",
      "APPAREIL GENERATEUR D AEROSOL                                             -1.4060      0.090    -15.573      0.000      -1.585      -1.227\n",
      "ARTICLES POUR PANSEMENTS, MATERIELS DE CONTENTION                          1.2795      0.090     14.172      0.000       1.101       1.458\n",
      "DISPOSITIFS MEDICAUX IMPLANTABLES ACTIFS                                  -0.4792      0.090     -5.308      0.000      -0.658      -0.300\n",
      "DMI D ORIGINE SYNTHETIQUE                                                  1.1468      0.090     12.702      0.000       0.968       1.326\n",
      "FAUTEUILS ROULANTS                                                        -0.8406      0.090     -9.311      0.000      -1.020      -0.662\n",
      "OPTIQUE MEDICALE                                                           0.1779      0.218      0.815      0.417      -0.255       0.611\n",
      "ORTHESES                                                                   0.0094      0.090      0.104      0.917      -0.170       0.188\n",
      "ORTHESES (PETIT APPAREILLAGE) (CHAP.1)                                     0.5592      0.090      6.194      0.000       0.380       0.738\n",
      "ORTHOPROTHESES(CHAP.7)                                                     0.4061      0.090      4.498      0.000       0.227       0.585\n",
      "PROTHESES EXTERNES NON ORTHOPEDIQUES                                      -2.2255      0.090    -24.649      0.000      -2.404      -2.046\n",
      "PROTHESES OCULAIRES ET FACIALES                                           -2.9231      0.090    -32.376      0.000      -3.102      -2.744\n",
      "VEHICULES DIVERS                                                          -2.2321      0.090    -24.722      0.000      -2.411      -2.053\n",
      "2015                                                                       0.0489      0.079      0.618      0.538      -0.108       0.206\n",
      "2016                                                                       0.1265      0.079      1.597      0.113      -0.030       0.283\n",
      "2017                                                                       0.1755      0.079      2.216      0.029       0.018       0.332\n",
      "2018                                                                       0.2286      0.079      2.887      0.005       0.072       0.386\n",
      "2019                                                                       0.2994      0.079      3.781      0.000       0.142       0.456\n",
      "2020                                                                       0.2539      0.079      3.206      0.002       0.097       0.411\n",
      "2021                                                                       0.4053      0.079      5.118      0.000       0.248       0.562\n",
      "2022                                                                       0.4095      0.079      5.171      0.000       0.253       0.566\n",
      "2023                                                                       0.4617      0.079      5.831      0.000       0.305       0.619\n",
      "interact. optique x year2015                                               0.0052      0.296      0.018      0.986      -0.582       0.593\n",
      "interact. optique x year2016                                              -0.0489      0.296     -0.165      0.869      -0.636       0.538\n",
      "interact. optique x year2017                                              -0.0929      0.296     -0.314      0.754      -0.680       0.494\n",
      "interact. optique x year2018                                              -0.1023      0.296     -0.345      0.730      -0.690       0.485\n",
      "interact. optique x year2019                                              -0.1174      0.296     -0.396      0.693      -0.705       0.470\n",
      "interact. optique x year2020                                              -2.7252      0.296     -9.198      0.000      -3.313      -2.138\n",
      "interact. optique x year2021                                              -1.3613      0.296     -4.595      0.000      -1.949      -0.774\n",
      "interact. optique x year2022                                              -1.3106      0.296     -4.423      0.000      -1.898      -0.723\n",
      "interact. optique x year2023                                              -1.2467      0.296     -4.208      0.000      -1.834      -0.659\n",
      "==============================================================================\n",
      "Omnibus:                        7.855   Durbin-Watson:                   0.637\n",
      "Prob(Omnibus):                  0.020   Jarque-Bera (JB):               10.128\n",
      "Skew:                           0.329   Prob(JB):                      0.00632\n",
      "Kurtosis:                       4.141   Cond. No.                         43.8\n",
      "==============================================================================\n",
      "\n",
      "Notes:\n",
      "[1] Standard Errors assume that the covariance matrix of the errors is correctly specified.\n"
     ]
    }
   ],
   "source": [
    "model = sm.OLS(y, X).fit()\n",
    "print(model.summary())"
   ]
  },
  {
   "cell_type": "code",
   "execution_count": null,
   "metadata": {},
   "outputs": [],
   "source": [
    "#model.params"
   ]
  },
  {
   "cell_type": "markdown",
   "metadata": {},
   "source": [
    "## hearing"
   ]
  },
  {
   "cell_type": "code",
   "execution_count": null,
   "metadata": {},
   "outputs": [],
   "source": [
    "import statsmodels.api as sm\n",
    "\n",
    "X = df.drop(columns=([\"expenditures\"] + [col for col in df.columns if \"optical\" in col.lower()] + [col for col in df.columns if \"2014\" in col]))\n",
    "X = sm.add_constant(X)\n",
    "y = df[\"expenditures\"]"
   ]
  },
  {
   "cell_type": "code",
   "execution_count": null,
   "metadata": {},
   "outputs": [
    {
     "name": "stdout",
     "output_type": "stream",
     "text": [
      "                            OLS Regression Results                            \n",
      "==============================================================================\n",
      "Dep. Variable:           expenditures   R-squared:                       0.987\n",
      "Model:                            OLS   Adj. R-squared:                  0.982\n",
      "Method:                 Least Squares   F-statistic:                     193.9\n",
      "Date:                Wed, 30 Oct 2024   Prob (F-statistic):           2.94e-78\n",
      "Time:                        10:15:55   Log-Likelihood:                 66.805\n",
      "No. Observations:                 140   AIC:                            -51.61\n",
      "Df Residuals:                      99   BIC:                             69.00\n",
      "Df Model:                          40                                         \n",
      "Covariance Type:            nonrobust                                         \n",
      "===========================================================================================================================================\n",
      "                                                                              coef    std err          t      P>|t|      [0.025      0.975]\n",
      "-------------------------------------------------------------------------------------------------------------------------------------------\n",
      "const                                                                      17.0559      0.045    382.938      0.000      16.968      17.144\n",
      "ADJONCTIONS, OPTIONS ET REPARATIONS APPLICABLES AUX FAUTEUILS ROULANTS     -0.3625      0.058     -6.299      0.000      -0.477      -0.248\n",
      "APPAREIL GENERATEUR D AEROSOL                                               0.4601      0.058      7.994      0.000       0.346       0.574\n",
      "ARTICLES POUR PANSEMENTS, MATERIELS DE CONTENTION                           3.1456      0.058     54.657      0.000       3.031       3.260\n",
      "AUDIOPROTHESES ET ENTRETIEN, REPARATIONS ET ACCESSOIRES POUR PROCESSEUR     1.5748      0.172      9.151      0.000       1.233       1.916\n",
      "DISPOSITIFS MEDICAUX IMPLANTABLES ACTIFS                                    1.3869      0.058     24.099      0.000       1.273       1.501\n",
      "DMI D ORIGINE SYNTHETIQUE                                                   3.0129      0.058     52.352      0.000       2.899       3.127\n",
      "FAUTEUILS ROULANTS                                                          1.0255      0.058     17.819      0.000       0.911       1.140\n",
      "OPTIQUE MEDICALE                                                            2.0216      0.172     11.748      0.000       1.680       2.363\n",
      "ORTHESES                                                                    1.8755      0.058     32.588      0.000       1.761       1.990\n",
      "ORTHESES (PETIT APPAREILLAGE) (CHAP.1)                                      2.4254      0.058     42.142      0.000       2.311       2.540\n",
      "ORTHOPROTHESES(CHAP.7)                                                      2.2722      0.058     39.481      0.000       2.158       2.386\n",
      "PROTHESES EXTERNES NON ORTHOPEDIQUES                                       -0.3593      0.058     -6.244      0.000      -0.474      -0.245\n",
      "PROTHESES OCULAIRES ET FACIALES                                            -1.0570      0.058    -18.366      0.000      -1.171      -0.943\n",
      "VEHICULES DIVERS                                                           -0.3659      0.058     -6.358      0.000      -0.480      -0.252\n",
      "2015                                                                        0.0446      0.073      0.612      0.542      -0.100       0.189\n",
      "2016                                                                        0.1250      0.073      1.715      0.090      -0.020       0.270\n",
      "2017                                                                        0.1738      0.073      2.384      0.019       0.029       0.318\n",
      "2018                                                                        0.2258      0.073      3.097      0.003       0.081       0.370\n",
      "2019                                                                        0.2985      0.073      4.094      0.000       0.154       0.443\n",
      "2020                                                                        0.2357      0.073      3.234      0.002       0.091       0.380\n",
      "2021                                                                        0.3404      0.073      4.670      0.000       0.196       0.485\n",
      "2022                                                                        0.3419      0.073      4.690      0.000       0.197       0.487\n",
      "2023                                                                        0.3995      0.073      5.481      0.000       0.255       0.544\n",
      "interact. audio x year2015                                                  0.0558      0.263      0.212      0.832      -0.466       0.577\n",
      "interact. optique x year2015                                                0.0095      0.263      0.036      0.971      -0.512       0.531\n",
      "interact. audio x year2016                                                  0.0194      0.263      0.074      0.941      -0.502       0.541\n",
      "interact. optique x year2016                                               -0.0474      0.263     -0.180      0.857      -0.569       0.474\n",
      "interact. audio x year2017                                                  0.0219      0.263      0.083      0.934      -0.500       0.543\n",
      "interact. optique x year2017                                               -0.0912      0.263     -0.347      0.729      -0.613       0.430\n",
      "interact. audio x year2018                                                  0.0370      0.263      0.141      0.888      -0.484       0.559\n",
      "interact. optique x year2018                                               -0.0995      0.263     -0.379      0.706      -0.621       0.422\n",
      "interact. audio x year2019                                                  0.0124      0.263      0.047      0.963      -0.509       0.534\n",
      "interact. optique x year2019                                               -0.1165      0.263     -0.443      0.659      -0.638       0.405\n",
      "interact. audio x year2020                                                  0.2361      0.263      0.898      0.371      -0.285       0.758\n",
      "interact. optique x year2020                                               -2.7071      0.263    -10.300      0.000      -3.229      -2.186\n",
      "interact. audio x year2021                                                  0.8430      0.263      3.208      0.002       0.322       1.365\n",
      "interact. optique x year2021                                               -1.2965      0.263     -4.933      0.000      -1.818      -0.775\n",
      "interact. audio x year2022                                                  0.8787      0.263      3.343      0.001       0.357       1.400\n",
      "interact. optique x year2022                                               -1.2430      0.263     -4.729      0.000      -1.764      -0.721\n",
      "interact. audio x year2023                                                  0.8086      0.263      3.077      0.003       0.287       1.330\n",
      "interact. optique x year2023                                               -1.1845      0.263     -4.507      0.000      -1.706      -0.663\n",
      "==============================================================================\n",
      "Omnibus:                       12.046   Durbin-Watson:                   0.543\n",
      "Prob(Omnibus):                  0.002   Jarque-Bera (JB):               33.543\n",
      "Skew:                          -0.042   Prob(JB):                     5.20e-08\n",
      "Kurtosis:                       5.396   Cond. No.                     8.18e+15\n",
      "==============================================================================\n",
      "\n",
      "Notes:\n",
      "[1] Standard Errors assume that the covariance matrix of the errors is correctly specified.\n",
      "[2] The smallest eigenvalue is 2.43e-30. This might indicate that there are\n",
      "strong multicollinearity problems or that the design matrix is singular.\n"
     ]
    }
   ],
   "source": [
    "model = sm.OLS(y, X).fit()\n",
    "print(model.summary())"
   ]
  },
  {
   "cell_type": "markdown",
   "metadata": {},
   "source": [
    "## WITH AGE RANGE"
   ]
  },
  {
   "cell_type": "code",
   "execution_count": 74,
   "metadata": {},
   "outputs": [],
   "source": [
    "df_aged = pd.read_excel(\"df_aged_for_reg_30-10.xlsx\", index_col=0)"
   ]
  },
  {
   "cell_type": "code",
   "execution_count": 77,
   "metadata": {},
   "outputs": [],
   "source": [
    "df_aged = df_aged[df_aged[\"expenditures\"]!=0]"
   ]
  },
  {
   "cell_type": "code",
   "execution_count": 79,
   "metadata": {},
   "outputs": [
    {
     "data": {
      "text/html": [
       "<div>\n",
       "<style scoped>\n",
       "    .dataframe tbody tr th:only-of-type {\n",
       "        vertical-align: middle;\n",
       "    }\n",
       "\n",
       "    .dataframe tbody tr th {\n",
       "        vertical-align: top;\n",
       "    }\n",
       "\n",
       "    .dataframe thead th {\n",
       "        text-align: right;\n",
       "    }\n",
       "</style>\n",
       "<table border=\"1\" class=\"dataframe\">\n",
       "  <thead>\n",
       "    <tr style=\"text-align: right;\">\n",
       "      <th></th>\n",
       "      <th>expenditures</th>\n",
       "      <th>ADJONCTIONS, OPTIONS ET REPARATIONS APPLICABLES AUX FAUTEUILS ROULANTS</th>\n",
       "      <th>APPAREIL GENERATEUR D AEROSOL</th>\n",
       "      <th>ARTICLES POUR PANSEMENTS, MATERIELS DE CONTENTION</th>\n",
       "      <th>AUDIOPROTHESES ET ENTRETIEN, REPARATIONS ET ACCESSOIRES POUR PROCESSEUR</th>\n",
       "      <th>DISPOSITIFS MEDICAUX IMPLANTABLES ACTIFS</th>\n",
       "      <th>DMI D ORIGINE SYNTHETIQUE</th>\n",
       "      <th>FAUTEUILS ROULANTS</th>\n",
       "      <th>OPTIQUE MEDICALE</th>\n",
       "      <th>ORTHESES</th>\n",
       "      <th>...</th>\n",
       "      <th>interact. (audio+optical) x year2022</th>\n",
       "      <th>interact. audio x year2023</th>\n",
       "      <th>interact. optique x year2023</th>\n",
       "      <th>interact. (audio+optical) x year2023</th>\n",
       "      <th>interact. audio x year0-20</th>\n",
       "      <th>interact. optique x year0-20</th>\n",
       "      <th>interact. (audio+optical) x year0-20</th>\n",
       "      <th>interact. audio x year20-40</th>\n",
       "      <th>interact. optique x year20-40</th>\n",
       "      <th>interact. (audio+optical) x year20-40</th>\n",
       "    </tr>\n",
       "  </thead>\n",
       "  <tbody>\n",
       "    <tr>\n",
       "      <th>0</th>\n",
       "      <td>2.850055</td>\n",
       "      <td>0</td>\n",
       "      <td>0</td>\n",
       "      <td>1</td>\n",
       "      <td>0</td>\n",
       "      <td>0</td>\n",
       "      <td>0</td>\n",
       "      <td>0</td>\n",
       "      <td>0</td>\n",
       "      <td>0</td>\n",
       "      <td>...</td>\n",
       "      <td>0</td>\n",
       "      <td>0</td>\n",
       "      <td>0</td>\n",
       "      <td>0</td>\n",
       "      <td>0</td>\n",
       "      <td>0</td>\n",
       "      <td>0</td>\n",
       "      <td>0</td>\n",
       "      <td>0</td>\n",
       "      <td>0</td>\n",
       "    </tr>\n",
       "    <tr>\n",
       "      <th>1</th>\n",
       "      <td>2.887647</td>\n",
       "      <td>0</td>\n",
       "      <td>0</td>\n",
       "      <td>1</td>\n",
       "      <td>0</td>\n",
       "      <td>0</td>\n",
       "      <td>0</td>\n",
       "      <td>0</td>\n",
       "      <td>0</td>\n",
       "      <td>0</td>\n",
       "      <td>...</td>\n",
       "      <td>0</td>\n",
       "      <td>0</td>\n",
       "      <td>0</td>\n",
       "      <td>0</td>\n",
       "      <td>0</td>\n",
       "      <td>0</td>\n",
       "      <td>0</td>\n",
       "      <td>0</td>\n",
       "      <td>0</td>\n",
       "      <td>0</td>\n",
       "    </tr>\n",
       "    <tr>\n",
       "      <th>2</th>\n",
       "      <td>2.927279</td>\n",
       "      <td>0</td>\n",
       "      <td>0</td>\n",
       "      <td>1</td>\n",
       "      <td>0</td>\n",
       "      <td>0</td>\n",
       "      <td>0</td>\n",
       "      <td>0</td>\n",
       "      <td>0</td>\n",
       "      <td>0</td>\n",
       "      <td>...</td>\n",
       "      <td>0</td>\n",
       "      <td>0</td>\n",
       "      <td>0</td>\n",
       "      <td>0</td>\n",
       "      <td>0</td>\n",
       "      <td>0</td>\n",
       "      <td>0</td>\n",
       "      <td>0</td>\n",
       "      <td>0</td>\n",
       "      <td>0</td>\n",
       "    </tr>\n",
       "    <tr>\n",
       "      <th>3</th>\n",
       "      <td>2.984623</td>\n",
       "      <td>0</td>\n",
       "      <td>0</td>\n",
       "      <td>1</td>\n",
       "      <td>0</td>\n",
       "      <td>0</td>\n",
       "      <td>0</td>\n",
       "      <td>0</td>\n",
       "      <td>0</td>\n",
       "      <td>0</td>\n",
       "      <td>...</td>\n",
       "      <td>0</td>\n",
       "      <td>0</td>\n",
       "      <td>0</td>\n",
       "      <td>0</td>\n",
       "      <td>0</td>\n",
       "      <td>0</td>\n",
       "      <td>0</td>\n",
       "      <td>0</td>\n",
       "      <td>0</td>\n",
       "      <td>0</td>\n",
       "    </tr>\n",
       "    <tr>\n",
       "      <th>4</th>\n",
       "      <td>2.853458</td>\n",
       "      <td>0</td>\n",
       "      <td>0</td>\n",
       "      <td>1</td>\n",
       "      <td>0</td>\n",
       "      <td>0</td>\n",
       "      <td>0</td>\n",
       "      <td>0</td>\n",
       "      <td>0</td>\n",
       "      <td>0</td>\n",
       "      <td>...</td>\n",
       "      <td>0</td>\n",
       "      <td>0</td>\n",
       "      <td>0</td>\n",
       "      <td>0</td>\n",
       "      <td>0</td>\n",
       "      <td>0</td>\n",
       "      <td>0</td>\n",
       "      <td>0</td>\n",
       "      <td>0</td>\n",
       "      <td>0</td>\n",
       "    </tr>\n",
       "  </tbody>\n",
       "</table>\n",
       "<p>5 rows × 65 columns</p>\n",
       "</div>"
      ],
      "text/plain": [
       "   expenditures  \\\n",
       "0      2.850055   \n",
       "1      2.887647   \n",
       "2      2.927279   \n",
       "3      2.984623   \n",
       "4      2.853458   \n",
       "\n",
       "   ADJONCTIONS, OPTIONS ET REPARATIONS APPLICABLES AUX FAUTEUILS ROULANTS  \\\n",
       "0                                                  0                        \n",
       "1                                                  0                        \n",
       "2                                                  0                        \n",
       "3                                                  0                        \n",
       "4                                                  0                        \n",
       "\n",
       "   APPAREIL GENERATEUR D AEROSOL  \\\n",
       "0                              0   \n",
       "1                              0   \n",
       "2                              0   \n",
       "3                              0   \n",
       "4                              0   \n",
       "\n",
       "   ARTICLES POUR PANSEMENTS, MATERIELS DE CONTENTION  \\\n",
       "0                                                  1   \n",
       "1                                                  1   \n",
       "2                                                  1   \n",
       "3                                                  1   \n",
       "4                                                  1   \n",
       "\n",
       "   AUDIOPROTHESES ET ENTRETIEN, REPARATIONS ET ACCESSOIRES POUR PROCESSEUR  \\\n",
       "0                                                  0                         \n",
       "1                                                  0                         \n",
       "2                                                  0                         \n",
       "3                                                  0                         \n",
       "4                                                  0                         \n",
       "\n",
       "   DISPOSITIFS MEDICAUX IMPLANTABLES ACTIFS  DMI D ORIGINE SYNTHETIQUE  \\\n",
       "0                                         0                          0   \n",
       "1                                         0                          0   \n",
       "2                                         0                          0   \n",
       "3                                         0                          0   \n",
       "4                                         0                          0   \n",
       "\n",
       "   FAUTEUILS ROULANTS  OPTIQUE MEDICALE  ORTHESES  ...  \\\n",
       "0                   0                 0         0  ...   \n",
       "1                   0                 0         0  ...   \n",
       "2                   0                 0         0  ...   \n",
       "3                   0                 0         0  ...   \n",
       "4                   0                 0         0  ...   \n",
       "\n",
       "   interact. (audio+optical) x year2022  interact. audio x year2023  \\\n",
       "0                                     0                           0   \n",
       "1                                     0                           0   \n",
       "2                                     0                           0   \n",
       "3                                     0                           0   \n",
       "4                                     0                           0   \n",
       "\n",
       "   interact. optique x year2023  interact. (audio+optical) x year2023  \\\n",
       "0                             0                                     0   \n",
       "1                             0                                     0   \n",
       "2                             0                                     0   \n",
       "3                             0                                     0   \n",
       "4                             0                                     0   \n",
       "\n",
       "   interact. audio x year0-20  interact. optique x year0-20  \\\n",
       "0                           0                             0   \n",
       "1                           0                             0   \n",
       "2                           0                             0   \n",
       "3                           0                             0   \n",
       "4                           0                             0   \n",
       "\n",
       "   interact. (audio+optical) x year0-20  interact. audio x year20-40  \\\n",
       "0                                     0                            0   \n",
       "1                                     0                            0   \n",
       "2                                     0                            0   \n",
       "3                                     0                            0   \n",
       "4                                     0                            0   \n",
       "\n",
       "   interact. optique x year20-40  interact. (audio+optical) x year20-40  \n",
       "0                              0                                      0  \n",
       "1                              0                                      0  \n",
       "2                              0                                      0  \n",
       "3                              0                                      0  \n",
       "4                              0                                      0  \n",
       "\n",
       "[5 rows x 65 columns]"
      ]
     },
     "execution_count": 79,
     "metadata": {},
     "output_type": "execute_result"
    }
   ],
   "source": [
    "df_aged[\"expenditures\"] = np.log(df_aged[\"expenditures\"])\n",
    "df_aged.head()"
   ]
  },
  {
   "cell_type": "markdown",
   "metadata": {},
   "source": [
    "# all"
   ]
  },
  {
   "cell_type": "code",
   "execution_count": 140,
   "metadata": {},
   "outputs": [],
   "source": [
    "import statsmodels.api as sm\n",
    "\n",
    "X = df_aged.drop(columns=([\"expenditures\", \"0-20\"] + [col for col in df_aged.columns if \"2014\" in col] + [col for col in df_aged.columns if \"year\" in col and \"-\" in col] + [col for col in df.columns if \"audio x\" in col or \"optique x\" in col]))\n",
    "X = sm.add_constant(X)\n",
    "y = df_aged[\"expenditures\"]"
   ]
  },
  {
   "cell_type": "code",
   "execution_count": 141,
   "metadata": {},
   "outputs": [
    {
     "name": "stdout",
     "output_type": "stream",
     "text": [
      "                            OLS Regression Results                            \n",
      "==============================================================================\n",
      "Dep. Variable:           expenditures   R-squared:                       0.744\n",
      "Model:                            OLS   Adj. R-squared:                  0.727\n",
      "Method:                 Least Squares   F-statistic:                     44.61\n",
      "Date:                Wed, 30 Oct 2024   Prob (F-statistic):          1.23e-131\n",
      "Time:                        12:25:30   Log-Likelihood:                 723.90\n",
      "No. Observations:                 557   AIC:                            -1378.\n",
      "Df Residuals:                     522   BIC:                            -1227.\n",
      "Df Model:                          34                                         \n",
      "Covariance Type:            nonrobust                                         \n",
      "===========================================================================================================================================\n",
      "                                                                              coef    std err          t      P>|t|      [0.025      0.975]\n",
      "-------------------------------------------------------------------------------------------------------------------------------------------\n",
      "const                                                                       2.5272      0.010    260.254      0.000       2.508       2.546\n",
      "ADJONCTIONS, OPTIONS ET REPARATIONS APPLICABLES AUX FAUTEUILS ROULANTS      0.1089      0.011      9.913      0.000       0.087       0.131\n",
      "APPAREIL GENERATEUR D AEROSOL                                               0.1635      0.011     14.881      0.000       0.142       0.185\n",
      "ARTICLES POUR PANSEMENTS, MATERIELS DE CONTENTION                           0.3063      0.011     27.872      0.000       0.285       0.328\n",
      "AUDIOPROTHESES ET ENTRETIEN, REPARATIONS ET ACCESSOIRES POUR PROCESSEUR     0.2257      0.024      9.573      0.000       0.179       0.272\n",
      "DISPOSITIFS MEDICAUX IMPLANTABLES ACTIFS                                    0.0880      0.011      7.746      0.000       0.066       0.110\n",
      "DMI D ORIGINE SYNTHETIQUE                                                   0.2759      0.011     25.110      0.000       0.254       0.298\n",
      "FAUTEUILS ROULANTS                                                          0.1871      0.011     17.025      0.000       0.165       0.209\n",
      "OPTIQUE MEDICALE                                                            0.2378      0.024     10.086      0.000       0.192       0.284\n",
      "ORTHESES                                                                    0.2604      0.011     23.692      0.000       0.239       0.282\n",
      "ORTHESES (PETIT APPAREILLAGE) (CHAP.1)                                      0.2641      0.011     24.035      0.000       0.243       0.286\n",
      "ORTHOPROTHESES(CHAP.7)                                                      0.2787      0.011     25.358      0.000       0.257       0.300\n",
      "PROTHESES EXTERNES NON ORTHOPEDIQUES                                        0.0042      0.011      0.379      0.705      -0.017       0.026\n",
      "PROTHESES OCULAIRES ET FACIALES                                             0.0652      0.011      5.933      0.000       0.044       0.087\n",
      "VEHICULES DIVERS                                                            0.0613      0.011      5.578      0.000       0.040       0.083\n",
      "2015                                                                        0.0027      0.014      0.193      0.847      -0.025       0.030\n",
      "2016                                                                        0.0072      0.014      0.517      0.606      -0.020       0.035\n",
      "2017                                                                        0.0101      0.014      0.726      0.468      -0.017       0.037\n",
      "2018                                                                        0.0126      0.014      0.907      0.365      -0.015       0.040\n",
      "2019                                                                        0.0232      0.014      1.658      0.098      -0.004       0.051\n",
      "2020                                                                        0.0122      0.014      0.876      0.382      -0.015       0.040\n",
      "2021                                                                        0.0170      0.014      1.226      0.221      -0.010       0.044\n",
      "2022                                                                        0.0255      0.014      1.826      0.068      -0.002       0.053\n",
      "2023                                                                        0.0288      0.014      2.062      0.040       0.001       0.056\n",
      "20-40                                                                       0.0344      0.008      4.197      0.000       0.018       0.050\n",
      "40-60                                                                       0.0988      0.008     12.062      0.000       0.083       0.115\n",
      "60-80                                                                       0.1599      0.008     19.519      0.000       0.144       0.176\n",
      "interact. (audio+optical) x year2015                                        0.0014      0.037      0.037      0.970      -0.071       0.074\n",
      "interact. (audio+optical) x year2016                                       -0.0012      0.037     -0.034      0.973      -0.074       0.071\n",
      "interact. (audio+optical) x year2017                                       -0.0038      0.037     -0.104      0.917      -0.076       0.068\n",
      "interact. (audio+optical) x year2018                                       -0.0032      0.037     -0.087      0.930      -0.076       0.069\n",
      "interact. (audio+optical) x year2019                                       -0.0109      0.037     -0.296      0.768      -0.083       0.061\n",
      "interact. (audio+optical) x year2020                                       -0.0707      0.037     -1.920      0.055      -0.143       0.002\n",
      "interact. (audio+optical) x year2021                                       -0.0136      0.037     -0.369      0.712      -0.086       0.059\n",
      "interact. (audio+optical) x year2022                                       -0.0178      0.037     -0.482      0.630      -0.090       0.055\n",
      "interact. (audio+optical) x year2023                                       -0.0176      0.037     -0.478      0.633      -0.090       0.055\n",
      "==============================================================================\n",
      "Omnibus:                      161.193   Durbin-Watson:                   2.292\n",
      "Prob(Omnibus):                  0.000   Jarque-Bera (JB):              694.557\n",
      "Skew:                          -1.242   Prob(JB):                    1.51e-151\n",
      "Kurtosis:                       7.874   Cond. No.                     2.09e+15\n",
      "==============================================================================\n",
      "\n",
      "Notes:\n",
      "[1] Standard Errors assume that the covariance matrix of the errors is correctly specified.\n",
      "[2] The smallest eigenvalue is 1.74e-28. This might indicate that there are\n",
      "strong multicollinearity problems or that the design matrix is singular.\n"
     ]
    }
   ],
   "source": [
    "model = sm.OLS(y, X).fit()\n",
    "print(model.summary())"
   ]
  },
  {
   "cell_type": "code",
   "execution_count": 142,
   "metadata": {},
   "outputs": [
    {
     "data": {
      "image/png": "[encoded data removed]",
      "text/plain": [
       "<Figure size 1000x600 with 1 Axes>"
      ]
     },
     "metadata": {},
     "output_type": "display_data"
    }
   ],
   "source": [
    "time_periods = [i+2015 for i in range(9)]\n",
    "coefficients = model.params[-9:]\n",
    "std_errors = model.bse[-9:]\n",
    "\n",
    "# 2. Créer le graphique\n",
    "plt.figure(figsize=(10, 6))\n",
    "\n",
    "# Tracer les coefficients avec des barres d'erreur\n",
    "plt.errorbar(time_periods, coefficients, yerr=std_errors, fmt='o', color='red', ecolor='red', capsize=5)\n",
    "\n",
    "# Labels et titre\n",
    "plt.xlabel(\"Time\")\n",
    "plt.ylabel(\"Coefficient\")\n",
    "plt.title(\"Impact du traitement au fil du temps (secteur hearing+optique)\")\n",
    "plt.grid(True)\n",
    "\n",
    "# Afficher le graphique\n",
    "plt.show()"
   ]
  },
  {
   "cell_type": "markdown",
   "metadata": {},
   "source": [
    "## optical"
   ]
  },
  {
   "cell_type": "code",
   "execution_count": 143,
   "metadata": {},
   "outputs": [],
   "source": [
    "import statsmodels.api as sm\n",
    "\n",
    "X = df_aged.drop(columns=([\"expenditures\", \"0-20\"] + [col for col in df_aged.columns if \"audio\" in col.lower()] + [col for col in df_aged.columns if \"2014\" in col] + [col for col in df_aged.columns if \"year\" in col and \"-\" in col]))\n",
    "X = sm.add_constant(X)\n",
    "y = df_aged[\"expenditures\"]"
   ]
  },
  {
   "cell_type": "code",
   "execution_count": 144,
   "metadata": {},
   "outputs": [
    {
     "name": "stdout",
     "output_type": "stream",
     "text": [
      "                            OLS Regression Results                            \n",
      "==============================================================================\n",
      "Dep. Variable:           expenditures   R-squared:                       0.751\n",
      "Model:                            OLS   Adj. R-squared:                  0.734\n",
      "Method:                 Least Squares   F-statistic:                     46.23\n",
      "Date:                Wed, 30 Oct 2024   Prob (F-statistic):          1.38e-134\n",
      "Time:                        12:25:52   Log-Likelihood:                 731.30\n",
      "No. Observations:                 557   AIC:                            -1393.\n",
      "Df Residuals:                     522   BIC:                            -1241.\n",
      "Df Model:                          34                                         \n",
      "Covariance Type:            nonrobust                                         \n",
      "==========================================================================================================================================\n",
      "                                                                             coef    std err          t      P>|t|      [0.025      0.975]\n",
      "------------------------------------------------------------------------------------------------------------------------------------------\n",
      "const                                                                      2.7383      0.015    186.441      0.000       2.709       2.767\n",
      "ADJONCTIONS, OPTIONS ET REPARATIONS APPLICABLES AUX FAUTEUILS ROULANTS    -0.1031      0.015     -6.854      0.000      -0.133      -0.074\n",
      "APPAREIL GENERATEUR D AEROSOL                                             -0.0485      0.015     -3.223      0.001      -0.078      -0.019\n",
      "ARTICLES POUR PANSEMENTS, MATERIELS DE CONTENTION                          0.0943      0.015      6.271      0.000       0.065       0.124\n",
      "DISPOSITIFS MEDICAUX IMPLANTABLES ACTIFS                                  -0.1239      0.015     -8.074      0.000      -0.154      -0.094\n",
      "DMI D ORIGINE SYNTHETIQUE                                                  0.0639      0.015      4.252      0.000       0.034       0.093\n",
      "FAUTEUILS ROULANTS                                                        -0.0249      0.015     -1.657      0.098      -0.054       0.005\n",
      "OPTIQUE MEDICALE                                                           0.0524      0.036      1.440      0.150      -0.019       0.124\n",
      "ORTHESES                                                                   0.0484      0.015      3.216      0.001       0.019       0.078\n",
      "ORTHESES (PETIT APPAREILLAGE) (CHAP.1)                                     0.0521      0.015      3.467      0.001       0.023       0.082\n",
      "ORTHOPROTHESES(CHAP.7)                                                     0.0667      0.015      4.433      0.000       0.037       0.096\n",
      "PROTHESES EXTERNES NON ORTHOPEDIQUES                                      -0.2078      0.015    -13.822      0.000      -0.237      -0.178\n",
      "PROTHESES OCULAIRES ET FACIALES                                           -0.1468      0.015     -9.763      0.000      -0.176      -0.117\n",
      "VEHICULES DIVERS                                                          -0.1507      0.015    -10.023      0.000      -0.180      -0.121\n",
      "2015                                                                       0.0029      0.013      0.218      0.827      -0.023       0.029\n",
      "2016                                                                       0.0072      0.013      0.548      0.584      -0.019       0.033\n",
      "2017                                                                       0.0100      0.013      0.757      0.450      -0.016       0.036\n",
      "2018                                                                       0.0126      0.013      0.954      0.340      -0.013       0.038\n",
      "2019                                                                       0.0225      0.013      1.698      0.090      -0.004       0.049\n",
      "2020                                                                       0.0133      0.013      1.011      0.313      -0.013       0.039\n",
      "2021                                                                       0.0201      0.013      1.524      0.128      -0.006       0.046\n",
      "2022                                                                       0.0284      0.013      2.146      0.032       0.002       0.054\n",
      "2023                                                                       0.0315      0.013      2.377      0.018       0.005       0.058\n",
      "20-40                                                                      0.0344      0.008      4.251      0.000       0.018       0.050\n",
      "40-60                                                                      0.0988      0.008     12.221      0.000       0.083       0.115\n",
      "60-80                                                                      0.1599      0.008     19.778      0.000       0.144       0.176\n",
      "interact. optique x year2015                                            8.767e-05      0.049      0.002      0.999      -0.097       0.097\n",
      "interact. optique x year2016                                              -0.0031      0.049     -0.063      0.950      -0.100       0.094\n",
      "interact. optique x year2017                                              -0.0060      0.049     -0.121      0.904      -0.103       0.091\n",
      "interact. optique x year2018                                              -0.0060      0.049     -0.121      0.903      -0.103       0.091\n",
      "interact. optique x year2019                                              -0.0125      0.049     -0.253      0.800      -0.109       0.084\n",
      "interact. optique x year2020                                              -0.1574      0.049     -3.189      0.002      -0.254      -0.060\n",
      "interact. optique x year2021                                              -0.0699      0.049     -1.417      0.157      -0.167       0.027\n",
      "interact. optique x year2022                                              -0.0757      0.049     -1.534      0.126      -0.173       0.021\n",
      "interact. optique x year2023                                              -0.0720      0.049     -1.459      0.145      -0.169       0.025\n",
      "==============================================================================\n",
      "Omnibus:                      170.434   Durbin-Watson:                   2.348\n",
      "Prob(Omnibus):                  0.000   Jarque-Bera (JB):              769.253\n",
      "Skew:                          -1.304   Prob(JB):                    9.10e-168\n",
      "Kurtosis:                       8.133   Cond. No.                         47.3\n",
      "==============================================================================\n",
      "\n",
      "Notes:\n",
      "[1] Standard Errors assume that the covariance matrix of the errors is correctly specified.\n"
     ]
    }
   ],
   "source": [
    "model = sm.OLS(y, X).fit()\n",
    "print(model.summary())"
   ]
  },
  {
   "cell_type": "code",
   "execution_count": 145,
   "metadata": {},
   "outputs": [
    {
     "data": {
      "image/png": "[encoded data removed]",
      "text/plain": [
       "<Figure size 1000x600 with 1 Axes>"
      ]
     },
     "metadata": {},
     "output_type": "display_data"
    }
   ],
   "source": [
    "time_periods = [i+2015 for i in range(9)]\n",
    "coefficients = model.params[-9:]\n",
    "std_errors = model.bse[-9:]\n",
    "\n",
    "# 2. Créer le graphique\n",
    "plt.figure(figsize=(10, 6))\n",
    "\n",
    "# Tracer les coefficients avec des barres d'erreur\n",
    "plt.errorbar(time_periods, coefficients, yerr=std_errors, fmt='o', color='red', ecolor='red', capsize=5)\n",
    "\n",
    "# Labels et titre\n",
    "plt.xlabel(\"Time\")\n",
    "plt.ylabel(\"Coefficient\")\n",
    "plt.title(\"Impact du traitement au fil du temps (secteur optique)\")\n",
    "plt.grid(True)\n",
    "\n",
    "# Afficher le graphique\n",
    "plt.show()"
   ]
  },
  {
   "cell_type": "markdown",
   "metadata": {},
   "source": [
    "## hearing"
   ]
  },
  {
   "cell_type": "code",
   "execution_count": 146,
   "metadata": {},
   "outputs": [],
   "source": [
    "import statsmodels.api as sm\n",
    "\n",
    "X = df_aged.drop(columns=([\"expenditures\", \"0-20\"] + [col for col in df_aged.columns if \"optique\" in col.lower()] + [col for col in df_aged.columns if \"optical\" in col.lower()] + [col for col in df_aged.columns if \"2014\" in col] + [col for col in df_aged.columns if \"year\" in col and \"-\" in col]))\n",
    "X = sm.add_constant(X)\n",
    "y = df_aged[\"expenditures\"]"
   ]
  },
  {
   "cell_type": "code",
   "execution_count": 147,
   "metadata": {},
   "outputs": [
    {
     "name": "stdout",
     "output_type": "stream",
     "text": [
      "                            OLS Regression Results                            \n",
      "==============================================================================\n",
      "Dep. Variable:           expenditures   R-squared:                       0.743\n",
      "Model:                            OLS   Adj. R-squared:                  0.726\n",
      "Method:                 Least Squares   F-statistic:                     44.29\n",
      "Date:                Wed, 30 Oct 2024   Prob (F-statistic):          4.81e-131\n",
      "Time:                        12:25:54   Log-Likelihood:                 722.41\n",
      "No. Observations:                 557   AIC:                            -1375.\n",
      "Df Residuals:                     522   BIC:                            -1224.\n",
      "Df Model:                          34                                         \n",
      "Covariance Type:            nonrobust                                         \n",
      "===========================================================================================================================================\n",
      "                                                                              coef    std err          t      P>|t|      [0.025      0.975]\n",
      "-------------------------------------------------------------------------------------------------------------------------------------------\n",
      "const                                                                       2.7543      0.015    184.562      0.000       2.725       2.784\n",
      "ADJONCTIONS, OPTIONS ET REPARATIONS APPLICABLES AUX FAUTEUILS ROULANTS     -0.1152      0.015     -7.538      0.000      -0.145      -0.085\n",
      "APPAREIL GENERATEUR D AEROSOL                                              -0.0606      0.015     -3.964      0.000      -0.091      -0.031\n",
      "ARTICLES POUR PANSEMENTS, MATERIELS DE CONTENTION                           0.0822      0.015      5.379      0.000       0.052       0.112\n",
      "AUDIOPROTHESES ET ENTRETIEN, REPARATIONS ET ACCESSOIRES POUR PROCESSEUR    -0.0270      0.037     -0.731      0.465      -0.100       0.046\n",
      "DISPOSITIFS MEDICAUX IMPLANTABLES ACTIFS                                   -0.1362      0.016     -8.731      0.000      -0.167      -0.106\n",
      "DMI D ORIGINE SYNTHETIQUE                                                   0.0518      0.015      3.393      0.001       0.022       0.082\n",
      "FAUTEUILS ROULANTS                                                         -0.0370      0.015     -2.423      0.016      -0.067      -0.007\n",
      "ORTHESES                                                                    0.0363      0.015      2.373      0.018       0.006       0.066\n",
      "ORTHESES (PETIT APPAREILLAGE) (CHAP.1)                                      0.0400      0.015      2.620      0.009       0.010       0.070\n",
      "ORTHOPROTHESES(CHAP.7)                                                      0.0546      0.015      3.571      0.000       0.025       0.085\n",
      "PROTHESES EXTERNES NON ORTHOPEDIQUES                                       -0.2199      0.015    -14.395      0.000      -0.250      -0.190\n",
      "PROTHESES OCULAIRES ET FACIALES                                            -0.1589      0.015    -10.401      0.000      -0.189      -0.129\n",
      "VEHICULES DIVERS                                                           -0.1628      0.015    -10.656      0.000      -0.193      -0.133\n",
      "2015                                                                        0.0027      0.013      0.202      0.840      -0.024       0.029\n",
      "2016                                                                        0.0070      0.013      0.519      0.604      -0.019       0.033\n",
      "2017                                                                        0.0096      0.013      0.719      0.473      -0.017       0.036\n",
      "2018                                                                        0.0121      0.013      0.907      0.365      -0.014       0.038\n",
      "2019                                                                        0.0222      0.013      1.649      0.100      -0.004       0.049\n",
      "2020                                                                        0.0002      0.013      0.012      0.990      -0.026       0.026\n",
      "2021                                                                        0.0119      0.013      0.889      0.375      -0.014       0.038\n",
      "2022                                                                        0.0199      0.013      1.476      0.141      -0.007       0.046\n",
      "2023                                                                        0.0235      0.013      1.742      0.082      -0.003       0.050\n",
      "20-40                                                                       0.0344      0.008      4.188      0.000       0.018       0.051\n",
      "40-60                                                                       0.0989      0.008     12.033      0.000       0.083       0.115\n",
      "60-80                                                                       0.1599      0.008     19.469      0.000       0.144       0.176\n",
      "interact. audio x year2015                                                  0.0024      0.050      0.049      0.961      -0.096       0.101\n",
      "interact. audio x year2016                                                  0.0008      0.050      0.016      0.987      -0.098       0.099\n",
      "interact. audio x year2017                                                 -0.0011      0.050     -0.022      0.982      -0.100       0.097\n",
      "interact. audio x year2018                                               5.525e-05      0.050      0.001      0.999      -0.098       0.099\n",
      "interact. audio x year2019                                                 -0.0076      0.050     -0.152      0.879      -0.106       0.091\n",
      "interact. audio x year2020                                                  0.0269      0.050      0.537      0.592      -0.072       0.125\n",
      "interact. audio x year2021                                                  0.0449      0.050      0.895      0.371      -0.054       0.143\n",
      "interact. audio x year2022                                                  0.0430      0.050      0.857      0.392      -0.056       0.142\n",
      "interact. audio x year2023                                                  0.0396      0.050      0.789      0.431      -0.059       0.138\n",
      "==============================================================================\n",
      "Omnibus:                      159.795   Durbin-Watson:                   2.279\n",
      "Prob(Omnibus):                  0.000   Jarque-Bera (JB):              695.807\n",
      "Skew:                          -1.227   Prob(JB):                    8.08e-152\n",
      "Kurtosis:                       7.895   Cond. No.                         47.3\n",
      "==============================================================================\n",
      "\n",
      "Notes:\n",
      "[1] Standard Errors assume that the covariance matrix of the errors is correctly specified.\n"
     ]
    }
   ],
   "source": [
    "model = sm.OLS(y, X).fit()\n",
    "print(model.summary())"
   ]
  },
  {
   "cell_type": "code",
   "execution_count": 148,
   "metadata": {},
   "outputs": [
    {
     "data": {
      "image/png": "[encoded data removed]",
      "text/plain": [
       "<Figure size 1000x600 with 1 Axes>"
      ]
     },
     "metadata": {},
     "output_type": "display_data"
    }
   ],
   "source": [
    "time_periods = [i+2015 for i in range(9)]\n",
    "coefficients = model.params[-9:]\n",
    "std_errors = model.bse[-9:]\n",
    "\n",
    "# 2. Créer le graphique\n",
    "plt.figure(figsize=(10, 6))\n",
    "\n",
    "# Tracer les coefficients avec des barres d'erreur\n",
    "plt.errorbar(time_periods, coefficients, yerr=std_errors, fmt='o', color='red', ecolor='red', capsize=5)\n",
    "\n",
    "# Labels et titre\n",
    "plt.xlabel(\"Time\")\n",
    "plt.ylabel(\"Coefficient\")\n",
    "plt.title(\"Impact du traitement au fil du temps (secteur hearing)\")\n",
    "plt.grid(True)\n",
    "\n",
    "# Afficher le graphique\n",
    "plt.show()"
   ]
  }
 ],
 "metadata": {
  "kernelspec": {
   "display_name": "base",
   "language": "python",
   "name": "python3"
  },
  "language_info": {
   "codemirror_mode": {
    "name": "ipython",
    "version": 3
   },
   "file_extension": ".py",
   "mimetype": "text/x-python",
   "name": "python",
   "nbconvert_exporter": "python",
   "pygments_lexer": "ipython3",
   "version": "3.11.5"
  }
 },
 "nbformat": 4,
 "nbformat_minor": 2
}
