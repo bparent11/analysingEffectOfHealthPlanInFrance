{
 "cells": [
  {
   "cell_type": "code",
   "execution_count": 1,
   "metadata": {},
   "outputs": [],
   "source": [
    "import pandas as pd\n",
    "import matplotlib.pyplot as plt\n",
    "import os\n",
    "import copy\n",
    "import importlib\n",
    "import functions\n",
    "import numpy as np\n",
    "import json"
   ]
  },
  {
   "cell_type": "code",
   "execution_count": 2,
   "metadata": {},
   "outputs": [],
   "source": [
    "from functions import gov_exp"
   ]
  },
  {
   "cell_type": "code",
   "execution_count": 3,
   "metadata": {},
   "outputs": [],
   "source": [
    "importlib.reload(functions)\n",
    "from functions import gov_exp"
   ]
  },
  {
   "cell_type": "markdown",
   "metadata": {},
   "source": [
    "# getting groups"
   ]
  },
  {
   "cell_type": "code",
   "execution_count": 19,
   "metadata": {},
   "outputs": [],
   "source": [
    "optical = gov_exp(\n",
    "    inflation_adjustment=False,\n",
    "    sector=\"optical\",\n",
    "    mask={\"OPTIQUE MEDICALE\": [\"equality\", \"L_SC1\", \"and\"]},\n",
    "    indent=0,\n",
    ")"
   ]
  },
  {
   "cell_type": "code",
   "execution_count": 20,
   "metadata": {},
   "outputs": [],
   "source": [
    "orthoprotheses = gov_exp(\n",
    "    inflation_adjustment=False,\n",
    "    sector=\"all\",\n",
    "    mask={\"ORTHOPROTHESES(CHAP.7)\": [\"equality\", \"L_SC1\", \"and\"]},\n",
    "    indent=0,\n",
    ")"
   ]
  },
  {
   "cell_type": "code",
   "execution_count": 21,
   "metadata": {},
   "outputs": [],
   "source": [
    "dmi_synthe = gov_exp(\n",
    "    inflation_adjustment=False,\n",
    "    sector=\"all\",\n",
    "    mask={\"DMI D ORIGINE SYNTHETIQUE\": [\"equality\", \"L_SC1\", \"and\"]},\n",
    "    indent=0,\n",
    ")"
   ]
  },
  {
   "cell_type": "code",
   "execution_count": 22,
   "metadata": {},
   "outputs": [],
   "source": [
    "audioprotheses = gov_exp(\n",
    "    inflation_adjustment=False,\n",
    "    sector=\"all\",\n",
    "    mask={\n",
    "        \"AUDIOPROTHESES ET ENTRETIEN, REPARATIONS ET ACCESSOIRES POUR PROCESSEUR\": [\n",
    "            \"contains\",\n",
    "            \"L_SC1\",\n",
    "            \"or\",\n",
    "        ],\n",
    "        \"AUDIOPROTHESES ET ENTRETIEN, REPARATIONS ET ACCESSOIRES POUR PROCESSEURS\": [\n",
    "            \"contains\",\n",
    "            \"L_SC1\",\n",
    "            \"or\",\n",
    "        ],\n",
    "    },\n",
    "    indent=0,\n",
    ")"
   ]
  },
  {
   "cell_type": "code",
   "execution_count": 23,
   "metadata": {},
   "outputs": [],
   "source": [
    "ortheses = gov_exp(\n",
    "    inflation_adjustment=False,\n",
    "    sector=\"all\",\n",
    "    mask={\"ORTHESES (PETIT APPAREILLAGE) (CHAP.1)\": [\"equality\", \"L_SC1\", \"and\"]},\n",
    "    indent=0,\n",
    ")"
   ]
  },
  {
   "cell_type": "code",
   "execution_count": 24,
   "metadata": {},
   "outputs": [],
   "source": [
    "aerosol = gov_exp(\n",
    "    inflation_adjustment=False,\n",
    "    sector=\"all\",\n",
    "    mask={\"APPAREIL GENERATEUR D AEROSOL\": [\"equality\", \"L_SC1\", \"and\"]},\n",
    "    indent=0,\n",
    ")"
   ]
  },
  {
   "cell_type": "code",
   "execution_count": 97,
   "metadata": {},
   "outputs": [],
   "source": [
    "labels_name = [\"optical\", \"orthoprotheses\", \"dmi_synthe\", \"audioprotheses\", \"ortheses\", \"aerosol\"]\n",
    "labels = [optical, orthoprotheses, dmi_synthe, audioprotheses, ortheses, aerosol]\n",
    "dict = {labels_name[i]:labels[i] for i in range(6)}"
   ]
  },
  {
   "cell_type": "code",
   "execution_count": 98,
   "metadata": {},
   "outputs": [],
   "source": [
    "#do we separate all groups, like we differ group with their name or we differ it whether they are treated and controled ? try 2*"
   ]
  },
  {
   "cell_type": "markdown",
   "metadata": {},
   "source": [
    "# getting data in a unique df"
   ]
  },
  {
   "cell_type": "code",
   "execution_count": 99,
   "metadata": {},
   "outputs": [],
   "source": [
    "i=0\n",
    "for group_name in labels_name:\n",
    "    \n",
    "    if group_name == \"optical\":\n",
    "        treatment = [0, 0, 0, 0, 0, 0, 1, 1, 1, 1]\n",
    "    elif group_name == \"audioprotheses\":\n",
    "        treatment = [0, 0, 0, 0, 0, 1, 1, 1, 1, 1]\n",
    "    else:\n",
    "        treatment = [0 for j in range(10)]\n",
    "    \n",
    "    df = pd.DataFrame(\n",
    "    {\n",
    "        \"year\":dict[group_name][0].keys(),\n",
    "        \"expenditures\":dict[group_name][0].values(),\n",
    "        \"treatment\":treatment,\n",
    "    }\n",
    "    )\n",
    "\n",
    "    df = pd.get_dummies(df, columns=['year'], prefix='', prefix_sep='').astype(int)\n",
    "\n",
    "    if i == 0:\n",
    "        df_final = df\n",
    "        i+=1\n",
    "    else:\n",
    "        df_final = pd.concat([df_final, df], axis=0)\n",
    "\n",
    "reference = \"2014\"\n",
    "\n",
    "df_final.reset_index(inplace=True)\n",
    "df_final.drop(columns=[\"index\", reference], inplace=True)\n",
    "\n",
    "for col in df_final.filter(like=\"2\").columns:\n",
    "    df_final[f'{col}_treatment'] = df_final[\"treatment\"] * df_final[col]"
   ]
  },
  {
   "cell_type": "code",
   "execution_count": 100,
   "metadata": {},
   "outputs": [
    {
     "data": {
      "text/html": [
       "<div>\n",
       "<style scoped>\n",
       "    .dataframe tbody tr th:only-of-type {\n",
       "        vertical-align: middle;\n",
       "    }\n",
       "\n",
       "    .dataframe tbody tr th {\n",
       "        vertical-align: top;\n",
       "    }\n",
       "\n",
       "    .dataframe thead th {\n",
       "        text-align: right;\n",
       "    }\n",
       "</style>\n",
       "<table border=\"1\" class=\"dataframe\">\n",
       "  <thead>\n",
       "    <tr style=\"text-align: right;\">\n",
       "      <th></th>\n",
       "      <th>expenditures</th>\n",
       "      <th>treatment</th>\n",
       "      <th>2015</th>\n",
       "      <th>2016</th>\n",
       "      <th>2017</th>\n",
       "      <th>2018</th>\n",
       "      <th>2019</th>\n",
       "      <th>2020</th>\n",
       "      <th>2021</th>\n",
       "      <th>2022</th>\n",
       "      <th>2023</th>\n",
       "      <th>2015_treatment</th>\n",
       "      <th>2016_treatment</th>\n",
       "      <th>2017_treatment</th>\n",
       "      <th>2018_treatment</th>\n",
       "      <th>2019_treatment</th>\n",
       "      <th>2020_treatment</th>\n",
       "      <th>2021_treatment</th>\n",
       "      <th>2022_treatment</th>\n",
       "      <th>2023_treatment</th>\n",
       "    </tr>\n",
       "  </thead>\n",
       "  <tbody>\n",
       "    <tr>\n",
       "      <th>55</th>\n",
       "      <td>48600898</td>\n",
       "      <td>0</td>\n",
       "      <td>0</td>\n",
       "      <td>0</td>\n",
       "      <td>0</td>\n",
       "      <td>0</td>\n",
       "      <td>1</td>\n",
       "      <td>0</td>\n",
       "      <td>0</td>\n",
       "      <td>0</td>\n",
       "      <td>0</td>\n",
       "      <td>0</td>\n",
       "      <td>0</td>\n",
       "      <td>0</td>\n",
       "      <td>0</td>\n",
       "      <td>0</td>\n",
       "      <td>0</td>\n",
       "      <td>0</td>\n",
       "      <td>0</td>\n",
       "      <td>0</td>\n",
       "    </tr>\n",
       "    <tr>\n",
       "      <th>56</th>\n",
       "      <td>42818001</td>\n",
       "      <td>0</td>\n",
       "      <td>0</td>\n",
       "      <td>0</td>\n",
       "      <td>0</td>\n",
       "      <td>0</td>\n",
       "      <td>0</td>\n",
       "      <td>1</td>\n",
       "      <td>0</td>\n",
       "      <td>0</td>\n",
       "      <td>0</td>\n",
       "      <td>0</td>\n",
       "      <td>0</td>\n",
       "      <td>0</td>\n",
       "      <td>0</td>\n",
       "      <td>0</td>\n",
       "      <td>0</td>\n",
       "      <td>0</td>\n",
       "      <td>0</td>\n",
       "      <td>0</td>\n",
       "    </tr>\n",
       "    <tr>\n",
       "      <th>57</th>\n",
       "      <td>40465413</td>\n",
       "      <td>0</td>\n",
       "      <td>0</td>\n",
       "      <td>0</td>\n",
       "      <td>0</td>\n",
       "      <td>0</td>\n",
       "      <td>0</td>\n",
       "      <td>0</td>\n",
       "      <td>1</td>\n",
       "      <td>0</td>\n",
       "      <td>0</td>\n",
       "      <td>0</td>\n",
       "      <td>0</td>\n",
       "      <td>0</td>\n",
       "      <td>0</td>\n",
       "      <td>0</td>\n",
       "      <td>0</td>\n",
       "      <td>0</td>\n",
       "      <td>0</td>\n",
       "      <td>0</td>\n",
       "    </tr>\n",
       "    <tr>\n",
       "      <th>58</th>\n",
       "      <td>43625433</td>\n",
       "      <td>0</td>\n",
       "      <td>0</td>\n",
       "      <td>0</td>\n",
       "      <td>0</td>\n",
       "      <td>0</td>\n",
       "      <td>0</td>\n",
       "      <td>0</td>\n",
       "      <td>0</td>\n",
       "      <td>1</td>\n",
       "      <td>0</td>\n",
       "      <td>0</td>\n",
       "      <td>0</td>\n",
       "      <td>0</td>\n",
       "      <td>0</td>\n",
       "      <td>0</td>\n",
       "      <td>0</td>\n",
       "      <td>0</td>\n",
       "      <td>0</td>\n",
       "      <td>0</td>\n",
       "    </tr>\n",
       "    <tr>\n",
       "      <th>59</th>\n",
       "      <td>44977228</td>\n",
       "      <td>0</td>\n",
       "      <td>0</td>\n",
       "      <td>0</td>\n",
       "      <td>0</td>\n",
       "      <td>0</td>\n",
       "      <td>0</td>\n",
       "      <td>0</td>\n",
       "      <td>0</td>\n",
       "      <td>0</td>\n",
       "      <td>1</td>\n",
       "      <td>0</td>\n",
       "      <td>0</td>\n",
       "      <td>0</td>\n",
       "      <td>0</td>\n",
       "      <td>0</td>\n",
       "      <td>0</td>\n",
       "      <td>0</td>\n",
       "      <td>0</td>\n",
       "      <td>0</td>\n",
       "    </tr>\n",
       "  </tbody>\n",
       "</table>\n",
       "</div>"
      ],
      "text/plain": [
       "    expenditures  treatment  2015  2016  2017  2018  2019  2020  2021  2022  \\\n",
       "55      48600898          0     0     0     0     0     1     0     0     0   \n",
       "56      42818001          0     0     0     0     0     0     1     0     0   \n",
       "57      40465413          0     0     0     0     0     0     0     1     0   \n",
       "58      43625433          0     0     0     0     0     0     0     0     1   \n",
       "59      44977228          0     0     0     0     0     0     0     0     0   \n",
       "\n",
       "    2023  2015_treatment  2016_treatment  2017_treatment  2018_treatment  \\\n",
       "55     0               0               0               0               0   \n",
       "56     0               0               0               0               0   \n",
       "57     0               0               0               0               0   \n",
       "58     0               0               0               0               0   \n",
       "59     1               0               0               0               0   \n",
       "\n",
       "    2019_treatment  2020_treatment  2021_treatment  2022_treatment  \\\n",
       "55               0               0               0               0   \n",
       "56               0               0               0               0   \n",
       "57               0               0               0               0   \n",
       "58               0               0               0               0   \n",
       "59               0               0               0               0   \n",
       "\n",
       "    2023_treatment  \n",
       "55               0  \n",
       "56               0  \n",
       "57               0  \n",
       "58               0  \n",
       "59               0  "
      ]
     },
     "execution_count": 100,
     "metadata": {},
     "output_type": "execute_result"
    }
   ],
   "source": [
    "df_final.tail()"
   ]
  },
  {
   "cell_type": "code",
   "execution_count": 101,
   "metadata": {},
   "outputs": [],
   "source": [
    "df_final.to_csv(\"df_for_reg.csv\")"
   ]
  },
  {
   "cell_type": "code",
   "execution_count": 110,
   "metadata": {},
   "outputs": [
    {
     "data": {
      "text/plain": [
       "Index(['expenditures', 'treatment', '2015', '2016', '2017', '2018', '2019',\n",
       "       '2020', '2021', '2022', '2023', '2015_treatment', '2016_treatment',\n",
       "       '2017_treatment', '2018_treatment', '2019_treatment', '2020_treatment',\n",
       "       '2021_treatment', '2022_treatment', '2023_treatment'],\n",
       "      dtype='object')"
      ]
     },
     "execution_count": 110,
     "metadata": {},
     "output_type": "execute_result"
    }
   ],
   "source": [
    "df_final = pd.read_csv(\"df_for_reg.csv\", index_col=0)\n",
    "df_final.columns"
   ]
  },
  {
   "cell_type": "markdown",
   "metadata": {},
   "source": [
    "## log(y)"
   ]
  },
  {
   "cell_type": "code",
   "execution_count": 118,
   "metadata": {},
   "outputs": [],
   "source": [
    "import statsmodels.api as sm\n",
    "\n",
    "X = df_final.drop(columns=[\"expenditures\"])\n",
    "X = sm.add_constant(X)\n",
    "y = np.log(df_final[\"expenditures\"])"
   ]
  },
  {
   "cell_type": "code",
   "execution_count": 119,
   "metadata": {},
   "outputs": [
    {
     "name": "stdout",
     "output_type": "stream",
     "text": [
      "                            OLS Regression Results                            \n",
      "==============================================================================\n",
      "Dep. Variable:           expenditures   R-squared:                       0.085\n",
      "Model:                            OLS   Adj. R-squared:                 -0.199\n",
      "Method:                 Least Squares   F-statistic:                    0.2995\n",
      "Date:                Fri, 25 Oct 2024   Prob (F-statistic):              0.991\n",
      "Time:                        21:59:32   Log-Likelihood:                -76.600\n",
      "No. Observations:                  60   AIC:                             183.2\n",
      "Df Residuals:                      45   BIC:                             214.6\n",
      "Df Model:                          14                                         \n",
      "Covariance Type:            nonrobust                                         \n",
      "==================================================================================\n",
      "                     coef    std err          t      P>|t|      [0.025      0.975]\n",
      "----------------------------------------------------------------------------------\n",
      "const             19.1238      0.409     46.770      0.000      18.300      19.947\n",
      "treatment         -0.4485      0.342     -1.311      0.196      -1.138       0.241\n",
      "2015               0.0549      0.578      0.095      0.925      -1.110       1.220\n",
      "2016               0.0951      0.578      0.164      0.870      -1.070       1.260\n",
      "2017               0.1117      0.578      0.193      0.848      -1.053       1.276\n",
      "2018               0.1304      0.578      0.225      0.823      -1.034       1.295\n",
      "2019               0.1995      0.606      0.329      0.744      -1.022       1.421\n",
      "2020               0.1032      0.647      0.160      0.874      -1.199       1.405\n",
      "2021               0.1662      0.647      0.257      0.798      -1.136       1.468\n",
      "2022               0.1969      0.647      0.305      0.762      -1.105       1.499\n",
      "2023               0.2500      0.647      0.387      0.701      -1.052       1.552\n",
      "2015_treatment -8.736e-17   2.16e-16     -0.404      0.688   -5.22e-16    3.48e-16\n",
      "2016_treatment -7.349e-17    2.3e-16     -0.319      0.751   -5.37e-16     3.9e-16\n",
      "2017_treatment -3.129e-17   9.95e-17     -0.315      0.755   -2.32e-16    1.69e-16\n",
      "2018_treatment -5.256e-17   1.37e-16     -0.383      0.704   -3.29e-16    2.24e-16\n",
      "2019_treatment     0.0669      0.959      0.070      0.945      -1.865       1.998\n",
      "2020_treatment    -0.9241      0.787     -1.175      0.246      -2.508       0.660\n",
      "2021_treatment     0.1264      0.787      0.161      0.873      -1.458       1.711\n",
      "2022_treatment     0.1417      0.787      0.180      0.858      -1.442       1.726\n",
      "2023_treatment     0.1405      0.787      0.179      0.859      -1.444       1.725\n",
      "==============================================================================\n",
      "Omnibus:                        6.016   Durbin-Watson:                   0.232\n",
      "Prob(Omnibus):                  0.049   Jarque-Bera (JB):                5.263\n",
      "Skew:                          -0.638   Prob(JB):                       0.0720\n",
      "Kurtosis:                       2.310   Cond. No.                     6.24e+17\n",
      "==============================================================================\n",
      "\n",
      "Notes:\n",
      "[1] Standard Errors assume that the covariance matrix of the errors is correctly specified.\n",
      "[2] The smallest eigenvalue is 1.73e-34. This might indicate that there are\n",
      "strong multicollinearity problems or that the design matrix is singular.\n"
     ]
    }
   ],
   "source": [
    "model = sm.OLS(y, X).fit()\n",
    "print(model.summary())"
   ]
  },
  {
   "cell_type": "markdown",
   "metadata": {},
   "source": [
    "## y"
   ]
  },
  {
   "cell_type": "code",
   "execution_count": 123,
   "metadata": {},
   "outputs": [
    {
     "name": "stdout",
     "output_type": "stream",
     "text": [
      "                            OLS Regression Results                            \n",
      "==============================================================================\n",
      "Dep. Variable:           expenditures   R-squared:                       0.073\n",
      "Model:                            OLS   Adj. R-squared:                 -0.216\n",
      "Method:                 Least Squares   F-statistic:                    0.2522\n",
      "Date:                Fri, 25 Oct 2024   Prob (F-statistic):              0.996\n",
      "Time:                        22:04:06   Log-Likelihood:                -1229.1\n",
      "No. Observations:                  60   AIC:                             2488.\n",
      "Df Residuals:                      45   BIC:                             2520.\n",
      "Df Model:                          14                                         \n",
      "Covariance Type:            nonrobust                                         \n",
      "==================================================================================\n",
      "                     coef    std err          t      P>|t|      [0.025      0.975]\n",
      "----------------------------------------------------------------------------------\n",
      "const            2.63e+08   8.99e+07      2.924      0.005    8.18e+07    4.44e+08\n",
      "treatment      -1.185e+08   7.53e+07     -1.575      0.122    -2.7e+08    3.31e+07\n",
      "2015            9.892e+06   1.27e+08      0.078      0.938   -2.46e+08    2.66e+08\n",
      "2016            2.224e+07   1.27e+08      0.175      0.862   -2.34e+08    2.78e+08\n",
      "2017            2.575e+07   1.27e+08      0.202      0.840    -2.3e+08    2.82e+08\n",
      "2018            3.342e+07   1.27e+08      0.263      0.794   -2.23e+08     2.9e+08\n",
      "2019            6.632e+07   1.33e+08      0.497      0.622   -2.02e+08    3.35e+08\n",
      "2020            5.102e+07   1.42e+08      0.359      0.721   -2.35e+08    3.37e+08\n",
      "2021            8.336e+07   1.42e+08      0.586      0.561   -2.03e+08     3.7e+08\n",
      "2022            9.135e+07   1.42e+08      0.642      0.524   -1.95e+08    3.78e+08\n",
      "2023            1.167e+08   1.42e+08      0.821      0.416    -1.7e+08    4.03e+08\n",
      "2015_treatment -1.382e-08   4.75e-08     -0.291      0.773    -1.1e-07    8.19e-08\n",
      "2016_treatment  -1.03e-08   5.06e-08     -0.203      0.840   -1.12e-07    9.16e-08\n",
      "2017_treatment -3.133e-09   2.19e-08     -0.143      0.887   -4.72e-08    4.09e-08\n",
      "2018_treatment -8.581e-09   3.02e-08     -0.284      0.778   -6.94e-08    5.22e-08\n",
      "2019_treatment -4.243e+07   2.11e+08     -0.201      0.841   -4.67e+08    3.82e+08\n",
      "2020_treatment -8.847e+07   1.73e+08     -0.511      0.612   -4.37e+08     2.6e+08\n",
      "2021_treatment  1.069e+07   1.73e+08      0.062      0.951   -3.38e+08    3.59e+08\n",
      "2022_treatment  1.242e+07   1.73e+08      0.072      0.943   -3.36e+08    3.61e+08\n",
      "2023_treatment -1.072e+07   1.73e+08     -0.062      0.951   -3.59e+08    3.38e+08\n",
      "==============================================================================\n",
      "Omnibus:                        2.759   Durbin-Watson:                   0.237\n",
      "Prob(Omnibus):                  0.252   Jarque-Bera (JB):                2.571\n",
      "Skew:                           0.432   Prob(JB):                        0.276\n",
      "Kurtosis:                       2.467   Cond. No.                     6.24e+17\n",
      "==============================================================================\n",
      "\n",
      "Notes:\n",
      "[1] Standard Errors assume that the covariance matrix of the errors is correctly specified.\n",
      "[2] The smallest eigenvalue is 1.73e-34. This might indicate that there are\n",
      "strong multicollinearity problems or that the design matrix is singular.\n"
     ]
    }
   ],
   "source": [
    "import statsmodels.api as sm\n",
    "\n",
    "X = df_final.drop(columns=[\"expenditures\"])\n",
    "X = sm.add_constant(X)\n",
    "y = df_final[\"expenditures\"]\n",
    "\n",
    "model = sm.OLS(y, X).fit()\n",
    "print(model.summary())"
   ]
  },
  {
   "cell_type": "code",
   "execution_count": null,
   "metadata": {},
   "outputs": [],
   "source": []
  }
 ],
 "metadata": {
  "kernelspec": {
   "display_name": "base",
   "language": "python",
   "name": "python3"
  },
  "language_info": {
   "codemirror_mode": {
    "name": "ipython",
    "version": 3
   },
   "file_extension": ".py",
   "mimetype": "text/x-python",
   "name": "python",
   "nbconvert_exporter": "python",
   "pygments_lexer": "ipython3",
   "version": "3.11.5"
  }
 },
 "nbformat": 4,
 "nbformat_minor": 2
}
