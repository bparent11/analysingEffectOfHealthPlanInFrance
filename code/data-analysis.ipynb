{
 "cells": [
  {
   "cell_type": "code",
   "execution_count": 36,
   "metadata": {},
   "outputs": [],
   "source": [
    "import pandas as pd\n",
    "import matplotlib.pyplot as plt\n",
    "import os\n",
    "import copy\n",
    "#import seaborn as sns"
   ]
  },
  {
   "cell_type": "markdown",
   "metadata": {},
   "source": [
    "# Collecting code LPP under the \"100% Santé\" plan"
   ]
  },
  {
   "cell_type": "markdown",
   "metadata": {},
   "source": [
    "### Verification of L_SC1 titles who has been modified, erased or added between 2014 and 2024"
   ]
  },
  {
   "cell_type": "code",
   "execution_count": 37,
   "metadata": {},
   "outputs": [
    {
     "data": {
      "text/plain": [
       "{'2014 - 2015': [],\n",
       " '2015 - 2016': ['ACCESSOIRES DE PRODUITS INSCRITS AU TITRE III'],\n",
       " '2016 - 2017': [],\n",
       " '2017 - 2018': [],\n",
       " '2018 - 2019': [],\n",
       " '2019 - 2020': [],\n",
       " '2020 - 2021': ['DM DE MAINTIEN A DOMICILE ET D AIDE A LA VIE POUR MALADES ET HANDICAPE',\n",
       "  'ACCESSOIRES DE PRODUITS INSCRITS AU TITRE III',\n",
       "  'DISPOSITIFS MEDICAUX UTILISES DANS LE SYST CARDIO-VASCULAIRE',\n",
       "  'AUDIOPROTHESES ET ENTRETIEN, REPARATIONS ET ACCESSOIRES POUR PROCESSEUR',\n",
       "  'IMPLANTS ISSUS DE DERIVES HUMAINS-GREFFONS',\n",
       "  'PODO-ORTHESES'],\n",
       " '2021 - 2022': ['CODES ARRIVES A ECHEANCE'],\n",
       " '2022 - 2023': []}"
      ]
     },
     "execution_count": 37,
     "metadata": {},
     "output_type": "execute_result"
    }
   ],
   "source": [
    "diff = {}\n",
    "\n",
    "for i in range(2024-2015):\n",
    "    df1 = pd.read_csv(f\"../Open-LPP-data/base_complete/OPEN_LPP_{i+2014}.CSV\", encoding='ISO-8859-1', sep=';')\n",
    "    produits1 = df1[\"L_SC1\"].unique().tolist()\n",
    "    df2 = pd.read_csv(f\"../Open-LPP-data/base_complete/OPEN_LPP_{i+2014+1}.CSV\", encoding='ISO-8859-1', sep=';')\n",
    "    produits2 = df2[\"L_SC1\"].unique().tolist()\n",
    "    difference = list(set(produits1).difference(set(produits2)))\n",
    "    key = f\"{i+2014} - {i+2015}\"\n",
    "    diff[key] = difference\n",
    "\n",
    "diff"
   ]
  },
  {
   "cell_type": "markdown",
   "metadata": {},
   "source": [
    "The only thing that can interest us is \"AUDIOPROTHESES ET ENTRETIEN, REPARATIONS ET ACCESSOIRES POUR PROCESSEUR\", that we won't forget for the hearing field."
   ]
  },
  {
   "cell_type": "markdown",
   "metadata": {},
   "source": [
    "## Optical"
   ]
  },
  {
   "cell_type": "markdown",
   "metadata": {},
   "source": [
    "### Getting the interesting L_SC1 titles"
   ]
  },
  {
   "cell_type": "markdown",
   "metadata": {},
   "source": [
    "*avant tout il faut regarder si on prend bien tout les l_SC1 en compte parce qu'il y a eu des ajouts, suppressions et modif toutes ces années*"
   ]
  },
  {
   "cell_type": "code",
   "execution_count": 38,
   "metadata": {},
   "outputs": [
    {
     "data": {
      "text/plain": [
       "['DM, MATERIELS ET PRODUITS POUR LE TRAITEMENT DE PATHOLOGIES SPECIFIQUES',\n",
       " 'DM DE MAINTIEN A DOMICILE ET D AIDE A LA VIE POUR MALADES ET HANDICAPES',\n",
       " 'ARTICLES POUR PANSEMENTS, MATERIELS DE CONTENTION',\n",
       " 'CODES ARRIVES A ECHEANCE',\n",
       " 'ORTHESES',\n",
       " 'OPTIQUE MEDICALE',\n",
       " 'AUDIOPROTHESES ET ENTRETIEN, REPARATIONS ET ACCESSOIRES POUR PROCESSEURS',\n",
       " 'PROTHESES EXTERNES NON ORTHOPEDIQUES',\n",
       " 'PROTHESES OCULAIRES ET FACIALES',\n",
       " 'PODO_ORTHESES',\n",
       " 'DMI D ORIGINE SYNTHETIQUE',\n",
       " 'DMI ISSUS DE DERIVES ORIGINE ANIMALE NON VIABLES OU EN COMPORTANT',\n",
       " 'IMPLANTS ISSUS DE DERIVES HUMAINS_GREFFONS',\n",
       " 'DISPOSITIFS MEDICAUX IMPLANTABLES ACTIFS',\n",
       " 'FAUTEUILS ROULANTS',\n",
       " 'VEHICULES DIVERS',\n",
       " 'ADJONCTIONS, OPTIONS ET REPARATIONS APPLICABLES AUX FAUTEUILS ROULANTS',\n",
       " 'DISPOSITIFS MEDICAUX UTILISES EN NEUROLOGIE',\n",
       " 'DISPOISTIFS MEDICAUX UTILISES DANS LE SYSTEME CARDIO_VASCULAIRE',\n",
       " 'DISPOSITIFS MEDICAUX UTILISES EN ONCOLOGIE',\n",
       " 'DISPOSITIFS MEDICAUX UTILISES DANS LE SYSTEME GASTRO-INTESTINAL',\n",
       " 'DISPOSITIFS MEDICAUX UTILISES DANS LE SYSTEME URO-GENITAL',\n",
       " 'APPAREIL GENERATEUR D AEROSOL',\n",
       " 'ORTHESES (PETIT APPAREILLAGE) (CHAP.1)',\n",
       " 'ORTHOPROTHESES(CHAP.7)']"
      ]
     },
     "execution_count": 38,
     "metadata": {},
     "output_type": "execute_result"
    }
   ],
   "source": [
    "df2023cplt = pd.read_csv(\"../Open-LPP-data/base_complete/OPEN_LPP_2023.CSV\", encoding='ISO-8859-1', sep=';')\n",
    "produits = df2023cplt[\"L_SC1\"].unique().tolist() #return a list of the L_SC1 title of all the product and prestation in the df\n",
    "produits"
   ]
  },
  {
   "cell_type": "code",
   "execution_count": 39,
   "metadata": {},
   "outputs": [
    {
     "name": "stdout",
     "output_type": "stream",
     "text": [
      "['OPTIQUE MEDICALE', 'PROTHESES OCULAIRES ET FACIALES']\n"
     ]
    }
   ],
   "source": [
    "optical_100 = []\n",
    "produits_index = [5, 8]\n",
    "\n",
    "for i in range(len(produits_index)):\n",
    "    optical_100.append(produits[produits_index[i]])\n",
    "\n",
    "print(optical_100) #we got 2 interesting L_SC1 title which seem to be eligible to the 100% Santé plan for optical field, we will clean it more precisely."
   ]
  },
  {
   "cell_type": "markdown",
   "metadata": {},
   "source": [
    "### Trying to clean the part \"PROTHESES OCULAIRES ET FACIALES\""
   ]
  },
  {
   "cell_type": "code",
   "execution_count": 40,
   "metadata": {},
   "outputs": [
    {
     "name": "stdout",
     "output_type": "stream",
     "text": [
      "943\n"
     ]
    },
    {
     "data": {
      "text/html": [
       "<div>\n",
       "<style scoped>\n",
       "    .dataframe tbody tr th:only-of-type {\n",
       "        vertical-align: middle;\n",
       "    }\n",
       "\n",
       "    .dataframe tbody tr th {\n",
       "        vertical-align: top;\n",
       "    }\n",
       "\n",
       "    .dataframe thead th {\n",
       "        text-align: right;\n",
       "    }\n",
       "</style>\n",
       "<table border=\"1\" class=\"dataframe\">\n",
       "  <thead>\n",
       "    <tr style=\"text-align: right;\">\n",
       "      <th></th>\n",
       "      <th>TITRE</th>\n",
       "      <th>L_TITRE</th>\n",
       "      <th>SC1</th>\n",
       "      <th>L_SC1</th>\n",
       "      <th>SC2</th>\n",
       "      <th>L_SC2</th>\n",
       "      <th>CODE_LPP</th>\n",
       "      <th>L_CODE_LPP</th>\n",
       "      <th>AGE</th>\n",
       "      <th>SEXE</th>\n",
       "      <th>BEN_REG</th>\n",
       "      <th>PSP_SPE</th>\n",
       "      <th>QTE</th>\n",
       "      <th>REM</th>\n",
       "      <th>BSE</th>\n",
       "    </tr>\n",
       "  </thead>\n",
       "  <tbody>\n",
       "    <tr>\n",
       "      <th>729418</th>\n",
       "      <td>2</td>\n",
       "      <td>TITRE 2 : ORTHESES ET PROTHESES EXTERNES</td>\n",
       "      <td>2_5</td>\n",
       "      <td>PROTHESES OCULAIRES ET FACIALES</td>\n",
       "      <td>2_5_3</td>\n",
       "      <td>FRAIS D EXPEDITION ET FRAIS ACCESSOIRES</td>\n",
       "      <td>2593607</td>\n",
       "      <td>PROTHESES OCULAIRES ET FACIALES, FRAIS D EXPED...</td>\n",
       "      <td>60</td>\n",
       "      <td>2</td>\n",
       "      <td>76</td>\n",
       "      <td>15</td>\n",
       "      <td>74</td>\n",
       "      <td>1710.00</td>\n",
       "      <td>1710.00</td>\n",
       "    </tr>\n",
       "    <tr>\n",
       "      <th>729419</th>\n",
       "      <td>2</td>\n",
       "      <td>TITRE 2 : ORTHESES ET PROTHESES EXTERNES</td>\n",
       "      <td>2_5</td>\n",
       "      <td>PROTHESES OCULAIRES ET FACIALES</td>\n",
       "      <td>2_5_3</td>\n",
       "      <td>FRAIS D EXPEDITION ET FRAIS ACCESSOIRES</td>\n",
       "      <td>2593607</td>\n",
       "      <td>PROTHESES OCULAIRES ET FACIALES, FRAIS D EXPED...</td>\n",
       "      <td>60</td>\n",
       "      <td>2</td>\n",
       "      <td>76</td>\n",
       "      <td>90</td>\n",
       "      <td>22</td>\n",
       "      <td>718.00</td>\n",
       "      <td>718.00</td>\n",
       "    </tr>\n",
       "    <tr>\n",
       "      <th>729420</th>\n",
       "      <td>2</td>\n",
       "      <td>TITRE 2 : ORTHESES ET PROTHESES EXTERNES</td>\n",
       "      <td>2_5</td>\n",
       "      <td>PROTHESES OCULAIRES ET FACIALES</td>\n",
       "      <td>2_5_3</td>\n",
       "      <td>FRAIS D EXPEDITION ET FRAIS ACCESSOIRES</td>\n",
       "      <td>2593607</td>\n",
       "      <td>PROTHESES OCULAIRES ET FACIALES, FRAIS D EXPED...</td>\n",
       "      <td>60</td>\n",
       "      <td>2</td>\n",
       "      <td>93</td>\n",
       "      <td>15</td>\n",
       "      <td>23</td>\n",
       "      <td>483.19</td>\n",
       "      <td>483.19</td>\n",
       "    </tr>\n",
       "  </tbody>\n",
       "</table>\n",
       "</div>"
      ],
      "text/plain": [
       "        TITRE                                   L_TITRE  SC1  \\\n",
       "729418      2  TITRE 2 : ORTHESES ET PROTHESES EXTERNES  2_5   \n",
       "729419      2  TITRE 2 : ORTHESES ET PROTHESES EXTERNES  2_5   \n",
       "729420      2  TITRE 2 : ORTHESES ET PROTHESES EXTERNES  2_5   \n",
       "\n",
       "                                  L_SC1    SC2  \\\n",
       "729418  PROTHESES OCULAIRES ET FACIALES  2_5_3   \n",
       "729419  PROTHESES OCULAIRES ET FACIALES  2_5_3   \n",
       "729420  PROTHESES OCULAIRES ET FACIALES  2_5_3   \n",
       "\n",
       "                                          L_SC2  CODE_LPP  \\\n",
       "729418  FRAIS D EXPEDITION ET FRAIS ACCESSOIRES   2593607   \n",
       "729419  FRAIS D EXPEDITION ET FRAIS ACCESSOIRES   2593607   \n",
       "729420  FRAIS D EXPEDITION ET FRAIS ACCESSOIRES   2593607   \n",
       "\n",
       "                                               L_CODE_LPP  AGE  SEXE  BEN_REG  \\\n",
       "729418  PROTHESES OCULAIRES ET FACIALES, FRAIS D EXPED...   60     2       76   \n",
       "729419  PROTHESES OCULAIRES ET FACIALES, FRAIS D EXPED...   60     2       76   \n",
       "729420  PROTHESES OCULAIRES ET FACIALES, FRAIS D EXPED...   60     2       93   \n",
       "\n",
       "        PSP_SPE  QTE      REM      BSE  \n",
       "729418       15   74  1710.00  1710.00  \n",
       "729419       90   22   718.00   718.00  \n",
       "729420       15   23   483.19   483.19  "
      ]
     },
     "execution_count": 40,
     "metadata": {},
     "output_type": "execute_result"
    }
   ],
   "source": [
    "print(len(df2023cplt[df2023cplt[\"L_SC1\"]==\"PROTHESES OCULAIRES ET FACIALES\"]))\n",
    "df2023cplt[df2023cplt[\"L_SC1\"]==\"PROTHESES OCULAIRES ET FACIALES\"].tail(3)\n",
    "#we can notice that there are some shipping fees, we will look if we can disregard those."
   ]
  },
  {
   "cell_type": "code",
   "execution_count": 41,
   "metadata": {},
   "outputs": [
    {
     "data": {
      "text/plain": [
       "array(['PROTHESES OCULAIRES', 'PROTHESES FACIALES',\n",
       "       'FRAIS D EXPEDITION ET FRAIS ACCESSOIRES'], dtype=object)"
      ]
     },
     "execution_count": 41,
     "metadata": {},
     "output_type": "execute_result"
    }
   ],
   "source": [
    "df2023cplt[df2023cplt[\"L_SC1\"]==\"PROTHESES OCULAIRES ET FACIALES\"][\"L_SC2\"].unique()"
   ]
  },
  {
   "cell_type": "code",
   "execution_count": 42,
   "metadata": {},
   "outputs": [
    {
     "name": "stdout",
     "output_type": "stream",
     "text": [
      "916\n"
     ]
    },
    {
     "name": "stderr",
     "output_type": "stream",
     "text": [
      "C:\\Users\\Lenovo\\AppData\\Local\\Temp\\ipykernel_23748\\235692083.py:1: UserWarning: Boolean Series key will be reindexed to match DataFrame index.\n",
      "  print(len(df2023cplt[df2023cplt[\"L_SC1\"]==\"PROTHESES OCULAIRES ET FACIALES\"][df2023cplt[\"L_SC2\"].str.contains(\"OCULAIRES|FRAIS\")]))\n"
     ]
    }
   ],
   "source": [
    "print(len(df2023cplt[df2023cplt[\"L_SC1\"]==\"PROTHESES OCULAIRES ET FACIALES\"][df2023cplt[\"L_SC2\"].str.contains(\"OCULAIRES|FRAIS\")]))"
   ]
  },
  {
   "cell_type": "code",
   "execution_count": 43,
   "metadata": {},
   "outputs": [
    {
     "name": "stderr",
     "output_type": "stream",
     "text": [
      "C:\\Users\\Lenovo\\AppData\\Local\\Temp\\ipykernel_23748\\202664890.py:1: UserWarning: Boolean Series key will be reindexed to match DataFrame index.\n",
      "  df2023cplt[df2023cplt[\"L_SC1\"]==\"PROTHESES OCULAIRES ET FACIALES\"][df2023cplt[\"L_SC2\"].str.contains(\"OCULAIRES|FRAIS\")][\"L_CODE_LPP\"].unique()\n"
     ]
    },
    {
     "data": {
      "text/plain": [
       "array(['PROTHESE OCULAIRE PROVISOIRE DE RECOUVREMENT SUR MESURE',\n",
       "       'PROTHESE OCULAIRE PROVISOIRE SUR GABARIT',\n",
       "       \"PROTHESE OCULAIRE DEFINITIVE DE RECOUVREMENT AVEC PRISE D'EMPREINTE\",\n",
       "       \"PROTHESE OCULAIRE PROVISOIRE AVEC PRISE D'EMPREINTE\",\n",
       "       'PROTHESE OCULAIRE, RENOUVELLEMENT AVEC REPRISE DU CONTRE-TYPE INITIAL',\n",
       "       'PROTHESE OCULAIRE ORGANIQUE, REPOLISSAGE',\n",
       "       'PROTHESE OCULAIRE RECOUVRT, RENOUVT SANS PRISE EMPREINTE, +REPRISE MAITRE-MODELE',\n",
       "       'PROTHESE OCULAIRE PROVISOIRE, TEST DE RECOUVREMENT, TEST DE TOLERANCE',\n",
       "       \"PROTHESE OCULAIRE, RENOUVELLEMENT AVEC PRISE D'EMPREINTE COMPLEMENTAIRE\",\n",
       "       'PROTHESE OCULAIRE PALPEBRO-ORBITAIRE, SUR DEVIS',\n",
       "       \"PROTHESE OCULAIRE DEFINITIVE AVEC PRISE D'EMPREINTE\",\n",
       "       'VERRE SCLERAL PERMEABLE OXYGENE, LAO, SPOT, RENOUVELLEMENT',\n",
       "       \"PROTHESE OCULAIRE, RENOUVELLEMENT AVEC PRISE D'EMPREINTE\",\n",
       "       'VERRE SCLERAL PERMEABLE OXYGENE, LAO, SPOT, PREMIERE MISE',\n",
       "       \"PROTHESE OCULAIRE DE RECOUVREMENT, RENOUVELLEMENT AVEC PRISE D'EMPREINTE\",\n",
       "       'PROTHESES OCULAIRES ET FACIALES, FRAIS D EXPEDITION ET ACCESSOIRES'],\n",
       "      dtype=object)"
      ]
     },
     "execution_count": 43,
     "metadata": {},
     "output_type": "execute_result"
    }
   ],
   "source": [
    "df2023cplt[df2023cplt[\"L_SC1\"]==\"PROTHESES OCULAIRES ET FACIALES\"][df2023cplt[\"L_SC2\"].str.contains(\"OCULAIRES|FRAIS\")][\"L_CODE_LPP\"].unique() \n",
    "#we figure out that this is not as precise as we would want, but we will keep all that points for the optical field (where L_SC1 = PROTHESES OCULAIRE ET FACIALES)"
   ]
  },
  {
   "cell_type": "code",
   "execution_count": 44,
   "metadata": {},
   "outputs": [
    {
     "name": "stdout",
     "output_type": "stream",
     "text": [
      "916\n"
     ]
    }
   ],
   "source": [
    "final_mask = (df2023cplt[\"L_SC1\"]==\"PROTHESES OCULAIRES ET FACIALES\") & (df2023cplt[\"L_SC2\"].str.contains(\"OCULAIRES|FRAIS\"))\n",
    "print(len(df2023cplt[final_mask])) #we get back with 742 lines as expected with the 2nd cell above."
   ]
  },
  {
   "cell_type": "code",
   "execution_count": 45,
   "metadata": {},
   "outputs": [
    {
     "data": {
      "text/html": [
       "<div>\n",
       "<style scoped>\n",
       "    .dataframe tbody tr th:only-of-type {\n",
       "        vertical-align: middle;\n",
       "    }\n",
       "\n",
       "    .dataframe tbody tr th {\n",
       "        vertical-align: top;\n",
       "    }\n",
       "\n",
       "    .dataframe thead th {\n",
       "        text-align: right;\n",
       "    }\n",
       "</style>\n",
       "<table border=\"1\" class=\"dataframe\">\n",
       "  <thead>\n",
       "    <tr style=\"text-align: right;\">\n",
       "      <th></th>\n",
       "      <th>TITRE</th>\n",
       "      <th>L_TITRE</th>\n",
       "      <th>SC1</th>\n",
       "      <th>L_SC1</th>\n",
       "      <th>SC2</th>\n",
       "      <th>L_SC2</th>\n",
       "      <th>CODE_LPP</th>\n",
       "      <th>L_CODE_LPP</th>\n",
       "      <th>AGE</th>\n",
       "      <th>SEXE</th>\n",
       "      <th>BEN_REG</th>\n",
       "      <th>PSP_SPE</th>\n",
       "      <th>QTE</th>\n",
       "      <th>REM</th>\n",
       "      <th>BSE</th>\n",
       "    </tr>\n",
       "  </thead>\n",
       "  <tbody>\n",
       "    <tr>\n",
       "      <th>728478</th>\n",
       "      <td>2</td>\n",
       "      <td>TITRE 2 : ORTHESES ET PROTHESES EXTERNES</td>\n",
       "      <td>2_5</td>\n",
       "      <td>PROTHESES OCULAIRES ET FACIALES</td>\n",
       "      <td>2_5_1</td>\n",
       "      <td>PROTHESES OCULAIRES</td>\n",
       "      <td>2503780</td>\n",
       "      <td>PROTHESE OCULAIRE PROVISOIRE DE RECOUVREMENT S...</td>\n",
       "      <td>0</td>\n",
       "      <td>1</td>\n",
       "      <td>11</td>\n",
       "      <td>90</td>\n",
       "      <td>17</td>\n",
       "      <td>7905.75</td>\n",
       "      <td>8959.85</td>\n",
       "    </tr>\n",
       "    <tr>\n",
       "      <th>728479</th>\n",
       "      <td>2</td>\n",
       "      <td>TITRE 2 : ORTHESES ET PROTHESES EXTERNES</td>\n",
       "      <td>2_5</td>\n",
       "      <td>PROTHESES OCULAIRES ET FACIALES</td>\n",
       "      <td>2_5_1</td>\n",
       "      <td>PROTHESES OCULAIRES</td>\n",
       "      <td>2503780</td>\n",
       "      <td>PROTHESE OCULAIRE PROVISOIRE DE RECOUVREMENT S...</td>\n",
       "      <td>0</td>\n",
       "      <td>1</td>\n",
       "      <td>84</td>\n",
       "      <td>90</td>\n",
       "      <td>35</td>\n",
       "      <td>17919.70</td>\n",
       "      <td>18446.75</td>\n",
       "    </tr>\n",
       "    <tr>\n",
       "      <th>728480</th>\n",
       "      <td>2</td>\n",
       "      <td>TITRE 2 : ORTHESES ET PROTHESES EXTERNES</td>\n",
       "      <td>2_5</td>\n",
       "      <td>PROTHESES OCULAIRES ET FACIALES</td>\n",
       "      <td>2_5_1</td>\n",
       "      <td>PROTHESES OCULAIRES</td>\n",
       "      <td>2503780</td>\n",
       "      <td>PROTHESE OCULAIRE PROVISOIRE DE RECOUVREMENT S...</td>\n",
       "      <td>0</td>\n",
       "      <td>1</td>\n",
       "      <td>99</td>\n",
       "      <td>15</td>\n",
       "      <td>24</td>\n",
       "      <td>12649.20</td>\n",
       "      <td>12649.20</td>\n",
       "    </tr>\n",
       "    <tr>\n",
       "      <th>728481</th>\n",
       "      <td>2</td>\n",
       "      <td>TITRE 2 : ORTHESES ET PROTHESES EXTERNES</td>\n",
       "      <td>2_5</td>\n",
       "      <td>PROTHESES OCULAIRES ET FACIALES</td>\n",
       "      <td>2_5_1</td>\n",
       "      <td>PROTHESES OCULAIRES</td>\n",
       "      <td>2503780</td>\n",
       "      <td>PROTHESE OCULAIRE PROVISOIRE DE RECOUVREMENT S...</td>\n",
       "      <td>0</td>\n",
       "      <td>1</td>\n",
       "      <td>99</td>\n",
       "      <td>90</td>\n",
       "      <td>23</td>\n",
       "      <td>11700.51</td>\n",
       "      <td>12941.65</td>\n",
       "    </tr>\n",
       "    <tr>\n",
       "      <th>728482</th>\n",
       "      <td>2</td>\n",
       "      <td>TITRE 2 : ORTHESES ET PROTHESES EXTERNES</td>\n",
       "      <td>2_5</td>\n",
       "      <td>PROTHESES OCULAIRES ET FACIALES</td>\n",
       "      <td>2_5_1</td>\n",
       "      <td>PROTHESES OCULAIRES</td>\n",
       "      <td>2503780</td>\n",
       "      <td>PROTHESE OCULAIRE PROVISOIRE DE RECOUVREMENT S...</td>\n",
       "      <td>0</td>\n",
       "      <td>2</td>\n",
       "      <td>99</td>\n",
       "      <td>15</td>\n",
       "      <td>13</td>\n",
       "      <td>6851.65</td>\n",
       "      <td>6851.65</td>\n",
       "    </tr>\n",
       "  </tbody>\n",
       "</table>\n",
       "</div>"
      ],
      "text/plain": [
       "        TITRE                                   L_TITRE  SC1  \\\n",
       "728478      2  TITRE 2 : ORTHESES ET PROTHESES EXTERNES  2_5   \n",
       "728479      2  TITRE 2 : ORTHESES ET PROTHESES EXTERNES  2_5   \n",
       "728480      2  TITRE 2 : ORTHESES ET PROTHESES EXTERNES  2_5   \n",
       "728481      2  TITRE 2 : ORTHESES ET PROTHESES EXTERNES  2_5   \n",
       "728482      2  TITRE 2 : ORTHESES ET PROTHESES EXTERNES  2_5   \n",
       "\n",
       "                                  L_SC1    SC2                L_SC2  CODE_LPP  \\\n",
       "728478  PROTHESES OCULAIRES ET FACIALES  2_5_1  PROTHESES OCULAIRES   2503780   \n",
       "728479  PROTHESES OCULAIRES ET FACIALES  2_5_1  PROTHESES OCULAIRES   2503780   \n",
       "728480  PROTHESES OCULAIRES ET FACIALES  2_5_1  PROTHESES OCULAIRES   2503780   \n",
       "728481  PROTHESES OCULAIRES ET FACIALES  2_5_1  PROTHESES OCULAIRES   2503780   \n",
       "728482  PROTHESES OCULAIRES ET FACIALES  2_5_1  PROTHESES OCULAIRES   2503780   \n",
       "\n",
       "                                               L_CODE_LPP  AGE  SEXE  BEN_REG  \\\n",
       "728478  PROTHESE OCULAIRE PROVISOIRE DE RECOUVREMENT S...    0     1       11   \n",
       "728479  PROTHESE OCULAIRE PROVISOIRE DE RECOUVREMENT S...    0     1       84   \n",
       "728480  PROTHESE OCULAIRE PROVISOIRE DE RECOUVREMENT S...    0     1       99   \n",
       "728481  PROTHESE OCULAIRE PROVISOIRE DE RECOUVREMENT S...    0     1       99   \n",
       "728482  PROTHESE OCULAIRE PROVISOIRE DE RECOUVREMENT S...    0     2       99   \n",
       "\n",
       "        PSP_SPE  QTE       REM       BSE  \n",
       "728478       90   17   7905.75   8959.85  \n",
       "728479       90   35  17919.70  18446.75  \n",
       "728480       15   24  12649.20  12649.20  \n",
       "728481       90   23  11700.51  12941.65  \n",
       "728482       15   13   6851.65   6851.65  "
      ]
     },
     "execution_count": 45,
     "metadata": {},
     "output_type": "execute_result"
    }
   ],
   "source": [
    "df_optical_2023 = df2023cplt[final_mask]\n",
    "df_optical_2023.head()"
   ]
  },
  {
   "cell_type": "markdown",
   "metadata": {},
   "source": [
    "### Cleaning the dataframe of optical financement in 2014, to get the amounts of money"
   ]
  },
  {
   "cell_type": "code",
   "execution_count": 46,
   "metadata": {},
   "outputs": [],
   "source": [
    "#we keep the column \"REM\" to calculate the financing because this is the money effectively gave by the \"Sécurité Sociale\"\n",
    "df_optical_2023 = pd.DataFrame({\n",
    "    \"L_SC2\" : df_optical_2023[\"L_SC2\"],\n",
    "    \"CODE_LPP\" : df_optical_2023[\"CODE_LPP\"],\n",
    "    \"Quantity\" : df_optical_2023[\"QTE\"],\n",
    "    \"Financing\" : df_optical_2023[\"REM\"]\n",
    " })"
   ]
  },
  {
   "cell_type": "code",
   "execution_count": 47,
   "metadata": {},
   "outputs": [
    {
     "data": {
      "text/html": [
       "<div>\n",
       "<style scoped>\n",
       "    .dataframe tbody tr th:only-of-type {\n",
       "        vertical-align: middle;\n",
       "    }\n",
       "\n",
       "    .dataframe tbody tr th {\n",
       "        vertical-align: top;\n",
       "    }\n",
       "\n",
       "    .dataframe thead th {\n",
       "        text-align: right;\n",
       "    }\n",
       "</style>\n",
       "<table border=\"1\" class=\"dataframe\">\n",
       "  <thead>\n",
       "    <tr style=\"text-align: right;\">\n",
       "      <th></th>\n",
       "      <th>L_SC2</th>\n",
       "      <th>CODE_LPP</th>\n",
       "      <th>Quantity</th>\n",
       "      <th>Financing</th>\n",
       "    </tr>\n",
       "  </thead>\n",
       "  <tbody>\n",
       "    <tr>\n",
       "      <th>0</th>\n",
       "      <td>PROTHESES OCULAIRES</td>\n",
       "      <td>2503780</td>\n",
       "      <td>17</td>\n",
       "      <td>7905.75</td>\n",
       "    </tr>\n",
       "    <tr>\n",
       "      <th>1</th>\n",
       "      <td>PROTHESES OCULAIRES</td>\n",
       "      <td>2503780</td>\n",
       "      <td>35</td>\n",
       "      <td>17919.70</td>\n",
       "    </tr>\n",
       "    <tr>\n",
       "      <th>2</th>\n",
       "      <td>PROTHESES OCULAIRES</td>\n",
       "      <td>2503780</td>\n",
       "      <td>24</td>\n",
       "      <td>12649.20</td>\n",
       "    </tr>\n",
       "    <tr>\n",
       "      <th>3</th>\n",
       "      <td>PROTHESES OCULAIRES</td>\n",
       "      <td>2503780</td>\n",
       "      <td>23</td>\n",
       "      <td>11700.51</td>\n",
       "    </tr>\n",
       "    <tr>\n",
       "      <th>4</th>\n",
       "      <td>PROTHESES OCULAIRES</td>\n",
       "      <td>2503780</td>\n",
       "      <td>13</td>\n",
       "      <td>6851.65</td>\n",
       "    </tr>\n",
       "  </tbody>\n",
       "</table>\n",
       "</div>"
      ],
      "text/plain": [
       "                 L_SC2  CODE_LPP  Quantity  Financing\n",
       "0  PROTHESES OCULAIRES   2503780        17    7905.75\n",
       "1  PROTHESES OCULAIRES   2503780        35   17919.70\n",
       "2  PROTHESES OCULAIRES   2503780        24   12649.20\n",
       "3  PROTHESES OCULAIRES   2503780        23   11700.51\n",
       "4  PROTHESES OCULAIRES   2503780        13    6851.65"
      ]
     },
     "execution_count": 47,
     "metadata": {},
     "output_type": "execute_result"
    }
   ],
   "source": [
    "df_optical_2023.reset_index(inplace=True)\n",
    "df_optical_2023.drop(columns=\"index\", inplace=True)\n",
    "df_optical_2023.head()"
   ]
  },
  {
   "cell_type": "code",
   "execution_count": 48,
   "metadata": {},
   "outputs": [
    {
     "data": {
      "text/html": [
       "<div>\n",
       "<style scoped>\n",
       "    .dataframe tbody tr th:only-of-type {\n",
       "        vertical-align: middle;\n",
       "    }\n",
       "\n",
       "    .dataframe tbody tr th {\n",
       "        vertical-align: top;\n",
       "    }\n",
       "\n",
       "    .dataframe thead th {\n",
       "        text-align: right;\n",
       "    }\n",
       "</style>\n",
       "<table border=\"1\" class=\"dataframe\">\n",
       "  <thead>\n",
       "    <tr style=\"text-align: right;\">\n",
       "      <th></th>\n",
       "      <th>L_SC2</th>\n",
       "      <th>CODE_LPP</th>\n",
       "      <th>Quantity</th>\n",
       "      <th>Financing</th>\n",
       "      <th>Total</th>\n",
       "    </tr>\n",
       "  </thead>\n",
       "  <tbody>\n",
       "    <tr>\n",
       "      <th>0</th>\n",
       "      <td>PROTHESES OCULAIRES</td>\n",
       "      <td>2503780</td>\n",
       "      <td>17</td>\n",
       "      <td>7905.75</td>\n",
       "      <td>134397.75</td>\n",
       "    </tr>\n",
       "    <tr>\n",
       "      <th>1</th>\n",
       "      <td>PROTHESES OCULAIRES</td>\n",
       "      <td>2503780</td>\n",
       "      <td>35</td>\n",
       "      <td>17919.70</td>\n",
       "      <td>627189.50</td>\n",
       "    </tr>\n",
       "    <tr>\n",
       "      <th>2</th>\n",
       "      <td>PROTHESES OCULAIRES</td>\n",
       "      <td>2503780</td>\n",
       "      <td>24</td>\n",
       "      <td>12649.20</td>\n",
       "      <td>303580.80</td>\n",
       "    </tr>\n",
       "    <tr>\n",
       "      <th>3</th>\n",
       "      <td>PROTHESES OCULAIRES</td>\n",
       "      <td>2503780</td>\n",
       "      <td>23</td>\n",
       "      <td>11700.51</td>\n",
       "      <td>269111.73</td>\n",
       "    </tr>\n",
       "    <tr>\n",
       "      <th>4</th>\n",
       "      <td>PROTHESES OCULAIRES</td>\n",
       "      <td>2503780</td>\n",
       "      <td>13</td>\n",
       "      <td>6851.65</td>\n",
       "      <td>89071.45</td>\n",
       "    </tr>\n",
       "  </tbody>\n",
       "</table>\n",
       "</div>"
      ],
      "text/plain": [
       "                 L_SC2  CODE_LPP  Quantity  Financing      Total\n",
       "0  PROTHESES OCULAIRES   2503780        17    7905.75  134397.75\n",
       "1  PROTHESES OCULAIRES   2503780        35   17919.70  627189.50\n",
       "2  PROTHESES OCULAIRES   2503780        24   12649.20  303580.80\n",
       "3  PROTHESES OCULAIRES   2503780        23   11700.51  269111.73\n",
       "4  PROTHESES OCULAIRES   2503780        13    6851.65   89071.45"
      ]
     },
     "execution_count": 48,
     "metadata": {},
     "output_type": "execute_result"
    }
   ],
   "source": [
    "df_optical_2023[\"Total\"] = df_optical_2023['Quantity']*df_optical_2023[\"Financing\"]\n",
    "df_optical_2023.head(5)"
   ]
  },
  {
   "cell_type": "code",
   "execution_count": 49,
   "metadata": {},
   "outputs": [
    {
     "data": {
      "text/plain": [
       "927978230.53"
      ]
     },
     "execution_count": 49,
     "metadata": {},
     "output_type": "execute_result"
    }
   ],
   "source": [
    "sum = df_optical_2023[\"Total\"].sum()\n",
    "sum"
   ]
  },
  {
   "cell_type": "markdown",
   "metadata": {},
   "source": [
    "### Ajusting the result to the inflation (September 2024)"
   ]
  },
  {
   "cell_type": "code",
   "execution_count": 50,
   "metadata": {},
   "outputs": [
    {
     "data": {
      "text/html": [
       "<div>\n",
       "<style scoped>\n",
       "    .dataframe tbody tr th:only-of-type {\n",
       "        vertical-align: middle;\n",
       "    }\n",
       "\n",
       "    .dataframe tbody tr th {\n",
       "        vertical-align: top;\n",
       "    }\n",
       "\n",
       "    .dataframe thead th {\n",
       "        text-align: right;\n",
       "    }\n",
       "</style>\n",
       "<table border=\"1\" class=\"dataframe\">\n",
       "  <thead>\n",
       "    <tr style=\"text-align: right;\">\n",
       "      <th></th>\n",
       "      <th>DATE</th>\n",
       "      <th>TIME PERIOD</th>\n",
       "      <th>HICP - Corrective eye-glasses and contact lenses (ICP.A.FR.N.061310.4.INW)</th>\n",
       "    </tr>\n",
       "  </thead>\n",
       "  <tbody>\n",
       "    <tr>\n",
       "      <th>0</th>\n",
       "      <td>1996-12-31</td>\n",
       "      <td>1996</td>\n",
       "      <td>0.0</td>\n",
       "    </tr>\n",
       "    <tr>\n",
       "      <th>1</th>\n",
       "      <td>1997-12-31</td>\n",
       "      <td>1997</td>\n",
       "      <td>0.0</td>\n",
       "    </tr>\n",
       "    <tr>\n",
       "      <th>2</th>\n",
       "      <td>1998-12-31</td>\n",
       "      <td>1998</td>\n",
       "      <td>0.0</td>\n",
       "    </tr>\n",
       "    <tr>\n",
       "      <th>3</th>\n",
       "      <td>1999-12-31</td>\n",
       "      <td>1999</td>\n",
       "      <td>0.0</td>\n",
       "    </tr>\n",
       "    <tr>\n",
       "      <th>4</th>\n",
       "      <td>2000-12-31</td>\n",
       "      <td>2000</td>\n",
       "      <td>0.0</td>\n",
       "    </tr>\n",
       "  </tbody>\n",
       "</table>\n",
       "</div>"
      ],
      "text/plain": [
       "         DATE  TIME PERIOD  \\\n",
       "0  1996-12-31         1996   \n",
       "1  1997-12-31         1997   \n",
       "2  1998-12-31         1998   \n",
       "3  1999-12-31         1999   \n",
       "4  2000-12-31         2000   \n",
       "\n",
       "   HICP - Corrective eye-glasses and contact lenses (ICP.A.FR.N.061310.4.INW)  \n",
       "0                                                0.0                           \n",
       "1                                                0.0                           \n",
       "2                                                0.0                           \n",
       "3                                                0.0                           \n",
       "4                                                0.0                           "
      ]
     },
     "execution_count": 50,
     "metadata": {},
     "output_type": "execute_result"
    }
   ],
   "source": [
    "optical_HICP = pd.read_csv(\"../data/HICP/HICP-Corrective-eye-glasses-and-contact-lenses-France-Annual-parts-per-1000.csv\")\n",
    "#optical_HICP = optical_HICP[optical_HICP[\"TIME PERIOD\"]>=2014]\n",
    "optical_HICP.head()"
   ]
  },
  {
   "cell_type": "code",
   "execution_count": 51,
   "metadata": {},
   "outputs": [],
   "source": [
    "def adjusted_price(df, initial_price, year_initial_price):\n",
    "    df = df[df[\"TIME PERIOD\"]>=year_initial_price]\n",
    "    for i in range(len(df)):\n",
    "        initial_price = initial_price*(1+(df.iloc[i, 2]/1000))\n",
    "    return initial_price"
   ]
  },
  {
   "cell_type": "code",
   "execution_count": 52,
   "metadata": {},
   "outputs": [],
   "source": [
    "adjusted = adjusted_price(optical_HICP, sum, 2023)"
   ]
  },
  {
   "cell_type": "code",
   "execution_count": 53,
   "metadata": {},
   "outputs": [
    {
     "name": "stdout",
     "output_type": "stream",
     "text": [
      "11262493.632813692\n"
     ]
    }
   ],
   "source": [
    "print(adjusted-sum)"
   ]
  },
  {
   "cell_type": "markdown",
   "metadata": {},
   "source": [
    "### Automation of this processus for every year :"
   ]
  },
  {
   "cell_type": "code",
   "execution_count": 54,
   "metadata": {},
   "outputs": [],
   "source": [
    "optical_expenditures = {} #{2014:300000, 2015:493000,...}\n",
    "\n",
    "def adjusted_price(df, initial_price, year_initial_price):\n",
    "    df = df[df[\"TIME PERIOD\"]>=year_initial_price]\n",
    "    for i in range(len(df)): #calculating the equivalent for the last year of the df (2024)\n",
    "        initial_price = initial_price*(1+(df.iloc[i, 2]/1000))\n",
    "    return initial_price\n",
    "\n",
    "def gov_optical_exp(inflation_adjustment):\n",
    "    elements = os.listdir(\"../Open-LPP-data/base_complete\")\n",
    "    for i in range(int(len(elements)/2)):\n",
    "        df = pd.read_csv(f\"../Open-LPP-data/base_complete/OPEN_LPP_{(i+2014)}.CSV\", encoding='ISO-8859-1', sep=';')\n",
    "        final_mask = (df[\"L_SC1\"]==\"PROTHESES OCULAIRES ET FACIALES\") & (df[\"L_SC2\"].str.contains(\"OCULAIRES|FRAIS\"))\n",
    "        #print(i+2014)\n",
    "        df = df[final_mask]\n",
    "        df = pd.DataFrame({\n",
    "        \"L_SC2\" : df[\"L_SC2\"],\n",
    "        \"CODE_LPP\" : df[\"CODE_LPP\"],\n",
    "        \"Quantity\" : df[\"QTE\"],\n",
    "        \"Financing\" : df[\"REM\"]\n",
    "        })\n",
    "        df.reset_index(inplace=True)\n",
    "        df.drop(columns=\"index\", inplace=True)\n",
    "        df[\"Total\"] = df['Quantity']*df[\"Financing\"]\n",
    "        sum = df[\"Total\"].sum()\n",
    "        key = str(i+2014)\n",
    "\n",
    "        if inflation_adjustment==True:\n",
    "            optical_expenditures[key]=adjusted_price(optical_HICP, sum, i+2014)\n",
    "            #print(\"test\")\n",
    "        else:\n",
    "            optical_expenditures[key]=sum\n",
    "            \n",
    "    return optical_expenditures\n"
   ]
  },
  {
   "cell_type": "code",
   "execution_count": 55,
   "metadata": {},
   "outputs": [
    {
     "data": {
      "text/plain": [
       "{'2014': 271625239.4823752,\n",
       " '2015': 350053676.8175159,\n",
       " '2016': 472606275.0176801,\n",
       " '2017': 517245422.91221285,\n",
       " '2018': 571658023.3696367,\n",
       " '2019': 646966219.6028622,\n",
       " '2020': 647666447.3392395,\n",
       " '2021': 802013839.2139432,\n",
       " '2022': 867350838.3591918,\n",
       " '2023': 939240724.1628137}"
      ]
     },
     "execution_count": 55,
     "metadata": {},
     "output_type": "execute_result"
    }
   ],
   "source": [
    "optical_expenditures_adjusted = gov_optical_exp(inflation_adjustment=True)\n",
    "optical_expenditures_adjusted = copy.deepcopy(optical_expenditures_adjusted)\n",
    "optical_expenditures_adjusted"
   ]
  },
  {
   "cell_type": "code",
   "execution_count": 56,
   "metadata": {},
   "outputs": [
    {
     "data": {
      "text/plain": [
       "{'2014': 257674784.53000003,\n",
       " '2015': 332075200.08000004,\n",
       " '2016': 448333594.9,\n",
       " '2017': 493540776.92999995,\n",
       " '2018': 548612479.98,\n",
       " '2019': 624429990.09,\n",
       " '2020': 628600167.87,\n",
       " '2021': 782856285.6099999,\n",
       " '2022': 851585392.8199999,\n",
       " '2023': 927978230.53}"
      ]
     },
     "execution_count": 56,
     "metadata": {},
     "output_type": "execute_result"
    }
   ],
   "source": [
    "optical_expenditures_non_adjusted = gov_optical_exp(inflation_adjustment=False)\n",
    "optical_expenditures_non_adjusted"
   ]
  },
  {
   "cell_type": "code",
   "execution_count": 57,
   "metadata": {},
   "outputs": [
    {
     "data": {
      "text/plain": [
       "<matplotlib.legend.Legend at 0x1fc85d2d5d0>"
      ]
     },
     "execution_count": 57,
     "metadata": {},
     "output_type": "execute_result"
    },
    {
     "data": {
      "image/png": "[encoded data removed]",
      "text/plain": [
       "<Figure size 640x480 with 1 Axes>"
      ]
     },
     "metadata": {},
     "output_type": "display_data"
    }
   ],
   "source": [
    "plt.plot(list(optical_expenditures_adjusted.keys()), list(optical_expenditures_adjusted.values()), marker=\"o\", color=\"blue\", label=\"Adjusted with HICP (on optical aids)\")\n",
    "plt.plot(list(optical_expenditures_non_adjusted.keys()), list(optical_expenditures_non_adjusted.values()), marker=\"x\", color=\"red\", label=\"Non-Adjusted\")\n",
    "\n",
    "plt.xlabel(\"Years\")\n",
    "plt.ylabel(\"Amount (€)\")\n",
    "\n",
    "plt.title(\"Evolution of governmental expenditures on optical field\", fontweight=\"bold\")\n",
    "plt.legend()"
   ]
  },
  {
   "cell_type": "markdown",
   "metadata": {},
   "source": [
    "We take aware of the fact that the trend is the same whether if we take in count the inflation rates or not.\n",
    "\n",
    "We can deduce, in addition of the fact that the inflation don't touch a lot the health field, that the inflation is disregardable in general in the health field."
   ]
  },
  {
   "cell_type": "markdown",
   "metadata": {},
   "source": [
    "## Hearing"
   ]
  },
  {
   "cell_type": "markdown",
   "metadata": {},
   "source": [
    "### Inflation adjustment"
   ]
  },
  {
   "cell_type": "code",
   "execution_count": 58,
   "metadata": {},
   "outputs": [
    {
     "data": {
      "text/html": [
       "<div>\n",
       "<style scoped>\n",
       "    .dataframe tbody tr th:only-of-type {\n",
       "        vertical-align: middle;\n",
       "    }\n",
       "\n",
       "    .dataframe tbody tr th {\n",
       "        vertical-align: top;\n",
       "    }\n",
       "\n",
       "    .dataframe thead th {\n",
       "        text-align: right;\n",
       "    }\n",
       "</style>\n",
       "<table border=\"1\" class=\"dataframe\">\n",
       "  <thead>\n",
       "    <tr style=\"text-align: right;\">\n",
       "      <th></th>\n",
       "      <th>DATE</th>\n",
       "      <th>TIME PERIOD</th>\n",
       "      <th>HICP - Hearing aids (ICP.A.FR.N.061320.4.INW)</th>\n",
       "    </tr>\n",
       "  </thead>\n",
       "  <tbody>\n",
       "    <tr>\n",
       "      <th>18</th>\n",
       "      <td>2014-12-31</td>\n",
       "      <td>2014</td>\n",
       "      <td>0.00</td>\n",
       "    </tr>\n",
       "    <tr>\n",
       "      <th>19</th>\n",
       "      <td>2015-12-31</td>\n",
       "      <td>2015</td>\n",
       "      <td>0.00</td>\n",
       "    </tr>\n",
       "    <tr>\n",
       "      <th>20</th>\n",
       "      <td>2016-12-31</td>\n",
       "      <td>2016</td>\n",
       "      <td>0.70</td>\n",
       "    </tr>\n",
       "    <tr>\n",
       "      <th>21</th>\n",
       "      <td>2017-12-31</td>\n",
       "      <td>2017</td>\n",
       "      <td>0.76</td>\n",
       "    </tr>\n",
       "    <tr>\n",
       "      <th>22</th>\n",
       "      <td>2018-12-31</td>\n",
       "      <td>2018</td>\n",
       "      <td>0.79</td>\n",
       "    </tr>\n",
       "  </tbody>\n",
       "</table>\n",
       "</div>"
      ],
      "text/plain": [
       "          DATE  TIME PERIOD  HICP - Hearing aids (ICP.A.FR.N.061320.4.INW)\n",
       "18  2014-12-31         2014                                           0.00\n",
       "19  2015-12-31         2015                                           0.00\n",
       "20  2016-12-31         2016                                           0.70\n",
       "21  2017-12-31         2017                                           0.76\n",
       "22  2018-12-31         2018                                           0.79"
      ]
     },
     "execution_count": 58,
     "metadata": {},
     "output_type": "execute_result"
    }
   ],
   "source": [
    "hearing_HICP = pd.read_csv(\"../data/HICP/HICP-Hearing-aids-France-Annual-parts-per-1000.csv\")\n",
    "hearing_HICP = hearing_HICP[hearing_HICP[\"TIME PERIOD\"]>=2014]\n",
    "hearing_HICP.head()\n",
    "#clearly disregardable, because the HICP's unit is \"parts per 1000\", so for example, the inflation from 2015 to 2016 equals to 0,07%.\n",
    "#moreover, as we can see just above this cell, the inflation rates don't have a lot of impact on health field prices\n",
    "\n",
    "#we had foreseen that with optical field"
   ]
  },
  {
   "cell_type": "markdown",
   "metadata": {},
   "source": [
    "### Looking for the interesting fields"
   ]
  },
  {
   "cell_type": "markdown",
   "metadata": {},
   "source": [
    "not so good to find the elements that fits in X field, because I can't see all of the years so the modifications, adds, ... I have to fix it"
   ]
  },
  {
   "cell_type": "code",
   "execution_count": 81,
   "metadata": {},
   "outputs": [
    {
     "data": {
      "text/plain": [
       "['DM, MATERIELS ET PRODUITS POUR LE TRAITEMENT DE PATHOLOGIES SPECIFIQUES',\n",
       " 'DM DE MAINTIEN A DOMICILE ET D AIDE A LA VIE POUR MALADES ET HANDICAPE',\n",
       " 'ARTICLES POUR PANSEMENTS, MATERIELS DE CONTENTION',\n",
       " 'ACCESSOIRES DE PRODUITS INSCRITS AU TITRE III',\n",
       " 'CODES ARRIVES A ECHEANCE',\n",
       " 'ORTHESES',\n",
       " 'OPTIQUE MEDICALE',\n",
       " 'AUDIOPROTHESES ET ENTRETIEN, REPARATIONS ET ACCESSOIRES POUR PROCESSEUR',\n",
       " 'PROTHESES EXTERNES NON ORTHOPEDIQUES',\n",
       " 'PROTHESES OCULAIRES ET FACIALES',\n",
       " 'PODO-ORTHESES',\n",
       " 'DMI D ORIGINE SYNTHETIQUE',\n",
       " 'DMI ISSUS DE DERIVES ORIGINE ANIMALE NON VIABLES OU EN COMPORTANT',\n",
       " 'IMPLANTS ISSUS DE DERIVES HUMAINS-GREFFONS',\n",
       " 'DISPOSITIFS MEDICAUX IMPLANTABLES ACTIFS',\n",
       " 'FAUTEUILS ROULANTS',\n",
       " 'VEHICULES DIVERS',\n",
       " 'ADJONCTIONS, OPTIONS ET REPARATIONS APPLICABLES AUX FAUTEUILS ROULANTS',\n",
       " 'APPAREIL GENERATEUR D AEROSOL',\n",
       " 'ORTHESES (PETIT APPAREILLAGE) (CHAP.1)',\n",
       " 'ORTHOPROTHESES(CHAP.7)']"
      ]
     },
     "execution_count": 81,
     "metadata": {},
     "output_type": "execute_result"
    }
   ],
   "source": [
    "dfH2023 = pd.read_csv(\"../Open-LPP-data/base_complete/OPEN_LPP_2014.CSV\", encoding='ISO-8859-1', sep=';')\n",
    "produits = dfH2023[\"L_SC1\"].unique().tolist() #return a list of the L_SC1 title of all the product and prestation in the df\n",
    "produits"
   ]
  },
  {
   "cell_type": "markdown",
   "metadata": {},
   "source": [
    "don't forget the labels that has been modified, added or erased between 2014 and 2024."
   ]
  },
  {
   "cell_type": "code",
   "execution_count": 65,
   "metadata": {},
   "outputs": [
    {
     "name": "stdout",
     "output_type": "stream",
     "text": [
      "['AUDIOPROTHESES ET ENTRETIEN, REPARATIONS ET ACCESSOIRES POUR PROCESSEURS']\n"
     ]
    }
   ],
   "source": [
    "hearing_100 = []\n",
    "produits_index = [6]\n",
    "\n",
    "for i in range(len(produits_index)):\n",
    "    hearing_100.append(produits[produits_index[i]])\n",
    "\n",
    "print(hearing_100) #we got 2 interesting L_SC1 title which seem to be eligible to the 100% Santé plan for optical field, we will clean it more precisely."
   ]
  },
  {
   "cell_type": "code",
   "execution_count": 66,
   "metadata": {},
   "outputs": [
    {
     "data": {
      "text/plain": [
       "array(['AUDIOPROTHESES, PATIENTS AU DELA DU 20EME ANNIVERSAIRE',\n",
       "       'ALLOCATION FORFAITAIRE RELATIVE AUX PILES',\n",
       "       'SYSTEME AUDITIF A CONDUCTION OSSEUSE SUR ADHESIF',\n",
       "       'AUDIOPROTHESES, ENTRETIEN ET REPARATION',\n",
       "       'ENTRETIEN ET REPARATIONS (PROCESSEURS IMPLANTS COCHLEAIRES ET DU TRONC CEREBRAL)',\n",
       "       'PROCESSEURS,ACCES.REPARATIONS PR PROTHESES AUDIT. OSTEO-INTEGREES IMPLANTS OREIL',\n",
       "       'AIDE AUDITIVE POUR LES PERSONNES AU-DELA DE LEUR 20EME ANNIVERSAIRE',\n",
       "       'AIDES AUDITIVES-PERSONNES <= 20 ANS OU PERSONNES ATTEINTES DE CECITE',\n",
       "       'GESTION ADMINISTRATIVE - PRESTATIONS DE SUIVI POUR UTILISATION D 1 AIDE AUDITIVE'],\n",
       "      dtype=object)"
      ]
     },
     "execution_count": 66,
     "metadata": {},
     "output_type": "execute_result"
    }
   ],
   "source": [
    "dfH2023[dfH2023[\"L_SC1\"]==\"AUDIOPROTHESES ET ENTRETIEN, REPARATIONS ET ACCESSOIRES POUR PROCESSEURS\"][\"L_SC2\"].unique()"
   ]
  },
  {
   "cell_type": "markdown",
   "metadata": {},
   "source": [
    "All of that seems to fit in the case \"Hearing\""
   ]
  },
  {
   "cell_type": "code",
   "execution_count": 67,
   "metadata": {},
   "outputs": [],
   "source": [
    "dfH2023 = dfH2023[dfH2023[\"L_SC1\"]==\"AUDIOPROTHESES ET ENTRETIEN, REPARATIONS ET ACCESSOIRES POUR PROCESSEURS\"]"
   ]
  },
  {
   "cell_type": "code",
   "execution_count": 68,
   "metadata": {},
   "outputs": [],
   "source": [
    "#we keep the column \"REM\" to calculate the financing because this is the money effectively gave by the \"Sécurité Sociale\"\n",
    "dfH2023 = pd.DataFrame({\n",
    "    \"L_SC2\" : dfH2023[\"L_SC2\"],\n",
    "    \"CODE_LPP\" : dfH2023[\"CODE_LPP\"],\n",
    "    \"Quantity\" : dfH2023[\"QTE\"],\n",
    "    \"Financing\" : dfH2023[\"REM\"]\n",
    " })"
   ]
  },
  {
   "cell_type": "code",
   "execution_count": 69,
   "metadata": {},
   "outputs": [
    {
     "data": {
      "text/html": [
       "<div>\n",
       "<style scoped>\n",
       "    .dataframe tbody tr th:only-of-type {\n",
       "        vertical-align: middle;\n",
       "    }\n",
       "\n",
       "    .dataframe tbody tr th {\n",
       "        vertical-align: top;\n",
       "    }\n",
       "\n",
       "    .dataframe thead th {\n",
       "        text-align: right;\n",
       "    }\n",
       "</style>\n",
       "<table border=\"1\" class=\"dataframe\">\n",
       "  <thead>\n",
       "    <tr style=\"text-align: right;\">\n",
       "      <th></th>\n",
       "      <th>L_SC2</th>\n",
       "      <th>CODE_LPP</th>\n",
       "      <th>Quantity</th>\n",
       "      <th>Financing</th>\n",
       "    </tr>\n",
       "  </thead>\n",
       "  <tbody>\n",
       "    <tr>\n",
       "      <th>0</th>\n",
       "      <td>AUDIOPROTHESES, PATIENTS AU DELA DU 20EME ANNI...</td>\n",
       "      <td>2335791</td>\n",
       "      <td>20</td>\n",
       "      <td>6524.87</td>\n",
       "    </tr>\n",
       "    <tr>\n",
       "      <th>1</th>\n",
       "      <td>ALLOCATION FORFAITAIRE RELATIVE AUX PILES</td>\n",
       "      <td>2317149</td>\n",
       "      <td>39</td>\n",
       "      <td>36.30</td>\n",
       "    </tr>\n",
       "    <tr>\n",
       "      <th>2</th>\n",
       "      <td>ALLOCATION FORFAITAIRE RELATIVE AUX PILES</td>\n",
       "      <td>2332976</td>\n",
       "      <td>66</td>\n",
       "      <td>61.20</td>\n",
       "    </tr>\n",
       "    <tr>\n",
       "      <th>3</th>\n",
       "      <td>ALLOCATION FORFAITAIRE RELATIVE AUX PILES</td>\n",
       "      <td>2332976</td>\n",
       "      <td>127</td>\n",
       "      <td>134.70</td>\n",
       "    </tr>\n",
       "    <tr>\n",
       "      <th>4</th>\n",
       "      <td>ALLOCATION FORFAITAIRE RELATIVE AUX PILES</td>\n",
       "      <td>2332976</td>\n",
       "      <td>96</td>\n",
       "      <td>56.40</td>\n",
       "    </tr>\n",
       "  </tbody>\n",
       "</table>\n",
       "</div>"
      ],
      "text/plain": [
       "                                               L_SC2  CODE_LPP  Quantity  \\\n",
       "0  AUDIOPROTHESES, PATIENTS AU DELA DU 20EME ANNI...   2335791        20   \n",
       "1          ALLOCATION FORFAITAIRE RELATIVE AUX PILES   2317149        39   \n",
       "2          ALLOCATION FORFAITAIRE RELATIVE AUX PILES   2332976        66   \n",
       "3          ALLOCATION FORFAITAIRE RELATIVE AUX PILES   2332976       127   \n",
       "4          ALLOCATION FORFAITAIRE RELATIVE AUX PILES   2332976        96   \n",
       "\n",
       "   Financing  \n",
       "0    6524.87  \n",
       "1      36.30  \n",
       "2      61.20  \n",
       "3     134.70  \n",
       "4      56.40  "
      ]
     },
     "execution_count": 69,
     "metadata": {},
     "output_type": "execute_result"
    }
   ],
   "source": [
    "dfH2023.reset_index(inplace=True)\n",
    "dfH2023.drop(columns=\"index\", inplace=True)\n",
    "dfH2023.head()"
   ]
  },
  {
   "cell_type": "code",
   "execution_count": 70,
   "metadata": {},
   "outputs": [
    {
     "data": {
      "text/html": [
       "<div>\n",
       "<style scoped>\n",
       "    .dataframe tbody tr th:only-of-type {\n",
       "        vertical-align: middle;\n",
       "    }\n",
       "\n",
       "    .dataframe tbody tr th {\n",
       "        vertical-align: top;\n",
       "    }\n",
       "\n",
       "    .dataframe thead th {\n",
       "        text-align: right;\n",
       "    }\n",
       "</style>\n",
       "<table border=\"1\" class=\"dataframe\">\n",
       "  <thead>\n",
       "    <tr style=\"text-align: right;\">\n",
       "      <th></th>\n",
       "      <th>L_SC2</th>\n",
       "      <th>CODE_LPP</th>\n",
       "      <th>Quantity</th>\n",
       "      <th>Financing</th>\n",
       "      <th>Total</th>\n",
       "    </tr>\n",
       "  </thead>\n",
       "  <tbody>\n",
       "    <tr>\n",
       "      <th>0</th>\n",
       "      <td>PROTHESES OCULAIRES</td>\n",
       "      <td>2503780</td>\n",
       "      <td>17</td>\n",
       "      <td>7905.75</td>\n",
       "      <td>134397.75</td>\n",
       "    </tr>\n",
       "    <tr>\n",
       "      <th>1</th>\n",
       "      <td>PROTHESES OCULAIRES</td>\n",
       "      <td>2503780</td>\n",
       "      <td>35</td>\n",
       "      <td>17919.70</td>\n",
       "      <td>627189.50</td>\n",
       "    </tr>\n",
       "    <tr>\n",
       "      <th>2</th>\n",
       "      <td>PROTHESES OCULAIRES</td>\n",
       "      <td>2503780</td>\n",
       "      <td>24</td>\n",
       "      <td>12649.20</td>\n",
       "      <td>303580.80</td>\n",
       "    </tr>\n",
       "    <tr>\n",
       "      <th>3</th>\n",
       "      <td>PROTHESES OCULAIRES</td>\n",
       "      <td>2503780</td>\n",
       "      <td>23</td>\n",
       "      <td>11700.51</td>\n",
       "      <td>269111.73</td>\n",
       "    </tr>\n",
       "    <tr>\n",
       "      <th>4</th>\n",
       "      <td>PROTHESES OCULAIRES</td>\n",
       "      <td>2503780</td>\n",
       "      <td>13</td>\n",
       "      <td>6851.65</td>\n",
       "      <td>89071.45</td>\n",
       "    </tr>\n",
       "  </tbody>\n",
       "</table>\n",
       "</div>"
      ],
      "text/plain": [
       "                 L_SC2  CODE_LPP  Quantity  Financing      Total\n",
       "0  PROTHESES OCULAIRES   2503780        17    7905.75  134397.75\n",
       "1  PROTHESES OCULAIRES   2503780        35   17919.70  627189.50\n",
       "2  PROTHESES OCULAIRES   2503780        24   12649.20  303580.80\n",
       "3  PROTHESES OCULAIRES   2503780        23   11700.51  269111.73\n",
       "4  PROTHESES OCULAIRES   2503780        13    6851.65   89071.45"
      ]
     },
     "execution_count": 70,
     "metadata": {},
     "output_type": "execute_result"
    }
   ],
   "source": [
    "df_optical_2023[\"Total\"] = df_optical_2023['Quantity']*df_optical_2023[\"Financing\"]\n",
    "df_optical_2023.head(5)"
   ]
  },
  {
   "cell_type": "code",
   "execution_count": 71,
   "metadata": {},
   "outputs": [
    {
     "data": {
      "text/plain": [
       "927978230.53"
      ]
     },
     "execution_count": 71,
     "metadata": {},
     "output_type": "execute_result"
    }
   ],
   "source": [
    "sum = df_optical_2023[\"Total\"].sum()\n",
    "sum"
   ]
  },
  {
   "cell_type": "code",
   "execution_count": 77,
   "metadata": {},
   "outputs": [],
   "source": [
    "def gov_optical_exp(inflation_adjustment): #I suppose we can make a function that is able to makes the difference when I want to use it for optical or hearing or ... field, but I don't have much time at this moment, I've to look for it later..\n",
    "    elements = os.listdir(\"../Open-LPP-data/base_complete\")\n",
    "    for i in range(int(len(elements)/2)):\n",
    "        df = pd.read_csv(f\"../Open-LPP-data/base_complete/OPEN_LPP_{(i+2014)}.CSV\", encoding='ISO-8859-1', sep=';')\n",
    "        final_mask = (df[\"L_SC1\"]==\"AUDIOPROTHESES ET ENTRETIEN, REPARATIONS ET ACCESSOIRES POUR PROCESSEURS\")\n",
    "        #print(i+2014)\n",
    "        df = df[final_mask]\n",
    "        df = pd.DataFrame({\n",
    "        \"L_SC2\" : df[\"L_SC2\"],\n",
    "        \"CODE_LPP\" : df[\"CODE_LPP\"],\n",
    "        \"Quantity\" : df[\"QTE\"],\n",
    "        \"Financing\" : df[\"REM\"]\n",
    "        })\n",
    "        df.reset_index(inplace=True)\n",
    "        df.drop(columns=\"index\", inplace=True)\n",
    "        df[\"Total\"] = df['Quantity']*df[\"Financing\"]\n",
    "        sum = df[\"Total\"].sum()\n",
    "        key = str(i+2014)\n",
    "\n",
    "        if inflation_adjustment==True:\n",
    "            optical_expenditures[key]=adjusted_price(optical_HICP, sum, i+2014)\n",
    "            #print(\"test\")\n",
    "        else:\n",
    "            optical_expenditures[key]=sum\n",
    "            \n",
    "    return optical_expenditures"
   ]
  },
  {
   "cell_type": "code",
   "execution_count": 78,
   "metadata": {},
   "outputs": [
    {
     "data": {
      "text/plain": [
       "{'2014': 0.0,\n",
       " '2015': 0.0,\n",
       " '2016': 0.0,\n",
       " '2017': 0.0,\n",
       " '2018': 0.0,\n",
       " '2019': 0.0,\n",
       " '2020': 0.0,\n",
       " '2021': 463144180933.29926,\n",
       " '2022': 527528658898.48486,\n",
       " '2023': 503266467565.0236}"
      ]
     },
     "execution_count": 78,
     "metadata": {},
     "output_type": "execute_result"
    }
   ],
   "source": [
    "hearing_expenditures_adjusted = gov_optical_exp(inflation_adjustment=True)\n",
    "hearing_expenditures_adjusted = copy.deepcopy(hearing_expenditures_adjusted)\n",
    "hearing_expenditures_adjusted"
   ]
  },
  {
   "cell_type": "code",
   "execution_count": 79,
   "metadata": {},
   "outputs": [
    {
     "data": {
      "text/plain": [
       "{'2014': 0.0,\n",
       " '2015': 0.0,\n",
       " '2016': 0.0,\n",
       " '2017': 0.0,\n",
       " '2018': 0.0,\n",
       " '2019': 0.0,\n",
       " '2020': 0.0,\n",
       " '2021': 452081143066.92,\n",
       " '2022': 517940008061.4601,\n",
       " '2023': 497231768216.13}"
      ]
     },
     "execution_count": 79,
     "metadata": {},
     "output_type": "execute_result"
    }
   ],
   "source": [
    "hearing_expenditures_non_adjusted = gov_optical_exp(inflation_adjustment=False)\n",
    "hearing_expenditures_non_adjusted"
   ]
  },
  {
   "cell_type": "code",
   "execution_count": 80,
   "metadata": {},
   "outputs": [
    {
     "data": {
      "text/plain": [
       "<matplotlib.legend.Legend at 0x1fc85b119d0>"
      ]
     },
     "execution_count": 80,
     "metadata": {},
     "output_type": "execute_result"
    },
    {
     "data": {
      "image/png": "[encoded data removed]",
      "text/plain": [
       "<Figure size 640x480 with 1 Axes>"
      ]
     },
     "metadata": {},
     "output_type": "display_data"
    }
   ],
   "source": [
    "plt.plot(list(hearing_expenditures_adjusted.keys()), list(hearing_expenditures_adjusted.values()), marker=\"o\", color=\"blue\", label=\"Adjusted with HICP (on hearing aids)\")\n",
    "plt.plot(list(hearing_expenditures_non_adjusted.keys()), list(hearing_expenditures_non_adjusted.values()), marker=\"x\", color=\"red\", label=\"Non-Adjusted\")\n",
    "\n",
    "plt.xlabel(\"Years\")\n",
    "plt.ylabel(\"Amount (€)\")\n",
    "\n",
    "plt.title(\"Evolution of governmental expenditures on hearing field\", fontweight=\"bold\")\n",
    "plt.legend()"
   ]
  },
  {
   "cell_type": "markdown",
   "metadata": {},
   "source": [
    "Pretty weird the results .. So I'm not really confident on what I did here"
   ]
  },
  {
   "cell_type": "markdown",
   "metadata": {},
   "source": [
    "## Dental"
   ]
  },
  {
   "cell_type": "code",
   "execution_count": null,
   "metadata": {},
   "outputs": [],
   "source": []
  },
  {
   "cell_type": "markdown",
   "metadata": {},
   "source": [
    "# Whole health field"
   ]
  },
  {
   "cell_type": "code",
   "execution_count": null,
   "metadata": {},
   "outputs": [],
   "source": []
  }
 ],
 "metadata": {
  "kernelspec": {
   "display_name": "base",
   "language": "python",
   "name": "python3"
  },
  "language_info": {
   "codemirror_mode": {
    "name": "ipython",
    "version": 3
   },
   "file_extension": ".py",
   "mimetype": "text/x-python",
   "name": "python",
   "nbconvert_exporter": "python",
   "pygments_lexer": "ipython3",
   "version": "3.11.5"
  }
 },
 "nbformat": 4,
 "nbformat_minor": 2
}
