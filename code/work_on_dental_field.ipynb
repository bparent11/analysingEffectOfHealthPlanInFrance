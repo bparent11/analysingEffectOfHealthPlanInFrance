{
 "cells": [
  {
   "cell_type": "code",
   "execution_count": 3,
   "metadata": {},
   "outputs": [
    {
     "data": {
      "text/plain": [
       "<module 'functions' from 'c:\\\\Users\\\\Lenovo\\\\Documents\\\\Études\\\\Ecole_Ingénieur\\\\2A\\\\TR-Economie\\\\Projet_de_recherche\\\\analysingEffectOfHealthPlanInFrance\\\\code\\\\functions.py'>"
      ]
     },
     "execution_count": 3,
     "metadata": {},
     "output_type": "execute_result"
    }
   ],
   "source": [
    "import pandas as pd\n",
    "import matplotlib.pyplot as plt\n",
    "import os\n",
    "import copy\n",
    "import importlib\n",
    "import functions\n",
    "import numpy as np\n",
    "import json\n",
    "#import seaborn as sns\n",
    "\n",
    "importlib.reload(functions)"
   ]
  },
  {
   "cell_type": "code",
   "execution_count": 13,
   "metadata": {},
   "outputs": [
    {
     "name": "stdout",
     "output_type": "stream",
     "text": [
      "2015\n",
      "2016\n",
      "2017\n",
      "2018\n",
      "2019\n",
      "2020\n",
      "2021\n",
      "2022\n",
      "2023\n"
     ]
    }
   ],
   "source": [
    "elements = os.listdir(\"../Open-CCAM-data\")\n",
    "unique_values = []\n",
    "\n",
    "for i in range(len(elements)):\n",
    "    if (i+2015) in [2015, 2016, 2017, 2018, 2019]:\n",
    "        df=pd.read_excel(f'../Open-CCAM-data/{i+2015}_CCAM.xls', sheet_name=1)\n",
    "    else:\n",
    "        df=pd.read_excel(f'../Open-CCAM-data/{i+2015}_CCAM.xlsx', sheet_name=1)\n",
    "\n",
    "    print(i+2015)\n",
    "    values = df[\"Catégorie d'acte\"].unique().tolist()\n",
    "    for value in values:\n",
    "        if value in unique_values:\n",
    "            continue\n",
    "        else:\n",
    "            unique_values.append(value)"
   ]
  },
  {
   "cell_type": "code",
   "execution_count": 15,
   "metadata": {},
   "outputs": [
    {
     "name": "stdout",
     "output_type": "stream",
     "text": [
      "['Autres Actes de Chirurgie', 'Autres Actes Médicaux Thérapeutiques', 'Exploration électrophysiologique du système nerveux [EEG, EMG, sommeil]', 'Autres Échographies', 'Autres radiographies', 'IRM du système nerveux', 'Autres Actes Médicaux Diagnostiques', 'Autres Scintigraphies', 'Scanographie du système nerveux', 'Tépographie', \"Infiltration d'un nerf, plexus ou racine pour prise en charge de la douleur chronique\", 'Exploration de la motricité oculaire ou palpébrale', \"Examen fonctionnel et direct de l'oeil, hors annexes\", nan, 'Autres scanographies', \"Séance de préparation à l'irradiation en radiothérapie\", 'Chirurgie du canal carpien', \"Autres examens à visée K d'exérèse\", 'Exérèse de lésion cutanée, sous cutanée ou des tissus mous', 'Réparation par lambeau local ou régional', 'Destruction de lésion cutanée superficielle', \"Imagerie, photographie, angiographie de l'oeil\", 'Chirurgie de la cataracte et actes thérapeutiques associés', 'Injection dans le corps vitré', \"Photocoagulation de l'oeil\", 'Échographie vasculaire (artère, veine)', \"Exploration de l'audition et potentiel évoqué auditif\", \"Scintigraphie de l'appareil circulatoire\", 'Échographie cardiaque', 'Chirurgie valvulaire aortique ou mitrale', 'Bioprothèse de la valve aortique', 'Bioprothèses valvulaires par voie transcutanée', 'Dilatation coronaire', 'Pontage coronaire', 'Coronarographie', 'Stimulateur cardiaque', 'Électrocardiographie [ECG]', 'Radiologie vasculaire', \"Épreuve d'effort cardiaque\", 'Autres IRM', 'Thromboendartériectomie des artères carotide et des membres inférieurs', 'Pose ou ablation de cathéter /système diffuseur', 'Dilatation des artères iliaques ou des artères du membre inférieur', 'Autres actes obstétricaux', 'Actes de proctologie', 'Chirurgie des varices', 'Traitement non chirurgical des varices', 'Autres examens de biopsie', 'Épreuve fonctionnelle respiratoire', 'Exérèse des amygdales et végétations', 'Chirurgie du cancer urologique', 'Autres examens de ganglions et chaînes lymphatiques', 'Examen de ganglions sentinelles', 'Test allergologique', \"Endoscopie de l'appareil respiratoire (voies aériennes supérieures)\", 'Agénésies et/ou Cancer', \"Examen à visée K d'exérèse du haut appareil respiratoire\", \"Examen anatomopathologique de pièce d'exérèse\", \"Endoscopie de l'appareil respiratoire (trachée, bronches)\", 'Radiographie du thorax', \"Scintigraphie de l'appareil respiratoire\", 'Autres examens cytopathologiques', \"Examen à visée K d'exérèse intrathoracique\", \"Examen de biopsie pour diagnostic d'affection non carcinologique\", 'Autres actes de chirurgie dentaire', \"Examen à visée K d'exérèse de la bouche ou du pharynx\", 'Endodontie', 'Actes de prévention', 'Parodontologie', 'Avulsion dents permanentes', 'Autres avulsions', 'Avulsion dents de sagesse', 'Réparation de prothèses', 'Avulsion dents temporaires', 'Inlay-core', 'Prothèses amovibles', 'Bridges', 'Prothèses fixées', 'Autres soins conservateurs', 'Implantologie', 'Traitement de caries', 'Radiographies intra-buccales', \"Échographie de l'appareil digestif\", 'Endoscopie digestive', \"Radiographie de l'abdomen et du tube digestif\", \"Autres examens à visée K d'exérèse du tube digestif\", \"Chirurgie de l'obésité morbide\", \"Examen de pièce d'exérèse intestinale pour MICI\", 'Chirurgie du côlon', 'Appendicectomie', 'Intervention endoscopique de lésion du côlon', \"Examen à visée K d'exérèse du colon et/ou rectum\", \"Examen à visée K d'exérèse du foie, du pancréas ou du péritoine\", 'Cholécystectomie', \"Cure de hernie ou cure d'éventration de la paroi abdominale antérieure\", 'Lithotritie, ablation, fragmentation, refoulement pour calcul du rein et des voies urinaires', 'Radiographie urogénitale', 'Échographie urogénitale', \"Examen à visée K d'exérèse de l'appareil urinaire\", \"Chirurgie vésicale de l'incontinence urinaire chez la femme\", 'Chirurgie du cancer de la prostate', 'Examen de fragment de résection de structure anatomique', 'Examen de fragment de résection endoscopique de la vessie', \"Examen à visée K d'exérèse du pelvis\", \"Chirurgie de l'adénome de la prostate\", 'Biopsie de la prostate', 'Examen de fragment de résection endoscopique de la prostate', \"Examen à visée K d'exérèse des appareils génitaux\", 'Injection thérapeutique', 'Chirurgie gynécologique', 'Pose et ablation de stérilet', \"Examen de prélèvement du col de l'utérus (frottis)\", 'Examen de dépistage de FCU', 'Examen de contrôle de FCU', 'Échographie au cours de la grossesse', 'Examen de placenta', 'Accouchement par césarienne', 'Accouchement par voie naturelle', 'Autopsie médicale', \"Examen de produit d'avortement\", 'Séance de dialyse pour insuffisance rénale chronique', 'Thyroïdectomie', 'Scintigraphie de la thyroïde', 'Échographie de la thyroïde', \"Examen à visée K d'exérèse des glandes endocrines\", 'Radiographie de la tête', 'Scanographie de la tête', 'Chirurgie du rachis', 'Radiographie du rachis', 'Scanographie des os et des articulations du cou et du tronc', 'IRM des os et des articulations du cou et du tronc', 'Réduction orthopédique et ostéosynthése de fracture et/ou de luxation traumatique de membre', 'Radiographie osseuse des membres', 'Chirurgie du poignet et de la main non osseuse ou traumatique', \"Chirurgie de l'épaule non osseuse ou traumatique\", \"Confection d'un appareil rigide ou souple d'immobilisation des membres\", 'Scanographie des membres', 'IRM du membre supérieur', 'Acte sur les articulations métatarsophalangiennes (hallux valgus, orteils en griffe...)', 'Chirurgie prothétique de la hanche', 'Échographie ostéoarticulaire et musculaire', 'Méniscectomie / nettoyage du genou / suture ou reconstruction des ligaments croisés', 'Chirurgie prothétique du genou', 'IRM du membre inférieur', 'Ostéodensitométrie', 'Scintigraphie ostéoarticulaire et musculaire', \"Examen à visée K d'exérèse ostéoarticulaire\", 'Parage ou suture de plaies / ablation de corps étrangers / de la peau ou des tissus mous', 'Tumorectomie-mastectomie pour cancer', 'Ponction ou biopsie du sein', 'Radiographie du sein', 'Échographie du sein', \"Examen à visée K d'exérèse de sein\", 'Examen de macrobiopsie de sein', \"Examen à visée K d'exérèse de la peau et des tissus mous susfasciaux\", \"Séances d'acupuncture\", 'Séances de photothérapie', 'Forfait de surveillance en réanimation et soins intensifs', \"Actes d'urgence en cabinet\", \"Séance d'irradiation en radiothérapie\", 'Supplément pour diagnostic histopathologique portant sur des lésions tumorales', 'Supplément pour diagnostic histopathologique portant sur des lésions malignes tumorales', 'Examen immunologique de prélèvement cellulaire ou tissulaire', 'Scanographie pulmonaire', \"Scanographie de l'appareil digestif\", 'Échographie du petit bassin féminin en dehors de la grossesse', \"IRM de l'appareil digestif\", 'Échographie pour assistance médicale à la procréation', 'Examen de prélèvement biopsique de muqueuse', 'Examen anatomopathologique extemporané', 'Examen de prélèvement biopsique de structure anatomique', 'Autres examens particuliers de tissu', 'Examen de biopsie avec cartographie', 'Examen par HIS', 'Examen de biopsie étagée', \"Autres examens de matériel d'exérèse non à visée carcinologique\", 'Test HPV', 'Actes chirurgicaux', 'Actes ACP V1', 'Chirurgie digestive', 'Actes techniques médicaux thérapeutiques', 'Actes techniques médicaux diagnostiques', 'Imagerie Échographie', 'Imagerie Radiographie', 'Imagerie IRM', 'Imagerie Scintigraphie', 'Imagerie Scanographie', 'Imagerie Autre Imagerie', 'Accouchements et actes obstétricaux', 'Examen de ganglions et chaînes lymphatiques', 'Chirurgie dentaire', 'Soins conservateurs', 'Prothèses', 'Radiologie dentaire', 'Second avis expertal']\n"
     ]
    }
   ],
   "source": [
    "print(unique_values)"
   ]
  },
  {
   "cell_type": "code",
   "execution_count": 31,
   "metadata": {},
   "outputs": [],
   "source": [
    "to_keep = [\"Parodontologie\", \"Avulsion dents permanentes\", \"Avulsion dents de sagesse\", \"Réparation de prothèses\", \"Avulsion dents temporaires\", \"Inlay-core\", \"Prothèses amovibles\", \"Bridges\", \"Prothèses fixées\", \"Autres soins conservateurs\", \"Traitement de caries\", \"Radiographies intra-buccales\", \"Chirurgie dentaire\", \"Soins conservateurs\", \"Prothèses\", \"Radiologie dentaire\", \"Autres actes de chirurgie dentaire\", \"Endodontie\", \"Implantologie\", \"Autres avulsions\", \"Autres soins conservateurs\"]"
   ]
  },
  {
   "cell_type": "markdown",
   "metadata": {},
   "source": [
    "**Titles :**\n",
    "\n",
    "1st level : \"Catégorie d'acte\"\n",
    "\n",
    "2nd level : \"Sous-catégorie d'acte\"\n",
    "\n",
    "3rd level : \"Libellé long\""
   ]
  },
  {
   "cell_type": "code",
   "execution_count": 28,
   "metadata": {},
   "outputs": [],
   "source": [
    "df = pd.read_excel('../Open-CCAM-data/2015_CCAM.xls', sheet_name=1)"
   ]
  },
  {
   "cell_type": "code",
   "execution_count": 26,
   "metadata": {},
   "outputs": [
    {
     "data": {
      "text/plain": [
       "Index(['Code Acte', 'Code acte/activité/phase', 'Libellé long',\n",
       "       'Code Activité', 'Code Phase', 'Code Regroupement',\n",
       "       'Tarif secteur 1 et 2 adhérant au CAS',\n",
       "       'Tarif secteur 2 non adhérant au CAS', 'Quantité d'actes ',\n",
       "       'Base de remboursement ', 'Montants remboursés', 'Catégorie d'acte',\n",
       "       'Sous-catégorie d'acte'],\n",
       "      dtype='object')"
      ]
     },
     "execution_count": 26,
     "metadata": {},
     "output_type": "execute_result"
    }
   ],
   "source": [
    "df.columns"
   ]
  },
  {
   "cell_type": "code",
   "execution_count": 3,
   "metadata": {},
   "outputs": [
    {
     "name": "stdout",
     "output_type": "stream",
     "text": [
      "13\n",
      "13\n",
      "13\n",
      "13\n",
      "13\n",
      "13\n",
      "13\n",
      "13\n",
      "13\n"
     ]
    }
   ],
   "source": [
    "elements = os.listdir(\"../Open-CCAM-data\")\n",
    "unique_values = []\n",
    "\n",
    "for i in range(len(elements)):\n",
    "    if (i+2015) in [2015, 2016, 2017, 2018, 2019]:\n",
    "        df=pd.read_excel(f'../Open-CCAM-data/{i+2015}_CCAM.xls', sheet_name=1)\n",
    "    else:\n",
    "        df=pd.read_excel(f'../Open-CCAM-data/{i+2015}_CCAM.xlsx', sheet_name=1)\n",
    "\n",
    "    print(len(df.columns))"
   ]
  },
  {
   "cell_type": "code",
   "execution_count": 4,
   "metadata": {},
   "outputs": [
    {
     "data": {
      "text/plain": [
       "Index(['Code Acte', 'Code acte/activité/phase', 'Libellé long',\n",
       "       'Code Activité', 'Code Phase', 'Code regroupement',\n",
       "       'Tarif secteur 1 et 2 adhérant à l'OPTAM/OPTAM-CO',\n",
       "       'Tarif secteur 2 non adhérant à l'OPTAM/OPTAM-CO', 'Quantité d'actes ',\n",
       "       'Base de remboursement ', 'Montants remboursés', 'Catégorie d'acte',\n",
       "       'Sous-catégorie d'acte'],\n",
       "      dtype='object')"
      ]
     },
     "execution_count": 4,
     "metadata": {},
     "output_type": "execute_result"
    }
   ],
   "source": [
    "df.columns"
   ]
  },
  {
   "cell_type": "code",
   "execution_count": null,
   "metadata": {},
   "outputs": [],
   "source": [
    "to_keep = [\"Parodontologie\", \"Avulsion dents permanentes\", \"Avulsion dents de sagesse\", \"Réparation de prothèses\", \"Avulsion dents temporaires\", \"Inlay-core\", \"Prothèses amovibles\", \"Bridges\", \"Prothèses fixées\", \"Autres soins conservateurs\", \"Traitement de caries\", \"Radiographies intra-buccales\", \"Chirurgie dentaire\", \"Soins conservateurs\", \"Prothèses\", \"Radiologie dentaire\", \"Autres actes de chirurgie dentaire\", \"Endodontie\", \"Implantologie\", \"Autres avulsions\", \"Autres soins conservateurs\"]"
   ]
  },
  {
   "cell_type": "code",
   "execution_count": 43,
   "metadata": {},
   "outputs": [],
   "source": [
    "to_keep = [\"Inlay-core\", \"Prothèses amovibles\", \"Bridges\", \"Prothèses fixées\", \"Prothèses\"]"
   ]
  },
  {
   "cell_type": "code",
   "execution_count": 44,
   "metadata": {},
   "outputs": [],
   "source": [
    "def gov_exp_dental():\n",
    "    elements = os.listdir(\"../Open-CCAM-data\")\n",
    "    unique_values = []\n",
    "\n",
    "    expenditures = {}\n",
    "    #nb_LPP_codes = {}\n",
    "    nb_refunds = {}\n",
    "    refund_rate = {}\n",
    "    base = {}\n",
    "\n",
    "    for i in range(len(elements)):\n",
    "        if (i+2015) in [2015, 2016, 2017, 2018, 2019]:\n",
    "            df=pd.read_excel(f'../Open-CCAM-data/{i+2015}_CCAM.xls', sheet_name=1)\n",
    "        else:\n",
    "            df=pd.read_excel(f'../Open-CCAM-data/{i+2015}_CCAM.xlsx', sheet_name=1)\n",
    "\n",
    "        print(i+2015)\n",
    "        \n",
    "        mask = df[\"Catégorie d'acte\"].isin(to_keep)\n",
    "        df = df[mask]\n",
    "        \n",
    "        df = pd.DataFrame(\n",
    "            {\n",
    "                \"Complet\": df.iloc[:, 2],\n",
    "                \"Cat. acte\": df.iloc[:, -2],\n",
    "                \"Sous-cat. acte\": df.iloc[:, -1],\n",
    "                \"QTE\": df.iloc[:, -5],\n",
    "                \"REM\": df.iloc[:, -3],\n",
    "                \"BSE\": df.iloc[:, -4],\n",
    "            }\n",
    "        )\n",
    "        \n",
    "        df.reset_index(inplace=True)\n",
    "        df.drop(columns=\"index\", inplace=True)\n",
    "        df = df.dropna()\n",
    "        df = df.reset_index(drop=True)\n",
    "\n",
    "        key = str(i+2015)\n",
    "        \n",
    "        sum = df[\"REM\"].sum()\n",
    "        base_sum = df[\"BSE\"].sum()\n",
    "\n",
    "        expenditures[key] = sum\n",
    "        base[key] = base_sum\n",
    "\n",
    "        rate = []\n",
    "        if len(df) == 0:\n",
    "            refund_rate[key] = 0\n",
    "        else:\n",
    "            for i in range(len(df)):\n",
    "                if (\n",
    "                    pd.isna(df.loc[i, \"REM\"])\n",
    "                    or pd.isna(df.loc[i, \"BSE\"])\n",
    "                    or df.loc[i, \"BSE\"] == 0\n",
    "                ):\n",
    "                    continue\n",
    "                else:\n",
    "                    rate.append(df.loc[i, \"REM\"] / df.loc[i, \"BSE\"])\n",
    "            refund_rate[key] = np.mean(rate)\n",
    "        # print(f\"key : {key}\")\n",
    "\n",
    "        #nb_LPP_codes[key] = len(df[\"CODE_LPP\"].unique().tolist())\n",
    "        nb_refunds[key] = df[\"QTE\"].sum()\n",
    "\n",
    "    return [expenditures, nb_refunds, refund_rate, base]"
   ]
  },
  {
   "cell_type": "code",
   "execution_count": 45,
   "metadata": {},
   "outputs": [
    {
     "name": "stdout",
     "output_type": "stream",
     "text": [
      "2015\n",
      "2016\n",
      "2017\n",
      "2018\n",
      "2019\n",
      "2020\n",
      "2021\n",
      "2022\n",
      "2023\n"
     ]
    }
   ],
   "source": [
    "dental = gov_exp_dental()"
   ]
  },
  {
   "cell_type": "code",
   "execution_count": 46,
   "metadata": {},
   "outputs": [
    {
     "data": {
      "text/plain": [
       "{'2015': 1077921661.166021,\n",
       " '2016': 1092005317.85849,\n",
       " '2017': 1091496457.048503,\n",
       " '2018': 1136948640.1584888,\n",
       " '2019': 1063603628.9995539,\n",
       " '2020': 1051433637.7999575,\n",
       " '2021': 1351690992.599947,\n",
       " '2022': 1360267025.4599376,\n",
       " '2023': 1360862632.4399493}"
      ]
     },
     "execution_count": 46,
     "metadata": {},
     "output_type": "execute_result"
    }
   ],
   "source": [
    "dental[0]"
   ]
  },
  {
   "cell_type": "code",
   "execution_count": 2,
   "metadata": {},
   "outputs": [],
   "source": [
    "#manque 600M par rapport aux chiffres de la drees (pr 2023 et 2022, pas fait les autres)"
   ]
  },
  {
   "cell_type": "code",
   "execution_count": 47,
   "metadata": {},
   "outputs": [
    {
     "data": {
      "image/png": "[encoded data removed]",
      "text/plain": [
       "<Figure size 600x1200 with 4 Axes>"
      ]
     },
     "metadata": {},
     "output_type": "display_data"
    }
   ],
   "source": [
    "width = 0.35\n",
    "list_years = [year for year in dental[0]]\n",
    "fig, axes = plt.subplots(4, 1, figsize=(6, 12))\n",
    "axes = axes.flatten()\n",
    "\n",
    "axes[0].plot(list_years, dental[0].values(), color=\"#1f77b4\", marker=\"x\")\n",
    "axes[0].set_title(\n",
    "    f\"Government spendings on the entire dental sector\"\n",
    ")\n",
    "axes[0].set_ylabel(\"Expenditures\")\n",
    "\n",
    "axes[1].bar(list_years, dental[1].values(), width=width, color=\"#1f77b4\")\n",
    "axes[1].set_title(f\"Number of refunds - entire dental sector\")\n",
    "axes[1].set_ylabel(\"Quantity\")\n",
    "\n",
    "axes[2].bar(list_years, dental[2].values(), color=\"#1f77b4\", width=width)\n",
    "axes[2].set_title(f\"Refund rate - Government spendings\")\n",
    "axes[2].set_ylabel(\"Rate\")\n",
    "\n",
    "axes[3].plot(list_years, dental[3].values(), color=\"#1f77b4\", marker=\"o\")\n",
    "axes[3].set_title(f'\"BSE\" - Government spendings')\n",
    "axes[3].set_ylabel(\"Amount\")\n",
    "\n",
    "for i in range(len(axes)):\n",
    "\n",
    "    axes[i].set_xlabel(\"Year\")\n",
    "    axes[i].set_xticks(list_years)\n",
    "\n",
    "plt.tight_layout()\n",
    "plt.show()"
   ]
  },
  {
   "cell_type": "code",
   "execution_count": 11,
   "metadata": {},
   "outputs": [],
   "source": [
    "df = pd.read_excel(\"../Open-CCAM-data/2017_CCAM.xls\", sheet_name=1)\n",
    "\n",
    "df = pd.DataFrame(\n",
    "    {\n",
    "        \"Complet\": df.iloc[:, 2],\n",
    "        \"Cat. acte\": df.iloc[:, -2],\n",
    "        \"Sous-cat. acte\": df.iloc[:, -1],\n",
    "        \"QTE\": df.iloc[:, -5],\n",
    "        \"REM\": df.iloc[:, -3],\n",
    "        \"BSE\": df.iloc[:, -4],\n",
    "    }\n",
    ")\n",
    "\n",
    "max(df[\"REM\"])"
   ]
  },
  {
   "cell_type": "code",
   "execution_count": 18,
   "metadata": {},
   "outputs": [],
   "source": [
    "mask = (df[\"REM\"] == 11565810767.810158)"
   ]
  },
  {
   "cell_type": "code",
   "execution_count": 19,
   "metadata": {},
   "outputs": [
    {
     "data": {
      "text/html": [
       "<div>\n",
       "<style scoped>\n",
       "    .dataframe tbody tr th:only-of-type {\n",
       "        vertical-align: middle;\n",
       "    }\n",
       "\n",
       "    .dataframe tbody tr th {\n",
       "        vertical-align: top;\n",
       "    }\n",
       "\n",
       "    .dataframe thead th {\n",
       "        text-align: right;\n",
       "    }\n",
       "</style>\n",
       "<table border=\"1\" class=\"dataframe\">\n",
       "  <thead>\n",
       "    <tr style=\"text-align: right;\">\n",
       "      <th></th>\n",
       "      <th>Complet</th>\n",
       "      <th>Cat. acte</th>\n",
       "      <th>Sous-cat. acte</th>\n",
       "      <th>QTE</th>\n",
       "      <th>REM</th>\n",
       "      <th>BSE</th>\n",
       "    </tr>\n",
       "  </thead>\n",
       "  <tbody>\n",
       "    <tr>\n",
       "      <th>0</th>\n",
       "      <td>Exérèse de tumeur intraparenchymateuse du cerv...</td>\n",
       "      <td>Autres Actes de Chirurgie</td>\n",
       "      <td>Actes chirurgicaux</td>\n",
       "      <td>86</td>\n",
       "      <td>1.156581e+10</td>\n",
       "      <td>5.479197e+04</td>\n",
       "    </tr>\n",
       "    <tr>\n",
       "      <th>1</th>\n",
       "      <td>Exérèse de tumeur intraparenchymateuse du cerv...</td>\n",
       "      <td>Autres Actes de Chirurgie</td>\n",
       "      <td>Actes chirurgicaux</td>\n",
       "      <td>77</td>\n",
       "      <td>1.156581e+10</td>\n",
       "      <td>3.984436e+04</td>\n",
       "    </tr>\n",
       "    <tr>\n",
       "      <th>2</th>\n",
       "      <td>Exérèse de tumeur intraparenchymateuse du cerv...</td>\n",
       "      <td>Autres Actes de Chirurgie</td>\n",
       "      <td>Actes chirurgicaux</td>\n",
       "      <td>394</td>\n",
       "      <td>1.156581e+10</td>\n",
       "      <td>1.294122e+05</td>\n",
       "    </tr>\n",
       "    <tr>\n",
       "      <th>3</th>\n",
       "      <td>Exérèse de tumeur intraparenchymateuse du cerv...</td>\n",
       "      <td>Autres Actes de Chirurgie</td>\n",
       "      <td>Actes chirurgicaux</td>\n",
       "      <td>448</td>\n",
       "      <td>1.156581e+10</td>\n",
       "      <td>2.630168e+05</td>\n",
       "    </tr>\n",
       "    <tr>\n",
       "      <th>4</th>\n",
       "      <td>Exérèse de lésion du tronc cérébral, par crani...</td>\n",
       "      <td>Autres Actes de Chirurgie</td>\n",
       "      <td>Actes chirurgicaux</td>\n",
       "      <td>7</td>\n",
       "      <td>1.156581e+10</td>\n",
       "      <td>3.515860e+03</td>\n",
       "    </tr>\n",
       "    <tr>\n",
       "      <th>...</th>\n",
       "      <td>...</td>\n",
       "      <td>...</td>\n",
       "      <td>...</td>\n",
       "      <td>...</td>\n",
       "      <td>...</td>\n",
       "      <td>...</td>\n",
       "    </tr>\n",
       "    <tr>\n",
       "      <th>12478</th>\n",
       "      <td>Examen histopathologique de biopsie de 4 struc...</td>\n",
       "      <td>Autres examens de biopsie</td>\n",
       "      <td>Autres examens de biopsie</td>\n",
       "      <td>6425</td>\n",
       "      <td>1.156581e+10</td>\n",
       "      <td>6.432990e+05</td>\n",
       "    </tr>\n",
       "    <tr>\n",
       "      <th>12479</th>\n",
       "      <td>Examen histopathologique de biopsies étagés de...</td>\n",
       "      <td>Examen de biopsie étagée</td>\n",
       "      <td>Examen de biopsie étagée</td>\n",
       "      <td>49456</td>\n",
       "      <td>1.156581e+10</td>\n",
       "      <td>3.627087e+06</td>\n",
       "    </tr>\n",
       "    <tr>\n",
       "      <th>12480</th>\n",
       "      <td>NaN</td>\n",
       "      <td>Examen de biopsie avec cartographie</td>\n",
       "      <td>Examen de biopsie avec cartographie</td>\n",
       "      <td>1</td>\n",
       "      <td>1.156581e+10</td>\n",
       "      <td>8.469000e+01</td>\n",
       "    </tr>\n",
       "    <tr>\n",
       "      <th>12481</th>\n",
       "      <td>Examen histopathologique de biopsies d'une str...</td>\n",
       "      <td>Examen de biopsie avec cartographie</td>\n",
       "      <td>Examen de biopsie avec cartographie</td>\n",
       "      <td>73382</td>\n",
       "      <td>1.156581e+10</td>\n",
       "      <td>6.231129e+06</td>\n",
       "    </tr>\n",
       "    <tr>\n",
       "      <th>12482</th>\n",
       "      <td>NaN</td>\n",
       "      <td>NaN</td>\n",
       "      <td>NaN</td>\n",
       "      <td>289794722</td>\n",
       "      <td>1.156581e+10</td>\n",
       "      <td>1.403617e+10</td>\n",
       "    </tr>\n",
       "  </tbody>\n",
       "</table>\n",
       "<p>12483 rows × 6 columns</p>\n",
       "</div>"
      ],
      "text/plain": [
       "                                                 Complet  \\\n",
       "0      Exérèse de tumeur intraparenchymateuse du cerv...   \n",
       "1      Exérèse de tumeur intraparenchymateuse du cerv...   \n",
       "2      Exérèse de tumeur intraparenchymateuse du cerv...   \n",
       "3      Exérèse de tumeur intraparenchymateuse du cerv...   \n",
       "4      Exérèse de lésion du tronc cérébral, par crani...   \n",
       "...                                                  ...   \n",
       "12478  Examen histopathologique de biopsie de 4 struc...   \n",
       "12479  Examen histopathologique de biopsies étagés de...   \n",
       "12480                                                NaN   \n",
       "12481  Examen histopathologique de biopsies d'une str...   \n",
       "12482                                                NaN   \n",
       "\n",
       "                                 Cat. acte  \\\n",
       "0                Autres Actes de Chirurgie   \n",
       "1                Autres Actes de Chirurgie   \n",
       "2                Autres Actes de Chirurgie   \n",
       "3                Autres Actes de Chirurgie   \n",
       "4                Autres Actes de Chirurgie   \n",
       "...                                    ...   \n",
       "12478            Autres examens de biopsie   \n",
       "12479             Examen de biopsie étagée   \n",
       "12480  Examen de biopsie avec cartographie   \n",
       "12481  Examen de biopsie avec cartographie   \n",
       "12482                                  NaN   \n",
       "\n",
       "                            Sous-cat. acte        QTE           REM  \\\n",
       "0                       Actes chirurgicaux         86  1.156581e+10   \n",
       "1                       Actes chirurgicaux         77  1.156581e+10   \n",
       "2                       Actes chirurgicaux        394  1.156581e+10   \n",
       "3                       Actes chirurgicaux        448  1.156581e+10   \n",
       "4                       Actes chirurgicaux          7  1.156581e+10   \n",
       "...                                    ...        ...           ...   \n",
       "12478            Autres examens de biopsie       6425  1.156581e+10   \n",
       "12479             Examen de biopsie étagée      49456  1.156581e+10   \n",
       "12480  Examen de biopsie avec cartographie          1  1.156581e+10   \n",
       "12481  Examen de biopsie avec cartographie      73382  1.156581e+10   \n",
       "12482                                  NaN  289794722  1.156581e+10   \n",
       "\n",
       "                BSE  \n",
       "0      5.479197e+04  \n",
       "1      3.984436e+04  \n",
       "2      1.294122e+05  \n",
       "3      2.630168e+05  \n",
       "4      3.515860e+03  \n",
       "...             ...  \n",
       "12478  6.432990e+05  \n",
       "12479  3.627087e+06  \n",
       "12480  8.469000e+01  \n",
       "12481  6.231129e+06  \n",
       "12482  1.403617e+10  \n",
       "\n",
       "[12483 rows x 6 columns]"
      ]
     },
     "execution_count": 19,
     "metadata": {},
     "output_type": "execute_result"
    }
   ],
   "source": [
    "df[mask]"
   ]
  },
  {
   "cell_type": "code",
   "execution_count": null,
   "metadata": {},
   "outputs": [],
   "source": []
  }
 ],
 "metadata": {
  "kernelspec": {
   "display_name": "base",
   "language": "python",
   "name": "python3"
  },
  "language_info": {
   "codemirror_mode": {
    "name": "ipython",
    "version": 3
   },
   "file_extension": ".py",
   "mimetype": "text/x-python",
   "name": "python",
   "nbconvert_exporter": "python",
   "pygments_lexer": "ipython3",
   "version": "3.11.5"
  }
 },
 "nbformat": 4,
 "nbformat_minor": 2
}
